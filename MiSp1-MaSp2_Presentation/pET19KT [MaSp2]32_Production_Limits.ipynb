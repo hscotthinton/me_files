{
 "cells": [
  {
   "cell_type": "markdown",
   "metadata": {},
   "source": [
    "# Simulating pET19KT [MaSp2]32 Production Limits (Four Repeats)"
   ]
  },
  {
   "cell_type": "markdown",
   "metadata": {},
   "source": [
    "## 1. Load the python packages"
   ]
  },
  {
   "cell_type": "code",
   "execution_count": 1,
   "metadata": {},
   "outputs": [
    {
     "name": "stderr",
     "output_type": "stream",
     "text": [
      "/usr/lib/python3.6/site-packages/cobra-0.5.11-py3.6-linux-x86_64.egg/cobra/solvers/__init__.py:63: UserWarning: No LP solvers found\n",
      "  warn(\"No LP solvers found\")\n",
      "/usr/lib/python3.6/site-packages/cobra-0.5.11-py3.6-linux-x86_64.egg/cobra/io/sbml3.py:24: UserWarning: Install lxml for faster SBML I/O\n",
      "  warn(\"Install lxml for faster SBML I/O\")\n",
      "/usr/lib/python3.6/site-packages/cobra-0.5.11-py3.6-linux-x86_64.egg/cobra/io/__init__.py:12: UserWarning: cobra.io.sbml requires libsbml\n",
      "  warn(\"cobra.io.sbml requires libsbml\")\n"
     ]
    }
   ],
   "source": [
    "from __future__ import print_function, division, absolute_import\n",
    "\n",
    "# python imports\n",
    "import re\n",
    "from os.path import join\n",
    "from collections import defaultdict\n",
    "import pickle\n",
    "import pandas as pd\n",
    "\n",
    "# third party imports\n",
    "import pandas\n",
    "import tabulate\n",
    "import cobra\n",
    "pd.set_option('display.max_columns', 100)\n",
    "pd.set_option('display.width',100)\n",
    "pd.set_option('display.max_colwidth',300)\n",
    "\n",
    "# ECOLIme\n",
    "import ecolime\n",
    "from ecolime import (transcription, translation, flat_files, generics, formulas, compartments)\n",
    "\n",
    "# COBRAme\n",
    "import cobrame\n",
    "from cobrame.util import building, mu, me_model_interface\n",
    "#from cobrame.io.json import save_json_me_model, save_reduced_json_me_model"
   ]
  },
  {
   "cell_type": "markdown",
   "metadata": {},
   "source": [
    "## 2. Load the iJL1678b model\n",
    "\n",
    "Load the iJL1678b model in pickle format that is located in the current directory."
   ]
  },
  {
   "cell_type": "code",
   "execution_count": 2,
   "metadata": {},
   "outputs": [],
   "source": [
    "with open('iJL1678b.pickle', 'rb') as f:\n",
    "    me = pickle.load(f)"
   ]
  },
  {
   "cell_type": "markdown",
   "metadata": {},
   "source": [
    "## 3. Define ME-Model Solve Functions"
   ]
  },
  {
   "cell_type": "code",
   "execution_count": 3,
   "metadata": {},
   "outputs": [],
   "source": [
    "def solve_me_model(me, max_mu, precision=1e-6, min_mu=0, using_soplex=False,\n",
    "                  compiled_expressions=None):\n",
    "    if using_soplex:\n",
    "        from cobrame.solve.algorithms import binary_search\n",
    "        binary_search(me, min_mu=min_mu, max_mu=max_mu, debug=True, mu_accuracy=precision,\n",
    "                      compiled_expressions=compiled_expressions)\n",
    "    else:\n",
    "        from qminospy.me1 import ME_NLP1\n",
    "        # The object containing solveME methods--composite that uses a ME model object \n",
    "        me_nlp = ME_NLP1(me, growth_key='mu')\n",
    "        # Use bisection for now (until the NLP formulation is worked out)\n",
    "        muopt, hs, xopt, cache = me_nlp.bisectmu(precision=precision, mumax=max_mu)\n",
    "        me.solution.f = me.solution.x_dict['biomass_dilution']\n",
    "        \n",
    "def show_escher_map(me, solution=None):\n",
    "    import escher\n",
    "    view = escher.Builder(\"iJO1366.Central metabolism\")\n",
    "    view.reaction_data = me.get_metabolic_flux(solution=solution)\n",
    "    return view"
   ]
  },
  {
   "cell_type": "markdown",
   "metadata": {},
   "source": [
    "## 4. Create the MaSp2 Transcription Reaction\n",
    "\n",
    "Complete the steps necessary to create the MaSp2 Transcription Reaction"
   ]
  },
  {
   "cell_type": "code",
   "execution_count": 4,
   "metadata": {},
   "outputs": [
    {
     "name": "stdout",
     "output_type": "stream",
     "text": [
      "549 atp_c + 1570 ctp_c + 1218 gtp_c + 767 utp_c --> RNA_MaSp2 + 1311.0214523240002 mRNA_biomass + 4104 ppi_c\n"
     ]
    },
    {
     "name": "stderr",
     "output_type": "stream",
     "text": [
      "/source/cobrame/cobrame/core/reaction.py:852 \u001b[1;31mUserWarning\u001b[0m: RNA Polymerase () not found\n"
     ]
    }
   ],
   "source": [
    "locus_id = 'MaSp2'\n",
    "left_pos =  None\n",
    "right_pos = None\n",
    "seq = 'ATGACCGGTCCGGGTCAGCAGGGTCCGGGTGGTTATGGTCCTGGCCAGCAGGGACCGAGCGGTCCGGGTAGTGCAGCAGCAGCTGCAGCAGCCGCAGGCCCTGGTCAGCAAGGCCCTGGTGGATATGGACCAGGCCAACAGGGTCCTGGCGGATACGGTCCTGGTCAACAAGGTCCGTCAGGTCCGGGTTCAGCCGCAGCGGCTGCTGCCGCAGCAGGTCCAGGTGGCTACGGACCGGGTCAACAGGGACCCGGTGGGTACGGACCAGGACAGCAAGGGCCAGGCGGTTATGGCCCTGGACAACAAGGGCCTAGTGGTCCTGGTTCTGCAGCGGCAGCCGCTGCGGCAGCTGGTCCGGGACAGCAAGGACCCGGTGGATACGGTCCCGGTCAGCAGGGACCTGGCGGTTACGGACCCGGACAACAGGGTCCATCTGGTCCTGGTAGCGCAGCCGCAGCAGCAGCGGCTGCAGGTCCAGGACAACAAGGTCCTGGTGGGTATGGTCCAGGGCAGCAAGGTCCGAGTGGTCCAGGCTCTGCGGCAGCGGCAGCAGCAGCAGCGGGACCTGGTCAACAGGGTCCAGGGGGATATGGCCCAGGTCAGCAAGGACCGGGTGGCTATGGGCCAGGTCAACAAGGCCCTAGCGGTCCGGGATCTGCCGCAGCTGCAGCGGCAGCGGCAGGTCCTGGCGGTTATGGACCAGGTCAGCAGGGTCCCGGTGGCTACGGTCCCGGACAACAAGGCCCAGGGGGTTACGGACCTGGCCAGCAAGGTCCTTCTGGACCGGGAAGCGCTGCAGCCGCAGCAGCTGCAGCCGGTCCAGGCCAGCAAGGGCCTGGGGGTTACGGTCCGGGTCAGCAAGGCCCAGGCGGATACGGTCCAGGACAACAGGGACCAAGTGGTCCGGGATCAGCAGCCGCTGCCGCAGCGGCAGCCGGTCCCGGTCAACAAGGACCTGGTGGCTACGGTCCTGGGCAACAGGGTCCTAGCGGTCCAGGGTCAGCAGCAGCAGCCGCAGCTGCAGCATCCGGTCCGGGTCAGCAGGGTCCGGGTGGTTATGGTCCTGGCCAGCAGGGACCGAGCGGTCCGGGTAGTGCAGCAGCAGCTGCAGCAGCCGCAGGCCCTGGTCAGCAAGGCCCTGGTGGATATGGACCAGGCCAACAGGGTCCTGGCGGATACGGTCCTGGTCAACAAGGTCCGTCAGGTCCGGGTTCAGCCGCAGCGGCTGCTGCCGCAGCAGGTCCAGGTGGCTACGGACCGGGTCAACAGGGACCCGGTGGGTACGGACCAGGACAGCAAGGGCCAGGCGGTTATGGCCCTGGACAACAAGGGCCTAGTGGTCCTGGTTCTGCAGCGGCAGCCGCTGCGGCAGCTGGTCCGGGACAGCAAGGACCCGGTGGATACGGTCCCGGTCAGCAGGGACCTGGCGGTTACGGACCCGGACAACAGGGTCCATCTGGTCCTGGTAGCGCAGCCGCAGCAGCAGCGGCTGCAGGTCCAGGACAACAAGGTCCTGGTGGGTATGGTCCAGGGCAGCAAGGTCCGAGTGGTCCAGGCTCTGCGGCAGCGGCAGCAGCAGCAGCGGGACCTGGTCAACAGGGTCCAGGGGGATATGGCCCAGGTCAGCAAGGACCGGGTGGCTATGGGCCAGGTCAACAAGGCCCTAGCGGTCCGGGATCTGCCGCAGCTGCAGCGGCAGCGGCAGGTCCTGGCGGTTATGGACCAGGTCAGCAGGGTCCCGGTGGCTACGGTCCCGGACAACAAGGCCCAGGGGGTTACGGACCTGGCCAGCAAGGTCCTTCTGGACCGGGAAGCGCTGCAGCCGCAGCAGCTGCAGCCGGTCCAGGCCAGCAAGGGCCTGGGGGTTACGGTCCGGGTCAGCAAGGCCCAGGCGGATACGGTCCAGGACAACAGGGACCAAGTGGTCCGGGATCAGCAGCCGCTGCCGCAGCGGCAGCCGGTCCCGGTCAACAAGGACCTGGTGGCTACGGTCCTGGGCAACAGGGTCCTAGCGGTCCAGGGTCAGCAGCAGCAGCCGCAGCTGCAGCATCCGGTCCGGGTCAGCAGGGTCCGGGTGGTTATGGTCCTGGCCAGCAGGGACCGAGCGGTCCGGGTAGTGCAGCAGCAGCTGCAGCAGCCGCAGGCCCTGGTCAGCAAGGCCCTGGTGGATATGGACCAGGCCAACAGGGTCCTGGCGGATACGGTCCTGGTCAACAAGGTCCGTCAGGTCCGGGTTCAGCCGCAGCGGCTGCTGCCGCAGCAGGTCCAGGTGGCTACGGACCGGGTCAACAGGGACCCGGTGGGTACGGACCAGGACAGCAAGGGCCAGGCGGTTATGGCCCTGGACAACAAGGGCCTAGTGGTCCTGGTTCTGCAGCGGCAGCCGCTGCGGCAGCTGGTCCGGGACAGCAAGGACCCGGTGGATACGGTCCCGGTCAGCAGGGACCTGGCGGTTACGGACCCGGACAACAGGGTCCATCTGGTCCTGGTAGCGCAGCCGCAGCAGCAGCGGCTGCAGGTCCAGGACAACAAGGTCCTGGTGGGTATGGTCCAGGGCAGCAAGGTCCGAGTGGTCCAGGCTCTGCGGCAGCGGCAGCAGCAGCAGCGGGACCTGGTCAACAGGGTCCAGGGGGATATGGCCCAGGTCAGCAAGGACCGGGTGGCTATGGGCCAGGTCAACAAGGCCCTAGCGGTCCGGGATCTGCCGCAGCTGCAGCGGCAGCGGCAGGTCCTGGCGGTTATGGACCAGGTCAGCAGGGTCCCGGTGGCTACGGTCCCGGACAACAAGGCCCAGGGGGTTACGGACCTGGCCAGCAAGGTCCTTCTGGACCGGGAAGCGCTGCAGCCGCAGCAGCTGCAGCCGGTCCAGGCCAGCAAGGGCCTGGGGGTTACGGTCCGGGTCAGCAAGGCCCAGGCGGATACGGTCCAGGACAACAGGGACCAAGTGGTCCGGGATCAGCAGCCGCTGCCGCAGCGGCAGCCGGTCCCGGTCAACAAGGACCTGGTGGCTACGGTCCTGGGCAACAGGGTCCTAGCGGTCCAGGGTCAGCAGCAGCAGCCGCAGCTGCAGCATCCGGTCCGGGTCAGCAGGGTCCGGGTGGTTATGGTCCTGGCCAGCAGGGACCGAGCGGTCCGGGTAGTGCAGCAGCAGCTGCAGCAGCCGCAGGCCCTGGTCAGCAAGGCCCTGGTGGATATGGACCAGGCCAACAGGGTCCTGGCGGATACGGTCCTGGTCAACAAGGTCCGTCAGGTCCGGGTTCAGCCGCAGCGGCTGCTGCCGCAGCAGGTCCAGGTGGCTACGGACCGGGTCAACAGGGACCCGGTGGGTACGGACCAGGACAGCAAGGGCCAGGCGGTTATGGCCCTGGACAACAAGGGCCTAGTGGTCCTGGTTCTGCAGCGGCAGCCGCTGCGGCAGCTGGTCCGGGACAGCAAGGACCCGGTGGATACGGTCCCGGTCAGCAGGGACCTGGCGGTTACGGACCCGGACAACAGGGTCCATCTGGTCCTGGTAGCGCAGCCGCAGCAGCAGCGGCTGCAGGTCCAGGACAACAAGGTCCTGGTGGGTATGGTCCAGGGCAGCAAGGTCCGAGTGGTCCAGGCTCTGCGGCAGCGGCAGCAGCAGCAGCGGGACCTGGTCAACAGGGTCCAGGGGGATATGGCCCAGGTCAGCAAGGACCGGGTGGCTATGGGCCAGGTCAACAAGGCCCTAGCGGTCCGGGATCTGCCGCAGCTGCAGCGGCAGCGGCAGGTCCTGGCGGTTATGGACCAGGTCAGCAGGGTCCCGGTGGCTACGGTCCCGGACAACAAGGCCCAGGGGGTTACGGACCTGGCCAGCAAGGTCCTTCTGGACCGGGAAGCGCTGCAGCCGCAGCAGCTGCAGCCGGTCCAGGCCAGCAAGGGCCTGGGGGTTACGGTCCGGGTCAGCAAGGCCCAGGCGGATACGGTCCAGGACAACAGGGACCAAGTGGTCCGGGATCAGCAGCCGCTGCCGCAGCGGCAGCCGGTCCCGGTCAACAAGGACCTGGTGGCTACGGTCCTGGGCAACAGGGTCCTAGCGGTCCAGGGTCAGCAGCAGCAGCCGCAGCTGCAGCATCCGGAGGG'\n",
    "strand = None\n",
    "rna_type = 'mRNA'\n",
    "\n",
    "building.create_transcribed_gene(me, locus_id, rna_type, seq)\n",
    "building.add_transcription_reaction(me, 'TU_MaSp2', {'MaSp2'}, seq)\n",
    "print(me.reactions.transcription_TU_MaSp2.reaction)\n",
    "me.reactions.transcription_TU_MaSp2.update()"
   ]
  },
  {
   "cell_type": "markdown",
   "metadata": {},
   "source": [
    "###  Add the RNAP to the MaSp1 Transcription Reaction"
   ]
  },
  {
   "cell_type": "code",
   "execution_count": 5,
   "metadata": {},
   "outputs": [],
   "source": [
    "me.reactions.transcription_TU_MaSp2.transcription_data.RNA_polymerase = 'RNAP70-CPLX'\n",
    "me.reactions.transcription_TU_MaSp2.update()"
   ]
  },
  {
   "cell_type": "markdown",
   "metadata": {},
   "source": [
    "List the transcription data (\"transcription_data\") associated with the MaSp2 transcription reaction (\"transcription_TU_MaSp2\")."
   ]
  },
  {
   "cell_type": "code",
   "execution_count": 6,
   "metadata": {},
   "outputs": [
    {
     "data": {
      "text/html": [
       "<div>\n",
       "<style scoped>\n",
       "    .dataframe tbody tr th:only-of-type {\n",
       "        vertical-align: middle;\n",
       "    }\n",
       "\n",
       "    .dataframe tbody tr th {\n",
       "        vertical-align: top;\n",
       "    }\n",
       "\n",
       "    .dataframe thead th {\n",
       "        text-align: right;\n",
       "    }\n",
       "</style>\n",
       "<table border=\"1\" class=\"dataframe\">\n",
       "  <thead>\n",
       "    <tr style=\"text-align: right;\">\n",
       "      <th></th>\n",
       "      <th>Attribute Values</th>\n",
       "    </tr>\n",
       "  </thead>\n",
       "  <tbody>\n",
       "    <tr>\n",
       "      <th>id</th>\n",
       "      <td>TU_MaSp2</td>\n",
       "    </tr>\n",
       "    <tr>\n",
       "      <th>_model</th>\n",
       "      <td>iJL1678b-ME</td>\n",
       "    </tr>\n",
       "    <tr>\n",
       "      <th>_parent_reactions</th>\n",
       "      <td>{'transcription_TU_MaSp2'}</td>\n",
       "    </tr>\n",
       "    <tr>\n",
       "      <th>nucleotide_sequence</th>\n",
       "      <td>ATGACCGGTCCGGGTCAGCAGGGTCCGGGTGGTTATGGTCCTGGCCAGCAGGGACCGAGCGGTCCGGGTAGTGCAGCAGCAGCTGCAGCAGCCGCAGGCCCTGGTCAGCAAGGCCCTGGTGGATATGGACCAGGCCAACAGGGTCCTGGCGGATACGGTCCTGGTCAACAAGGTCCGTCAGGTCCGGGTTCAGCCGCAGCGGCTGCTGCCGCAGCAGGTCCAGGTGGCTACGGACCGGGTCAACAGGGACCCGGTGGGTACGGACCAGGACAGCAAGGGCCAGGCGGTTATGGCCC...</td>\n",
       "    </tr>\n",
       "    <tr>\n",
       "      <th>RNA_products</th>\n",
       "      <td>{'RNA_MaSp2'}</td>\n",
       "    </tr>\n",
       "    <tr>\n",
       "      <th>RNA_polymerase</th>\n",
       "      <td>RNAP70-CPLX</td>\n",
       "    </tr>\n",
       "    <tr>\n",
       "      <th>subreactions</th>\n",
       "      <td>defaultdict(&lt;class 'int'&gt;, {})</td>\n",
       "    </tr>\n",
       "  </tbody>\n",
       "</table>\n",
       "</div>"
      ],
      "text/plain": [
       "                                                                                                                                                                                                                                                                                                                Attribute Values\n",
       "id                                                                                                                                                                                                                                                                                                                      TU_MaSp2\n",
       "_model                                                                                                                                                                                                                                                                                                               iJL1678b-ME\n",
       "_parent_reactions                                                                                                                                                                                                                                                                                     {'transcription_TU_MaSp2'}\n",
       "nucleotide_sequence  ATGACCGGTCCGGGTCAGCAGGGTCCGGGTGGTTATGGTCCTGGCCAGCAGGGACCGAGCGGTCCGGGTAGTGCAGCAGCAGCTGCAGCAGCCGCAGGCCCTGGTCAGCAAGGCCCTGGTGGATATGGACCAGGCCAACAGGGTCCTGGCGGATACGGTCCTGGTCAACAAGGTCCGTCAGGTCCGGGTTCAGCCGCAGCGGCTGCTGCCGCAGCAGGTCCAGGTGGCTACGGACCGGGTCAACAGGGACCCGGTGGGTACGGACCAGGACAGCAAGGGCCAGGCGGTTATGGCCC...\n",
       "RNA_products                                                                                                                                                                                                                                                                                                       {'RNA_MaSp2'}\n",
       "RNA_polymerase                                                                                                                                                                                                                                                                                                       RNAP70-CPLX\n",
       "subreactions                                                                                                                                                                                                                                                                                      defaultdict(<class 'int'>, {})"
      ]
     },
     "execution_count": 6,
     "metadata": {},
     "output_type": "execute_result"
    }
   ],
   "source": [
    "rxn = me.reactions.transcription_TU_MaSp2\n",
    "data = rxn.transcription_data\n",
    "pd.DataFrame({i: str(v) for i, v in data.__dict__.items()}, index=['Attribute Values']).T"
   ]
  },
  {
   "cell_type": "markdown",
   "metadata": {},
   "source": [
    "List the attributes of the MaSp2 transcription reaction."
   ]
  },
  {
   "cell_type": "code",
   "execution_count": 7,
   "metadata": {},
   "outputs": [
    {
     "data": {
      "text/html": [
       "<div>\n",
       "<style scoped>\n",
       "    .dataframe tbody tr th:only-of-type {\n",
       "        vertical-align: middle;\n",
       "    }\n",
       "\n",
       "    .dataframe tbody tr th {\n",
       "        vertical-align: top;\n",
       "    }\n",
       "\n",
       "    .dataframe thead th {\n",
       "        text-align: right;\n",
       "    }\n",
       "</style>\n",
       "<table border=\"1\" class=\"dataframe\">\n",
       "  <thead>\n",
       "    <tr style=\"text-align: right;\">\n",
       "      <th></th>\n",
       "      <th>Attribute Values</th>\n",
       "    </tr>\n",
       "  </thead>\n",
       "  <tbody>\n",
       "    <tr>\n",
       "      <th>id</th>\n",
       "      <td>transcription_TU_MaSp2</td>\n",
       "    </tr>\n",
       "    <tr>\n",
       "      <th>name</th>\n",
       "      <td></td>\n",
       "    </tr>\n",
       "    <tr>\n",
       "      <th>notes</th>\n",
       "      <td>{}</td>\n",
       "    </tr>\n",
       "    <tr>\n",
       "      <th>annotation</th>\n",
       "      <td>{}</td>\n",
       "    </tr>\n",
       "    <tr>\n",
       "      <th>_gene_reaction_rule</th>\n",
       "      <td></td>\n",
       "    </tr>\n",
       "    <tr>\n",
       "      <th>subsystem</th>\n",
       "      <td></td>\n",
       "    </tr>\n",
       "    <tr>\n",
       "      <th>_genes</th>\n",
       "      <td>set()</td>\n",
       "    </tr>\n",
       "    <tr>\n",
       "      <th>_metabolites</th>\n",
       "      <td>{&lt;RNAP RNAP70-CPLX at 0x7faee160f390&gt;: -0.0196124982794219*mu - 0.00767829307639367, &lt;TranscribedGene RNA_MaSp2 at 0x7faee173ad30&gt;: 1, &lt;Metabolite utp_c at 0x7faee160fe10&gt;: -767, &lt;Metabolite atp_c at 0x7faee160f9b0&gt;: -549, &lt;Metabolite ctp_c at 0x7faee160fef0&gt;: -1570, &lt;Metabolite gtp_c at 0x7faee...</td>\n",
       "    </tr>\n",
       "    <tr>\n",
       "      <th>_model</th>\n",
       "      <td>iJL1678b-ME</td>\n",
       "    </tr>\n",
       "    <tr>\n",
       "      <th>_objective_coefficient</th>\n",
       "      <td>0.0</td>\n",
       "    </tr>\n",
       "    <tr>\n",
       "      <th>upper_bound</th>\n",
       "      <td>1000.0</td>\n",
       "    </tr>\n",
       "    <tr>\n",
       "      <th>lower_bound</th>\n",
       "      <td>0.0</td>\n",
       "    </tr>\n",
       "    <tr>\n",
       "      <th>variable_kind</th>\n",
       "      <td>continuous</td>\n",
       "    </tr>\n",
       "    <tr>\n",
       "      <th>_transcription_data</th>\n",
       "      <td>&lt;TranscriptionData TU_MaSp2 at 0x7faee173a9b0&gt;</td>\n",
       "    </tr>\n",
       "  </tbody>\n",
       "</table>\n",
       "</div>"
      ],
      "text/plain": [
       "                                                                                                                                                                                                                                                                                                                   Attribute Values\n",
       "id                                                                                                                                                                                                                                                                                                           transcription_TU_MaSp2\n",
       "name                                                                                                                                                                                                                                                                                                                               \n",
       "notes                                                                                                                                                                                                                                                                                                                            {}\n",
       "annotation                                                                                                                                                                                                                                                                                                                       {}\n",
       "_gene_reaction_rule                                                                                                                                                                                                                                                                                                                \n",
       "subsystem                                                                                                                                                                                                                                                                                                                          \n",
       "_genes                                                                                                                                                                                                                                                                                                                        set()\n",
       "_metabolites            {<RNAP RNAP70-CPLX at 0x7faee160f390>: -0.0196124982794219*mu - 0.00767829307639367, <TranscribedGene RNA_MaSp2 at 0x7faee173ad30>: 1, <Metabolite utp_c at 0x7faee160fe10>: -767, <Metabolite atp_c at 0x7faee160f9b0>: -549, <Metabolite ctp_c at 0x7faee160fef0>: -1570, <Metabolite gtp_c at 0x7faee...\n",
       "_model                                                                                                                                                                                                                                                                                                                  iJL1678b-ME\n",
       "_objective_coefficient                                                                                                                                                                                                                                                                                                          0.0\n",
       "upper_bound                                                                                                                                                                                                                                                                                                                  1000.0\n",
       "lower_bound                                                                                                                                                                                                                                                                                                                     0.0\n",
       "variable_kind                                                                                                                                                                                                                                                                                                            continuous\n",
       "_transcription_data                                                                                                                                                                                                                                                                  <TranscriptionData TU_MaSp2 at 0x7faee173a9b0>"
      ]
     },
     "execution_count": 7,
     "metadata": {},
     "output_type": "execute_result"
    }
   ],
   "source": [
    "rxn = me.reactions.transcription_TU_MaSp2\n",
    "data = rxn\n",
    "pd.DataFrame({i: str(v) for i, v in data.__dict__.items()}, index=['Attribute Values']).T"
   ]
  },
  {
   "cell_type": "markdown",
   "metadata": {},
   "source": [
    "List the complete reaction associated with the MaSp1 transcription reaction."
   ]
  },
  {
   "cell_type": "code",
   "execution_count": 8,
   "metadata": {},
   "outputs": [
    {
     "data": {
      "text/plain": [
       "'0.0196124982794219*mu + 0.00767829307639367 RNAP70-CPLX + 549 atp_c + 1570 ctp_c + 1218 gtp_c + 767 utp_c --> RNA_MaSp2 + 1311.0214523240002 mRNA_biomass + 4104 ppi_c'"
      ]
     },
     "execution_count": 8,
     "metadata": {},
     "output_type": "execute_result"
    }
   ],
   "source": [
    "me.reactions.get_by_id('transcription_TU_MaSp2').reaction"
   ]
  },
  {
   "cell_type": "markdown",
   "metadata": {},
   "source": [
    "List the RNAP associated with the MaSp2 transcription reaction"
   ]
  },
  {
   "cell_type": "code",
   "execution_count": 9,
   "metadata": {},
   "outputs": [
    {
     "data": {
      "text/plain": [
       "'RNAP70-CPLX'"
      ]
     },
     "execution_count": 9,
     "metadata": {},
     "output_type": "execute_result"
    }
   ],
   "source": [
    "me.reactions.transcription_TU_MaSp2.transcription_data.RNA_polymerase"
   ]
  },
  {
   "cell_type": "markdown",
   "metadata": {},
   "source": [
    "## 5. Create the MaSp2 Translation Reaction"
   ]
  },
  {
   "cell_type": "markdown",
   "metadata": {},
   "source": [
    "Complete all the steps necessary to create the MaSp2 Translation Reaction"
   ]
  },
  {
   "cell_type": "markdown",
   "metadata": {},
   "source": [
    "### Storing information about a translation reaction"
   ]
  },
  {
   "cell_type": "code",
   "execution_count": 10,
   "metadata": {},
   "outputs": [],
   "source": [
    "data = cobrame.TranslationData('MaSp2', me, 'RNA_MaSp2', 'protein_MaSp2')\n",
    "data.nucleotide_sequence = seq"
   ]
  },
  {
   "cell_type": "markdown",
   "metadata": {},
   "source": [
    "### Create translation reaction\n",
    "\n",
    "By associating the TranslationReaction with its corresponding TranslationData object and running the update function, COBRAme will create a translation reaction for the nucleotide sequence given based on the organisms codon table and prespecified translation machinery."
   ]
  },
  {
   "cell_type": "code",
   "execution_count": 11,
   "metadata": {},
   "outputs": [],
   "source": [
    "rxn = cobrame.TranslationReaction('translation_MaSp2')\n",
    "rxn.translation_data = data\n",
    "me.add_reaction(rxn)"
   ]
  },
  {
   "cell_type": "markdown",
   "metadata": {},
   "source": [
    "### Updating the translation reaction\n",
    "\n",
    "Note that this process does not include the ribosome in the reaction."
   ]
  },
  {
   "cell_type": "code",
   "execution_count": 12,
   "metadata": {},
   "outputs": [
    {
     "name": "stdout",
     "output_type": "stream",
     "text": [
      "0.000498399634202103*mu + 0.000195123456790123 + 0.00598079561042524*(mu + 0.3915)/mu RNA_MaSp2 + 2.55589556001079e-8*mu + 1.00063311174422e-8 RNA_degradosome + 288 ala__L_c + 6.13480109739369*(mu + 0.3915)/mu atp_c + 192 gln__L_c + 506 gly_c + 7.84095134723271*(mu + 0.3915)/mu mRNA_biomass + met__L_c + 236 pro__L_c + 0.0196124982794219*mu + 0.00767829307639367 ribosome + 76 ser__L_c + thr__L_c + 68 tyr__L_c --> 6.13480109739369*(mu + 0.3915)/mu adp_c + 3.28345679012346*(mu + 0.3915)/mu amp_c + 9.38984910836763*(mu + 0.3915)/mu cmp_c + 7.28460905349794*(mu + 0.3915)/mu gmp_c + 1367.0 - 6.13480109739369*(mu + 0.3915)/mu h2o_c + 6.13480109739369*(mu + 0.3915)/mu h_c + 6.13480109739369*(mu + 0.3915)/mu pi_c + protein_MaSp2 + 114.82236754 protein_biomass + 4.58727023319616*(mu + 0.3915)/mu ump_c\n"
     ]
    }
   ],
   "source": [
    "rxn.update()\n",
    "print(rxn.reaction)"
   ]
  },
  {
   "cell_type": "markdown",
   "metadata": {},
   "source": [
    "### Incorporate the ribosome\n",
    "\n",
    "Add the ribosome to the reaction."
   ]
  },
  {
   "cell_type": "code",
   "execution_count": 13,
   "metadata": {},
   "outputs": [
    {
     "name": "stdout",
     "output_type": "stream",
     "text": [
      "0.000498399634202103*mu + 0.000195123456790123 + 0.00598079561042524*(mu + 0.3915)/mu RNA_MaSp2 + 2.55589556001079e-8*mu + 1.00063311174422e-8 RNA_degradosome + 288 ala__L_c + 6.13480109739369*(mu + 0.3915)/mu atp_c + 192 gln__L_c + 506 gly_c + 7.84095134723271*(mu + 0.3915)/mu mRNA_biomass + met__L_c + 236 pro__L_c + 0.0196124982794219*mu + 0.00767829307639367 ribosome + 76 ser__L_c + thr__L_c + 68 tyr__L_c --> 6.13480109739369*(mu + 0.3915)/mu adp_c + 3.28345679012346*(mu + 0.3915)/mu amp_c + 9.38984910836763*(mu + 0.3915)/mu cmp_c + 7.28460905349794*(mu + 0.3915)/mu gmp_c + 1367.0 - 6.13480109739369*(mu + 0.3915)/mu h2o_c + 6.13480109739369*(mu + 0.3915)/mu h_c + 6.13480109739369*(mu + 0.3915)/mu pi_c + protein_MaSp2 + 114.82236754 protein_biomass + 4.58727023319616*(mu + 0.3915)/mu ump_c\n"
     ]
    }
   ],
   "source": [
    "ribosome = cobrame.Ribosome('ribosome')\n",
    "me.add_metabolites([ribosome])\n",
    "me.reactions.translation_MaSp2.update()\n",
    "print(me.reactions.translation_MaSp2.reaction)"
   ]
  },
  {
   "cell_type": "markdown",
   "metadata": {},
   "source": [
    "### Add Subreactions to the MaSp2 model"
   ]
  },
  {
   "cell_type": "markdown",
   "metadata": {},
   "source": [
    "Create the subreactions that represent elongation, initiation and termination"
   ]
  },
  {
   "cell_type": "code",
   "execution_count": 14,
   "metadata": {},
   "outputs": [
    {
     "name": "stderr",
     "output_type": "stream",
     "text": [
      "/source/cobrame/cobrame/core/processdata.py:896 \u001b[1;31mUserWarning\u001b[0m: No termination enzyme for RNA_MaSp2\n"
     ]
    }
   ],
   "source": [
    "elongation = ['FusA_mono_elongation', 'Tuf_gtp_regeneration']\n",
    "initiation = ['Translation_gtp_initiation_factor_InfB', 'Translation_initiation_factor_InfA', \n",
    "              'Translation_initiation_factor_InfC', 'fmet_addition_at_START', 'peptide_deformylase_processing', \n",
    "              'peptide_chain_release', 'ribosome_recycler']\n",
    "termination = {'UGA':'PrfB_mono'}\n",
    "me.process_data.get_by_id('MaSp2').add_elongation_subreactions(elongation_subreactions=set(elongation))\n",
    "me.process_data.get_by_id('MaSp2').add_initiation_subreactions(start_codons=set(['AUG']), start_subreactions=set(initiation))\n",
    "me.process_data.get_by_id('MaSp2').add_termination_subreactions(translation_terminator_dict=termination)\n",
    "#me.reactions.translation_MaSp2.update(verbose=False)"
   ]
  },
  {
   "cell_type": "markdown",
   "metadata": {},
   "source": [
    "List the subreactions associated with MaSp2 translation reaction stored in the ProcessData."
   ]
  },
  {
   "cell_type": "code",
   "execution_count": 15,
   "metadata": {
    "scrolled": true
   },
   "outputs": [
    {
     "data": {
      "text/plain": [
       "defaultdict(int,\n",
       "            {'Tuf_gtp_regeneration': 1367.0,\n",
       "             'FusA_mono_elongation': 1367.0,\n",
       "             'thr_addition_at_ACC': 1,\n",
       "             'gly_addition_at_GGU': 252,\n",
       "             'pro_addition_at_CCG': 56,\n",
       "             'gln_addition_at_CAG': 88,\n",
       "             'tyr_addition_at_UAU': 28,\n",
       "             'pro_addition_at_CCU': 80,\n",
       "             'gly_addition_at_GGC': 84,\n",
       "             'gly_addition_at_GGA': 121,\n",
       "             'ser_addition_at_AGC': 20,\n",
       "             'ser_addition_at_AGU': 16,\n",
       "             'ala_addition_at_GCA': 156,\n",
       "             'ala_addition_at_GCU': 44,\n",
       "             'ala_addition_at_GCC': 48,\n",
       "             'gln_addition_at_CAA': 104,\n",
       "             'pro_addition_at_CCA': 72,\n",
       "             'tyr_addition_at_UAC': 40,\n",
       "             'ser_addition_at_UCA': 16,\n",
       "             'ala_addition_at_GCG': 40,\n",
       "             'pro_addition_at_CCC': 28,\n",
       "             'gly_addition_at_GGG': 48,\n",
       "             'ser_addition_at_UCU': 20,\n",
       "             'ser_addition_at_UCC': 4,\n",
       "             'Translation_initiation_factor_InfA': 1,\n",
       "             'Translation_initiation_factor_InfC': 1,\n",
       "             'Translation_gtp_initiation_factor_InfB': 1,\n",
       "             'peptide_deformylase_processing': 1,\n",
       "             'ribosome_recycler': 1,\n",
       "             'peptide_chain_release': 1,\n",
       "             'fmet_addition_at_START': 1})"
      ]
     },
     "execution_count": 15,
     "metadata": {},
     "output_type": "execute_result"
    }
   ],
   "source": [
    "me.process_data.get_by_id('MaSp2').subreactions"
   ]
  },
  {
   "cell_type": "markdown",
   "metadata": {},
   "source": [
    "List the subreactions generated from the nucleatide sequence that are stored in the ProcessData."
   ]
  },
  {
   "cell_type": "code",
   "execution_count": 16,
   "metadata": {
    "scrolled": true
   },
   "outputs": [
    {
     "data": {
      "text/plain": [
       "{'thr_addition_at_ACC': 1,\n",
       " 'gly_addition_at_GGU': 252,\n",
       " 'pro_addition_at_CCG': 56,\n",
       " 'gln_addition_at_CAG': 88,\n",
       " 'tyr_addition_at_UAU': 28,\n",
       " 'pro_addition_at_CCU': 80,\n",
       " 'gly_addition_at_GGC': 84,\n",
       " 'gly_addition_at_GGA': 121,\n",
       " 'ser_addition_at_AGC': 20,\n",
       " 'ser_addition_at_AGU': 16,\n",
       " 'ala_addition_at_GCA': 156,\n",
       " 'ala_addition_at_GCU': 44,\n",
       " 'ala_addition_at_GCC': 48,\n",
       " 'gln_addition_at_CAA': 104,\n",
       " 'pro_addition_at_CCA': 72,\n",
       " 'tyr_addition_at_UAC': 40,\n",
       " 'ser_addition_at_UCA': 16,\n",
       " 'ala_addition_at_GCG': 40,\n",
       " 'pro_addition_at_CCC': 28,\n",
       " 'gly_addition_at_GGG': 48,\n",
       " 'ser_addition_at_UCU': 20,\n",
       " 'ser_addition_at_UCC': 4}"
      ]
     },
     "execution_count": 16,
     "metadata": {},
     "output_type": "execute_result"
    }
   ],
   "source": [
    "me.process_data.get_by_id('MaSp2').subreactions_from_sequence"
   ]
  },
  {
   "cell_type": "markdown",
   "metadata": {},
   "source": [
    "### Updating the MaSp2 translation reaction"
   ]
  },
  {
   "cell_type": "code",
   "execution_count": 17,
   "metadata": {},
   "outputs": [
    {
     "name": "stdout",
     "output_type": "stream",
     "text": [
      "Before adding tRNA subreaction\n",
      "------------------------------\n",
      "0.000498399634202103*mu + 0.000195123456790123 + 0.00598079561042524*(mu + 0.3915)/mu RNA_MaSp2 + 2.55589556001079e-8*mu + 1.00063311174422e-8 RNA_degradosome + 288 ala__L_c + 6.13480109739369*(mu + 0.3915)/mu atp_c + 192 gln__L_c + 506 gly_c + 7.84095134723271*(mu + 0.3915)/mu mRNA_biomass + met__L_c + 236 pro__L_c + 0.0196124982794219*mu + 0.00767829307639367 ribosome + 76 ser__L_c + thr__L_c + 68 tyr__L_c --> 6.13480109739369*(mu + 0.3915)/mu adp_c + 3.28345679012346*(mu + 0.3915)/mu amp_c + 9.38984910836763*(mu + 0.3915)/mu cmp_c + 7.28460905349794*(mu + 0.3915)/mu gmp_c + 1367.0 - 6.13480109739369*(mu + 0.3915)/mu h2o_c + 6.13480109739369*(mu + 0.3915)/mu h_c + 6.13480109739369*(mu + 0.3915)/mu pi_c + protein_MaSp2 + 114.82236754 protein_biomass + 4.58727023319616*(mu + 0.3915)/mu ump_c\n",
      "\n",
      "After adding tRNA subreaction\n",
      "-----------------------------\n",
      "10fthf_c + 2.72438972852433e-7*mu Def_mono_mod_1:fe2 + 1.80324164444648e-7*mu Fmt_mono_mod_mg2_mod_k + 0.00584188034188034*mu FusA_mono + 4.27350427350427e-6*mu InfA_mono + 4.45382843794892e-6*mu InfB_mono + 4.27350427350427e-6*mu InfC_mono + 4.27350427350427e-6*mu PrfC_mono + 0.000498399634202103*mu + 0.000195123456790123 + 0.00598079561042524*(mu + 0.3915)/mu RNA_MaSp2 + 2.55589556001079e-8*mu + 1.00063311174422e-8 RNA_degradosome + 2.62130898398882e-7*mu Rrf_mono + 0.00584188034188034*mu Tsf_mono + 288 ala__L_c + 1366.0 + 6.13480109739369*(mu + 0.3915)/mu atp_c + 0.00583760683760684*mu generic_Tuf + generic_tRNA_ACC_thr__L_c + 20.0 generic_tRNA_AGC_ser__L_c + 16.0 generic_tRNA_AGU_ser__L_c + 104.0 generic_tRNA_CAA_gln__L_c + 88.0 generic_tRNA_CAG_gln__L_c + 72.0 generic_tRNA_CCA_pro__L_c + 28.0 generic_tRNA_CCC_pro__L_c + 56.0 generic_tRNA_CCG_pro__L_c + 80.0 generic_tRNA_CCU_pro__L_c + 156.0 generic_tRNA_GCA_ala__L_c + 48.0 generic_tRNA_GCC_ala__L_c + 40.0 generic_tRNA_GCG_ala__L_c + 44.0 generic_tRNA_GCU_ala__L_c + 121.0 generic_tRNA_GGA_gly_c + 84.0 generic_tRNA_GGC_gly_c + 48.0 generic_tRNA_GGG_gly_c + 252.0 generic_tRNA_GGU_gly_c + generic_tRNA_START_met__L_c + 40.0 generic_tRNA_UAC_tyr__L_c + 28.0 generic_tRNA_UAU_tyr__L_c + 16.0 generic_tRNA_UCA_ser__L_c + 4.0 generic_tRNA_UCC_ser__L_c + 20.0 generic_tRNA_UCU_ser__L_c + 192 gln__L_c + 506 gly_c + 2735.0 gtp_c + 2735.0 + 6.13480109739369*(mu + 0.3915)/mu h2o_c + 7.84095134723271*(mu + 0.3915)/mu mRNA_biomass + met__L_c + 236 pro__L_c + 0.0196124982794219*mu + 0.00767829307639367 ribosome + 76 ser__L_c + thr__L_c + 68 tyr__L_c --> 6.13480109739369*(mu + 0.3915)/mu adp_c + 1366.0 + 3.28345679012346*(mu + 0.3915)/mu amp_c + 9.38984910836763*(mu + 0.3915)/mu cmp_c + for_c + 2735.0 gdp_c + 7.28460905349794*(mu + 0.3915)/mu gmp_c + 4101.0 + 6.13480109739369*(mu + 0.3915)/mu h_c + 2735.0 + 6.13480109739369*(mu + 0.3915)/mu pi_c + 1366.0 ppi_c + protein_MaSp2 + 114.82337548000001 protein_biomass + thf_c + 4.58727023319616*(mu + 0.3915)/mu ump_c\n"
     ]
    }
   ],
   "source": [
    "translation_subreactions = me.process_data.MaSp2.subreactions_from_sequence\n",
    "print(\"Before adding tRNA subreaction\")\n",
    "print(\"------------------------------\")\n",
    "print(me.reactions.translation_MaSp2.reaction)\n",
    "print(\"\")\n",
    "# Link tranlation_data to subreactions and update\n",
    "for subreaction, value in translation_subreactions.items():\n",
    "    me.process_data.MaSp2.subreactions[subreaction] = value\n",
    "me.reactions.translation_MaSp2.update(verbose=False)\n",
    "print(\"After adding tRNA subreaction\")\n",
    "print(\"-----------------------------\")\n",
    "print(me.reactions.translation_MaSp2.reaction)"
   ]
  },
  {
   "cell_type": "markdown",
   "metadata": {},
   "source": [
    "List the reactants associated with the MaSp2 translation reaction. In this list all the subreactions should be listed."
   ]
  },
  {
   "cell_type": "code",
   "execution_count": 18,
   "metadata": {
    "scrolled": true
   },
   "outputs": [
    {
     "data": {
      "text/plain": [
       "[<Metabolite met__L_c at 0x7faee09119b0>,\n",
       " <Metabolite h2o_c at 0x7faee160fa58>,\n",
       " <Metabolite thr__L_c at 0x7faee0911e10>,\n",
       " <Metabolite gly_c at 0x7faee0911cf8>,\n",
       " <Metabolite pro__L_c at 0x7faee091e2e8>,\n",
       " <Metabolite gln__L_c at 0x7faee091e278>,\n",
       " <Metabolite tyr__L_c at 0x7faee091e470>,\n",
       " <Metabolite ser__L_c at 0x7faee0911eb8>,\n",
       " <Metabolite ala__L_c at 0x7faee0911f60>,\n",
       " <Ribosome ribosome at 0x7faee091e550>,\n",
       " <TranscribedGene RNA_MaSp2 at 0x7faee173ad30>,\n",
       " <Metabolite atp_c at 0x7faee160f9b0>,\n",
       " <Complex RNA_degradosome at 0x7faee1636400>,\n",
       " <Complex Tsf_mono at 0x7faee0938c50>,\n",
       " <Complex FusA_mono at 0x7faee0938c18>,\n",
       " <Metabolite gtp_c at 0x7faee160ffd0>,\n",
       " <GenericComponent generic_Tuf at 0x7faee091ea58>,\n",
       " <GenerictRNA generic_tRNA_ACC_thr__L_c at 0x7faee092f6d8>,\n",
       " <GenerictRNA generic_tRNA_GGU_gly_c at 0x7faee091ef60>,\n",
       " <GenerictRNA generic_tRNA_CCG_pro__L_c at 0x7faee092fd68>,\n",
       " <GenerictRNA generic_tRNA_CAG_gln__L_c at 0x7faee092f5f8>,\n",
       " <GenerictRNA generic_tRNA_UAU_tyr__L_c at 0x7faee09384a8>,\n",
       " <GenerictRNA generic_tRNA_CCU_pro__L_c at 0x7faee0938518>,\n",
       " <GenerictRNA generic_tRNA_GGC_gly_c at 0x7faee091eeb8>,\n",
       " <GenerictRNA generic_tRNA_GGA_gly_c at 0x7faee092fcf8>,\n",
       " <GenerictRNA generic_tRNA_AGC_ser__L_c at 0x7faee092f518>,\n",
       " <GenerictRNA generic_tRNA_AGU_ser__L_c at 0x7faee092ff98>,\n",
       " <GenerictRNA generic_tRNA_GCA_ala__L_c at 0x7faee092f0b8>,\n",
       " <GenerictRNA generic_tRNA_GCU_ala__L_c at 0x7faee092fb38>,\n",
       " <GenerictRNA generic_tRNA_GCC_ala__L_c at 0x7faee092f3c8>,\n",
       " <GenerictRNA generic_tRNA_CAA_gln__L_c at 0x7faee092fe10>,\n",
       " <GenerictRNA generic_tRNA_CCA_pro__L_c at 0x7faee0938588>,\n",
       " <GenerictRNA generic_tRNA_UAC_tyr__L_c at 0x7faee0938278>,\n",
       " <GenerictRNA generic_tRNA_UCA_ser__L_c at 0x7faee092f048>,\n",
       " <GenerictRNA generic_tRNA_GCG_ala__L_c at 0x7faee092fac8>,\n",
       " <GenerictRNA generic_tRNA_CCC_pro__L_c at 0x7faee092f898>,\n",
       " <GenerictRNA generic_tRNA_GGG_gly_c at 0x7faee092f668>,\n",
       " <GenerictRNA generic_tRNA_UCU_ser__L_c at 0x7faee092f828>,\n",
       " <GenerictRNA generic_tRNA_UCC_ser__L_c at 0x7faee0938320>,\n",
       " <Complex InfA_mono at 0x7faee0938a90>,\n",
       " <Complex InfC_mono at 0x7faee0938b38>,\n",
       " <Complex InfB_mono at 0x7faee09387b8>,\n",
       " <Complex Def_mono_mod_1:fe2 at 0x7faee0938d68>,\n",
       " <Complex Rrf_mono at 0x7faee0938d30>,\n",
       " <Complex PrfC_mono at 0x7faee0938f98>,\n",
       " <Complex Fmt_mono_mod_mg2_mod_k at 0x7faee0938898>,\n",
       " <Metabolite 10fthf_c at 0x7faee0938940>,\n",
       " <GenerictRNA generic_tRNA_START_met__L_c at 0x7faee0938a58>,\n",
       " <Constraint mRNA_biomass at 0x7faee172e128>]"
      ]
     },
     "execution_count": 18,
     "metadata": {},
     "output_type": "execute_result"
    }
   ],
   "source": [
    "me.reactions.translation_MaSp2.reactants"
   ]
  },
  {
   "cell_type": "markdown",
   "metadata": {},
   "source": [
    "This completes the creation of the translation reaction"
   ]
  },
  {
   "cell_type": "markdown",
   "metadata": {},
   "source": [
    "## 6. Create Demand Reaction for MaSp2"
   ]
  },
  {
   "cell_type": "code",
   "execution_count": 19,
   "metadata": {},
   "outputs": [],
   "source": [
    "new_reaction = cobrame.MEReaction('DM_protein_MaSp2')\n",
    "me.add_reaction(new_reaction)"
   ]
  },
  {
   "cell_type": "code",
   "execution_count": 20,
   "metadata": {},
   "outputs": [
    {
     "data": {
      "text/plain": [
       "'protein_MaSp2 --> '"
      ]
     },
     "execution_count": 20,
     "metadata": {},
     "output_type": "execute_result"
    }
   ],
   "source": [
    "me.reactions.get_by_id('DM_protein_MaSp2').reaction = 'protein_MaSp2 ->'\n",
    "me.reactions.get_by_id('DM_protein_MaSp2').reaction"
   ]
  },
  {
   "cell_type": "code",
   "execution_count": 21,
   "metadata": {},
   "outputs": [
    {
     "data": {
      "text/html": [
       "<div>\n",
       "<style scoped>\n",
       "    .dataframe tbody tr th:only-of-type {\n",
       "        vertical-align: middle;\n",
       "    }\n",
       "\n",
       "    .dataframe tbody tr th {\n",
       "        vertical-align: top;\n",
       "    }\n",
       "\n",
       "    .dataframe thead th {\n",
       "        text-align: right;\n",
       "    }\n",
       "</style>\n",
       "<table border=\"1\" class=\"dataframe\">\n",
       "  <thead>\n",
       "    <tr style=\"text-align: right;\">\n",
       "      <th></th>\n",
       "      <th>Attribute Values</th>\n",
       "    </tr>\n",
       "  </thead>\n",
       "  <tbody>\n",
       "    <tr>\n",
       "      <th>id</th>\n",
       "      <td>DM_protein_MaSp2</td>\n",
       "    </tr>\n",
       "    <tr>\n",
       "      <th>name</th>\n",
       "      <td></td>\n",
       "    </tr>\n",
       "    <tr>\n",
       "      <th>notes</th>\n",
       "      <td>{}</td>\n",
       "    </tr>\n",
       "    <tr>\n",
       "      <th>annotation</th>\n",
       "      <td>{}</td>\n",
       "    </tr>\n",
       "    <tr>\n",
       "      <th>_gene_reaction_rule</th>\n",
       "      <td></td>\n",
       "    </tr>\n",
       "    <tr>\n",
       "      <th>subsystem</th>\n",
       "      <td></td>\n",
       "    </tr>\n",
       "    <tr>\n",
       "      <th>_genes</th>\n",
       "      <td>set()</td>\n",
       "    </tr>\n",
       "    <tr>\n",
       "      <th>_metabolites</th>\n",
       "      <td>{&lt;TranslatedGene protein_MaSp2 at 0x7faee1701ba8&gt;: -1}</td>\n",
       "    </tr>\n",
       "    <tr>\n",
       "      <th>_model</th>\n",
       "      <td>iJL1678b-ME</td>\n",
       "    </tr>\n",
       "    <tr>\n",
       "      <th>_objective_coefficient</th>\n",
       "      <td>0.0</td>\n",
       "    </tr>\n",
       "    <tr>\n",
       "      <th>upper_bound</th>\n",
       "      <td>1000</td>\n",
       "    </tr>\n",
       "    <tr>\n",
       "      <th>lower_bound</th>\n",
       "      <td>0</td>\n",
       "    </tr>\n",
       "    <tr>\n",
       "      <th>variable_kind</th>\n",
       "      <td>continuous</td>\n",
       "    </tr>\n",
       "  </tbody>\n",
       "</table>\n",
       "</div>"
      ],
      "text/plain": [
       "                                                              Attribute Values\n",
       "id                                                            DM_protein_MaSp2\n",
       "name                                                                          \n",
       "notes                                                                       {}\n",
       "annotation                                                                  {}\n",
       "_gene_reaction_rule                                                           \n",
       "subsystem                                                                     \n",
       "_genes                                                                   set()\n",
       "_metabolites            {<TranslatedGene protein_MaSp2 at 0x7faee1701ba8>: -1}\n",
       "_model                                                             iJL1678b-ME\n",
       "_objective_coefficient                                                     0.0\n",
       "upper_bound                                                               1000\n",
       "lower_bound                                                                  0\n",
       "variable_kind                                                       continuous"
      ]
     },
     "execution_count": 21,
     "metadata": {},
     "output_type": "execute_result"
    }
   ],
   "source": [
    "rxn = me.reactions.DM_protein_MaSp2\n",
    "data = rxn\n",
    "pd.DataFrame({i: str(v) for i, v in data.__dict__.items()}, index=['Attribute Values']).T"
   ]
  },
  {
   "cell_type": "markdown",
   "metadata": {},
   "source": [
    "### Find the amino acid count"
   ]
  },
  {
   "cell_type": "code",
   "execution_count": 22,
   "metadata": {},
   "outputs": [
    {
     "data": {
      "text/plain": [
       "defaultdict(int,\n",
       "            {'met__L_c': 1,\n",
       "             'thr__L_c': 1,\n",
       "             'gly_c': 506,\n",
       "             'pro__L_c': 236,\n",
       "             'gln__L_c': 192,\n",
       "             'tyr__L_c': 68,\n",
       "             'ser__L_c': 76,\n",
       "             'ala__L_c': 288})"
      ]
     },
     "execution_count": 22,
     "metadata": {},
     "output_type": "execute_result"
    }
   ],
   "source": [
    "me.process_data.MaSp2.amino_acid_count"
   ]
  },
  {
   "cell_type": "code",
   "execution_count": 23,
   "metadata": {
    "scrolled": true
   },
   "outputs": [
    {
     "name": "stdout",
     "output_type": "stream",
     "text": [
      "\n",
      "MaSp2 Flux #  0\n",
      "iter\tmuopt    \ta     \tb     \tmu1       \tstat1\n",
      "Finished compiling expressions in 36.307928 seconds\n",
      "Finished substituting S,lb,ub in 2.226213 seconds\n",
      "Finished makeME_LP in 0.365507 seconds\n",
      "Getting MINOS parameters from ME_NLP...\n",
      "1 0.5 0.5 1.0 0.5 optimal\n",
      "Finished substituting S,lb,ub in 2.278897 seconds\n",
      "Finished makeME_LP in 0.360025 seconds\n",
      "Getting MINOS parameters from ME_NLP...\n",
      "2 0.75 0.75 1.0 0.75 optimal\n",
      "Finished substituting S,lb,ub in 2.294166 seconds\n",
      "Finished makeME_LP in 0.355632 seconds\n",
      "Getting MINOS parameters from ME_NLP...\n",
      "3 0.75 0.75 0.875 0.875 1\n",
      "Finished substituting S,lb,ub in 2.281812 seconds\n",
      "Finished makeME_LP in 0.362641 seconds\n",
      "Getting MINOS parameters from ME_NLP...\n",
      "4 0.8125 0.8125 0.875 0.8125 optimal\n",
      "Finished substituting S,lb,ub in 2.299251 seconds\n",
      "Finished makeME_LP in 0.372822 seconds\n",
      "Getting MINOS parameters from ME_NLP...\n",
      "5 0.8125 0.8125 0.84375 0.84375 1\n",
      "Finished substituting S,lb,ub in 2.307965 seconds\n",
      "Finished makeME_LP in 0.367781 seconds\n",
      "Getting MINOS parameters from ME_NLP...\n",
      "6 0.828125 0.828125 0.84375 0.828125 optimal\n",
      "Finished substituting S,lb,ub in 2.273556 seconds\n",
      "Finished makeME_LP in 0.357037 seconds\n",
      "Getting MINOS parameters from ME_NLP...\n",
      "7 0.828125 0.828125 0.8359375 0.8359375 1\n",
      "Bisection done in 129.447 seconds\n",
      "Growth-rate = [0.828125]\n",
      "\n",
      "MaSp2 Flux #  0.0001\n",
      "iter\tmuopt    \ta     \tb     \tmu1       \tstat1\n",
      "Finished compiling expressions in 33.859554 seconds\n",
      "Finished substituting S,lb,ub in 2.255640 seconds\n",
      "Finished makeME_LP in 0.359052 seconds\n",
      "Getting MINOS parameters from ME_NLP...\n",
      "1 0.5 0.5 1.0 0.5 optimal\n",
      "Finished substituting S,lb,ub in 2.283020 seconds\n",
      "Finished makeME_LP in 0.358105 seconds\n",
      "Getting MINOS parameters from ME_NLP...\n",
      "2 0.75 0.75 1.0 0.75 optimal\n",
      "Finished substituting S,lb,ub in 2.290480 seconds\n",
      "Finished makeME_LP in 0.368921 seconds\n",
      "Getting MINOS parameters from ME_NLP...\n",
      "3 0.75 0.75 0.875 0.875 1\n",
      "Finished substituting S,lb,ub in 2.285911 seconds\n",
      "Finished makeME_LP in 0.379682 seconds\n",
      "Getting MINOS parameters from ME_NLP...\n",
      "4 0.75 0.75 0.8125 0.8125 1\n",
      "Finished substituting S,lb,ub in 2.355200 seconds\n",
      "Finished makeME_LP in 0.362580 seconds\n",
      "Getting MINOS parameters from ME_NLP...\n",
      "5 0.78125 0.78125 0.8125 0.78125 optimal\n",
      "Finished substituting S,lb,ub in 2.330415 seconds\n",
      "Finished makeME_LP in 0.359085 seconds\n",
      "Getting MINOS parameters from ME_NLP...\n",
      "6 0.796875 0.796875 0.8125 0.796875 optimal\n",
      "Finished substituting S,lb,ub in 2.304075 seconds\n",
      "Finished makeME_LP in 0.365784 seconds\n",
      "Getting MINOS parameters from ME_NLP...\n",
      "7 0.796875 0.796875 0.8046875 0.8046875 1\n",
      "Bisection done in 134.55 seconds\n",
      "Growth-rate = [0.828125, 0.796875]\n",
      "\n",
      "MaSp2 Flux #  0.0005\n",
      "iter\tmuopt    \ta     \tb     \tmu1       \tstat1\n",
      "Finished compiling expressions in 34.421032 seconds\n",
      "Finished substituting S,lb,ub in 2.291532 seconds\n",
      "Finished makeME_LP in 0.353904 seconds\n",
      "Getting MINOS parameters from ME_NLP...\n",
      "1 0.5 0.5 1.0 0.5 optimal\n",
      "Finished substituting S,lb,ub in 2.334501 seconds\n",
      "Finished makeME_LP in 0.372991 seconds\n",
      "Getting MINOS parameters from ME_NLP...\n",
      "2 0.5 0.5 0.75 0.75 1\n",
      "Finished substituting S,lb,ub in 2.321358 seconds\n",
      "Finished makeME_LP in 0.358608 seconds\n",
      "Getting MINOS parameters from ME_NLP...\n",
      "3 0.5 0.5 0.625 0.625 1\n",
      "Finished substituting S,lb,ub in 2.309533 seconds\n",
      "Finished makeME_LP in 0.364807 seconds\n",
      "Getting MINOS parameters from ME_NLP...\n",
      "4 0.5625 0.5625 0.625 0.5625 optimal\n",
      "Finished substituting S,lb,ub in 2.308408 seconds\n",
      "Finished makeME_LP in 0.396183 seconds\n",
      "Getting MINOS parameters from ME_NLP...\n",
      "5 0.59375 0.59375 0.625 0.59375 optimal\n",
      "Finished substituting S,lb,ub in 2.302825 seconds\n",
      "Finished makeME_LP in 0.360262 seconds\n",
      "Getting MINOS parameters from ME_NLP...\n",
      "6 0.609375 0.609375 0.625 0.609375 optimal\n",
      "Finished substituting S,lb,ub in 2.282160 seconds\n",
      "Finished makeME_LP in 0.365352 seconds\n",
      "Getting MINOS parameters from ME_NLP...\n",
      "7 0.6171875 0.6171875 0.625 0.6171875 optimal\n",
      "Bisection done in 128.109 seconds\n",
      "Growth-rate = [0.828125, 0.796875, 0.6171875]\n",
      "\n",
      "MaSp2 Flux #  0.001\n",
      "iter\tmuopt    \ta     \tb     \tmu1       \tstat1\n",
      "Finished compiling expressions in 35.507893 seconds\n",
      "Finished substituting S,lb,ub in 2.233085 seconds\n",
      "Finished makeME_LP in 0.355419 seconds\n",
      "Getting MINOS parameters from ME_NLP...\n",
      "1 0.0 0.0 0.5 0.5 1\n",
      "Finished substituting S,lb,ub in 2.298711 seconds\n",
      "Finished makeME_LP in 0.363912 seconds\n",
      "Getting MINOS parameters from ME_NLP...\n",
      "2 0.0 0.0 0.25 0.25 1\n",
      "Finished substituting S,lb,ub in 2.307794 seconds\n",
      "Finished makeME_LP in 0.356464 seconds\n",
      "Getting MINOS parameters from ME_NLP...\n",
      "3 0.0 0.0 0.125 0.125 1\n",
      "Finished substituting S,lb,ub in 2.249403 seconds\n",
      "Finished makeME_LP in 0.361220 seconds\n",
      "Getting MINOS parameters from ME_NLP...\n",
      "4 0.0 0.0 0.0625 0.0625 1\n",
      "Finished substituting S,lb,ub in 2.321185 seconds\n",
      "Finished makeME_LP in 0.361319 seconds\n",
      "Getting MINOS parameters from ME_NLP...\n",
      "5 0.0 0.0 0.03125 0.03125 1\n",
      "Finished substituting S,lb,ub in 2.277082 seconds\n",
      "Finished makeME_LP in 0.356444 seconds\n",
      "Getting MINOS parameters from ME_NLP...\n",
      "6 0.0 0.0 0.015625 0.015625 1\n",
      "Finished substituting S,lb,ub in 2.269395 seconds\n",
      "Finished makeME_LP in 0.355695 seconds\n",
      "Getting MINOS parameters from ME_NLP...\n",
      "7 0.0 0.0 0.0078125 0.0078125 1\n",
      "Bisection done in 495.993 seconds\n",
      "Growth-rate = [0.828125, 0.796875, 0.6171875, 0]\n",
      "\n",
      "MaSp2 Flux #  0.005\n",
      "iter\tmuopt    \ta     \tb     \tmu1       \tstat1\n",
      "Finished compiling expressions in 34.380506 seconds\n",
      "Finished substituting S,lb,ub in 2.265712 seconds\n",
      "Finished makeME_LP in 0.357838 seconds\n",
      "Getting MINOS parameters from ME_NLP...\n",
      "1 0.0 0.0 0.5 0.5 1\n",
      "Finished substituting S,lb,ub in 2.239931 seconds\n",
      "Finished makeME_LP in 0.360774 seconds\n",
      "Getting MINOS parameters from ME_NLP...\n",
      "2 0.0 0.0 0.25 0.25 1\n",
      "Finished substituting S,lb,ub in 2.278040 seconds\n",
      "Finished makeME_LP in 0.359872 seconds\n",
      "Getting MINOS parameters from ME_NLP...\n",
      "3 0.0 0.0 0.125 0.125 1\n",
      "Finished substituting S,lb,ub in 2.283738 seconds\n",
      "Finished makeME_LP in 0.368405 seconds\n",
      "Getting MINOS parameters from ME_NLP...\n",
      "4 0.0 0.0 0.0625 0.0625 1\n",
      "Finished substituting S,lb,ub in 2.300373 seconds\n",
      "Finished makeME_LP in 0.361286 seconds\n",
      "Getting MINOS parameters from ME_NLP...\n",
      "5 0.0 0.0 0.03125 0.03125 1\n",
      "Finished substituting S,lb,ub in 2.307438 seconds\n",
      "Finished makeME_LP in 0.365919 seconds\n",
      "Getting MINOS parameters from ME_NLP...\n",
      "6 0.0 0.0 0.015625 0.015625 1\n",
      "Finished substituting S,lb,ub in 2.287279 seconds\n",
      "Finished makeME_LP in 0.365916 seconds\n",
      "Getting MINOS parameters from ME_NLP...\n",
      "7 0.0 0.0 0.0078125 0.0078125 1\n",
      "Bisection done in 494.736 seconds\n",
      "Growth-rate = [0.828125, 0.796875, 0.6171875, 0, 0]\n",
      "\n",
      "MaSp2 Flux #  0.01\n",
      "iter\tmuopt    \ta     \tb     \tmu1       \tstat1\n",
      "Finished compiling expressions in 34.226127 seconds\n",
      "Finished substituting S,lb,ub in 2.267420 seconds\n",
      "Finished makeME_LP in 0.355772 seconds\n",
      "Getting MINOS parameters from ME_NLP...\n",
      "1 0.0 0.0 0.5 0.5 1\n",
      "Finished substituting S,lb,ub in 2.278771 seconds\n",
      "Finished makeME_LP in 0.358920 seconds\n",
      "Getting MINOS parameters from ME_NLP...\n",
      "2 0.0 0.0 0.25 0.25 1\n",
      "Finished substituting S,lb,ub in 2.268634 seconds\n",
      "Finished makeME_LP in 0.367832 seconds\n",
      "Getting MINOS parameters from ME_NLP...\n",
      "3 0.0 0.0 0.125 0.125 1\n",
      "Finished substituting S,lb,ub in 2.263328 seconds\n",
      "Finished makeME_LP in 0.376613 seconds\n",
      "Getting MINOS parameters from ME_NLP...\n",
      "4 0.0 0.0 0.0625 0.0625 1\n",
      "Finished substituting S,lb,ub in 2.253696 seconds\n",
      "Finished makeME_LP in 0.362662 seconds\n",
      "Getting MINOS parameters from ME_NLP...\n",
      "5 0.0 0.0 0.03125 0.03125 1\n",
      "Finished substituting S,lb,ub in 2.293717 seconds\n",
      "Finished makeME_LP in 0.360276 seconds\n",
      "Getting MINOS parameters from ME_NLP...\n",
      "6 0.0 0.0 0.015625 0.015625 1\n",
      "Finished substituting S,lb,ub in 2.289520 seconds\n",
      "Finished makeME_LP in 0.364186 seconds\n",
      "Getting MINOS parameters from ME_NLP...\n",
      "7 0.0 0.0 0.0078125 0.0078125 1\n",
      "Bisection done in 494.765 seconds\n",
      "Growth-rate = [0.828125, 0.796875, 0.6171875, 0, 0, 0]\n",
      "\n",
      "MaSp2 Flux #  0.05\n",
      "iter\tmuopt    \ta     \tb     \tmu1       \tstat1\n",
      "Finished compiling expressions in 34.424715 seconds\n",
      "Finished substituting S,lb,ub in 2.275654 seconds\n",
      "Finished makeME_LP in 0.363712 seconds\n",
      "Getting MINOS parameters from ME_NLP...\n",
      "1 0.0 0.0 0.5 0.5 1\n",
      "Finished substituting S,lb,ub in 2.268025 seconds\n",
      "Finished makeME_LP in 0.357235 seconds\n",
      "Getting MINOS parameters from ME_NLP...\n"
     ]
    },
    {
     "name": "stdout",
     "output_type": "stream",
     "text": [
      "2 0.0 0.0 0.25 0.25 1\n",
      "Finished substituting S,lb,ub in 2.271087 seconds\n",
      "Finished makeME_LP in 0.362872 seconds\n",
      "Getting MINOS parameters from ME_NLP...\n",
      "3 0.0 0.0 0.125 0.125 1\n",
      "Finished substituting S,lb,ub in 2.270750 seconds\n",
      "Finished makeME_LP in 0.356659 seconds\n",
      "Getting MINOS parameters from ME_NLP...\n",
      "4 0.0 0.0 0.0625 0.0625 1\n",
      "Finished substituting S,lb,ub in 2.265833 seconds\n",
      "Finished makeME_LP in 0.360385 seconds\n",
      "Getting MINOS parameters from ME_NLP...\n",
      "5 0.0 0.0 0.03125 0.03125 1\n",
      "Finished substituting S,lb,ub in 2.282095 seconds\n",
      "Finished makeME_LP in 0.367741 seconds\n",
      "Getting MINOS parameters from ME_NLP...\n",
      "6 0.0 0.0 0.015625 0.015625 1\n",
      "Finished substituting S,lb,ub in 2.288362 seconds\n",
      "Finished makeME_LP in 0.362394 seconds\n",
      "Getting MINOS parameters from ME_NLP...\n",
      "7 0.0 0.0 0.0078125 0.0078125 1\n",
      "Bisection done in 494.968 seconds\n",
      "Growth-rate = [0.828125, 0.796875, 0.6171875, 0, 0, 0, 0]\n"
     ]
    },
    {
     "data": {
      "text/plain": [
       "[0.828125, 0.796875, 0.6171875, 0, 0, 0, 0]"
      ]
     },
     "execution_count": 23,
     "metadata": {},
     "output_type": "execute_result"
    }
   ],
   "source": [
    "from contextlib import suppress\n",
    "\n",
    "#me.reactions.DM_protein_MaSp1.upper_bound = 0.00015\n",
    "#me.reactions.DM_protein_MaSp1.lower_bound = 0.00015\n",
    "MaSp2 = [0, 0.0001, 0.0005, 0.001, 0.005, 0.01, 0.05]\n",
    "growth_rate = []\n",
    "for x in MaSp2:\n",
    "    print('\\nMaSp2 Flux # ',x)\n",
    "    me.reactions.get_by_id('DM_protein_MaSp2').lower_bound = x\n",
    "    me.reactions.get_by_id('DM_protein_MaSp2').upper_bound = x\n",
    "    temp = 0\n",
    "    with suppress(Exception):\n",
    "        solve_me_model(me, 1.0, min_mu = .01, precision=1e-2, using_soplex=False)\n",
    "        temp = me.solution.f    \n",
    "    growth_rate.append(temp)\n",
    "    print('Growth-rate =', growth_rate)\n",
    "    \n",
    "growth_rate"
   ]
  },
  {
   "cell_type": "code",
   "execution_count": 24,
   "metadata": {},
   "outputs": [
    {
     "data": {
      "image/png": "[encoded data removed]",
      "text/plain": [
       "<Figure size 432x288 with 1 Axes>"
      ]
     },
     "metadata": {},
     "output_type": "display_data"
    }
   ],
   "source": [
    "import matplotlib.pyplot as plt\n",
    "  \n",
    "# x axis values\n",
    "x = MaSp2\n",
    "# corresponding y axis values\n",
    "y = growth_rate\n",
    "  \n",
    "# plotting the points \n",
    "plt.plot(x, y)\n",
    "  \n",
    "# naming the x axis\n",
    "plt.xlabel('[MaSp2]32 External Flux')\n",
    "# naming the y axis\n",
    "plt.ylabel('Growth-rate')\n",
    "  \n",
    "# giving a title to my graph\n",
    "plt.title('Cell Growth-rate vs [MaSp2]32 External Flux')\n",
    "  \n",
    "# function to show the plot\n",
    "plt.show()"
   ]
  },
  {
   "cell_type": "code",
   "execution_count": 25,
   "metadata": {
    "scrolled": true
   },
   "outputs": [
    {
     "name": "stdout",
     "output_type": "stream",
     "text": [
      "\n",
      "MaSp2 Flux #  0\n",
      "iter\tmuopt    \ta     \tb     \tmu1       \tstat1\n",
      "Finished compiling expressions in 34.795846 seconds\n",
      "Finished substituting S,lb,ub in 2.249338 seconds\n",
      "Finished makeME_LP in 0.353229 seconds\n",
      "Getting MINOS parameters from ME_NLP...\n",
      "1 0.5 0.5 1.0 0.5 optimal\n",
      "Finished substituting S,lb,ub in 2.286859 seconds\n",
      "Finished makeME_LP in 0.356719 seconds\n",
      "Getting MINOS parameters from ME_NLP...\n",
      "2 0.75 0.75 1.0 0.75 optimal\n",
      "Finished substituting S,lb,ub in 2.312701 seconds\n",
      "Finished makeME_LP in 0.360578 seconds\n",
      "Getting MINOS parameters from ME_NLP...\n",
      "3 0.75 0.75 0.875 0.875 1\n",
      "Finished substituting S,lb,ub in 2.316304 seconds\n",
      "Finished makeME_LP in 0.361116 seconds\n",
      "Getting MINOS parameters from ME_NLP...\n",
      "4 0.8125 0.8125 0.875 0.8125 optimal\n",
      "Finished substituting S,lb,ub in 2.286706 seconds\n",
      "Finished makeME_LP in 0.358796 seconds\n",
      "Getting MINOS parameters from ME_NLP...\n",
      "5 0.8125 0.8125 0.84375 0.84375 1\n",
      "Finished substituting S,lb,ub in 2.324373 seconds\n",
      "Finished makeME_LP in 0.365268 seconds\n",
      "Getting MINOS parameters from ME_NLP...\n",
      "6 0.828125 0.828125 0.84375 0.828125 optimal\n",
      "Finished substituting S,lb,ub in 2.291081 seconds\n",
      "Finished makeME_LP in 0.361627 seconds\n",
      "Getting MINOS parameters from ME_NLP...\n",
      "7 0.828125 0.828125 0.8359375 0.8359375 1\n",
      "Bisection done in 128.201 seconds\n",
      "Growth-rate = [0.828125]\n",
      "\n",
      "MaSp2 Flux #  0.0001\n",
      "iter\tmuopt    \ta     \tb     \tmu1       \tstat1\n",
      "Finished compiling expressions in 34.284304 seconds\n",
      "Finished substituting S,lb,ub in 2.292102 seconds\n",
      "Finished makeME_LP in 0.354162 seconds\n",
      "Getting MINOS parameters from ME_NLP...\n",
      "1 0.5 0.5 1.0 0.5 optimal\n",
      "Finished substituting S,lb,ub in 2.279441 seconds\n",
      "Finished makeME_LP in 0.361275 seconds\n",
      "Getting MINOS parameters from ME_NLP...\n",
      "2 0.75 0.75 1.0 0.75 optimal\n",
      "Finished substituting S,lb,ub in 2.309908 seconds\n",
      "Finished makeME_LP in 0.364135 seconds\n",
      "Getting MINOS parameters from ME_NLP...\n",
      "3 0.75 0.75 0.875 0.875 1\n",
      "Finished substituting S,lb,ub in 2.299301 seconds\n",
      "Finished makeME_LP in 0.375449 seconds\n",
      "Getting MINOS parameters from ME_NLP...\n",
      "4 0.75 0.75 0.8125 0.8125 1\n",
      "Finished substituting S,lb,ub in 2.310253 seconds\n",
      "Finished makeME_LP in 0.362183 seconds\n",
      "Getting MINOS parameters from ME_NLP...\n",
      "5 0.78125 0.78125 0.8125 0.78125 optimal\n",
      "Finished substituting S,lb,ub in 2.289055 seconds\n",
      "Finished makeME_LP in 0.368781 seconds\n",
      "Getting MINOS parameters from ME_NLP...\n",
      "6 0.796875 0.796875 0.8125 0.796875 optimal\n",
      "Finished substituting S,lb,ub in 2.314356 seconds\n",
      "Finished makeME_LP in 0.372517 seconds\n",
      "Getting MINOS parameters from ME_NLP...\n",
      "7 0.796875 0.796875 0.8046875 0.8046875 1\n",
      "Bisection done in 135.036 seconds\n",
      "Growth-rate = [0.828125, 0.796875]\n",
      "\n",
      "MaSp2 Flux #  0.0005\n",
      "iter\tmuopt    \ta     \tb     \tmu1       \tstat1\n",
      "Finished compiling expressions in 34.605605 seconds\n",
      "Finished substituting S,lb,ub in 2.247766 seconds\n",
      "Finished makeME_LP in 0.353831 seconds\n",
      "Getting MINOS parameters from ME_NLP...\n",
      "1 0.5 0.5 1.0 0.5 optimal\n",
      "Finished substituting S,lb,ub in 2.273425 seconds\n",
      "Finished makeME_LP in 0.361470 seconds\n",
      "Getting MINOS parameters from ME_NLP...\n",
      "2 0.5 0.5 0.75 0.75 1\n",
      "Finished substituting S,lb,ub in 2.321024 seconds\n",
      "Finished makeME_LP in 0.359401 seconds\n",
      "Getting MINOS parameters from ME_NLP...\n",
      "3 0.5 0.5 0.625 0.625 1\n",
      "Finished substituting S,lb,ub in 2.304711 seconds\n",
      "Finished makeME_LP in 0.367063 seconds\n",
      "Getting MINOS parameters from ME_NLP...\n",
      "4 0.5625 0.5625 0.625 0.5625 optimal\n",
      "Finished substituting S,lb,ub in 2.269946 seconds\n",
      "Finished makeME_LP in 0.363449 seconds\n",
      "Getting MINOS parameters from ME_NLP...\n",
      "5 0.59375 0.59375 0.625 0.59375 optimal\n",
      "Finished substituting S,lb,ub in 2.341609 seconds\n",
      "Finished makeME_LP in 0.368399 seconds\n",
      "Getting MINOS parameters from ME_NLP...\n",
      "6 0.609375 0.609375 0.625 0.609375 optimal\n",
      "Finished substituting S,lb,ub in 2.257899 seconds\n",
      "Finished makeME_LP in 0.361769 seconds\n",
      "Getting MINOS parameters from ME_NLP...\n",
      "7 0.6171875 0.6171875 0.625 0.6171875 optimal\n",
      "Bisection done in 125.528 seconds\n",
      "Growth-rate = [0.828125, 0.796875, 0.6171875]\n",
      "\n",
      "MaSp2 Flux #  0.0006\n",
      "iter\tmuopt    \ta     \tb     \tmu1       \tstat1\n",
      "Finished compiling expressions in 34.436343 seconds\n",
      "Finished substituting S,lb,ub in 2.269098 seconds\n",
      "Finished makeME_LP in 0.357293 seconds\n",
      "Getting MINOS parameters from ME_NLP...\n",
      "1 0.5 0.5 1.0 0.5 optimal\n",
      "Finished substituting S,lb,ub in 2.254188 seconds\n",
      "Finished makeME_LP in 0.356801 seconds\n",
      "Getting MINOS parameters from ME_NLP...\n",
      "2 0.5 0.5 0.75 0.75 1\n",
      "Finished substituting S,lb,ub in 2.323572 seconds\n",
      "Finished makeME_LP in 0.367417 seconds\n",
      "Getting MINOS parameters from ME_NLP...\n",
      "3 0.5 0.5 0.625 0.625 1\n",
      "Finished substituting S,lb,ub in 2.275696 seconds\n",
      "Finished makeME_LP in 0.362266 seconds\n",
      "Getting MINOS parameters from ME_NLP...\n",
      "4 0.5 0.5 0.5625 0.5625 1\n",
      "Finished substituting S,lb,ub in 2.309274 seconds\n",
      "Finished makeME_LP in 0.368515 seconds\n",
      "Getting MINOS parameters from ME_NLP...\n",
      "5 0.53125 0.53125 0.5625 0.53125 optimal\n",
      "Finished substituting S,lb,ub in 2.313888 seconds\n",
      "Finished makeME_LP in 0.365393 seconds\n",
      "Getting MINOS parameters from ME_NLP...\n",
      "6 0.53125 0.53125 0.546875 0.546875 1\n",
      "Finished substituting S,lb,ub in 2.298191 seconds\n",
      "Finished makeME_LP in 0.360544 seconds\n",
      "Getting MINOS parameters from ME_NLP...\n",
      "7 0.53125 0.53125 0.5390625 0.5390625 1\n",
      "Bisection done in 128.262 seconds\n",
      "Growth-rate = [0.828125, 0.796875, 0.6171875, 0.53125]\n",
      "\n",
      "MaSp2 Flux #  0.00061\n",
      "iter\tmuopt    \ta     \tb     \tmu1       \tstat1\n",
      "Finished compiling expressions in 34.509657 seconds\n",
      "Finished substituting S,lb,ub in 2.264344 seconds\n",
      "Finished makeME_LP in 0.361730 seconds\n",
      "Getting MINOS parameters from ME_NLP...\n",
      "1 0.5 0.5 1.0 0.5 optimal\n",
      "Finished substituting S,lb,ub in 2.291107 seconds\n",
      "Finished makeME_LP in 0.358131 seconds\n",
      "Getting MINOS parameters from ME_NLP...\n",
      "2 0.5 0.5 0.75 0.75 1\n",
      "Finished substituting S,lb,ub in 2.285947 seconds\n",
      "Finished makeME_LP in 0.364612 seconds\n",
      "Getting MINOS parameters from ME_NLP...\n",
      "3 0.5 0.5 0.625 0.625 1\n",
      "Finished substituting S,lb,ub in 2.291706 seconds\n",
      "Finished makeME_LP in 0.359322 seconds\n",
      "Getting MINOS parameters from ME_NLP...\n",
      "4 0.5 0.5 0.5625 0.5625 1\n",
      "Finished substituting S,lb,ub in 2.302166 seconds\n",
      "Finished makeME_LP in 0.361691 seconds\n",
      "Getting MINOS parameters from ME_NLP...\n",
      "5 0.5 0.5 0.53125 0.53125 1\n",
      "Finished substituting S,lb,ub in 2.288249 seconds\n",
      "Finished makeME_LP in 0.358105 seconds\n",
      "Getting MINOS parameters from ME_NLP...\n",
      "6 0.515625 0.515625 0.53125 0.515625 optimal\n",
      "Finished substituting S,lb,ub in 2.332247 seconds\n",
      "Finished makeME_LP in 0.356967 seconds\n",
      "Getting MINOS parameters from ME_NLP...\n",
      "7 0.5234375 0.5234375 0.53125 0.5234375 optimal\n",
      "Bisection done in 125.571 seconds\n",
      "Growth-rate = [0.828125, 0.796875, 0.6171875, 0.53125, 0.5234375]\n",
      "\n",
      "MaSp2 Flux #  0.00062\n",
      "iter\tmuopt    \ta     \tb     \tmu1       \tstat1\n",
      "Finished compiling expressions in 34.499055 seconds\n",
      "Finished substituting S,lb,ub in 2.278774 seconds\n",
      "Finished makeME_LP in 0.359342 seconds\n",
      "Getting MINOS parameters from ME_NLP...\n",
      "1 0.5 0.5 1.0 0.5 optimal\n",
      "Finished substituting S,lb,ub in 2.335873 seconds\n",
      "Finished makeME_LP in 0.363243 seconds\n",
      "Getting MINOS parameters from ME_NLP...\n",
      "2 0.5 0.5 0.75 0.75 1\n",
      "Finished substituting S,lb,ub in 2.308534 seconds\n",
      "Finished makeME_LP in 0.365292 seconds\n",
      "Getting MINOS parameters from ME_NLP...\n",
      "3 0.5 0.5 0.625 0.625 1\n",
      "Finished substituting S,lb,ub in 2.304940 seconds\n",
      "Finished makeME_LP in 0.368532 seconds\n",
      "Getting MINOS parameters from ME_NLP...\n",
      "4 0.5 0.5 0.5625 0.5625 1\n",
      "Finished substituting S,lb,ub in 2.338427 seconds\n",
      "Finished makeME_LP in 0.359925 seconds\n",
      "Getting MINOS parameters from ME_NLP...\n",
      "5 0.5 0.5 0.53125 0.53125 1\n",
      "Finished substituting S,lb,ub in 2.296843 seconds\n",
      "Finished makeME_LP in 0.362678 seconds\n",
      "Getting MINOS parameters from ME_NLP...\n",
      "6 0.5 0.5 0.515625 0.515625 1\n",
      "Finished substituting S,lb,ub in 2.308718 seconds\n",
      "Finished makeME_LP in 0.364968 seconds\n",
      "Getting MINOS parameters from ME_NLP...\n",
      "7 0.5078125 0.5078125 0.515625 0.5078125 optimal\n",
      "Bisection done in 128.629 seconds\n",
      "Growth-rate = [0.828125, 0.796875, 0.6171875, 0.53125, 0.5234375, 0.5078125]\n",
      "\n",
      "MaSp2 Flux #  0.00063\n",
      "iter\tmuopt    \ta     \tb     \tmu1       \tstat1\n",
      "Finished compiling expressions in 34.272937 seconds\n",
      "Finished substituting S,lb,ub in 2.250379 seconds\n",
      "Finished makeME_LP in 0.363876 seconds\n",
      "Getting MINOS parameters from ME_NLP...\n"
     ]
    },
    {
     "name": "stdout",
     "output_type": "stream",
     "text": [
      "1 0.0 0.0 0.5 0.5 1\n",
      "Finished substituting S,lb,ub in 2.287190 seconds\n",
      "Finished makeME_LP in 0.369353 seconds\n",
      "Getting MINOS parameters from ME_NLP...\n",
      "2 0.0 0.0 0.25 0.25 1\n",
      "Finished substituting S,lb,ub in 2.267549 seconds\n",
      "Finished makeME_LP in 0.366327 seconds\n",
      "Getting MINOS parameters from ME_NLP...\n",
      "3 0.0 0.0 0.125 0.125 1\n",
      "Finished substituting S,lb,ub in 2.270929 seconds\n",
      "Finished makeME_LP in 0.362690 seconds\n",
      "Getting MINOS parameters from ME_NLP...\n",
      "4 0.0 0.0 0.0625 0.0625 1\n",
      "Finished substituting S,lb,ub in 2.274928 seconds\n",
      "Finished makeME_LP in 0.359299 seconds\n",
      "Getting MINOS parameters from ME_NLP...\n",
      "5 0.0 0.0 0.03125 0.03125 1\n",
      "Finished substituting S,lb,ub in 2.251627 seconds\n",
      "Finished makeME_LP in 0.363953 seconds\n",
      "Getting MINOS parameters from ME_NLP...\n",
      "6 0.0 0.0 0.015625 0.015625 1\n",
      "Finished substituting S,lb,ub in 2.255340 seconds\n",
      "Finished makeME_LP in 0.366212 seconds\n",
      "Getting MINOS parameters from ME_NLP...\n",
      "7 0.0 0.0 0.0078125 0.0078125 1\n",
      "Bisection done in 502.808 seconds\n",
      "Growth-rate = [0.828125, 0.796875, 0.6171875, 0.53125, 0.5234375, 0.5078125, 0]\n"
     ]
    },
    {
     "data": {
      "text/plain": [
       "[0.828125, 0.796875, 0.6171875, 0.53125, 0.5234375, 0.5078125, 0]"
      ]
     },
     "execution_count": 25,
     "metadata": {},
     "output_type": "execute_result"
    }
   ],
   "source": [
    "from contextlib import suppress\n",
    "\n",
    "#me.reactions.DM_protein_MaSp2.upper_bound = 0.00015\n",
    "#me.reactions.DM_protein_MaSp2.lower_bound = 0.00015\n",
    "MaSp2 = [0, 0.0001, 0.0005, 0.0006, 0.00061, 0.00062, 0.00063]\n",
    "growth_rate2 = []\n",
    "for x in MaSp2:\n",
    "    print('\\nMaSp2 Flux # ',x)\n",
    "    me.reactions.get_by_id('DM_protein_MaSp2').lower_bound = x\n",
    "    me.reactions.get_by_id('DM_protein_MaSp2').upper_bound = x\n",
    "    temp = 0\n",
    "    with suppress(Exception):\n",
    "        solve_me_model(me, 1.0, min_mu = .01, precision=1e-2, using_soplex=False)\n",
    "        temp = me.solution.f    \n",
    "    growth_rate2.append(temp)\n",
    "    print('Growth-rate =', growth_rate2)\n",
    "    \n",
    "growth_rate2"
   ]
  },
  {
   "cell_type": "code",
   "execution_count": 26,
   "metadata": {},
   "outputs": [
    {
     "data": {
      "image/png": "[encoded data removed]",
      "text/plain": [
       "<Figure size 504x288 with 1 Axes>"
      ]
     },
     "metadata": {},
     "output_type": "display_data"
    }
   ],
   "source": [
    "import matplotlib.pyplot as plt\n",
    "  \n",
    "# x axis values\n",
    "x = MaSp2\n",
    "# corresponding y axis values\n",
    "y = growth_rate2\n",
    "\n",
    "plt.figure(figsize=(7,4))\n",
    "  \n",
    "# plotting the points \n",
    "plt.plot(x, y)\n",
    "  \n",
    "# naming the x axis\n",
    "plt.xlabel('[MaSp2]32 External Flux')\n",
    "# naming the y axis\n",
    "plt.ylabel('Growth-rate')\n",
    "  \n",
    "# giving a title to my graph\n",
    "plt.title('Cell Growth-rate vs [MaSp2]32 External Flux')\n",
    "  \n",
    "# function to show the plot\n",
    "plt.show()"
   ]
  },
  {
   "cell_type": "code",
   "execution_count": null,
   "metadata": {},
   "outputs": [],
   "source": []
  }
 ],
 "metadata": {
  "kernelspec": {
   "display_name": "Python 3",
   "language": "python",
   "name": "python3"
  },
  "language_info": {
   "codemirror_mode": {
    "name": "ipython",
    "version": 3
   },
   "file_extension": ".py",
   "mimetype": "text/x-python",
   "name": "python",
   "nbconvert_exporter": "python",
   "pygments_lexer": "ipython3",
   "version": "3.6.1"
  }
 },
 "nbformat": 4,
 "nbformat_minor": 2
}
