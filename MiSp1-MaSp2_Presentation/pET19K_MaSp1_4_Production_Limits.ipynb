{
 "cells": [
  {
   "cell_type": "markdown",
   "metadata": {},
   "source": [
    "# Simulating pET19K_MaSp1_4 Production Limits"
   ]
  },
  {
   "cell_type": "markdown",
   "metadata": {},
   "source": [
    "## 1. Load the python packages"
   ]
  },
  {
   "cell_type": "code",
   "execution_count": 1,
   "metadata": {},
   "outputs": [
    {
     "name": "stderr",
     "output_type": "stream",
     "text": [
      "/usr/lib/python3.6/site-packages/cobra-0.5.11-py3.6-linux-x86_64.egg/cobra/solvers/__init__.py:63: UserWarning: No LP solvers found\n",
      "  warn(\"No LP solvers found\")\n",
      "/usr/lib/python3.6/site-packages/cobra-0.5.11-py3.6-linux-x86_64.egg/cobra/io/sbml3.py:24: UserWarning: Install lxml for faster SBML I/O\n",
      "  warn(\"Install lxml for faster SBML I/O\")\n",
      "/usr/lib/python3.6/site-packages/cobra-0.5.11-py3.6-linux-x86_64.egg/cobra/io/__init__.py:12: UserWarning: cobra.io.sbml requires libsbml\n",
      "  warn(\"cobra.io.sbml requires libsbml\")\n"
     ]
    }
   ],
   "source": [
    "from __future__ import print_function, division, absolute_import\n",
    "\n",
    "# python imports\n",
    "import re\n",
    "from os.path import join\n",
    "from collections import defaultdict\n",
    "import pickle\n",
    "import pandas as pd\n",
    "\n",
    "# third party imports\n",
    "import pandas\n",
    "import tabulate\n",
    "import cobra\n",
    "pd.set_option('display.max_columns', 100)\n",
    "pd.set_option('display.width',100)\n",
    "pd.set_option('display.max_colwidth',300)\n",
    "\n",
    "# ECOLIme\n",
    "import ecolime\n",
    "from ecolime import (transcription, translation, flat_files, generics, formulas, compartments)\n",
    "\n",
    "# COBRAme\n",
    "import cobrame\n",
    "from cobrame.util import building, mu, me_model_interface\n",
    "#from cobrame.io.json import save_json_me_model, save_reduced_json_me_model"
   ]
  },
  {
   "cell_type": "markdown",
   "metadata": {},
   "source": [
    "## 2. Load the iJL1678b model\n",
    "\n",
    "Load the iJL1678b model in pickle format that is located in the current directory."
   ]
  },
  {
   "cell_type": "code",
   "execution_count": 2,
   "metadata": {},
   "outputs": [],
   "source": [
    "with open('iJL1678b.pickle', 'rb') as f:\n",
    "    me = pickle.load(f)"
   ]
  },
  {
   "cell_type": "markdown",
   "metadata": {},
   "source": [
    "## 3. Define ME-Model Solve Functions"
   ]
  },
  {
   "cell_type": "code",
   "execution_count": 3,
   "metadata": {},
   "outputs": [],
   "source": [
    "def solve_me_model(me, max_mu, precision=1e-6, min_mu=0, using_soplex=False,\n",
    "                  compiled_expressions=None):\n",
    "    if using_soplex:\n",
    "        from cobrame.solve.algorithms import binary_search\n",
    "        binary_search(me, min_mu=min_mu, max_mu=max_mu, debug=True, mu_accuracy=precision,\n",
    "                      compiled_expressions=compiled_expressions)\n",
    "    else:\n",
    "        from qminospy.me1 import ME_NLP1\n",
    "        # The object containing solveME methods--composite that uses a ME model object \n",
    "        me_nlp = ME_NLP1(me, growth_key='mu')\n",
    "        # Use bisection for now (until the NLP formulation is worked out)\n",
    "        muopt, hs, xopt, cache = me_nlp.bisectmu(precision=precision, mumax=max_mu)\n",
    "        me.solution.f = me.solution.x_dict['biomass_dilution']\n",
    "        \n",
    "def show_escher_map(me, solution=None):\n",
    "    import escher\n",
    "    view = escher.Builder(\"iJO1366.Central metabolism\")\n",
    "    view.reaction_data = me.get_metabolic_flux(solution=solution)\n",
    "    return view"
   ]
  },
  {
   "cell_type": "markdown",
   "metadata": {},
   "source": [
    "## 4. Create the MaSp1 Transcription Reaction\n",
    "\n",
    "Complete the steps necessary to create the MaSp1 Transcription Reaction"
   ]
  },
  {
   "cell_type": "code",
   "execution_count": 4,
   "metadata": {},
   "outputs": [
    {
     "name": "stdout",
     "output_type": "stream",
     "text": [
      "717 atp_c + 1950 ctp_c + 882 gtp_c + 567 utp_c --> RNA_MaSp1 + 1305.062631936 mRNA_biomass + 4116 ppi_c\n"
     ]
    },
    {
     "name": "stderr",
     "output_type": "stream",
     "text": [
      "/source/cobrame/cobrame/core/reaction.py:852 \u001b[1;31mUserWarning\u001b[0m: RNA Polymerase () not found\n"
     ]
    }
   ],
   "source": [
    "locus_id = 'MaSp1'\n",
    "left_pos =  None\n",
    "right_pos = None\n",
    "seq = 'ATGACCGGTGGTGCAGGTCAGGGTGGTTATGGTGGTCTGGGTAGCCAGGGTGCCGGTCGTGGTGGACTGGGTGGTCAAGGTGCTGGTGCAGCAGCAGCTGCCGCAGCAGCAGGCGGTGCAGGCCAAGGCGGATATGGCGGACTGGGTTCACAGGGTGCAGGCCGTGGCGGTTTAGGTGGTCAAGGCGCAGGCGCTGCTGCAGCCGCAGCGGCAGCAGCTGGCCAAGGTGGCTATGGTGGCTTAGGCTCACAGGGTGGCGGTGCTGGACAGGGTGGATACGGTGGCCTTGGCAGTCAAGGTGCGGGTCGCGGTGGTTTAGGCGGTCAGGGTGCGGGTGCGGCTGCTGCAGCTGCGGCAGCGGGTGGTGCTGGGCAAGGCGGTTACGGTGGATTAGGTAGCCAAGGTGCAGGACGCGGAGGTCTTGGTGGACAGGGTGCTGGCGCTGCTGCGGCAGCAGCAGCCGCTGGGGGTGCTGGTCAAGGGGGTTATGGCGGTTTAGGATCTCAGGGTGCGGGACGGGGTGGTCTGGGAGGGCAAGGGGCAGGCGCAGCAGCAGCGGCAGCTGCAGCCGGTGGTGCCGGACAAGGGGGATATGGGGGTCTTGGCTCCCAAGGCGCTGGTCGTGGCGGTCTTGGAGGCCAAGGTGCCGGTGCCGCTGCAGCGGCTGCTGCTGCAGCGGGTCAAGGGGGATACGGTGGTCTGGGATCACAAGGTGGTGGCGCAGGGCAAGGTGGGTATGGGGGTTTAGGTTCGCAAGGTGCTGGCCGTGGGGGACTGGGAGGACAGGGTGCCGGTGCGGCAGCCGCTGCAGCTGCTGCGGGTGGCGCTGGTCAGGGTGGCTATGGCGGATTGGGCTCTCAAGGGGCAGGTCGGGGTGGCTTGGGAGGACAAGGTGCGGGTGCAGCCGCTGCGGCAGCTGCCGCTGGCGGAGCAGGCCAGGGTGGCTACGGTGGACTGGGTTCCCAAGGTGCGGGAAGAGGTGGCTTGGGTGGCCAGGGTGCAGGGGCAGCGGCTGCAGCGGCAGCAGCCTCCGGTGGTGCAGGTCAGGGTGGTTATGGTGGTCTGGGTAGCCAGGGTGCCGGTCGTGGTGGACTGGGTGGTCAAGGTGCTGGTGCAGCAGCAGCTGCCGCAGCAGCAGGCGGTGCAGGCCAAGGCGGATATGGCGGACTGGGTTCACAGGGTGCAGGCCGTGGCGGTTTAGGTGGTCAAGGCGCAGGCGCTGCTGCAGCCGCAGCGGCAGCAGCTGGCCAAGGTGGCTATGGTGGCTTAGGCTCACAGGGTGGCGGTGCTGGACAGGGTGGATACGGTGGCCTTGGCAGTCAAGGTGCGGGTCGCGGTGGTTTAGGCGGTCAGGGTGCGGGTGCGGCTGCTGCAGCTGCGGCAGCGGGTGGTGCTGGGCAAGGCGGTTACGGTGGATTAGGTAGCCAAGGTGCAGGACGCGGAGGTCTTGGTGGACAGGGTGCTGGCGCTGCTGCGGCAGCAGCAGCCGCTGGGGGTGCTGGTCAAGGGGGTTATGGCGGTTTAGGATCTCAGGGTGCGGGACGGGGTGGTCTGGGAGGGCAAGGGGCAGGCGCAGCAGCAGCGGCAGCTGCAGCCGGTGGTGCCGGACAAGGGGGATATGGGGGTCTTGGCTCCCAAGGCGCTGGTCGTGGCGGTCTTGGAGGCCAAGGTGCCGGTGCCGCTGCAGCGGCTGCTGCTGCAGCGGGTCAAGGGGGATACGGTGGTCTGGGATCACAAGGTGGTGGCGCAGGGCAAGGTGGGTATGGGGGTTTAGGTTCGCAAGGTGCTGGCCGTGGGGGACTGGGAGGACAGGGTGCCGGTGCGGCAGCCGCTGCAGCTGCTGCGGGTGGCGCTGGTCAGGGTGGCTATGGCGGATTGGGCTCTCAAGGGGCAGGTCGGGGTGGCTTGGGAGGACAAGGTGCGGGTGCAGCCGCTGCGGCAGCTGCCGCTGGCGGAGCAGGCCAGGGTGGCTACGGTGGACTGGGTTCCCAAGGTGCGGGAAGAGGTGGCTTGGGTGGCCAGGGTGCAGGGGCAGCGGCTGCAGCGGCAGCAGCCTCCGGTGGTGCAGGTCAGGGTGGTTATGGTGGTCTGGGTAGCCAGGGTGCCGGTCGTGGTGGACTGGGTGGTCAAGGTGCTGGTGCAGCAGCAGCTGCCGCAGCAGCAGGCGGTGCAGGCCAAGGCGGATATGGCGGACTGGGTTCACAGGGTGCAGGCCGTGGCGGTTTAGGTGGTCAAGGCGCAGGCGCTGCTGCAGCCGCAGCGGCAGCAGCTGGCCAAGGTGGCTATGGTGGCTTAGGCTCACAGGGTGGCGGTGCTGGACAGGGTGGATACGGTGGCCTTGGCAGTCAAGGTGCGGGTCGCGGTGGTTTAGGCGGTCAGGGTGCGGGTGCGGCTGCTGCAGCTGCGGCAGCGGGTGGTGCTGGGCAAGGCGGTTACGGTGGATTAGGTAGCCAAGGTGCAGGACGCGGAGGTCTTGGTGGACAGGGTGCTGGCGCTGCTGCGGCAGCAGCAGCCGCTGGGGGTGCTGGTCAAGGGGGTTATGGCGGTTTAGGATCTCAGGGTGCGGGACGGGGTGGTCTGGGAGGGCAAGGGGCAGGCGCAGCAGCAGCGGCAGCTGCAGCCGGTGGTGCCGGACAAGGGGGATATGGGGGTCTTGGCTCCCAAGGCGCTGGTCGTGGCGGTCTTGGAGGCCAAGGTGCCGGTGCCGCTGCAGCGGCTGCTGCTGCAGCGGGTCAAGGGGGATACGGTGGTCTGGGATCACAAGGTGGTGGCGCAGGGCAAGGTGGGTATGGGGGTTTAGGTTCGCAAGGTGCTGGCCGTGGGGGACTGGGAGGACAGGGTGCCGGTGCGGCAGCCGCTGCAGCTGCTGCGGGTGGCGCTGGTCAGGGTGGCTATGGCGGATTGGGCTCTCAAGGGGCAGGTCGGGGTGGCTTGGGAGGACAAGGTGCGGGTGCAGCCGCTGCGGCAGCTGCCGCTGGCGGAGCAGGCCAGGGTGGCTACGGTGGACTGGGTTCCCAAGGTGCGGGAAGAGGTGGCTTGGGTGGCCAGGGTGCAGGGGCAGCGGCTGCAGCGGCAGCAGCCTCCGGTGGTGCAGGTCAGGGTGGTTATGGTGGTCTGGGTAGCCAGGGTGCCGGTCGTGGTGGACTGGGTGGTCAAGGTGCTGGTGCAGCAGCAGCTGCCGCAGCAGCAGGCGGTGCAGGCCAAGGCGGATATGGCGGACTGGGTTCACAGGGTGCAGGCCGTGGCGGTTTAGGTGGTCAAGGCGCAGGCGCTGCTGCAGCCGCAGCGGCAGCAGCTGGCCAAGGTGGCTATGGTGGCTTAGGCTCACAGGGTGGCGGTGCTGGACAGGGTGGATACGGTGGCCTTGGCAGTCAAGGTGCGGGTCGCGGTGGTTTAGGCGGTCAGGGTGCGGGTGCGGCTGCTGCAGCTGCGGCAGCGGGTGGTGCTGGGCAAGGCGGTTACGGTGGATTAGGTAGCCAAGGTGCAGGACGCGGAGGTCTTGGTGGACAGGGTGCTGGCGCTGCTGCGGCAGCAGCAGCCGCTGGGGGTGCTGGTCAAGGGGGTTATGGCGGTTTAGGATCTCAGGGTGCGGGACGGGGTGGTCTGGGAGGGCAAGGGGCAGGCGCAGCAGCAGCGGCAGCTGCAGCCGGTGGTGCCGGACAAGGGGGATATGGGGGTCTTGGCTCCCAAGGCGCTGGTCGTGGCGGTCTTGGAGGCCAAGGTGCCGGTGCCGCTGCAGCGGCTGCTGCTGCAGCGGGTCAAGGGGGATACGGTGGTCTGGGATCACAAGGTGGTGGCGCAGGGCAAGGTGGGTATGGGGGTTTAGGTTCGCAAGGTGCTGGCCGTGGGGGACTGGGAGGACAGGGTGCCGGTGCGGCAGCCGCTGCAGCTGCTGCGGGTGGCGCTGGTCAGGGTGGCTATGGCGGATTGGGCTCTCAAGGGGCAGGTCGGGGTGGCTTGGGAGGACAAGGTGCGGGTGCAGCCGCTGCGGCAGCTGCCGCTGGCGGAGCAGGCCAGGGTGGCTACGGTGGACTGGGTTCCCAAGGTGCGGGAAGAGGTGGCTTGGGTGGCCAGGGTGCAGGGGCAGCGGCTGCAGCGGCAGCAGCCTCCGGAGGG'\n",
    "strand = None\n",
    "rna_type = 'mRNA'\n",
    "\n",
    "building.create_transcribed_gene(me, locus_id, rna_type, seq)\n",
    "building.add_transcription_reaction(me, 'TU_MaSp1', {'MaSp1'}, seq)\n",
    "print(me.reactions.transcription_TU_MaSp1.reaction)\n",
    "me.reactions.transcription_TU_MaSp1.update()"
   ]
  },
  {
   "cell_type": "markdown",
   "metadata": {},
   "source": [
    "###  Add the RNAP to the MaSp1 Transcription Reaction"
   ]
  },
  {
   "cell_type": "code",
   "execution_count": 5,
   "metadata": {},
   "outputs": [],
   "source": [
    "me.reactions.transcription_TU_MaSp1.transcription_data.RNA_polymerase = 'RNAP70-CPLX'\n",
    "me.reactions.transcription_TU_MaSp1.update()"
   ]
  },
  {
   "cell_type": "markdown",
   "metadata": {},
   "source": [
    "List the transcription data (\"transcription_data\") associated with the MaSp1 transcription reaction (\"transcription_TU_MaSp1\")."
   ]
  },
  {
   "cell_type": "code",
   "execution_count": 6,
   "metadata": {},
   "outputs": [
    {
     "data": {
      "text/html": [
       "<div>\n",
       "<style scoped>\n",
       "    .dataframe tbody tr th:only-of-type {\n",
       "        vertical-align: middle;\n",
       "    }\n",
       "\n",
       "    .dataframe tbody tr th {\n",
       "        vertical-align: top;\n",
       "    }\n",
       "\n",
       "    .dataframe thead th {\n",
       "        text-align: right;\n",
       "    }\n",
       "</style>\n",
       "<table border=\"1\" class=\"dataframe\">\n",
       "  <thead>\n",
       "    <tr style=\"text-align: right;\">\n",
       "      <th></th>\n",
       "      <th>Attribute Values</th>\n",
       "    </tr>\n",
       "  </thead>\n",
       "  <tbody>\n",
       "    <tr>\n",
       "      <th>id</th>\n",
       "      <td>TU_MaSp1</td>\n",
       "    </tr>\n",
       "    <tr>\n",
       "      <th>_model</th>\n",
       "      <td>iJL1678b-ME</td>\n",
       "    </tr>\n",
       "    <tr>\n",
       "      <th>_parent_reactions</th>\n",
       "      <td>{'transcription_TU_MaSp1'}</td>\n",
       "    </tr>\n",
       "    <tr>\n",
       "      <th>nucleotide_sequence</th>\n",
       "      <td>ATGACCGGTGGTGCAGGTCAGGGTGGTTATGGTGGTCTGGGTAGCCAGGGTGCCGGTCGTGGTGGACTGGGTGGTCAAGGTGCTGGTGCAGCAGCAGCTGCCGCAGCAGCAGGCGGTGCAGGCCAAGGCGGATATGGCGGACTGGGTTCACAGGGTGCAGGCCGTGGCGGTTTAGGTGGTCAAGGCGCAGGCGCTGCTGCAGCCGCAGCGGCAGCAGCTGGCCAAGGTGGCTATGGTGGCTTAGGCTCACAGGGTGGCGGTGCTGGACAGGGTGGATACGGTGGCCTTGGCAGTCA...</td>\n",
       "    </tr>\n",
       "    <tr>\n",
       "      <th>RNA_products</th>\n",
       "      <td>{'RNA_MaSp1'}</td>\n",
       "    </tr>\n",
       "    <tr>\n",
       "      <th>RNA_polymerase</th>\n",
       "      <td>RNAP70-CPLX</td>\n",
       "    </tr>\n",
       "    <tr>\n",
       "      <th>subreactions</th>\n",
       "      <td>defaultdict(&lt;class 'int'&gt;, {})</td>\n",
       "    </tr>\n",
       "  </tbody>\n",
       "</table>\n",
       "</div>"
      ],
      "text/plain": [
       "                                                                                                                                                                                                                                                                                                                Attribute Values\n",
       "id                                                                                                                                                                                                                                                                                                                      TU_MaSp1\n",
       "_model                                                                                                                                                                                                                                                                                                               iJL1678b-ME\n",
       "_parent_reactions                                                                                                                                                                                                                                                                                     {'transcription_TU_MaSp1'}\n",
       "nucleotide_sequence  ATGACCGGTGGTGCAGGTCAGGGTGGTTATGGTGGTCTGGGTAGCCAGGGTGCCGGTCGTGGTGGACTGGGTGGTCAAGGTGCTGGTGCAGCAGCAGCTGCCGCAGCAGCAGGCGGTGCAGGCCAAGGCGGATATGGCGGACTGGGTTCACAGGGTGCAGGCCGTGGCGGTTTAGGTGGTCAAGGCGCAGGCGCTGCTGCAGCCGCAGCGGCAGCAGCTGGCCAAGGTGGCTATGGTGGCTTAGGCTCACAGGGTGGCGGTGCTGGACAGGGTGGATACGGTGGCCTTGGCAGTCA...\n",
       "RNA_products                                                                                                                                                                                                                                                                                                       {'RNA_MaSp1'}\n",
       "RNA_polymerase                                                                                                                                                                                                                                                                                                       RNAP70-CPLX\n",
       "subreactions                                                                                                                                                                                                                                                                                      defaultdict(<class 'int'>, {})"
      ]
     },
     "execution_count": 6,
     "metadata": {},
     "output_type": "execute_result"
    }
   ],
   "source": [
    "rxn = me.reactions.transcription_TU_MaSp1\n",
    "data = rxn.transcription_data\n",
    "pd.DataFrame({i: str(v) for i, v in data.__dict__.items()}, index=['Attribute Values']).T"
   ]
  },
  {
   "cell_type": "markdown",
   "metadata": {},
   "source": [
    "List the attributes of the MaSp1 transcription reaction."
   ]
  },
  {
   "cell_type": "code",
   "execution_count": 7,
   "metadata": {},
   "outputs": [
    {
     "data": {
      "text/html": [
       "<div>\n",
       "<style scoped>\n",
       "    .dataframe tbody tr th:only-of-type {\n",
       "        vertical-align: middle;\n",
       "    }\n",
       "\n",
       "    .dataframe tbody tr th {\n",
       "        vertical-align: top;\n",
       "    }\n",
       "\n",
       "    .dataframe thead th {\n",
       "        text-align: right;\n",
       "    }\n",
       "</style>\n",
       "<table border=\"1\" class=\"dataframe\">\n",
       "  <thead>\n",
       "    <tr style=\"text-align: right;\">\n",
       "      <th></th>\n",
       "      <th>Attribute Values</th>\n",
       "    </tr>\n",
       "  </thead>\n",
       "  <tbody>\n",
       "    <tr>\n",
       "      <th>id</th>\n",
       "      <td>transcription_TU_MaSp1</td>\n",
       "    </tr>\n",
       "    <tr>\n",
       "      <th>name</th>\n",
       "      <td></td>\n",
       "    </tr>\n",
       "    <tr>\n",
       "      <th>notes</th>\n",
       "      <td>{}</td>\n",
       "    </tr>\n",
       "    <tr>\n",
       "      <th>annotation</th>\n",
       "      <td>{}</td>\n",
       "    </tr>\n",
       "    <tr>\n",
       "      <th>_gene_reaction_rule</th>\n",
       "      <td></td>\n",
       "    </tr>\n",
       "    <tr>\n",
       "      <th>subsystem</th>\n",
       "      <td></td>\n",
       "    </tr>\n",
       "    <tr>\n",
       "      <th>_genes</th>\n",
       "      <td>set()</td>\n",
       "    </tr>\n",
       "    <tr>\n",
       "      <th>_metabolites</th>\n",
       "      <td>{&lt;RNAP RNAP70-CPLX at 0x7f274ab27390&gt;: -0.019669844765619*mu - 0.00770074422573985, &lt;TranscribedGene RNA_MaSp1 at 0x7f274ac50710&gt;: 1, &lt;Metabolite utp_c at 0x7f274ab27e10&gt;: -567, &lt;Metabolite atp_c at 0x7f274ab279b0&gt;: -717, &lt;Metabolite ctp_c at 0x7f274ab27ef0&gt;: -1950, &lt;Metabolite gtp_c at 0x7f274a...</td>\n",
       "    </tr>\n",
       "    <tr>\n",
       "      <th>_model</th>\n",
       "      <td>iJL1678b-ME</td>\n",
       "    </tr>\n",
       "    <tr>\n",
       "      <th>_objective_coefficient</th>\n",
       "      <td>0.0</td>\n",
       "    </tr>\n",
       "    <tr>\n",
       "      <th>upper_bound</th>\n",
       "      <td>1000.0</td>\n",
       "    </tr>\n",
       "    <tr>\n",
       "      <th>lower_bound</th>\n",
       "      <td>0.0</td>\n",
       "    </tr>\n",
       "    <tr>\n",
       "      <th>variable_kind</th>\n",
       "      <td>continuous</td>\n",
       "    </tr>\n",
       "    <tr>\n",
       "      <th>_transcription_data</th>\n",
       "      <td>&lt;TranscriptionData TU_MaSp1 at 0x7f274ac50630&gt;</td>\n",
       "    </tr>\n",
       "  </tbody>\n",
       "</table>\n",
       "</div>"
      ],
      "text/plain": [
       "                                                                                                                                                                                                                                                                                                                   Attribute Values\n",
       "id                                                                                                                                                                                                                                                                                                           transcription_TU_MaSp1\n",
       "name                                                                                                                                                                                                                                                                                                                               \n",
       "notes                                                                                                                                                                                                                                                                                                                            {}\n",
       "annotation                                                                                                                                                                                                                                                                                                                       {}\n",
       "_gene_reaction_rule                                                                                                                                                                                                                                                                                                                \n",
       "subsystem                                                                                                                                                                                                                                                                                                                          \n",
       "_genes                                                                                                                                                                                                                                                                                                                        set()\n",
       "_metabolites            {<RNAP RNAP70-CPLX at 0x7f274ab27390>: -0.019669844765619*mu - 0.00770074422573985, <TranscribedGene RNA_MaSp1 at 0x7f274ac50710>: 1, <Metabolite utp_c at 0x7f274ab27e10>: -567, <Metabolite atp_c at 0x7f274ab279b0>: -717, <Metabolite ctp_c at 0x7f274ab27ef0>: -1950, <Metabolite gtp_c at 0x7f274a...\n",
       "_model                                                                                                                                                                                                                                                                                                                  iJL1678b-ME\n",
       "_objective_coefficient                                                                                                                                                                                                                                                                                                          0.0\n",
       "upper_bound                                                                                                                                                                                                                                                                                                                  1000.0\n",
       "lower_bound                                                                                                                                                                                                                                                                                                                     0.0\n",
       "variable_kind                                                                                                                                                                                                                                                                                                            continuous\n",
       "_transcription_data                                                                                                                                                                                                                                                                  <TranscriptionData TU_MaSp1 at 0x7f274ac50630>"
      ]
     },
     "execution_count": 7,
     "metadata": {},
     "output_type": "execute_result"
    }
   ],
   "source": [
    "rxn = me.reactions.transcription_TU_MaSp1\n",
    "data = rxn\n",
    "pd.DataFrame({i: str(v) for i, v in data.__dict__.items()}, index=['Attribute Values']).T"
   ]
  },
  {
   "cell_type": "markdown",
   "metadata": {},
   "source": [
    "List the complete reaction associated with the MaSp1 transcription reaction."
   ]
  },
  {
   "cell_type": "code",
   "execution_count": 8,
   "metadata": {},
   "outputs": [
    {
     "data": {
      "text/plain": [
       "'0.019669844765619*mu + 0.00770074422573985 RNAP70-CPLX + 717 atp_c + 1950 ctp_c + 882 gtp_c + 567 utp_c --> RNA_MaSp1 + 1305.062631936 mRNA_biomass + 4116 ppi_c'"
      ]
     },
     "execution_count": 8,
     "metadata": {},
     "output_type": "execute_result"
    }
   ],
   "source": [
    "me.reactions.get_by_id('transcription_TU_MaSp1').reaction"
   ]
  },
  {
   "cell_type": "markdown",
   "metadata": {},
   "source": [
    "List the RNAP associated with the MaSp1 transcription reaction"
   ]
  },
  {
   "cell_type": "code",
   "execution_count": 9,
   "metadata": {},
   "outputs": [
    {
     "data": {
      "text/plain": [
       "'RNAP70-CPLX'"
      ]
     },
     "execution_count": 9,
     "metadata": {},
     "output_type": "execute_result"
    }
   ],
   "source": [
    "me.reactions.transcription_TU_MaSp1.transcription_data.RNA_polymerase"
   ]
  },
  {
   "cell_type": "markdown",
   "metadata": {},
   "source": [
    "## 5. Create the MaSp1 Translation Reaction"
   ]
  },
  {
   "cell_type": "markdown",
   "metadata": {},
   "source": [
    "Complete all the steps necessary to create the MaSp1 Translation Reaction"
   ]
  },
  {
   "cell_type": "markdown",
   "metadata": {},
   "source": [
    "### Storing information about a translation reaction"
   ]
  },
  {
   "cell_type": "code",
   "execution_count": 10,
   "metadata": {},
   "outputs": [],
   "source": [
    "data = cobrame.TranslationData('MaSp1', me, 'RNA_MaSp1', 'protein_MaSp1')\n",
    "data.nucleotide_sequence = seq"
   ]
  },
  {
   "cell_type": "markdown",
   "metadata": {},
   "source": [
    "### Create translation reaction\n",
    "\n",
    "By associating the TranslationReaction with its corresponding TranslationData object and running the update function, COBRAme will create a translation reaction for the nucleotide sequence given based on the organisms codon table and prespecified translation machinery."
   ]
  },
  {
   "cell_type": "code",
   "execution_count": 11,
   "metadata": {},
   "outputs": [],
   "source": [
    "rxn = cobrame.TranslationReaction('translation_MaSp1')\n",
    "rxn.translation_data = data\n",
    "me.add_reaction(rxn)"
   ]
  },
  {
   "cell_type": "markdown",
   "metadata": {},
   "source": [
    "### Updating the translation reaction\n",
    "\n",
    "Note that this process does not include the ribosome in the reaction."
   ]
  },
  {
   "cell_type": "code",
   "execution_count": 12,
   "metadata": {},
   "outputs": [
    {
     "name": "stdout",
     "output_type": "stream",
     "text": [
      "0.000498399634202103*mu + 0.000195123456790123 + 0.00598079561042524*(mu + 0.3915)/mu RNA_MaSp1 + 2.55589556001079e-8*mu + 1.00063311174422e-8 RNA_degradosome + 404 ala__L_c + 36 arg__L_c + 6.15274348422497*(mu + 0.3915)/mu atp_c + 124 gln__L_c + 634 gly_c + 80 leu__L_c + 7.80531286041284*(mu + 0.3915)/mu mRNA_biomass + met__L_c + 0.019669844765619*mu + 0.00770074422573985 ribosome + 48 ser__L_c + thr__L_c + 44 tyr__L_c --> 6.15274348422497*(mu + 0.3915)/mu adp_c + 4.2882304526749*(mu + 0.3915)/mu amp_c + 11.6625514403292*(mu + 0.3915)/mu cmp_c + 5.27506172839506*(mu + 0.3915)/mu gmp_c + 1371.0 - 6.15274348422497*(mu + 0.3915)/mu h2o_c + 6.15274348422497*(mu + 0.3915)/mu h_c + 6.15274348422497*(mu + 0.3915)/mu pi_c + protein_MaSp1 + 107.09526234 protein_biomass + 3.39111111111111*(mu + 0.3915)/mu ump_c\n"
     ]
    }
   ],
   "source": [
    "rxn.update()\n",
    "print(rxn.reaction)"
   ]
  },
  {
   "cell_type": "markdown",
   "metadata": {},
   "source": [
    "### Incorporate the ribosome\n",
    "\n",
    "Add the ribosome to the reaction."
   ]
  },
  {
   "cell_type": "code",
   "execution_count": 13,
   "metadata": {},
   "outputs": [
    {
     "name": "stdout",
     "output_type": "stream",
     "text": [
      "0.000498399634202103*mu + 0.000195123456790123 + 0.00598079561042524*(mu + 0.3915)/mu RNA_MaSp1 + 2.55589556001079e-8*mu + 1.00063311174422e-8 RNA_degradosome + 404 ala__L_c + 36 arg__L_c + 6.15274348422497*(mu + 0.3915)/mu atp_c + 124 gln__L_c + 634 gly_c + 80 leu__L_c + 7.80531286041284*(mu + 0.3915)/mu mRNA_biomass + met__L_c + 0.019669844765619*mu + 0.00770074422573985 ribosome + 48 ser__L_c + thr__L_c + 44 tyr__L_c --> 6.15274348422497*(mu + 0.3915)/mu adp_c + 4.2882304526749*(mu + 0.3915)/mu amp_c + 11.6625514403292*(mu + 0.3915)/mu cmp_c + 5.27506172839506*(mu + 0.3915)/mu gmp_c + 1371.0 - 6.15274348422497*(mu + 0.3915)/mu h2o_c + 6.15274348422497*(mu + 0.3915)/mu h_c + 6.15274348422497*(mu + 0.3915)/mu pi_c + protein_MaSp1 + 107.09526234 protein_biomass + 3.39111111111111*(mu + 0.3915)/mu ump_c\n"
     ]
    }
   ],
   "source": [
    "ribosome = cobrame.Ribosome('ribosome')\n",
    "me.add_metabolites([ribosome])\n",
    "me.reactions.translation_MaSp1.update()\n",
    "print(me.reactions.translation_MaSp1.reaction)"
   ]
  },
  {
   "cell_type": "markdown",
   "metadata": {},
   "source": [
    "### Add Subreactions to the MaSp1 model"
   ]
  },
  {
   "cell_type": "markdown",
   "metadata": {},
   "source": [
    "Create the subreactions that represent elongation, initiation and termination"
   ]
  },
  {
   "cell_type": "code",
   "execution_count": 14,
   "metadata": {},
   "outputs": [
    {
     "name": "stderr",
     "output_type": "stream",
     "text": [
      "/source/cobrame/cobrame/core/processdata.py:896 \u001b[1;31mUserWarning\u001b[0m: No termination enzyme for RNA_MaSp1\n"
     ]
    }
   ],
   "source": [
    "elongation = ['FusA_mono_elongation', 'Tuf_gtp_regeneration']\n",
    "initiation = ['Translation_gtp_initiation_factor_InfB', 'Translation_initiation_factor_InfA', \n",
    "              'Translation_initiation_factor_InfC', 'fmet_addition_at_START', 'peptide_deformylase_processing', \n",
    "              'peptide_chain_release', 'ribosome_recycler']\n",
    "termination = {'UGA':'PrfB_mono'}\n",
    "me.process_data.get_by_id('MaSp1').add_elongation_subreactions(elongation_subreactions=set(elongation))\n",
    "me.process_data.get_by_id('MaSp1').add_initiation_subreactions(start_codons=set(['AUG']), start_subreactions=set(initiation))\n",
    "me.process_data.get_by_id('MaSp1').add_termination_subreactions(translation_terminator_dict=termination)\n",
    "#me.reactions.translation_MaSp1.update(verbose=False)"
   ]
  },
  {
   "cell_type": "markdown",
   "metadata": {},
   "source": [
    "List the subreactions associated with MaSp1 translation reaction stored in the ProcessData."
   ]
  },
  {
   "cell_type": "code",
   "execution_count": 15,
   "metadata": {
    "scrolled": true
   },
   "outputs": [
    {
     "data": {
      "text/plain": [
       "defaultdict(int,\n",
       "            {'Tuf_gtp_regeneration': 1371.0,\n",
       "             'FusA_mono_elongation': 1371.0,\n",
       "             'thr_addition_at_ACC': 1,\n",
       "             'gly_addition_at_GGU': 328,\n",
       "             'ala_addition_at_GCA': 160,\n",
       "             'gln_addition_at_CAG': 48,\n",
       "             'tyr_addition_at_UAU': 28,\n",
       "             'leu_addition_at_CUG': 28,\n",
       "             'ser_addition_at_AGC': 8,\n",
       "             'ala_addition_at_GCC': 52,\n",
       "             'arg_addition_at_CGU': 16,\n",
       "             'gly_addition_at_GGA': 105,\n",
       "             'gln_addition_at_CAA': 76,\n",
       "             'ala_addition_at_GCU': 120,\n",
       "             'gly_addition_at_GGC': 144,\n",
       "             'ser_addition_at_UCA': 12,\n",
       "             'leu_addition_at_UUA': 24,\n",
       "             'ala_addition_at_GCG': 72,\n",
       "             'tyr_addition_at_UAC': 16,\n",
       "             'leu_addition_at_CUU': 16,\n",
       "             'ser_addition_at_AGU': 4,\n",
       "             'arg_addition_at_CGC': 8,\n",
       "             'gly_addition_at_GGG': 56,\n",
       "             'ser_addition_at_UCU': 8,\n",
       "             'arg_addition_at_CGG': 8,\n",
       "             'ser_addition_at_UCC': 12,\n",
       "             'ser_addition_at_UCG': 4,\n",
       "             'leu_addition_at_UUG': 12,\n",
       "             'arg_addition_at_AGA': 4,\n",
       "             'peptide_chain_release': 1,\n",
       "             'Translation_initiation_factor_InfC': 1,\n",
       "             'fmet_addition_at_START': 1,\n",
       "             'ribosome_recycler': 1,\n",
       "             'peptide_deformylase_processing': 1,\n",
       "             'Translation_initiation_factor_InfA': 1,\n",
       "             'Translation_gtp_initiation_factor_InfB': 1})"
      ]
     },
     "execution_count": 15,
     "metadata": {},
     "output_type": "execute_result"
    }
   ],
   "source": [
    "me.process_data.get_by_id('MaSp1').subreactions"
   ]
  },
  {
   "cell_type": "markdown",
   "metadata": {},
   "source": [
    "List the subreactions generated from the nucleatide sequence that are stored in the ProcessData."
   ]
  },
  {
   "cell_type": "code",
   "execution_count": 16,
   "metadata": {
    "scrolled": true
   },
   "outputs": [
    {
     "data": {
      "text/plain": [
       "{'thr_addition_at_ACC': 1,\n",
       " 'gly_addition_at_GGU': 328,\n",
       " 'ala_addition_at_GCA': 160,\n",
       " 'gln_addition_at_CAG': 48,\n",
       " 'tyr_addition_at_UAU': 28,\n",
       " 'leu_addition_at_CUG': 28,\n",
       " 'ser_addition_at_AGC': 8,\n",
       " 'ala_addition_at_GCC': 52,\n",
       " 'arg_addition_at_CGU': 16,\n",
       " 'gly_addition_at_GGA': 105,\n",
       " 'gln_addition_at_CAA': 76,\n",
       " 'ala_addition_at_GCU': 120,\n",
       " 'gly_addition_at_GGC': 144,\n",
       " 'ser_addition_at_UCA': 12,\n",
       " 'leu_addition_at_UUA': 24,\n",
       " 'ala_addition_at_GCG': 72,\n",
       " 'tyr_addition_at_UAC': 16,\n",
       " 'leu_addition_at_CUU': 16,\n",
       " 'ser_addition_at_AGU': 4,\n",
       " 'arg_addition_at_CGC': 8,\n",
       " 'gly_addition_at_GGG': 56,\n",
       " 'ser_addition_at_UCU': 8,\n",
       " 'arg_addition_at_CGG': 8,\n",
       " 'ser_addition_at_UCC': 12,\n",
       " 'ser_addition_at_UCG': 4,\n",
       " 'leu_addition_at_UUG': 12,\n",
       " 'arg_addition_at_AGA': 4}"
      ]
     },
     "execution_count": 16,
     "metadata": {},
     "output_type": "execute_result"
    }
   ],
   "source": [
    "me.process_data.get_by_id('MaSp1').subreactions_from_sequence"
   ]
  },
  {
   "cell_type": "markdown",
   "metadata": {},
   "source": [
    "### Updating the MaSp1 translation reaction"
   ]
  },
  {
   "cell_type": "code",
   "execution_count": 17,
   "metadata": {},
   "outputs": [
    {
     "name": "stdout",
     "output_type": "stream",
     "text": [
      "Before adding tRNA subreaction\n",
      "------------------------------\n",
      "0.000498399634202103*mu + 0.000195123456790123 + 0.00598079561042524*(mu + 0.3915)/mu RNA_MaSp1 + 2.55589556001079e-8*mu + 1.00063311174422e-8 RNA_degradosome + 404 ala__L_c + 36 arg__L_c + 6.15274348422497*(mu + 0.3915)/mu atp_c + 124 gln__L_c + 634 gly_c + 80 leu__L_c + 7.80531286041284*(mu + 0.3915)/mu mRNA_biomass + met__L_c + 0.019669844765619*mu + 0.00770074422573985 ribosome + 48 ser__L_c + thr__L_c + 44 tyr__L_c --> 6.15274348422497*(mu + 0.3915)/mu adp_c + 4.2882304526749*(mu + 0.3915)/mu amp_c + 11.6625514403292*(mu + 0.3915)/mu cmp_c + 5.27506172839506*(mu + 0.3915)/mu gmp_c + 1371.0 - 6.15274348422497*(mu + 0.3915)/mu h2o_c + 6.15274348422497*(mu + 0.3915)/mu h_c + 6.15274348422497*(mu + 0.3915)/mu pi_c + protein_MaSp1 + 107.09526234 protein_biomass + 3.39111111111111*(mu + 0.3915)/mu ump_c\n",
      "\n",
      "After adding tRNA subreaction\n",
      "-----------------------------\n",
      "10fthf_c + 2.72438972852433e-7*mu Def_mono_mod_1:fe2 + 1.80324164444648e-7*mu Fmt_mono_mod_mg2_mod_k + 0.00585897435897436*mu FusA_mono + 4.27350427350427e-6*mu InfA_mono + 4.45382843794892e-6*mu InfB_mono + 4.27350427350427e-6*mu InfC_mono + 4.27350427350427e-6*mu PrfC_mono + 0.000498399634202103*mu + 0.000195123456790123 + 0.00598079561042524*(mu + 0.3915)/mu RNA_MaSp1 + 2.55589556001079e-8*mu + 1.00063311174422e-8 RNA_degradosome + 2.62130898398882e-7*mu Rrf_mono + 0.00585897435897436*mu Tsf_mono + 404 ala__L_c + 36 arg__L_c + 1370.0 + 6.15274348422497*(mu + 0.3915)/mu atp_c + 0.00585470085470085*mu generic_Tuf + generic_tRNA_ACC_thr__L_c + 4.0 generic_tRNA_AGA_arg__L_c + 8.0 generic_tRNA_AGC_ser__L_c + 4.0 generic_tRNA_AGU_ser__L_c + 76.0 generic_tRNA_CAA_gln__L_c + 48.0 generic_tRNA_CAG_gln__L_c + 8.0 generic_tRNA_CGC_arg__L_c + 8.0 generic_tRNA_CGG_arg__L_c + 16.0 generic_tRNA_CGU_arg__L_c + 28.0 generic_tRNA_CUG_leu__L_c + 16.0 generic_tRNA_CUU_leu__L_c + 160.0 generic_tRNA_GCA_ala__L_c + 52.0 generic_tRNA_GCC_ala__L_c + 72.0 generic_tRNA_GCG_ala__L_c + 120.0 generic_tRNA_GCU_ala__L_c + 105.0 generic_tRNA_GGA_gly_c + 144.0 generic_tRNA_GGC_gly_c + 56.0 generic_tRNA_GGG_gly_c + 328.0 generic_tRNA_GGU_gly_c + generic_tRNA_START_met__L_c + 16.0 generic_tRNA_UAC_tyr__L_c + 28.0 generic_tRNA_UAU_tyr__L_c + 12.0 generic_tRNA_UCA_ser__L_c + 12.0 generic_tRNA_UCC_ser__L_c + 4.0 generic_tRNA_UCG_ser__L_c + 8.0 generic_tRNA_UCU_ser__L_c + 24.0 generic_tRNA_UUA_leu__L_c + 12.0 generic_tRNA_UUG_leu__L_c + 124 gln__L_c + 634 gly_c + 2743.0 gtp_c + 2743.0 + 6.15274348422497*(mu + 0.3915)/mu h2o_c + 80 leu__L_c + 7.80531286041284*(mu + 0.3915)/mu mRNA_biomass + met__L_c + 0.019669844765619*mu + 0.00770074422573985 ribosome + 48 ser__L_c + thr__L_c + 44 tyr__L_c --> 6.15274348422497*(mu + 0.3915)/mu adp_c + 1370.0 + 4.2882304526749*(mu + 0.3915)/mu amp_c + 11.6625514403292*(mu + 0.3915)/mu cmp_c + for_c + 2743.0 gdp_c + 5.27506172839506*(mu + 0.3915)/mu gmp_c + 4113.0 + 6.15274348422497*(mu + 0.3915)/mu h_c + 2743.0 + 6.15274348422497*(mu + 0.3915)/mu pi_c + 1370.0 ppi_c + protein_MaSp1 + 107.09627028 protein_biomass + thf_c + 3.39111111111111*(mu + 0.3915)/mu ump_c\n"
     ]
    }
   ],
   "source": [
    "translation_subreactions = me.process_data.MaSp1.subreactions_from_sequence\n",
    "print(\"Before adding tRNA subreaction\")\n",
    "print(\"------------------------------\")\n",
    "print(me.reactions.translation_MaSp1.reaction)\n",
    "print(\"\")\n",
    "# Link tranlation_data to subreactions and update\n",
    "for subreaction, value in translation_subreactions.items():\n",
    "    me.process_data.MaSp1.subreactions[subreaction] = value\n",
    "me.reactions.translation_MaSp1.update(verbose=False)\n",
    "print(\"After adding tRNA subreaction\")\n",
    "print(\"-----------------------------\")\n",
    "print(me.reactions.translation_MaSp1.reaction)"
   ]
  },
  {
   "cell_type": "markdown",
   "metadata": {},
   "source": [
    "List the reactants associated with the MaSp1 translation reaction. In this list all the subreactions should be listed."
   ]
  },
  {
   "cell_type": "code",
   "execution_count": 18,
   "metadata": {
    "scrolled": true
   },
   "outputs": [
    {
     "data": {
      "text/plain": [
       "[<Metabolite met__L_c at 0x7f2749e279b0>,\n",
       " <Metabolite h2o_c at 0x7f274ab27a58>,\n",
       " <Metabolite thr__L_c at 0x7f2749e27e48>,\n",
       " <Metabolite gly_c at 0x7f2749e27d30>,\n",
       " <Metabolite ala__L_c at 0x7f2749e27f98>,\n",
       " <Metabolite gln__L_c at 0x7f2749e342b0>,\n",
       " <Metabolite tyr__L_c at 0x7f2749e344a8>,\n",
       " <Metabolite leu__L_c at 0x7f2749e27b70>,\n",
       " <Metabolite ser__L_c at 0x7f2749e27ef0>,\n",
       " <Metabolite arg__L_c at 0x7f2749e27ac8>,\n",
       " <Ribosome ribosome at 0x7f2749e34588>,\n",
       " <TranscribedGene RNA_MaSp1 at 0x7f274ac50710>,\n",
       " <Metabolite atp_c at 0x7f274ab279b0>,\n",
       " <Complex RNA_degradosome at 0x7f274ab4b400>,\n",
       " <Complex Tsf_mono at 0x7f2749e4fc88>,\n",
       " <Complex FusA_mono at 0x7f2749e4fc50>,\n",
       " <Metabolite gtp_c at 0x7f274ab27fd0>,\n",
       " <GenericComponent generic_Tuf at 0x7f2749e34a90>,\n",
       " <GenerictRNA generic_tRNA_ACC_thr__L_c at 0x7f2749e45710>,\n",
       " <GenerictRNA generic_tRNA_GGU_gly_c at 0x7f2749e34f98>,\n",
       " <GenerictRNA generic_tRNA_GCA_ala__L_c at 0x7f2749e450f0>,\n",
       " <GenerictRNA generic_tRNA_CAG_gln__L_c at 0x7f2749e45630>,\n",
       " <GenerictRNA generic_tRNA_UAU_tyr__L_c at 0x7f2749e4f4e0>,\n",
       " <GenerictRNA generic_tRNA_CUG_leu__L_c at 0x7f2749e45320>,\n",
       " <GenerictRNA generic_tRNA_AGC_ser__L_c at 0x7f2749e45550>,\n",
       " <GenerictRNA generic_tRNA_GCC_ala__L_c at 0x7f2749e45400>,\n",
       " <GenerictRNA generic_tRNA_CGU_arg__L_c at 0x7f2749e45240>,\n",
       " <GenerictRNA generic_tRNA_GGA_gly_c at 0x7f2749e45d30>,\n",
       " <GenerictRNA generic_tRNA_CAA_gln__L_c at 0x7f2749e45e48>,\n",
       " <GenerictRNA generic_tRNA_GCU_ala__L_c at 0x7f2749e45b70>,\n",
       " <GenerictRNA generic_tRNA_GGC_gly_c at 0x7f2749e34ef0>,\n",
       " <GenerictRNA generic_tRNA_UCA_ser__L_c at 0x7f2749e45080>,\n",
       " <GenerictRNA generic_tRNA_UUA_leu__L_c at 0x7f2749e45be0>,\n",
       " <GenerictRNA generic_tRNA_GCG_ala__L_c at 0x7f2749e45b00>,\n",
       " <GenerictRNA generic_tRNA_UAC_tyr__L_c at 0x7f2749e4f2b0>,\n",
       " <GenerictRNA generic_tRNA_CUU_leu__L_c at 0x7f2749e45c50>,\n",
       " <GenerictRNA generic_tRNA_AGU_ser__L_c at 0x7f2749e45fd0>,\n",
       " <GenerictRNA generic_tRNA_CGC_arg__L_c at 0x7f2749e4f240>,\n",
       " <GenerictRNA generic_tRNA_GGG_gly_c at 0x7f2749e456a0>,\n",
       " <GenerictRNA generic_tRNA_UCU_ser__L_c at 0x7f2749e45860>,\n",
       " <GenerictRNA generic_tRNA_CGG_arg__L_c at 0x7f2749e4f630>,\n",
       " <GenerictRNA generic_tRNA_UCC_ser__L_c at 0x7f2749e4f358>,\n",
       " <GenerictRNA generic_tRNA_UCG_ser__L_c at 0x7f2749e4f160>,\n",
       " <GenerictRNA generic_tRNA_UUG_leu__L_c at 0x7f2749e34da0>,\n",
       " <GenerictRNA generic_tRNA_AGA_arg__L_c at 0x7f2749e122b0>,\n",
       " <Complex PrfC_mono at 0x7f2749e4ffd0>,\n",
       " <Complex InfC_mono at 0x7f2749e4fb70>,\n",
       " <Complex InfB_mono at 0x7f2749e4f7f0>,\n",
       " <Complex Fmt_mono_mod_mg2_mod_k at 0x7f2749e4f8d0>,\n",
       " <Metabolite 10fthf_c at 0x7f2749e4f978>,\n",
       " <GenerictRNA generic_tRNA_START_met__L_c at 0x7f2749e4fa90>,\n",
       " <Complex Rrf_mono at 0x7f2749e4fd68>,\n",
       " <Complex Def_mono_mod_1:fe2 at 0x7f2749e4fda0>,\n",
       " <Complex InfA_mono at 0x7f2749e4fac8>,\n",
       " <Constraint mRNA_biomass at 0x7f274ac45128>]"
      ]
     },
     "execution_count": 18,
     "metadata": {},
     "output_type": "execute_result"
    }
   ],
   "source": [
    "me.reactions.translation_MaSp1.reactants"
   ]
  },
  {
   "cell_type": "markdown",
   "metadata": {},
   "source": [
    "This completes the creation of the translation reaction"
   ]
  },
  {
   "cell_type": "markdown",
   "metadata": {},
   "source": [
    "## 6. Create Demand Reaction for MaSp1"
   ]
  },
  {
   "cell_type": "code",
   "execution_count": 19,
   "metadata": {},
   "outputs": [],
   "source": [
    "new_reaction = cobrame.MEReaction('DM_protein_MaSp1')\n",
    "me.add_reaction(new_reaction)"
   ]
  },
  {
   "cell_type": "code",
   "execution_count": 20,
   "metadata": {},
   "outputs": [
    {
     "data": {
      "text/plain": [
       "'protein_MaSp1 --> '"
      ]
     },
     "execution_count": 20,
     "metadata": {},
     "output_type": "execute_result"
    }
   ],
   "source": [
    "me.reactions.get_by_id('DM_protein_MaSp1').reaction = 'protein_MaSp1 ->'\n",
    "me.reactions.get_by_id('DM_protein_MaSp1').reaction"
   ]
  },
  {
   "cell_type": "code",
   "execution_count": 21,
   "metadata": {},
   "outputs": [
    {
     "data": {
      "text/html": [
       "<div>\n",
       "<style scoped>\n",
       "    .dataframe tbody tr th:only-of-type {\n",
       "        vertical-align: middle;\n",
       "    }\n",
       "\n",
       "    .dataframe tbody tr th {\n",
       "        vertical-align: top;\n",
       "    }\n",
       "\n",
       "    .dataframe thead th {\n",
       "        text-align: right;\n",
       "    }\n",
       "</style>\n",
       "<table border=\"1\" class=\"dataframe\">\n",
       "  <thead>\n",
       "    <tr style=\"text-align: right;\">\n",
       "      <th></th>\n",
       "      <th>Attribute Values</th>\n",
       "    </tr>\n",
       "  </thead>\n",
       "  <tbody>\n",
       "    <tr>\n",
       "      <th>id</th>\n",
       "      <td>DM_protein_MaSp1</td>\n",
       "    </tr>\n",
       "    <tr>\n",
       "      <th>name</th>\n",
       "      <td></td>\n",
       "    </tr>\n",
       "    <tr>\n",
       "      <th>notes</th>\n",
       "      <td>{}</td>\n",
       "    </tr>\n",
       "    <tr>\n",
       "      <th>annotation</th>\n",
       "      <td>{}</td>\n",
       "    </tr>\n",
       "    <tr>\n",
       "      <th>_gene_reaction_rule</th>\n",
       "      <td></td>\n",
       "    </tr>\n",
       "    <tr>\n",
       "      <th>subsystem</th>\n",
       "      <td></td>\n",
       "    </tr>\n",
       "    <tr>\n",
       "      <th>_genes</th>\n",
       "      <td>set()</td>\n",
       "    </tr>\n",
       "    <tr>\n",
       "      <th>_metabolites</th>\n",
       "      <td>{&lt;TranslatedGene protein_MaSp1 at 0x7f274ac1ae48&gt;: -1}</td>\n",
       "    </tr>\n",
       "    <tr>\n",
       "      <th>_model</th>\n",
       "      <td>iJL1678b-ME</td>\n",
       "    </tr>\n",
       "    <tr>\n",
       "      <th>_objective_coefficient</th>\n",
       "      <td>0.0</td>\n",
       "    </tr>\n",
       "    <tr>\n",
       "      <th>upper_bound</th>\n",
       "      <td>1000</td>\n",
       "    </tr>\n",
       "    <tr>\n",
       "      <th>lower_bound</th>\n",
       "      <td>0</td>\n",
       "    </tr>\n",
       "    <tr>\n",
       "      <th>variable_kind</th>\n",
       "      <td>continuous</td>\n",
       "    </tr>\n",
       "  </tbody>\n",
       "</table>\n",
       "</div>"
      ],
      "text/plain": [
       "                                                              Attribute Values\n",
       "id                                                            DM_protein_MaSp1\n",
       "name                                                                          \n",
       "notes                                                                       {}\n",
       "annotation                                                                  {}\n",
       "_gene_reaction_rule                                                           \n",
       "subsystem                                                                     \n",
       "_genes                                                                   set()\n",
       "_metabolites            {<TranslatedGene protein_MaSp1 at 0x7f274ac1ae48>: -1}\n",
       "_model                                                             iJL1678b-ME\n",
       "_objective_coefficient                                                     0.0\n",
       "upper_bound                                                               1000\n",
       "lower_bound                                                                  0\n",
       "variable_kind                                                       continuous"
      ]
     },
     "execution_count": 21,
     "metadata": {},
     "output_type": "execute_result"
    }
   ],
   "source": [
    "rxn = me.reactions.DM_protein_MaSp1\n",
    "data = rxn\n",
    "pd.DataFrame({i: str(v) for i, v in data.__dict__.items()}, index=['Attribute Values']).T"
   ]
  },
  {
   "cell_type": "markdown",
   "metadata": {},
   "source": [
    "### Find the amino acid count"
   ]
  },
  {
   "cell_type": "code",
   "execution_count": 22,
   "metadata": {},
   "outputs": [
    {
     "data": {
      "text/plain": [
       "defaultdict(int,\n",
       "            {'met__L_c': 1,\n",
       "             'thr__L_c': 1,\n",
       "             'gly_c': 634,\n",
       "             'ala__L_c': 404,\n",
       "             'gln__L_c': 124,\n",
       "             'tyr__L_c': 44,\n",
       "             'leu__L_c': 80,\n",
       "             'ser__L_c': 48,\n",
       "             'arg__L_c': 36})"
      ]
     },
     "execution_count": 22,
     "metadata": {},
     "output_type": "execute_result"
    }
   ],
   "source": [
    "me.process_data.MaSp1.amino_acid_count"
   ]
  },
  {
   "cell_type": "code",
   "execution_count": 23,
   "metadata": {
    "scrolled": true
   },
   "outputs": [
    {
     "name": "stdout",
     "output_type": "stream",
     "text": [
      "\n",
      "MaSp1 Flux #  0\n",
      "iter\tmuopt    \ta     \tb     \tmu1       \tstat1\n",
      "Finished compiling expressions in 36.229097 seconds\n",
      "Finished substituting S,lb,ub in 2.356150 seconds\n",
      "Finished makeME_LP in 0.362447 seconds\n",
      "Getting MINOS parameters from ME_NLP...\n",
      "1 0.5 0.5 1.0 0.5 optimal\n",
      "Finished substituting S,lb,ub in 2.391645 seconds\n",
      "Finished makeME_LP in 0.365020 seconds\n",
      "Getting MINOS parameters from ME_NLP...\n",
      "2 0.75 0.75 1.0 0.75 optimal\n",
      "Finished substituting S,lb,ub in 2.426105 seconds\n",
      "Finished makeME_LP in 0.375856 seconds\n",
      "Getting MINOS parameters from ME_NLP...\n",
      "3 0.75 0.75 0.875 0.875 1\n",
      "Finished substituting S,lb,ub in 2.405709 seconds\n",
      "Finished makeME_LP in 0.359603 seconds\n",
      "Getting MINOS parameters from ME_NLP...\n",
      "4 0.8125 0.8125 0.875 0.8125 optimal\n",
      "Finished substituting S,lb,ub in 2.404734 seconds\n",
      "Finished makeME_LP in 0.373729 seconds\n",
      "Getting MINOS parameters from ME_NLP...\n",
      "5 0.8125 0.8125 0.84375 0.84375 1\n",
      "Finished substituting S,lb,ub in 2.390681 seconds\n",
      "Finished makeME_LP in 0.375215 seconds\n",
      "Getting MINOS parameters from ME_NLP...\n",
      "6 0.828125 0.828125 0.84375 0.828125 optimal\n",
      "Finished substituting S,lb,ub in 2.441523 seconds\n",
      "Finished makeME_LP in 0.372299 seconds\n",
      "Getting MINOS parameters from ME_NLP...\n",
      "7 0.828125 0.828125 0.8359375 0.8359375 1\n",
      "Bisection done in 129.065 seconds\n",
      "Growth-rate = [0.828125]\n",
      "\n",
      "MaSp1 Flux #  0.0001\n",
      "iter\tmuopt    \ta     \tb     \tmu1       \tstat1\n",
      "Finished compiling expressions in 35.152208 seconds\n",
      "Finished substituting S,lb,ub in 2.391116 seconds\n",
      "Finished makeME_LP in 0.365621 seconds\n",
      "Getting MINOS parameters from ME_NLP...\n",
      "1 0.5 0.5 1.0 0.5 optimal\n",
      "Finished substituting S,lb,ub in 2.391941 seconds\n",
      "Finished makeME_LP in 0.367460 seconds\n",
      "Getting MINOS parameters from ME_NLP...\n",
      "2 0.75 0.75 1.0 0.75 optimal\n",
      "Finished substituting S,lb,ub in 2.414684 seconds\n",
      "Finished makeME_LP in 0.366665 seconds\n",
      "Getting MINOS parameters from ME_NLP...\n",
      "3 0.75 0.75 0.875 0.875 1\n",
      "Finished substituting S,lb,ub in 2.451113 seconds\n",
      "Finished makeME_LP in 0.369276 seconds\n",
      "Getting MINOS parameters from ME_NLP...\n",
      "4 0.75 0.75 0.8125 0.8125 1\n",
      "Finished substituting S,lb,ub in 2.388057 seconds\n",
      "Finished makeME_LP in 0.365087 seconds\n",
      "Getting MINOS parameters from ME_NLP...\n",
      "5 0.78125 0.78125 0.8125 0.78125 optimal\n",
      "Finished substituting S,lb,ub in 2.426522 seconds\n",
      "Finished makeME_LP in 0.366060 seconds\n",
      "Getting MINOS parameters from ME_NLP...\n",
      "6 0.796875 0.796875 0.8125 0.796875 optimal\n",
      "Finished substituting S,lb,ub in 2.414309 seconds\n",
      "Finished makeME_LP in 0.373780 seconds\n",
      "Getting MINOS parameters from ME_NLP...\n",
      "7 0.796875 0.796875 0.8046875 0.8046875 1\n",
      "Bisection done in 126.894 seconds\n",
      "Growth-rate = [0.828125, 0.796875]\n",
      "\n",
      "MaSp1 Flux #  0.0005\n",
      "iter\tmuopt    \ta     \tb     \tmu1       \tstat1\n",
      "Finished compiling expressions in 35.373184 seconds\n",
      "Finished substituting S,lb,ub in 2.440584 seconds\n",
      "Finished makeME_LP in 0.383933 seconds\n",
      "Getting MINOS parameters from ME_NLP...\n",
      "1 0.5 0.5 1.0 0.5 optimal\n",
      "Finished substituting S,lb,ub in 2.393499 seconds\n",
      "Finished makeME_LP in 0.363215 seconds\n",
      "Getting MINOS parameters from ME_NLP...\n",
      "2 0.5 0.5 0.75 0.75 1\n",
      "Finished substituting S,lb,ub in 2.447717 seconds\n",
      "Finished makeME_LP in 0.371918 seconds\n",
      "Getting MINOS parameters from ME_NLP...\n",
      "3 0.625 0.625 0.75 0.625 optimal\n",
      "Finished substituting S,lb,ub in 2.444388 seconds\n",
      "Finished makeME_LP in 0.371373 seconds\n",
      "Getting MINOS parameters from ME_NLP...\n",
      "4 0.625 0.625 0.6875 0.6875 1\n",
      "Finished substituting S,lb,ub in 2.392321 seconds\n",
      "Finished makeME_LP in 0.370560 seconds\n",
      "Getting MINOS parameters from ME_NLP...\n",
      "5 0.625 0.625 0.65625 0.65625 1\n",
      "Finished substituting S,lb,ub in 2.461018 seconds\n",
      "Finished makeME_LP in 0.405352 seconds\n",
      "Getting MINOS parameters from ME_NLP...\n",
      "6 0.625 0.625 0.640625 0.640625 1\n",
      "Finished substituting S,lb,ub in 2.462032 seconds\n",
      "Finished makeME_LP in 0.364408 seconds\n",
      "Getting MINOS parameters from ME_NLP...\n",
      "7 0.6328125 0.6328125 0.640625 0.6328125 optimal\n",
      "Bisection done in 124.784 seconds\n",
      "Growth-rate = [0.828125, 0.796875, 0.6328125]\n",
      "\n",
      "MaSp1 Flux #  0.001\n",
      "iter\tmuopt    \ta     \tb     \tmu1       \tstat1\n",
      "Finished compiling expressions in 35.362594 seconds\n",
      "Finished substituting S,lb,ub in 2.429501 seconds\n",
      "Finished makeME_LP in 0.371125 seconds\n",
      "Getting MINOS parameters from ME_NLP...\n",
      "1 0.0 0.0 0.5 0.5 1\n",
      "Finished substituting S,lb,ub in 2.458794 seconds\n",
      "Finished makeME_LP in 0.369686 seconds\n",
      "Getting MINOS parameters from ME_NLP...\n",
      "2 0.0 0.0 0.25 0.25 1\n",
      "Finished substituting S,lb,ub in 2.394230 seconds\n",
      "Finished makeME_LP in 0.370403 seconds\n",
      "Getting MINOS parameters from ME_NLP...\n",
      "3 0.0 0.0 0.125 0.125 1\n",
      "Finished substituting S,lb,ub in 2.482036 seconds\n",
      "Finished makeME_LP in 0.383689 seconds\n",
      "Getting MINOS parameters from ME_NLP...\n",
      "4 0.0 0.0 0.0625 0.0625 1\n",
      "Finished substituting S,lb,ub in 2.463952 seconds\n",
      "Finished makeME_LP in 0.373205 seconds\n",
      "Getting MINOS parameters from ME_NLP...\n",
      "5 0.0 0.0 0.03125 0.03125 1\n",
      "Finished substituting S,lb,ub in 2.531601 seconds\n",
      "Finished makeME_LP in 0.402146 seconds\n",
      "Getting MINOS parameters from ME_NLP...\n",
      "6 0.0 0.0 0.015625 0.015625 1\n",
      "Finished substituting S,lb,ub in 2.524614 seconds\n",
      "Finished makeME_LP in 0.380691 seconds\n",
      "Getting MINOS parameters from ME_NLP...\n",
      "7 0.0 0.0 0.0078125 0.0078125 1\n",
      "Bisection done in 530.616 seconds\n",
      "Growth-rate = [0.828125, 0.796875, 0.6328125, 0]\n",
      "\n",
      "MaSp1 Flux #  0.005\n",
      "iter\tmuopt    \ta     \tb     \tmu1       \tstat1\n",
      "Finished compiling expressions in 36.499882 seconds\n",
      "Finished substituting S,lb,ub in 2.458741 seconds\n",
      "Finished makeME_LP in 0.364778 seconds\n",
      "Getting MINOS parameters from ME_NLP...\n",
      "1 0.0 0.0 0.5 0.5 1\n",
      "Finished substituting S,lb,ub in 2.498567 seconds\n",
      "Finished makeME_LP in 0.376342 seconds\n",
      "Getting MINOS parameters from ME_NLP...\n",
      "2 0.0 0.0 0.25 0.25 1\n",
      "Finished substituting S,lb,ub in 2.506449 seconds\n",
      "Finished makeME_LP in 0.371124 seconds\n",
      "Getting MINOS parameters from ME_NLP...\n",
      "3 0.0 0.0 0.125 0.125 1\n",
      "Finished substituting S,lb,ub in 2.604775 seconds\n",
      "Finished makeME_LP in 0.366133 seconds\n",
      "Getting MINOS parameters from ME_NLP...\n",
      "4 0.0 0.0 0.0625 0.0625 1\n",
      "Finished substituting S,lb,ub in 2.444148 seconds\n",
      "Finished makeME_LP in 0.383915 seconds\n",
      "Getting MINOS parameters from ME_NLP...\n",
      "5 0.0 0.0 0.03125 0.03125 1\n",
      "Finished substituting S,lb,ub in 2.458290 seconds\n",
      "Finished makeME_LP in 0.373225 seconds\n",
      "Getting MINOS parameters from ME_NLP...\n",
      "6 0.0 0.0 0.015625 0.015625 1\n",
      "Finished substituting S,lb,ub in 2.483325 seconds\n",
      "Finished makeME_LP in 0.381777 seconds\n",
      "Getting MINOS parameters from ME_NLP...\n",
      "7 0.0 0.0 0.0078125 0.0078125 1\n",
      "Bisection done in 524.361 seconds\n",
      "Growth-rate = [0.828125, 0.796875, 0.6328125, 0, 0]\n",
      "\n",
      "MaSp1 Flux #  0.01\n",
      "iter\tmuopt    \ta     \tb     \tmu1       \tstat1\n",
      "Finished compiling expressions in 35.210992 seconds\n",
      "Finished substituting S,lb,ub in 2.362512 seconds\n",
      "Finished makeME_LP in 0.360376 seconds\n",
      "Getting MINOS parameters from ME_NLP...\n",
      "1 0.0 0.0 0.5 0.5 1\n",
      "Finished substituting S,lb,ub in 2.461434 seconds\n",
      "Finished makeME_LP in 0.364061 seconds\n",
      "Getting MINOS parameters from ME_NLP...\n",
      "2 0.0 0.0 0.25 0.25 1\n",
      "Finished substituting S,lb,ub in 2.447377 seconds\n",
      "Finished makeME_LP in 0.377168 seconds\n",
      "Getting MINOS parameters from ME_NLP...\n",
      "3 0.0 0.0 0.125 0.125 1\n",
      "Finished substituting S,lb,ub in 2.441636 seconds\n",
      "Finished makeME_LP in 0.373180 seconds\n",
      "Getting MINOS parameters from ME_NLP...\n",
      "4 0.0 0.0 0.0625 0.0625 1\n",
      "Finished substituting S,lb,ub in 2.466010 seconds\n",
      "Finished makeME_LP in 0.379447 seconds\n",
      "Getting MINOS parameters from ME_NLP...\n",
      "5 0.0 0.0 0.03125 0.03125 1\n",
      "Finished substituting S,lb,ub in 2.399996 seconds\n",
      "Finished makeME_LP in 0.376880 seconds\n",
      "Getting MINOS parameters from ME_NLP...\n",
      "6 0.0 0.0 0.015625 0.015625 1\n",
      "Finished substituting S,lb,ub in 2.404919 seconds\n",
      "Finished makeME_LP in 0.370926 seconds\n",
      "Getting MINOS parameters from ME_NLP...\n",
      "7 0.0 0.0 0.0078125 0.0078125 1\n",
      "Bisection done in 517.782 seconds\n",
      "Growth-rate = [0.828125, 0.796875, 0.6328125, 0, 0, 0]\n",
      "\n",
      "MaSp1 Flux #  0.05\n",
      "iter\tmuopt    \ta     \tb     \tmu1       \tstat1\n",
      "Finished compiling expressions in 35.994366 seconds\n",
      "Finished substituting S,lb,ub in 2.470085 seconds\n",
      "Finished makeME_LP in 0.374568 seconds\n",
      "Getting MINOS parameters from ME_NLP...\n",
      "1 0.0 0.0 0.5 0.5 1\n",
      "Finished substituting S,lb,ub in 2.518288 seconds\n",
      "Finished makeME_LP in 0.379827 seconds\n",
      "Getting MINOS parameters from ME_NLP...\n"
     ]
    },
    {
     "name": "stdout",
     "output_type": "stream",
     "text": [
      "2 0.0 0.0 0.25 0.25 1\n",
      "Finished substituting S,lb,ub in 2.473590 seconds\n",
      "Finished makeME_LP in 0.377268 seconds\n",
      "Getting MINOS parameters from ME_NLP...\n",
      "3 0.0 0.0 0.125 0.125 1\n",
      "Finished substituting S,lb,ub in 2.470701 seconds\n",
      "Finished makeME_LP in 0.377690 seconds\n",
      "Getting MINOS parameters from ME_NLP...\n",
      "4 0.0 0.0 0.0625 0.0625 1\n",
      "Finished substituting S,lb,ub in 2.405640 seconds\n",
      "Finished makeME_LP in 0.368579 seconds\n",
      "Getting MINOS parameters from ME_NLP...\n",
      "5 0.0 0.0 0.03125 0.03125 1\n",
      "Finished substituting S,lb,ub in 2.481405 seconds\n",
      "Finished makeME_LP in 0.376219 seconds\n",
      "Getting MINOS parameters from ME_NLP...\n",
      "6 0.0 0.0 0.015625 0.015625 1\n",
      "Finished substituting S,lb,ub in 2.451267 seconds\n",
      "Finished makeME_LP in 0.377437 seconds\n",
      "Getting MINOS parameters from ME_NLP...\n",
      "7 0.0 0.0 0.0078125 0.0078125 1\n",
      "Bisection done in 523.364 seconds\n",
      "Growth-rate = [0.828125, 0.796875, 0.6328125, 0, 0, 0, 0]\n"
     ]
    },
    {
     "data": {
      "text/plain": [
       "[0.828125, 0.796875, 0.6328125, 0, 0, 0, 0]"
      ]
     },
     "execution_count": 23,
     "metadata": {},
     "output_type": "execute_result"
    }
   ],
   "source": [
    "from contextlib import suppress\n",
    "\n",
    "MaSp1 = [0, 0.0001, 0.0005, 0.001, 0.005, 0.01, 0.05]\n",
    "growth_rate = []\n",
    "for x in MaSp1:\n",
    "    print('\\nMaSp1 Flux # ',x)\n",
    "    me.reactions.get_by_id('DM_protein_MaSp1').lower_bound = x\n",
    "    me.reactions.get_by_id('DM_protein_MaSp1').upper_bound = x\n",
    "    temp = 0\n",
    "    with suppress(Exception):\n",
    "        solve_me_model(me, 1.0, min_mu = .01, precision=1e-2, using_soplex=False)\n",
    "        temp = me.solution.f    \n",
    "    growth_rate.append(temp)\n",
    "    print('Growth-rate =', growth_rate)\n",
    "    \n",
    "growth_rate"
   ]
  },
  {
   "cell_type": "code",
   "execution_count": 24,
   "metadata": {},
   "outputs": [
    {
     "data": {
      "image/png": "[encoded data removed]",
      "text/plain": [
       "<Figure size 432x288 with 1 Axes>"
      ]
     },
     "metadata": {},
     "output_type": "display_data"
    }
   ],
   "source": [
    "import matplotlib.pyplot as plt\n",
    "  \n",
    "# x axis values\n",
    "x = MaSp1\n",
    "# corresponding y axis values\n",
    "y = growth_rate\n",
    "  \n",
    "# plotting the points \n",
    "plt.plot(x, y)\n",
    "  \n",
    "# naming the x axis\n",
    "plt.xlabel('MaSp1 External Flux')\n",
    "# naming the y axis\n",
    "plt.ylabel('Growth-rate')\n",
    "  \n",
    "# giving a title to my graph\n",
    "plt.title('Cell Growth-rate vs MaSp1 External Flux')\n",
    "  \n",
    "# function to show the plot\n",
    "plt.show()"
   ]
  },
  {
   "cell_type": "code",
   "execution_count": 25,
   "metadata": {
    "scrolled": true
   },
   "outputs": [
    {
     "name": "stdout",
     "output_type": "stream",
     "text": [
      "\n",
      "MaSp1 Flux #  0\n",
      "iter\tmuopt    \ta     \tb     \tmu1       \tstat1\n",
      "Finished compiling expressions in 34.029228 seconds\n",
      "Finished substituting S,lb,ub in 2.276199 seconds\n",
      "Finished makeME_LP in 0.356756 seconds\n",
      "Getting MINOS parameters from ME_NLP...\n",
      "1 0.5 0.5 1.0 0.5 optimal\n",
      "Finished substituting S,lb,ub in 2.345308 seconds\n",
      "Finished makeME_LP in 0.364974 seconds\n",
      "Getting MINOS parameters from ME_NLP...\n",
      "2 0.75 0.75 1.0 0.75 optimal\n",
      "Finished substituting S,lb,ub in 2.309644 seconds\n",
      "Finished makeME_LP in 0.363977 seconds\n",
      "Getting MINOS parameters from ME_NLP...\n",
      "3 0.75 0.75 0.875 0.875 1\n",
      "Finished substituting S,lb,ub in 2.357829 seconds\n",
      "Finished makeME_LP in 0.358353 seconds\n",
      "Getting MINOS parameters from ME_NLP...\n",
      "4 0.8125 0.8125 0.875 0.8125 optimal\n",
      "Finished substituting S,lb,ub in 2.361149 seconds\n",
      "Finished makeME_LP in 0.363715 seconds\n",
      "Getting MINOS parameters from ME_NLP...\n",
      "5 0.8125 0.8125 0.84375 0.84375 1\n",
      "Finished substituting S,lb,ub in 2.337886 seconds\n",
      "Finished makeME_LP in 0.362449 seconds\n",
      "Getting MINOS parameters from ME_NLP...\n",
      "6 0.828125 0.828125 0.84375 0.828125 optimal\n",
      "Finished substituting S,lb,ub in 2.327707 seconds\n",
      "Finished makeME_LP in 0.362412 seconds\n",
      "Getting MINOS parameters from ME_NLP...\n",
      "7 0.828125 0.828125 0.8359375 0.8359375 1\n",
      "Bisection done in 124.857 seconds\n",
      "Growth-rate = [0.828125]\n",
      "\n",
      "MaSp1 Flux #  0.0001\n",
      "iter\tmuopt    \ta     \tb     \tmu1       \tstat1\n",
      "Finished compiling expressions in 34.007380 seconds\n",
      "Finished substituting S,lb,ub in 2.279705 seconds\n",
      "Finished makeME_LP in 0.356559 seconds\n",
      "Getting MINOS parameters from ME_NLP...\n",
      "1 0.5 0.5 1.0 0.5 optimal\n",
      "Finished substituting S,lb,ub in 2.299829 seconds\n",
      "Finished makeME_LP in 0.360301 seconds\n",
      "Getting MINOS parameters from ME_NLP...\n",
      "2 0.75 0.75 1.0 0.75 optimal\n",
      "Finished substituting S,lb,ub in 2.332538 seconds\n",
      "Finished makeME_LP in 0.368365 seconds\n",
      "Getting MINOS parameters from ME_NLP...\n",
      "3 0.75 0.75 0.875 0.875 1\n",
      "Finished substituting S,lb,ub in 2.328115 seconds\n",
      "Finished makeME_LP in 0.365881 seconds\n",
      "Getting MINOS parameters from ME_NLP...\n",
      "4 0.75 0.75 0.8125 0.8125 1\n",
      "Finished substituting S,lb,ub in 2.329084 seconds\n",
      "Finished makeME_LP in 0.364684 seconds\n",
      "Getting MINOS parameters from ME_NLP...\n",
      "5 0.78125 0.78125 0.8125 0.78125 optimal\n",
      "Finished substituting S,lb,ub in 2.360232 seconds\n",
      "Finished makeME_LP in 0.363469 seconds\n",
      "Getting MINOS parameters from ME_NLP...\n",
      "6 0.796875 0.796875 0.8125 0.796875 optimal\n",
      "Finished substituting S,lb,ub in 2.339107 seconds\n",
      "Finished makeME_LP in 0.361778 seconds\n",
      "Getting MINOS parameters from ME_NLP...\n",
      "7 0.796875 0.796875 0.8046875 0.8046875 1\n",
      "Bisection done in 122.676 seconds\n",
      "Growth-rate = [0.828125, 0.796875]\n",
      "\n",
      "MaSp1 Flux #  0.0005\n",
      "iter\tmuopt    \ta     \tb     \tmu1       \tstat1\n",
      "Finished compiling expressions in 33.981643 seconds\n",
      "Finished substituting S,lb,ub in 2.260417 seconds\n",
      "Finished makeME_LP in 0.356554 seconds\n",
      "Getting MINOS parameters from ME_NLP...\n",
      "1 0.5 0.5 1.0 0.5 optimal\n",
      "Finished substituting S,lb,ub in 2.334363 seconds\n",
      "Finished makeME_LP in 0.363052 seconds\n",
      "Getting MINOS parameters from ME_NLP...\n",
      "2 0.5 0.5 0.75 0.75 1\n",
      "Finished substituting S,lb,ub in 2.336010 seconds\n",
      "Finished makeME_LP in 0.366940 seconds\n",
      "Getting MINOS parameters from ME_NLP...\n",
      "3 0.625 0.625 0.75 0.625 optimal\n",
      "Finished substituting S,lb,ub in 2.349394 seconds\n",
      "Finished makeME_LP in 0.369637 seconds\n",
      "Getting MINOS parameters from ME_NLP...\n",
      "4 0.625 0.625 0.6875 0.6875 1\n",
      "Finished substituting S,lb,ub in 2.297240 seconds\n",
      "Finished makeME_LP in 0.360360 seconds\n",
      "Getting MINOS parameters from ME_NLP...\n",
      "5 0.625 0.625 0.65625 0.65625 1\n",
      "Finished substituting S,lb,ub in 2.298186 seconds\n",
      "Finished makeME_LP in 0.361981 seconds\n",
      "Getting MINOS parameters from ME_NLP...\n",
      "6 0.625 0.625 0.640625 0.640625 1\n",
      "Finished substituting S,lb,ub in 2.304258 seconds\n",
      "Finished makeME_LP in 0.365838 seconds\n",
      "Getting MINOS parameters from ME_NLP...\n",
      "7 0.6328125 0.6328125 0.640625 0.6328125 optimal\n",
      "Bisection done in 120.031 seconds\n",
      "Growth-rate = [0.828125, 0.796875, 0.6328125]\n",
      "\n",
      "MaSp1 Flux #  0.0006\n",
      "iter\tmuopt    \ta     \tb     \tmu1       \tstat1\n",
      "Finished compiling expressions in 34.158494 seconds\n",
      "Finished substituting S,lb,ub in 2.277370 seconds\n",
      "Finished makeME_LP in 0.357573 seconds\n",
      "Getting MINOS parameters from ME_NLP...\n",
      "1 0.5 0.5 1.0 0.5 optimal\n",
      "Finished substituting S,lb,ub in 2.296961 seconds\n",
      "Finished makeME_LP in 0.364561 seconds\n",
      "Getting MINOS parameters from ME_NLP...\n",
      "2 0.5 0.5 0.75 0.75 1\n",
      "Finished substituting S,lb,ub in 2.348930 seconds\n",
      "Finished makeME_LP in 0.358736 seconds\n",
      "Getting MINOS parameters from ME_NLP...\n",
      "3 0.5 0.5 0.625 0.625 1\n",
      "Finished substituting S,lb,ub in 2.343924 seconds\n",
      "Finished makeME_LP in 0.364377 seconds\n",
      "Getting MINOS parameters from ME_NLP...\n",
      "4 0.5625 0.5625 0.625 0.5625 optimal\n",
      "Finished substituting S,lb,ub in 2.321278 seconds\n",
      "Finished makeME_LP in 0.362843 seconds\n",
      "Getting MINOS parameters from ME_NLP...\n",
      "5 0.5625 0.5625 0.59375 0.59375 1\n",
      "Finished substituting S,lb,ub in 2.355807 seconds\n",
      "Finished makeME_LP in 0.356429 seconds\n",
      "Getting MINOS parameters from ME_NLP...\n",
      "6 0.5625 0.5625 0.578125 0.578125 1\n",
      "Finished substituting S,lb,ub in 2.347812 seconds\n",
      "Finished makeME_LP in 0.357584 seconds\n",
      "Getting MINOS parameters from ME_NLP...\n",
      "7 0.5703125 0.5703125 0.578125 0.5703125 optimal\n",
      "Bisection done in 123.142 seconds\n",
      "Growth-rate = [0.828125, 0.796875, 0.6328125, 0.5703125]\n",
      "\n",
      "MaSp1 Flux #  0.00065\n",
      "iter\tmuopt    \ta     \tb     \tmu1       \tstat1\n",
      "Finished compiling expressions in 33.888267 seconds\n",
      "Finished substituting S,lb,ub in 2.281782 seconds\n",
      "Finished makeME_LP in 0.354815 seconds\n",
      "Getting MINOS parameters from ME_NLP...\n",
      "1 0.5 0.5 1.0 0.5 optimal\n",
      "Finished substituting S,lb,ub in 2.305646 seconds\n",
      "Finished makeME_LP in 0.358757 seconds\n",
      "Getting MINOS parameters from ME_NLP...\n",
      "2 0.5 0.5 0.75 0.75 1\n",
      "Finished substituting S,lb,ub in 2.325293 seconds\n",
      "Finished makeME_LP in 0.359407 seconds\n",
      "Getting MINOS parameters from ME_NLP...\n",
      "3 0.5 0.5 0.625 0.625 1\n",
      "Finished substituting S,lb,ub in 2.506723 seconds\n",
      "Finished makeME_LP in 0.365066 seconds\n",
      "Getting MINOS parameters from ME_NLP...\n",
      "4 0.5 0.5 0.5625 0.5625 1\n",
      "Finished substituting S,lb,ub in 2.319785 seconds\n",
      "Finished makeME_LP in 0.358701 seconds\n",
      "Getting MINOS parameters from ME_NLP...\n",
      "5 0.5 0.5 0.53125 0.53125 1\n",
      "Finished substituting S,lb,ub in 2.344893 seconds\n",
      "Finished makeME_LP in 0.365295 seconds\n",
      "Getting MINOS parameters from ME_NLP...\n",
      "6 0.515625 0.515625 0.53125 0.515625 optimal\n",
      "Finished substituting S,lb,ub in 2.321986 seconds\n",
      "Finished makeME_LP in 0.365374 seconds\n",
      "Getting MINOS parameters from ME_NLP...\n",
      "7 0.5234375 0.5234375 0.53125 0.5234375 optimal\n",
      "Bisection done in 120.239 seconds\n",
      "Growth-rate = [0.828125, 0.796875, 0.6328125, 0.5703125, 0.5234375]\n",
      "\n",
      "MaSp1 Flux #  0.00066\n",
      "iter\tmuopt    \ta     \tb     \tmu1       \tstat1\n",
      "Finished compiling expressions in 34.091362 seconds\n",
      "Finished substituting S,lb,ub in 2.295737 seconds\n",
      "Finished makeME_LP in 0.356502 seconds\n",
      "Getting MINOS parameters from ME_NLP...\n",
      "1 0.5 0.5 1.0 0.5 optimal\n",
      "Finished substituting S,lb,ub in 2.324639 seconds\n",
      "Finished makeME_LP in 0.358492 seconds\n",
      "Getting MINOS parameters from ME_NLP...\n",
      "2 0.5 0.5 0.75 0.75 1\n",
      "Finished substituting S,lb,ub in 2.356091 seconds\n",
      "Finished makeME_LP in 0.373099 seconds\n",
      "Getting MINOS parameters from ME_NLP...\n",
      "3 0.5 0.5 0.625 0.625 1\n",
      "Finished substituting S,lb,ub in 2.349682 seconds\n",
      "Finished makeME_LP in 0.360064 seconds\n",
      "Getting MINOS parameters from ME_NLP...\n",
      "4 0.5 0.5 0.5625 0.5625 1\n",
      "Finished substituting S,lb,ub in 2.327954 seconds\n",
      "Finished makeME_LP in 0.363836 seconds\n",
      "Getting MINOS parameters from ME_NLP...\n",
      "5 0.5 0.5 0.53125 0.53125 1\n",
      "Finished substituting S,lb,ub in 2.322063 seconds\n",
      "Finished makeME_LP in 0.368475 seconds\n",
      "Getting MINOS parameters from ME_NLP...\n",
      "6 0.5 0.5 0.515625 0.515625 1\n",
      "Finished substituting S,lb,ub in 2.342182 seconds\n",
      "Finished makeME_LP in 0.356713 seconds\n",
      "Getting MINOS parameters from ME_NLP...\n",
      "7 0.5078125 0.5078125 0.515625 0.5078125 optimal\n",
      "Bisection done in 120.497 seconds\n",
      "Growth-rate = [0.828125, 0.796875, 0.6328125, 0.5703125, 0.5234375, 0.5078125]\n",
      "\n",
      "MaSp1 Flux #  0.00067\n",
      "iter\tmuopt    \ta     \tb     \tmu1       \tstat1\n",
      "Finished compiling expressions in 34.166001 seconds\n",
      "Finished substituting S,lb,ub in 2.279937 seconds\n",
      "Finished makeME_LP in 0.359669 seconds\n",
      "Getting MINOS parameters from ME_NLP...\n"
     ]
    },
    {
     "name": "stdout",
     "output_type": "stream",
     "text": [
      "1 0.0 0.0 0.5 0.5 1\n",
      "Finished substituting S,lb,ub in 2.299053 seconds\n",
      "Finished makeME_LP in 0.370126 seconds\n",
      "Getting MINOS parameters from ME_NLP...\n",
      "2 0.0 0.0 0.25 0.25 1\n",
      "Finished substituting S,lb,ub in 2.315982 seconds\n",
      "Finished makeME_LP in 0.372641 seconds\n",
      "Getting MINOS parameters from ME_NLP...\n",
      "3 0.0 0.0 0.125 0.125 1\n",
      "Finished substituting S,lb,ub in 2.321443 seconds\n",
      "Finished makeME_LP in 0.362462 seconds\n",
      "Getting MINOS parameters from ME_NLP...\n",
      "4 0.0 0.0 0.0625 0.0625 1\n",
      "Finished substituting S,lb,ub in 2.320281 seconds\n",
      "Finished makeME_LP in 0.362461 seconds\n",
      "Getting MINOS parameters from ME_NLP...\n",
      "5 0.0 0.0 0.03125 0.03125 1\n",
      "Finished substituting S,lb,ub in 2.288368 seconds\n",
      "Finished makeME_LP in 0.359992 seconds\n",
      "Getting MINOS parameters from ME_NLP...\n",
      "6 0.0 0.0 0.015625 0.015625 1\n",
      "Finished substituting S,lb,ub in 2.312298 seconds\n",
      "Finished makeME_LP in 0.360047 seconds\n",
      "Getting MINOS parameters from ME_NLP...\n",
      "7 0.0 0.0 0.0078125 0.0078125 1\n",
      "Bisection done in 501.309 seconds\n",
      "Growth-rate = [0.828125, 0.796875, 0.6328125, 0.5703125, 0.5234375, 0.5078125, 0]\n"
     ]
    },
    {
     "data": {
      "text/plain": [
       "[0.828125, 0.796875, 0.6328125, 0.5703125, 0.5234375, 0.5078125, 0]"
      ]
     },
     "execution_count": 25,
     "metadata": {},
     "output_type": "execute_result"
    }
   ],
   "source": [
    "from contextlib import suppress\n",
    "\n",
    "MaSp1 = [0, 0.0001, 0.0005, 0.0006, 0.00065, 0.00066, 0.00067]\n",
    "growth_rate2 = []\n",
    "for x in MaSp1:\n",
    "    print('\\nMaSp1 Flux # ',x)\n",
    "    me.reactions.get_by_id('DM_protein_MaSp1').lower_bound = x\n",
    "    me.reactions.get_by_id('DM_protein_MaSp1').upper_bound = x\n",
    "    temp = 0\n",
    "    with suppress(Exception):\n",
    "        solve_me_model(me, 1.0, min_mu = .01, precision=1e-2, using_soplex=False)\n",
    "        temp = me.solution.f    \n",
    "    growth_rate2.append(temp)\n",
    "    print('Growth-rate =', growth_rate2)\n",
    "    \n",
    "growth_rate2"
   ]
  },
  {
   "cell_type": "code",
   "execution_count": 26,
   "metadata": {},
   "outputs": [
    {
     "data": {
      "image/png": "[encoded data removed]",
      "text/plain": [
       "<Figure size 504x288 with 1 Axes>"
      ]
     },
     "metadata": {},
     "output_type": "display_data"
    }
   ],
   "source": [
    "import matplotlib.pyplot as plt\n",
    "  \n",
    "# x axis values\n",
    "x = MaSp1\n",
    "# corresponding y axis values\n",
    "y = growth_rate2\n",
    "\n",
    "plt.figure(figsize=(7,4))\n",
    "\n",
    "# plotting the points \n",
    "plt.plot(x, y)\n",
    "  \n",
    "# naming the x axis\n",
    "plt.xlabel('MaSp1 External Flux')\n",
    "# naming the y axis\n",
    "plt.ylabel('Growth-rate')\n",
    "  \n",
    "# giving a title to my graph\n",
    "plt.title('Cell Growth-rate vs MaSp1 External Flux')\n",
    "  \n",
    "# function to show the plot\n",
    "plt.show()"
   ]
  },
  {
   "cell_type": "code",
   "execution_count": null,
   "metadata": {},
   "outputs": [],
   "source": []
  }
 ],
 "metadata": {
  "kernelspec": {
   "display_name": "Python 3",
   "language": "python",
   "name": "python3"
  },
  "language_info": {
   "codemirror_mode": {
    "name": "ipython",
    "version": 3
   },
   "file_extension": ".py",
   "mimetype": "text/x-python",
   "name": "python",
   "nbconvert_exporter": "python",
   "pygments_lexer": "ipython3",
   "version": "3.6.1"
  }
 },
 "nbformat": 4,
 "nbformat_minor": 2
}
