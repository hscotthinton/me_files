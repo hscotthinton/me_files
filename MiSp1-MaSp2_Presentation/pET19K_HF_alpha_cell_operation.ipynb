{
 "cells": [
  {
   "cell_type": "markdown",
   "metadata": {},
   "source": [
    "# Cell Operation with pET19K_HF_alpha "
   ]
  },
  {
   "cell_type": "markdown",
   "metadata": {},
   "source": [
    "## 1. Load the python packages"
   ]
  },
  {
   "cell_type": "code",
   "execution_count": 1,
   "metadata": {},
   "outputs": [
    {
     "name": "stderr",
     "output_type": "stream",
     "text": [
      "/usr/lib/python3.6/site-packages/cobra-0.5.11-py3.6-linux-x86_64.egg/cobra/solvers/__init__.py:63: UserWarning: No LP solvers found\n",
      "  warn(\"No LP solvers found\")\n",
      "/usr/lib/python3.6/site-packages/cobra-0.5.11-py3.6-linux-x86_64.egg/cobra/io/sbml3.py:24: UserWarning: Install lxml for faster SBML I/O\n",
      "  warn(\"Install lxml for faster SBML I/O\")\n",
      "/usr/lib/python3.6/site-packages/cobra-0.5.11-py3.6-linux-x86_64.egg/cobra/io/__init__.py:12: UserWarning: cobra.io.sbml requires libsbml\n",
      "  warn(\"cobra.io.sbml requires libsbml\")\n"
     ]
    }
   ],
   "source": [
    "from __future__ import print_function, division, absolute_import\n",
    "\n",
    "# python imports\n",
    "import re\n",
    "from os.path import join\n",
    "from collections import defaultdict\n",
    "import pickle\n",
    "import pandas as pd\n",
    "\n",
    "# third party imports\n",
    "import pandas\n",
    "import tabulate\n",
    "import cobra\n",
    "pd.set_option('display.max_columns', 100)\n",
    "pd.set_option('display.width',100)\n",
    "pd.set_option('display.max_colwidth',300)\n",
    "\n",
    "# ECOLIme\n",
    "import ecolime\n",
    "from ecolime import (transcription, translation, flat_files, generics, formulas, compartments)\n",
    "\n",
    "# COBRAme\n",
    "import cobrame\n",
    "from cobrame.util import building, mu, me_model_interface\n",
    "#from cobrame.io.json import save_json_me_model, save_reduced_json_me_model"
   ]
  },
  {
   "cell_type": "markdown",
   "metadata": {},
   "source": [
    "## 2. Load the iJL1678b model\n",
    "\n",
    "Load the iJL1678b model in pickle format that is located in the current directory."
   ]
  },
  {
   "cell_type": "code",
   "execution_count": 2,
   "metadata": {},
   "outputs": [],
   "source": [
    "with open('iJL1678b.pickle', 'rb') as f:\n",
    "    me = pickle.load(f)"
   ]
  },
  {
   "cell_type": "markdown",
   "metadata": {},
   "source": [
    "## 3. Define ME-Model Solve Functions"
   ]
  },
  {
   "cell_type": "code",
   "execution_count": 3,
   "metadata": {},
   "outputs": [],
   "source": [
    "def solve_me_model(me, max_mu, precision=1e-6, min_mu=0, using_soplex=False,\n",
    "                  compiled_expressions=None):\n",
    "    if using_soplex:\n",
    "        from cobrame.solve.algorithms import binary_search\n",
    "        binary_search(me, min_mu=min_mu, max_mu=max_mu, debug=True, mu_accuracy=precision,\n",
    "                      compiled_expressions=compiled_expressions)\n",
    "    else:\n",
    "        from qminospy.me1 import ME_NLP1\n",
    "        # The object containing solveME methods--composite that uses a ME model object \n",
    "        me_nlp = ME_NLP1(me, growth_key='mu')\n",
    "        # Use bisection for now (until the NLP formulation is worked out)\n",
    "        muopt, hs, xopt, cache = me_nlp.bisectmu(precision=precision, mumax=max_mu)\n",
    "        me.solution.f = me.solution.x_dict['biomass_dilution']\n",
    "        \n",
    "def show_escher_map(me, solution=None):\n",
    "    import escher\n",
    "    view = escher.Builder(\"iJO1366.Central metabolism\")\n",
    "    view.reaction_data = me.get_metabolic_flux(solution=solution)\n",
    "    return view"
   ]
  },
  {
   "cell_type": "markdown",
   "metadata": {},
   "source": [
    "## 4. Create the Hagfish-alpha Transcription Reaction\n",
    "\n",
    "Complete the steps necessary to create the Alpha Transcription Reaction"
   ]
  },
  {
   "cell_type": "code",
   "execution_count": 4,
   "metadata": {},
   "outputs": [
    {
     "name": "stdout",
     "output_type": "stream",
     "text": [
      "469 atp_c + 549 ctp_c + 411 gtp_c + 500 utp_c --> RNA_Alpha + 614.960167029 mRNA_biomass + 1929 ppi_c\n"
     ]
    },
    {
     "name": "stderr",
     "output_type": "stream",
     "text": [
      "/source/cobrame/cobrame/core/reaction.py:852 \u001b[1;31mUserWarning\u001b[0m: RNA Polymerase () not found\n"
     ]
    }
   ],
   "source": [
    "locus_id = 'Alpha'\n",
    "left_pos =  None\n",
    "right_pos = None\n",
    "seq = 'ATGAGCATCAGCCAGACCGTTAGCAAAAGCTATACCAAAAGCGTTAGCCGTGGTGGTCAGGGTGTTAGCTATAGCCAGAGCAGCAGCCATAAAGTTGGTGGTGGTAGCGTTCGTTATGGCACCACCTATAGCAGCGGTGGTATTAGCCGTGTTCTGGGTTTTCAAGGTGGTGCAGGCGGTGCAGCAAGCGCAGGTTTTGGTGGTAGTGTTGGTGGTTCAGGTCTGAGCCGTGTGTTAGGTGGTAGCATGGTTAGCGGTTATCGTAGCGGTATGGGTGTTGGCGGTCTGAGTCTGAGCGGCACCGCAGGTCTGCCGGTTAGCCTGCGTGGTGTTGGTGCAGGTAAAGCACTGCATGCAATTACCAGCGCATTTCGTACACGCGTTGGTGGTCCGGGTACAAGCGTTGGCGGTTATGGTGTGAATTATAGCTTTCTGCCGAGCACAGCAGGTCCGAGCTTTGGTGGCCCTTTTGGCGGTCCGTTTGGAGGTCCTTTTGGTGGACCATTAGGTCCGGGTTATATTGATCCGGCAACACTGCCGAGTCCGGATACCGTTCAGCATACCCGTATTCGTGAAAAACAGGATCTGCAGACACTGAATACCAAATTTGCCAATCTGGTTGATCAGGTTCGTACCCTGGAACAGCATAATGCAATTCTGAAAGCACAGATTAGCATGATTACCAGTCCGAGCGATACACCGGAAGGTCCGGTTAATACCGCAGTTGTTGCAAGCACCGTTACCGCAACCTATAATGCACAGATTGAAGATCTGCGTACCACCAATACCGCACTGCATAGCGAAATTGATCATCTGACAACCATCATCAACGACATCACCACCAAATATGAAGAACAGGTTGAAGTTACCCGTACACTGGAAACCGATTGGAATACCAACAAAGATAACATCGATAACACCTACCTGACCATTGTTGATCTGCAAACCAAAGTTCAAGGTCTGGATGAGCAGATTAATACCACAAAGCAGATTTATAACGCACGTGTTCGTGAAGTTCAGGCAGCAGTTACCGGTGGTCCGACCGCAGCATATAGCATTCGTGTTGATAATACCCATCAGGCCATTGATCTGACCACCTCACTGCAAGAAATGAAAACACATTATGAAGTGCTGGCAACCAAAAGCCGTGAAGAAGCATTTACCCAGGTTCAGCCTCGTATTCAAGAAATGGCAGTGACCGTGCAGGCAGGTCCGCAGGCAATTATTCAGGCAAAAGAACAAATCCACGTGTTCAAACTGCAGATTGATAGCGTTCATCGTGAAATCGATCGTCTGCATCGTAAAAATACCGATGTGGAACGTGAAATTACCGTGATCGAAACCAATATTCATACCCAGAGTGATGAATGGACCAACAATATTAACAGCCTGAAAGTTGATCTGGAAGTGATCAAAAAGCAGATCACCCAGTATGCACGTGATTATCAAGATCTGCTGGCCACAAAAATGAGCCTGGATGTTGAAATTGCAGCCTACAAAAAACTGCTGGATAGCGAAGAAACCCGTATTAGTCATGGTGGTGGCATTACCATTACAACCAATGCAGGCACCTTTCCTGGTGGTCTGAGCGCAGCCCCAGGTGGTGGTGCAAGCTATGCAATGGTTCCGGCAGGCGTTGGAGGTGTTGGTCTGGCAGGCGTAGGTGGTTATGGTTTTCGTAGCATGGGTGGCGGTGGTGGCGTTGGCTATGGTGCCGGTGGCGGAGGTGTAGGTTATGGCGTCGGTGGTGGTTTTGGAGGTGGTATGGGTATGAGCATGAGCCGTATGAGTATGGGTGCAGCAGTTGGCGGTGGCAGCTATGGTAGCGGCAGCGGTTATAGCGGTGGCTTTGGTCTGAGTAGCAGCCGTGCAGGTTATAGTGCAAGCCGTAAAAGCTATTCAAGCGCACGTAGCAGCAGTCGTATCTAT'\n",
    "strand = None\n",
    "rna_type = 'mRNA'\n",
    "\n",
    "building.create_transcribed_gene(me, locus_id, rna_type, seq)\n",
    "building.add_transcription_reaction(me, 'TU_Alpha', {'Alpha'}, seq)\n",
    "print(me.reactions.transcription_TU_Alpha.reaction)\n",
    "me.reactions.transcription_TU_Alpha.update()"
   ]
  },
  {
   "cell_type": "markdown",
   "metadata": {},
   "source": [
    "###  Add the RNAP to the Alpha Transcription Reaction"
   ]
  },
  {
   "cell_type": "code",
   "execution_count": 5,
   "metadata": {},
   "outputs": [],
   "source": [
    "me.reactions.transcription_TU_Alpha.transcription_data.RNA_polymerase = 'RNAP70-CPLX'\n",
    "me.reactions.transcription_TU_Alpha.update()"
   ]
  },
  {
   "cell_type": "markdown",
   "metadata": {},
   "source": [
    "List the transcription data (\"transcription_data\") associated with the Alpha transcription reaction (\"transcription_TU_Alpha\")."
   ]
  },
  {
   "cell_type": "code",
   "execution_count": 6,
   "metadata": {},
   "outputs": [
    {
     "data": {
      "text/html": [
       "<div>\n",
       "<style scoped>\n",
       "    .dataframe tbody tr th:only-of-type {\n",
       "        vertical-align: middle;\n",
       "    }\n",
       "\n",
       "    .dataframe tbody tr th {\n",
       "        vertical-align: top;\n",
       "    }\n",
       "\n",
       "    .dataframe thead th {\n",
       "        text-align: right;\n",
       "    }\n",
       "</style>\n",
       "<table border=\"1\" class=\"dataframe\">\n",
       "  <thead>\n",
       "    <tr style=\"text-align: right;\">\n",
       "      <th></th>\n",
       "      <th>Attribute Values</th>\n",
       "    </tr>\n",
       "  </thead>\n",
       "  <tbody>\n",
       "    <tr>\n",
       "      <th>id</th>\n",
       "      <td>TU_Alpha</td>\n",
       "    </tr>\n",
       "    <tr>\n",
       "      <th>_model</th>\n",
       "      <td>iJL1678b-ME</td>\n",
       "    </tr>\n",
       "    <tr>\n",
       "      <th>_parent_reactions</th>\n",
       "      <td>{'transcription_TU_Alpha'}</td>\n",
       "    </tr>\n",
       "    <tr>\n",
       "      <th>nucleotide_sequence</th>\n",
       "      <td>ATGAGCATCAGCCAGACCGTTAGCAAAAGCTATACCAAAAGCGTTAGCCGTGGTGGTCAGGGTGTTAGCTATAGCCAGAGCAGCAGCCATAAAGTTGGTGGTGGTAGCGTTCGTTATGGCACCACCTATAGCAGCGGTGGTATTAGCCGTGTTCTGGGTTTTCAAGGTGGTGCAGGCGGTGCAGCAAGCGCAGGTTTTGGTGGTAGTGTTGGTGGTTCAGGTCTGAGCCGTGTGTTAGGTGGTAGCATGGTTAGCGGTTATCGTAGCGGTATGGGTGTTGGCGGTCTGAGTCTGAG...</td>\n",
       "    </tr>\n",
       "    <tr>\n",
       "      <th>RNA_products</th>\n",
       "      <td>{'RNA_Alpha'}</td>\n",
       "    </tr>\n",
       "    <tr>\n",
       "      <th>RNA_polymerase</th>\n",
       "      <td>RNAP70-CPLX</td>\n",
       "    </tr>\n",
       "    <tr>\n",
       "      <th>subreactions</th>\n",
       "      <td>defaultdict(&lt;class 'int'&gt;, {})</td>\n",
       "    </tr>\n",
       "  </tbody>\n",
       "</table>\n",
       "</div>"
      ],
      "text/plain": [
       "                                                                                                                                                                                                                                                                                                                Attribute Values\n",
       "id                                                                                                                                                                                                                                                                                                                      TU_Alpha\n",
       "_model                                                                                                                                                                                                                                                                                                               iJL1678b-ME\n",
       "_parent_reactions                                                                                                                                                                                                                                                                                     {'transcription_TU_Alpha'}\n",
       "nucleotide_sequence  ATGAGCATCAGCCAGACCGTTAGCAAAAGCTATACCAAAAGCGTTAGCCGTGGTGGTCAGGGTGTTAGCTATAGCCAGAGCAGCAGCCATAAAGTTGGTGGTGGTAGCGTTCGTTATGGCACCACCTATAGCAGCGGTGGTATTAGCCGTGTTCTGGGTTTTCAAGGTGGTGCAGGCGGTGCAGCAAGCGCAGGTTTTGGTGGTAGTGTTGGTGGTTCAGGTCTGAGCCGTGTGTTAGGTGGTAGCATGGTTAGCGGTTATCGTAGCGGTATGGGTGTTGGCGGTCTGAGTCTGAG...\n",
       "RNA_products                                                                                                                                                                                                                                                                                                       {'RNA_Alpha'}\n",
       "RNA_polymerase                                                                                                                                                                                                                                                                                                       RNAP70-CPLX\n",
       "subreactions                                                                                                                                                                                                                                                                                      defaultdict(<class 'int'>, {})"
      ]
     },
     "execution_count": 6,
     "metadata": {},
     "output_type": "execute_result"
    }
   ],
   "source": [
    "rxn = me.reactions.transcription_TU_Alpha\n",
    "data = rxn.transcription_data\n",
    "pd.DataFrame({i: str(v) for i, v in data.__dict__.items()}, index=['Attribute Values']).T"
   ]
  },
  {
   "cell_type": "markdown",
   "metadata": {},
   "source": [
    "List the attributes of the Alpha transcription reaction."
   ]
  },
  {
   "cell_type": "code",
   "execution_count": 7,
   "metadata": {},
   "outputs": [
    {
     "data": {
      "text/html": [
       "<div>\n",
       "<style scoped>\n",
       "    .dataframe tbody tr th:only-of-type {\n",
       "        vertical-align: middle;\n",
       "    }\n",
       "\n",
       "    .dataframe tbody tr th {\n",
       "        vertical-align: top;\n",
       "    }\n",
       "\n",
       "    .dataframe thead th {\n",
       "        text-align: right;\n",
       "    }\n",
       "</style>\n",
       "<table border=\"1\" class=\"dataframe\">\n",
       "  <thead>\n",
       "    <tr style=\"text-align: right;\">\n",
       "      <th></th>\n",
       "      <th>Attribute Values</th>\n",
       "    </tr>\n",
       "  </thead>\n",
       "  <tbody>\n",
       "    <tr>\n",
       "      <th>id</th>\n",
       "      <td>transcription_TU_Alpha</td>\n",
       "    </tr>\n",
       "    <tr>\n",
       "      <th>name</th>\n",
       "      <td></td>\n",
       "    </tr>\n",
       "    <tr>\n",
       "      <th>notes</th>\n",
       "      <td>{}</td>\n",
       "    </tr>\n",
       "    <tr>\n",
       "      <th>annotation</th>\n",
       "      <td>{}</td>\n",
       "    </tr>\n",
       "    <tr>\n",
       "      <th>_gene_reaction_rule</th>\n",
       "      <td></td>\n",
       "    </tr>\n",
       "    <tr>\n",
       "      <th>subsystem</th>\n",
       "      <td></td>\n",
       "    </tr>\n",
       "    <tr>\n",
       "      <th>_genes</th>\n",
       "      <td>set()</td>\n",
       "    </tr>\n",
       "    <tr>\n",
       "      <th>_metabolites</th>\n",
       "      <td>{&lt;RNAP RNAP70-CPLX at 0x7ff1172073c8&gt;: -0.00921844765619026*mu - 0.00360902225739849, &lt;TranscribedGene RNA_Alpha at 0x7ff11732fc88&gt;: 1, &lt;Metabolite utp_c at 0x7ff117207e48&gt;: -500, &lt;Metabolite atp_c at 0x7ff1172079b0&gt;: -469, &lt;Metabolite ctp_c at 0x7ff117207f28&gt;: -549, &lt;Metabolite gtp_c at 0x7ff11...</td>\n",
       "    </tr>\n",
       "    <tr>\n",
       "      <th>_model</th>\n",
       "      <td>iJL1678b-ME</td>\n",
       "    </tr>\n",
       "    <tr>\n",
       "      <th>_objective_coefficient</th>\n",
       "      <td>0.0</td>\n",
       "    </tr>\n",
       "    <tr>\n",
       "      <th>upper_bound</th>\n",
       "      <td>1000.0</td>\n",
       "    </tr>\n",
       "    <tr>\n",
       "      <th>lower_bound</th>\n",
       "      <td>0.0</td>\n",
       "    </tr>\n",
       "    <tr>\n",
       "      <th>variable_kind</th>\n",
       "      <td>continuous</td>\n",
       "    </tr>\n",
       "    <tr>\n",
       "      <th>_transcription_data</th>\n",
       "      <td>&lt;TranscriptionData TU_Alpha at 0x7ff11732f780&gt;</td>\n",
       "    </tr>\n",
       "  </tbody>\n",
       "</table>\n",
       "</div>"
      ],
      "text/plain": [
       "                                                                                                                                                                                                                                                                                                                   Attribute Values\n",
       "id                                                                                                                                                                                                                                                                                                           transcription_TU_Alpha\n",
       "name                                                                                                                                                                                                                                                                                                                               \n",
       "notes                                                                                                                                                                                                                                                                                                                            {}\n",
       "annotation                                                                                                                                                                                                                                                                                                                       {}\n",
       "_gene_reaction_rule                                                                                                                                                                                                                                                                                                                \n",
       "subsystem                                                                                                                                                                                                                                                                                                                          \n",
       "_genes                                                                                                                                                                                                                                                                                                                        set()\n",
       "_metabolites            {<RNAP RNAP70-CPLX at 0x7ff1172073c8>: -0.00921844765619026*mu - 0.00360902225739849, <TranscribedGene RNA_Alpha at 0x7ff11732fc88>: 1, <Metabolite utp_c at 0x7ff117207e48>: -500, <Metabolite atp_c at 0x7ff1172079b0>: -469, <Metabolite ctp_c at 0x7ff117207f28>: -549, <Metabolite gtp_c at 0x7ff11...\n",
       "_model                                                                                                                                                                                                                                                                                                                  iJL1678b-ME\n",
       "_objective_coefficient                                                                                                                                                                                                                                                                                                          0.0\n",
       "upper_bound                                                                                                                                                                                                                                                                                                                  1000.0\n",
       "lower_bound                                                                                                                                                                                                                                                                                                                     0.0\n",
       "variable_kind                                                                                                                                                                                                                                                                                                            continuous\n",
       "_transcription_data                                                                                                                                                                                                                                                                  <TranscriptionData TU_Alpha at 0x7ff11732f780>"
      ]
     },
     "execution_count": 7,
     "metadata": {},
     "output_type": "execute_result"
    }
   ],
   "source": [
    "rxn = me.reactions.transcription_TU_Alpha\n",
    "data = rxn\n",
    "pd.DataFrame({i: str(v) for i, v in data.__dict__.items()}, index=['Attribute Values']).T"
   ]
  },
  {
   "cell_type": "markdown",
   "metadata": {},
   "source": [
    "List the complete reaction associated with the Alpha transcription reaction."
   ]
  },
  {
   "cell_type": "code",
   "execution_count": 8,
   "metadata": {},
   "outputs": [
    {
     "data": {
      "text/plain": [
       "'0.00921844765619026*mu + 0.00360902225739849 RNAP70-CPLX + 469 atp_c + 549 ctp_c + 411 gtp_c + 500 utp_c --> RNA_Alpha + 614.960167029 mRNA_biomass + 1929 ppi_c'"
      ]
     },
     "execution_count": 8,
     "metadata": {},
     "output_type": "execute_result"
    }
   ],
   "source": [
    "me.reactions.get_by_id('transcription_TU_Alpha').reaction"
   ]
  },
  {
   "cell_type": "markdown",
   "metadata": {},
   "source": [
    "List the RNAP associated with the Alpha transcription reaction"
   ]
  },
  {
   "cell_type": "code",
   "execution_count": 9,
   "metadata": {},
   "outputs": [
    {
     "data": {
      "text/plain": [
       "'RNAP70-CPLX'"
      ]
     },
     "execution_count": 9,
     "metadata": {},
     "output_type": "execute_result"
    }
   ],
   "source": [
    "me.reactions.transcription_TU_Alpha.transcription_data.RNA_polymerase"
   ]
  },
  {
   "cell_type": "markdown",
   "metadata": {},
   "source": [
    "## 5. Create the Alpha Translation Reaction"
   ]
  },
  {
   "cell_type": "markdown",
   "metadata": {},
   "source": [
    "Complete all the steps necessary to create the Alpha Translation Reaction"
   ]
  },
  {
   "cell_type": "markdown",
   "metadata": {},
   "source": [
    "### Storing information about a translation reaction"
   ]
  },
  {
   "cell_type": "code",
   "execution_count": 10,
   "metadata": {},
   "outputs": [],
   "source": [
    "data = cobrame.TranslationData('Alpha', me, 'RNA_Alpha', 'protein_Alpha')\n",
    "data.nucleotide_sequence = seq"
   ]
  },
  {
   "cell_type": "markdown",
   "metadata": {},
   "source": [
    "### Create translation reaction\n",
    "\n",
    "By associating the TranslationReaction with its corresponding TranslationData object and running the update function, COBRAme will create a translation reaction for the nucleotide sequence given based on the organisms codon table and prespecified translation machinery."
   ]
  },
  {
   "cell_type": "code",
   "execution_count": 11,
   "metadata": {},
   "outputs": [],
   "source": [
    "rxn = cobrame.TranslationReaction('translation_Alpha')\n",
    "rxn.translation_data = data\n",
    "me.add_reaction(rxn)"
   ]
  },
  {
   "cell_type": "markdown",
   "metadata": {},
   "source": [
    "### Updating the translation reaction\n",
    "\n",
    "Note that this process does not include the ribosome in the reaction."
   ]
  },
  {
   "cell_type": "code",
   "execution_count": 12,
   "metadata": {},
   "outputs": [
    {
     "name": "stdout",
     "output_type": "stream",
     "text": [
      "0.000498399634202103*mu + 0.000195123456790123 + 0.00598079561042524*(mu + 0.3915)/mu RNA_Alpha + 2.55589556001079e-8*mu + 1.00063311174422e-8 RNA_degradosome + 48 ala__L_c + 30 arg__L_c + 21 asn__L_c + 24 asp__L_c + 2.88274348422497*(mu + 0.3915)/mu atp_c + 31 gln__L_c + 26 glu__L_c + 102 gly_c + 13 his__L_c + 36 ile__L_c + 38 leu__L_c + 23 lys__L_c + 3.67795106755342*(mu + 0.3915)/mu mRNA_biomass + 14 met__L_c + 15 phe__L_c + 21 pro__L_c + 0.00921844765619026*mu + 0.00360902225739849 ribosome + 66 ser__L_c + 58 thr__L_c + 2 trp__L_c + 26 tyr__L_c + 49 val__L_c --> 2.88274348422497*(mu + 0.3915)/mu adp_c + 2.80499314128944*(mu + 0.3915)/mu amp_c + 3.28345679012346*(mu + 0.3915)/mu cmp_c + 2.45810699588477*(mu + 0.3915)/mu gmp_c + 642.0 - 2.88274348422497*(mu + 0.3915)/mu h2o_c + 2.88274348422497*(mu + 0.3915)/mu h_c + 2.88274348422497*(mu + 0.3915)/mu pi_c + protein_Alpha + 66.69648898000001 protein_biomass + 2.99039780521262*(mu + 0.3915)/mu ump_c\n"
     ]
    }
   ],
   "source": [
    "rxn.update()\n",
    "print(rxn.reaction)"
   ]
  },
  {
   "cell_type": "markdown",
   "metadata": {},
   "source": [
    "### Incorporate the ribosome\n",
    "\n",
    "Add the ribosome to the reaction."
   ]
  },
  {
   "cell_type": "code",
   "execution_count": 13,
   "metadata": {},
   "outputs": [
    {
     "name": "stdout",
     "output_type": "stream",
     "text": [
      "0.000498399634202103*mu + 0.000195123456790123 + 0.00598079561042524*(mu + 0.3915)/mu RNA_Alpha + 2.55589556001079e-8*mu + 1.00063311174422e-8 RNA_degradosome + 48 ala__L_c + 30 arg__L_c + 21 asn__L_c + 24 asp__L_c + 2.88274348422497*(mu + 0.3915)/mu atp_c + 31 gln__L_c + 26 glu__L_c + 102 gly_c + 13 his__L_c + 36 ile__L_c + 38 leu__L_c + 23 lys__L_c + 3.67795106755342*(mu + 0.3915)/mu mRNA_biomass + 14 met__L_c + 15 phe__L_c + 21 pro__L_c + 0.00921844765619026*mu + 0.00360902225739849 ribosome + 66 ser__L_c + 58 thr__L_c + 2 trp__L_c + 26 tyr__L_c + 49 val__L_c --> 2.88274348422497*(mu + 0.3915)/mu adp_c + 2.80499314128944*(mu + 0.3915)/mu amp_c + 3.28345679012346*(mu + 0.3915)/mu cmp_c + 2.45810699588477*(mu + 0.3915)/mu gmp_c + 642.0 - 2.88274348422497*(mu + 0.3915)/mu h2o_c + 2.88274348422497*(mu + 0.3915)/mu h_c + 2.88274348422497*(mu + 0.3915)/mu pi_c + protein_Alpha + 66.69648898000001 protein_biomass + 2.99039780521262*(mu + 0.3915)/mu ump_c\n"
     ]
    }
   ],
   "source": [
    "ribosome = cobrame.Ribosome('ribosome')\n",
    "me.add_metabolites([ribosome])\n",
    "me.reactions.translation_Alpha.update()\n",
    "print(me.reactions.translation_Alpha.reaction)"
   ]
  },
  {
   "cell_type": "markdown",
   "metadata": {},
   "source": [
    "### Add Subreactions to the Alpha model"
   ]
  },
  {
   "cell_type": "markdown",
   "metadata": {},
   "source": [
    "Create the subreactions that represent elongation, initiation and termination"
   ]
  },
  {
   "cell_type": "code",
   "execution_count": 14,
   "metadata": {},
   "outputs": [
    {
     "name": "stderr",
     "output_type": "stream",
     "text": [
      "/source/cobrame/cobrame/core/processdata.py:896 \u001b[1;31mUserWarning\u001b[0m: No termination enzyme for RNA_Alpha\n"
     ]
    }
   ],
   "source": [
    "elongation = ['FusA_mono_elongation', 'Tuf_gtp_regeneration']\n",
    "initiation = ['Translation_gtp_initiation_factor_InfB', 'Translation_initiation_factor_InfA', \n",
    "              'Translation_initiation_factor_InfC', 'fmet_addition_at_START', 'peptide_deformylase_processing', \n",
    "              'peptide_chain_release', 'ribosome_recycler']\n",
    "termination = {'UGA':'PrfB_mono'}\n",
    "me.process_data.get_by_id('Alpha').add_elongation_subreactions(elongation_subreactions=set(elongation))\n",
    "me.process_data.get_by_id('Alpha').add_initiation_subreactions(start_codons=set(['AUG']), start_subreactions=set(initiation))\n",
    "me.process_data.get_by_id('Alpha').add_termination_subreactions(translation_terminator_dict=termination)\n",
    "#me.reactions.translation_Alpha.update(verbose=False)"
   ]
  },
  {
   "cell_type": "markdown",
   "metadata": {},
   "source": [
    "List the subreactions associated with Alpha translation reaction stored in the ProcessData."
   ]
  },
  {
   "cell_type": "code",
   "execution_count": 15,
   "metadata": {
    "scrolled": true
   },
   "outputs": [
    {
     "data": {
      "text/plain": [
       "defaultdict(int,\n",
       "            {'FusA_mono_elongation': 642.0,\n",
       "             'Tuf_gtp_regeneration': 642.0,\n",
       "             'met_addition_at_AUG': 13,\n",
       "             'ser_addition_at_AGC': 53,\n",
       "             'ile_addition_at_AUC': 11,\n",
       "             'gln_addition_at_CAG': 24,\n",
       "             'thr_addition_at_ACC': 46,\n",
       "             'val_addition_at_GUU': 37,\n",
       "             'lys_addition_at_AAA': 21,\n",
       "             'tyr_addition_at_UAU': 23,\n",
       "             'arg_addition_at_CGU': 29,\n",
       "             'gly_addition_at_GGU': 77,\n",
       "             'his_addition_at_CAU': 12,\n",
       "             'gly_addition_at_GGC': 20,\n",
       "             'ile_addition_at_AUU': 25,\n",
       "             'leu_addition_at_CUG': 36,\n",
       "             'phe_addition_at_UUU': 14,\n",
       "             'gln_addition_at_CAA': 7,\n",
       "             'ala_addition_at_GCA': 42,\n",
       "             'ser_addition_at_AGU': 10,\n",
       "             'ser_addition_at_UCA': 3,\n",
       "             'val_addition_at_GUG': 9,\n",
       "             'leu_addition_at_UUA': 2,\n",
       "             'pro_addition_at_CCG': 15,\n",
       "             'thr_addition_at_ACA': 12,\n",
       "             'arg_addition_at_CGC': 1,\n",
       "             'asn_addition_at_AAU': 14,\n",
       "             'pro_addition_at_CCU': 4,\n",
       "             'gly_addition_at_GGA': 5,\n",
       "             'pro_addition_at_CCA': 2,\n",
       "             'asp_addition_at_GAU': 23,\n",
       "             'glu_addition_at_GAA': 25,\n",
       "             'ala_addition_at_GCC': 6,\n",
       "             'asn_addition_at_AAC': 7,\n",
       "             'asp_addition_at_GAC': 1,\n",
       "             'trp_addition_at_UGG': 2,\n",
       "             'tyr_addition_at_UAC': 2,\n",
       "             'glu_addition_at_GAG': 1,\n",
       "             'lys_addition_at_AAG': 2,\n",
       "             'his_addition_at_CAC': 1,\n",
       "             'phe_addition_at_UUC': 1,\n",
       "             'val_addition_at_GUA': 2,\n",
       "             'val_addition_at_GUC': 1,\n",
       "             'Translation_gtp_initiation_factor_InfB': 1,\n",
       "             'Translation_initiation_factor_InfC': 1,\n",
       "             'peptide_deformylase_processing': 1,\n",
       "             'peptide_chain_release': 1,\n",
       "             'ribosome_recycler': 1,\n",
       "             'fmet_addition_at_START': 1,\n",
       "             'Translation_initiation_factor_InfA': 1})"
      ]
     },
     "execution_count": 15,
     "metadata": {},
     "output_type": "execute_result"
    }
   ],
   "source": [
    "me.process_data.get_by_id('Alpha').subreactions"
   ]
  },
  {
   "cell_type": "markdown",
   "metadata": {},
   "source": [
    "List the subreactions generated from the nucleatide sequence that are stored in the ProcessData."
   ]
  },
  {
   "cell_type": "code",
   "execution_count": 16,
   "metadata": {
    "scrolled": true
   },
   "outputs": [
    {
     "data": {
      "text/plain": [
       "{'met_addition_at_AUG': 13,\n",
       " 'ser_addition_at_AGC': 53,\n",
       " 'ile_addition_at_AUC': 11,\n",
       " 'gln_addition_at_CAG': 24,\n",
       " 'thr_addition_at_ACC': 46,\n",
       " 'val_addition_at_GUU': 37,\n",
       " 'lys_addition_at_AAA': 21,\n",
       " 'tyr_addition_at_UAU': 23,\n",
       " 'arg_addition_at_CGU': 29,\n",
       " 'gly_addition_at_GGU': 77,\n",
       " 'his_addition_at_CAU': 12,\n",
       " 'gly_addition_at_GGC': 20,\n",
       " 'ile_addition_at_AUU': 25,\n",
       " 'leu_addition_at_CUG': 36,\n",
       " 'phe_addition_at_UUU': 14,\n",
       " 'gln_addition_at_CAA': 7,\n",
       " 'ala_addition_at_GCA': 42,\n",
       " 'ser_addition_at_AGU': 10,\n",
       " 'ser_addition_at_UCA': 3,\n",
       " 'val_addition_at_GUG': 9,\n",
       " 'leu_addition_at_UUA': 2,\n",
       " 'pro_addition_at_CCG': 15,\n",
       " 'thr_addition_at_ACA': 12,\n",
       " 'arg_addition_at_CGC': 1,\n",
       " 'asn_addition_at_AAU': 14,\n",
       " 'pro_addition_at_CCU': 4,\n",
       " 'gly_addition_at_GGA': 5,\n",
       " 'pro_addition_at_CCA': 2,\n",
       " 'asp_addition_at_GAU': 23,\n",
       " 'glu_addition_at_GAA': 25,\n",
       " 'ala_addition_at_GCC': 6,\n",
       " 'asn_addition_at_AAC': 7,\n",
       " 'asp_addition_at_GAC': 1,\n",
       " 'trp_addition_at_UGG': 2,\n",
       " 'tyr_addition_at_UAC': 2,\n",
       " 'glu_addition_at_GAG': 1,\n",
       " 'lys_addition_at_AAG': 2,\n",
       " 'his_addition_at_CAC': 1,\n",
       " 'phe_addition_at_UUC': 1,\n",
       " 'val_addition_at_GUA': 2,\n",
       " 'val_addition_at_GUC': 1}"
      ]
     },
     "execution_count": 16,
     "metadata": {},
     "output_type": "execute_result"
    }
   ],
   "source": [
    "me.process_data.get_by_id('Alpha').subreactions_from_sequence"
   ]
  },
  {
   "cell_type": "markdown",
   "metadata": {},
   "source": [
    "### Updating the Alpha translation reaction"
   ]
  },
  {
   "cell_type": "code",
   "execution_count": 17,
   "metadata": {},
   "outputs": [
    {
     "name": "stdout",
     "output_type": "stream",
     "text": [
      "Before adding tRNA subreaction\n",
      "------------------------------\n",
      "0.000498399634202103*mu + 0.000195123456790123 + 0.00598079561042524*(mu + 0.3915)/mu RNA_Alpha + 2.55589556001079e-8*mu + 1.00063311174422e-8 RNA_degradosome + 48 ala__L_c + 30 arg__L_c + 21 asn__L_c + 24 asp__L_c + 2.88274348422497*(mu + 0.3915)/mu atp_c + 31 gln__L_c + 26 glu__L_c + 102 gly_c + 13 his__L_c + 36 ile__L_c + 38 leu__L_c + 23 lys__L_c + 3.67795106755342*(mu + 0.3915)/mu mRNA_biomass + 14 met__L_c + 15 phe__L_c + 21 pro__L_c + 0.00921844765619026*mu + 0.00360902225739849 ribosome + 66 ser__L_c + 58 thr__L_c + 2 trp__L_c + 26 tyr__L_c + 49 val__L_c --> 2.88274348422497*(mu + 0.3915)/mu adp_c + 2.80499314128944*(mu + 0.3915)/mu amp_c + 3.28345679012346*(mu + 0.3915)/mu cmp_c + 2.45810699588477*(mu + 0.3915)/mu gmp_c + 642.0 - 2.88274348422497*(mu + 0.3915)/mu h2o_c + 2.88274348422497*(mu + 0.3915)/mu h_c + 2.88274348422497*(mu + 0.3915)/mu pi_c + protein_Alpha + 66.69648898000001 protein_biomass + 2.99039780521262*(mu + 0.3915)/mu ump_c\n",
      "\n",
      "After adding tRNA subreaction\n",
      "-----------------------------\n",
      "10fthf_c + 2.72438972852433e-7*mu Def_mono_mod_1:fe2 + 1.80324164444648e-7*mu Fmt_mono_mod_mg2_mod_k + 0.00274358974358974*mu FusA_mono + 4.27350427350427e-6*mu InfA_mono + 4.45382843794892e-6*mu InfB_mono + 4.27350427350427e-6*mu InfC_mono + 4.27350427350427e-6*mu PrfC_mono + 0.000498399634202103*mu + 0.000195123456790123 + 0.00598079561042524*(mu + 0.3915)/mu RNA_Alpha + 2.55589556001079e-8*mu + 1.00063311174422e-8 RNA_degradosome + 2.62130898398882e-7*mu Rrf_mono + 0.00274358974358974*mu Tsf_mono + 48 ala__L_c + 30 arg__L_c + 21 asn__L_c + 24 asp__L_c + 641.0 + 2.88274348422497*(mu + 0.3915)/mu atp_c + 0.00273931623931624*mu generic_Tuf + 21.0 generic_tRNA_AAA_lys__L_c + 7.0 generic_tRNA_AAC_asn__L_c + 2.0 generic_tRNA_AAG_lys__L_c + 14.0 generic_tRNA_AAU_asn__L_c + 12.0 generic_tRNA_ACA_thr__L_c + 46.0 generic_tRNA_ACC_thr__L_c + 53.0 generic_tRNA_AGC_ser__L_c + 10.0 generic_tRNA_AGU_ser__L_c + 11.0 generic_tRNA_AUC_ile__L_c + 13.0 generic_tRNA_AUG_met__L_c + 25.0 generic_tRNA_AUU_ile__L_c + 7.0 generic_tRNA_CAA_gln__L_c + generic_tRNA_CAC_his__L_c + 24.0 generic_tRNA_CAG_gln__L_c + 12.0 generic_tRNA_CAU_his__L_c + 2.0 generic_tRNA_CCA_pro__L_c + 15.0 generic_tRNA_CCG_pro__L_c + 4.0 generic_tRNA_CCU_pro__L_c + generic_tRNA_CGC_arg__L_c + 29.0 generic_tRNA_CGU_arg__L_c + 36.0 generic_tRNA_CUG_leu__L_c + 25.0 generic_tRNA_GAA_glu__L_c + generic_tRNA_GAC_asp__L_c + generic_tRNA_GAG_glu__L_c + 23.0 generic_tRNA_GAU_asp__L_c + 42.0 generic_tRNA_GCA_ala__L_c + 6.0 generic_tRNA_GCC_ala__L_c + 5.0 generic_tRNA_GGA_gly_c + 20.0 generic_tRNA_GGC_gly_c + 77.0 generic_tRNA_GGU_gly_c + 2.0 generic_tRNA_GUA_val__L_c + generic_tRNA_GUC_val__L_c + 9.0 generic_tRNA_GUG_val__L_c + 37.0 generic_tRNA_GUU_val__L_c + generic_tRNA_START_met__L_c + 2.0 generic_tRNA_UAC_tyr__L_c + 23.0 generic_tRNA_UAU_tyr__L_c + 3.0 generic_tRNA_UCA_ser__L_c + 2.0 generic_tRNA_UGG_trp__L_c + 2.0 generic_tRNA_UUA_leu__L_c + generic_tRNA_UUC_phe__L_c + 14.0 generic_tRNA_UUU_phe__L_c + 31 gln__L_c + 26 glu__L_c + 102 gly_c + 1285.0 gtp_c + 1285.0 + 2.88274348422497*(mu + 0.3915)/mu h2o_c + 13 his__L_c + 36 ile__L_c + 38 leu__L_c + 23 lys__L_c + 3.67795106755342*(mu + 0.3915)/mu mRNA_biomass + 14 met__L_c + 15 phe__L_c + 21 pro__L_c + 0.00921844765619026*mu + 0.00360902225739849 ribosome + 66 ser__L_c + 58 thr__L_c + 2 trp__L_c + 26 tyr__L_c + 49 val__L_c --> 2.88274348422497*(mu + 0.3915)/mu adp_c + 641.0 + 2.80499314128944*(mu + 0.3915)/mu amp_c + 3.28345679012346*(mu + 0.3915)/mu cmp_c + for_c + 1285.0 gdp_c + 2.45810699588477*(mu + 0.3915)/mu gmp_c + 1926.0 + 2.88274348422497*(mu + 0.3915)/mu h_c + 1285.0 + 2.88274348422497*(mu + 0.3915)/mu pi_c + 641.0 ppi_c + protein_Alpha + 66.69749692 protein_biomass + thf_c + 2.99039780521262*(mu + 0.3915)/mu ump_c\n"
     ]
    },
    {
     "name": "stderr",
     "output_type": "stream",
     "text": [
      "/source/cobrame/cobrame/core/processdata.py:256 \u001b[1;31mUserWarning\u001b[0m: met (generic_tRNA_GAG_glu__L_c) does not have formula\n"
     ]
    }
   ],
   "source": [
    "translation_subreactions = me.process_data.Alpha.subreactions_from_sequence\n",
    "print(\"Before adding tRNA subreaction\")\n",
    "print(\"------------------------------\")\n",
    "print(me.reactions.translation_Alpha.reaction)\n",
    "print(\"\")\n",
    "# Link tranlation_data to subreactions and update\n",
    "for subreaction, value in translation_subreactions.items():\n",
    "    me.process_data.Alpha.subreactions[subreaction] = value\n",
    "me.reactions.translation_Alpha.update(verbose=False)\n",
    "print(\"After adding tRNA subreaction\")\n",
    "print(\"-----------------------------\")\n",
    "print(me.reactions.translation_Alpha.reaction)"
   ]
  },
  {
   "cell_type": "markdown",
   "metadata": {},
   "source": [
    "List the reactants associated with the Alpha translation reaction. In this list all the subreactions should be listed."
   ]
  },
  {
   "cell_type": "code",
   "execution_count": 18,
   "metadata": {
    "scrolled": true
   },
   "outputs": [
    {
     "data": {
      "text/plain": [
       "[<Metabolite met__L_c at 0x7ff1165069b0>,\n",
       " <Metabolite h2o_c at 0x7ff117207a90>,\n",
       " <Metabolite ser__L_c at 0x7ff116506eb8>,\n",
       " <Metabolite ile__L_c at 0x7ff116512208>,\n",
       " <Metabolite gln__L_c at 0x7ff116512278>,\n",
       " <Metabolite thr__L_c at 0x7ff116506e10>,\n",
       " <Metabolite val__L_c at 0x7ff116506ac8>,\n",
       " <Metabolite lys__L_c at 0x7ff116506b70>,\n",
       " <Metabolite tyr__L_c at 0x7ff116512470>,\n",
       " <Metabolite arg__L_c at 0x7ff117359dd8>,\n",
       " <Metabolite gly_c at 0x7ff116506cf8>,\n",
       " <Metabolite his__L_c at 0x7ff116512390>,\n",
       " <Metabolite leu__L_c at 0x7ff116506ba8>,\n",
       " <Metabolite phe__L_c at 0x7ff116506cc0>,\n",
       " <Metabolite ala__L_c at 0x7ff116506f60>,\n",
       " <Metabolite pro__L_c at 0x7ff1165122e8>,\n",
       " <Metabolite asn__L_c at 0x7ff116512048>,\n",
       " <Metabolite asp__L_c at 0x7ff116512160>,\n",
       " <Metabolite glu__L_c at 0x7ff1165120b8>,\n",
       " <Metabolite trp__L_c at 0x7ff1165124e0>,\n",
       " <Ribosome ribosome at 0x7ff116512550>,\n",
       " <TranscribedGene RNA_Alpha at 0x7ff11732fc88>,\n",
       " <Metabolite atp_c at 0x7ff1172079b0>,\n",
       " <Complex RNA_degradosome at 0x7ff117229438>,\n",
       " <Complex FusA_mono at 0x7ff11652dc18>,\n",
       " <Metabolite gtp_c at 0x7ff11720d048>,\n",
       " <Complex Tsf_mono at 0x7ff11652dc50>,\n",
       " <GenericComponent generic_Tuf at 0x7ff116512a58>,\n",
       " <GenerictRNA generic_tRNA_AUG_met__L_c at 0x7ff116512cc0>,\n",
       " <GenerictRNA generic_tRNA_AGC_ser__L_c at 0x7ff116524518>,\n",
       " <GenerictRNA generic_tRNA_AUC_ile__L_c at 0x7ff116524978>,\n",
       " <GenerictRNA generic_tRNA_CAG_gln__L_c at 0x7ff1165245f8>,\n",
       " <GenerictRNA generic_tRNA_ACC_thr__L_c at 0x7ff1165246d8>,\n",
       " <GenerictRNA generic_tRNA_GUU_val__L_c at 0x7ff116524358>,\n",
       " <GenerictRNA generic_tRNA_AAA_lys__L_c at 0x7ff116524908>,\n",
       " <GenerictRNA generic_tRNA_UAU_tyr__L_c at 0x7ff11652d4a8>,\n",
       " <GenerictRNA generic_tRNA_CGU_arg__L_c at 0x7ff116524208>,\n",
       " <GenerictRNA generic_tRNA_GGU_gly_c at 0x7ff116512f28>,\n",
       " <GenerictRNA generic_tRNA_CAU_his__L_c at 0x7ff116524f28>,\n",
       " <GenerictRNA generic_tRNA_GGC_gly_c at 0x7ff116512eb8>,\n",
       " <GenerictRNA generic_tRNA_AUU_ile__L_c at 0x7ff1165244a8>,\n",
       " <GenerictRNA generic_tRNA_CUG_leu__L_c at 0x7ff1165242e8>,\n",
       " <GenerictRNA generic_tRNA_UUU_phe__L_c at 0x7ff116524278>,\n",
       " <GenerictRNA generic_tRNA_CAA_gln__L_c at 0x7ff116524dd8>,\n",
       " <GenerictRNA generic_tRNA_GCA_ala__L_c at 0x7ff1165240b8>,\n",
       " <GenerictRNA generic_tRNA_AGU_ser__L_c at 0x7ff116524f98>,\n",
       " <GenerictRNA generic_tRNA_UCA_ser__L_c at 0x7ff116524048>,\n",
       " <GenerictRNA generic_tRNA_GUG_val__L_c at 0x7ff116512d30>,\n",
       " <GenerictRNA generic_tRNA_UUA_leu__L_c at 0x7ff116524ba8>,\n",
       " <GenerictRNA generic_tRNA_CCG_pro__L_c at 0x7ff116524d68>,\n",
       " <GenerictRNA generic_tRNA_ACA_thr__L_c at 0x7ff116512f98>,\n",
       " <GenerictRNA generic_tRNA_CGC_arg__L_c at 0x7ff11652d208>,\n",
       " <GenerictRNA generic_tRNA_AAU_asn__L_c at 0x7ff116524128>,\n",
       " <GenerictRNA generic_tRNA_CCU_pro__L_c at 0x7ff11652d518>,\n",
       " <GenerictRNA generic_tRNA_GGA_gly_c at 0x7ff116524cf8>,\n",
       " <GenerictRNA generic_tRNA_CCA_pro__L_c at 0x7ff11652d588>,\n",
       " <GenerictRNA generic_tRNA_GAU_asp__L_c at 0x7ff116524438>,\n",
       " <GenerictRNA generic_tRNA_GAA_glu__L_c at 0x7ff116524198>,\n",
       " <GenerictRNA generic_tRNA_GCC_ala__L_c at 0x7ff1165243c8>,\n",
       " <GenerictRNA generic_tRNA_AAC_asn__L_c at 0x7ff1165249e8>,\n",
       " <GenerictRNA generic_tRNA_GAC_asp__L_c at 0x7ff11652d358>,\n",
       " <GenerictRNA generic_tRNA_UGG_trp__L_c at 0x7ff11652d438>,\n",
       " <GenerictRNA generic_tRNA_UAC_tyr__L_c at 0x7ff11652d278>,\n",
       " <Metabolite generic_tRNA_GAG_glu__L_c at 0x7ff11652d0b8>,\n",
       " <GenerictRNA generic_tRNA_AAG_lys__L_c at 0x7ff116512dd8>,\n",
       " <GenerictRNA generic_tRNA_CAC_his__L_c at 0x7ff116524a58>,\n",
       " <GenerictRNA generic_tRNA_UUC_phe__L_c at 0x7ff116512e48>,\n",
       " <GenerictRNA generic_tRNA_GUA_val__L_c at 0x7ff11652d198>,\n",
       " <GenerictRNA generic_tRNA_GUC_val__L_c at 0x7ff116524748>,\n",
       " <Complex InfB_mono at 0x7ff11652d7b8>,\n",
       " <Complex InfC_mono at 0x7ff11652db38>,\n",
       " <Complex Def_mono_mod_1:fe2 at 0x7ff11652dd68>,\n",
       " <Complex PrfC_mono at 0x7ff11652df98>,\n",
       " <Complex Rrf_mono at 0x7ff11652dd30>,\n",
       " <Complex Fmt_mono_mod_mg2_mod_k at 0x7ff11652d898>,\n",
       " <Metabolite 10fthf_c at 0x7ff11652d940>,\n",
       " <GenerictRNA generic_tRNA_START_met__L_c at 0x7ff11652da58>,\n",
       " <Complex InfA_mono at 0x7ff11652da90>,\n",
       " <Constraint mRNA_biomass at 0x7ff117324128>]"
      ]
     },
     "execution_count": 18,
     "metadata": {},
     "output_type": "execute_result"
    }
   ],
   "source": [
    "me.reactions.translation_Alpha.reactants"
   ]
  },
  {
   "cell_type": "markdown",
   "metadata": {},
   "source": [
    "This completes the creation of the translation reaction"
   ]
  },
  {
   "cell_type": "markdown",
   "metadata": {},
   "source": [
    "## 6. Create Demand Reaction for Alpha"
   ]
  },
  {
   "cell_type": "code",
   "execution_count": 19,
   "metadata": {},
   "outputs": [],
   "source": [
    "new_reaction = cobrame.MEReaction('DM_protein_Alpha')\n",
    "me.add_reaction(new_reaction)"
   ]
  },
  {
   "cell_type": "code",
   "execution_count": 20,
   "metadata": {},
   "outputs": [
    {
     "data": {
      "text/plain": [
       "'protein_Alpha --> '"
      ]
     },
     "execution_count": 20,
     "metadata": {},
     "output_type": "execute_result"
    }
   ],
   "source": [
    "me.reactions.get_by_id('DM_protein_Alpha').reaction = 'protein_Alpha ->'\n",
    "me.reactions.get_by_id('DM_protein_Alpha').reaction"
   ]
  },
  {
   "cell_type": "code",
   "execution_count": 21,
   "metadata": {},
   "outputs": [
    {
     "data": {
      "text/html": [
       "<div>\n",
       "<style scoped>\n",
       "    .dataframe tbody tr th:only-of-type {\n",
       "        vertical-align: middle;\n",
       "    }\n",
       "\n",
       "    .dataframe tbody tr th {\n",
       "        vertical-align: top;\n",
       "    }\n",
       "\n",
       "    .dataframe thead th {\n",
       "        text-align: right;\n",
       "    }\n",
       "</style>\n",
       "<table border=\"1\" class=\"dataframe\">\n",
       "  <thead>\n",
       "    <tr style=\"text-align: right;\">\n",
       "      <th></th>\n",
       "      <th>Attribute Values</th>\n",
       "    </tr>\n",
       "  </thead>\n",
       "  <tbody>\n",
       "    <tr>\n",
       "      <th>id</th>\n",
       "      <td>DM_protein_Alpha</td>\n",
       "    </tr>\n",
       "    <tr>\n",
       "      <th>name</th>\n",
       "      <td></td>\n",
       "    </tr>\n",
       "    <tr>\n",
       "      <th>notes</th>\n",
       "      <td>{}</td>\n",
       "    </tr>\n",
       "    <tr>\n",
       "      <th>annotation</th>\n",
       "      <td>{}</td>\n",
       "    </tr>\n",
       "    <tr>\n",
       "      <th>_gene_reaction_rule</th>\n",
       "      <td></td>\n",
       "    </tr>\n",
       "    <tr>\n",
       "      <th>subsystem</th>\n",
       "      <td></td>\n",
       "    </tr>\n",
       "    <tr>\n",
       "      <th>_genes</th>\n",
       "      <td>set()</td>\n",
       "    </tr>\n",
       "    <tr>\n",
       "      <th>_metabolites</th>\n",
       "      <td>{&lt;TranslatedGene protein_Alpha at 0x7ff1172f9be0&gt;: -1}</td>\n",
       "    </tr>\n",
       "    <tr>\n",
       "      <th>_model</th>\n",
       "      <td>iJL1678b-ME</td>\n",
       "    </tr>\n",
       "    <tr>\n",
       "      <th>_objective_coefficient</th>\n",
       "      <td>0.0</td>\n",
       "    </tr>\n",
       "    <tr>\n",
       "      <th>upper_bound</th>\n",
       "      <td>1000</td>\n",
       "    </tr>\n",
       "    <tr>\n",
       "      <th>lower_bound</th>\n",
       "      <td>0</td>\n",
       "    </tr>\n",
       "    <tr>\n",
       "      <th>variable_kind</th>\n",
       "      <td>continuous</td>\n",
       "    </tr>\n",
       "  </tbody>\n",
       "</table>\n",
       "</div>"
      ],
      "text/plain": [
       "                                                              Attribute Values\n",
       "id                                                            DM_protein_Alpha\n",
       "name                                                                          \n",
       "notes                                                                       {}\n",
       "annotation                                                                  {}\n",
       "_gene_reaction_rule                                                           \n",
       "subsystem                                                                     \n",
       "_genes                                                                   set()\n",
       "_metabolites            {<TranslatedGene protein_Alpha at 0x7ff1172f9be0>: -1}\n",
       "_model                                                             iJL1678b-ME\n",
       "_objective_coefficient                                                     0.0\n",
       "upper_bound                                                               1000\n",
       "lower_bound                                                                  0\n",
       "variable_kind                                                       continuous"
      ]
     },
     "execution_count": 21,
     "metadata": {},
     "output_type": "execute_result"
    }
   ],
   "source": [
    "rxn = me.reactions.DM_protein_Alpha\n",
    "data = rxn\n",
    "pd.DataFrame({i: str(v) for i, v in data.__dict__.items()}, index=['Attribute Values']).T"
   ]
  },
  {
   "cell_type": "markdown",
   "metadata": {},
   "source": [
    "## 7. Test the Alpha ME Model"
   ]
  },
  {
   "cell_type": "code",
   "execution_count": null,
   "metadata": {},
   "outputs": [
    {
     "name": "stdout",
     "output_type": "stream",
     "text": [
      "iter\tmuopt    \ta     \tb     \tmu1       \tstat1\n",
      "Finished compiling expressions in 60.358364 seconds\n",
      "Finished substituting S,lb,ub in 4.076777 seconds\n",
      "Finished makeME_LP in 0.771983 seconds\n",
      "Getting MINOS parameters from ME_NLP...\n",
      "1 0.5 0.5 1.0 0.5 optimal\n",
      "Finished substituting S,lb,ub in 4.048906 seconds\n"
     ]
    }
   ],
   "source": [
    "me.reactions.DM_protein_Alpha.upper_bound = 0.00105\n",
    "me.reactions.DM_protein_Alpha.lower_bound = 0.00105\n",
    "solve_me_model(me, 1., min_mu = .1, precision=1e-2, using_soplex=False)"
   ]
  },
  {
   "cell_type": "markdown",
   "metadata": {},
   "source": [
    "## 8. Identify and List the Fluxes Associated with the Alpha Transcription Lumped Reaction\n",
    "\n",
    "The reaction id of the Alpha transcription reaction is \"transcription_TU_Alpha\" and requires the \"RNAP70-CPLX\" metabolite (RNA polymerase) as one of its reactants and produces the mRNA metabolite \"RNA_Alpha\". The \"RNAP70-CPLX\" is created by the \"formation_RNAP70-CPLX\" reaction. The default fluxes through these reaction are:"
   ]
  },
  {
   "cell_type": "code",
   "execution_count": null,
   "metadata": {},
   "outputs": [],
   "source": [
    "print('transcription_TU_Alpha =', me.reactions.get_by_id('transcription_TU_Alpha').x)\n",
    "print('formation_RNAP70-CPLX =', me.reactions.get_by_id('formation_RNAP70-CPLX').x)"
   ]
  },
  {
   "cell_type": "markdown",
   "metadata": {},
   "source": [
    "## 9. Identify and List the Fluxes Associated with the Alpha Translation Lumped Reaction\n",
    "\n",
    "The reaction id of the Alpha translation reaction is \"translation_Alpha\" and requires the mRNA metabolite \"RNA_Alpha\" as one of its reactants and produces the protein metabolite (\"TranslatedGene\") \"protein_Alpha\". To begin with, let's look at the fluxes of the RNAPs (Alpha uses the \"RNAP70-CPLX\" RNAP)."
   ]
  },
  {
   "cell_type": "code",
   "execution_count": null,
   "metadata": {},
   "outputs": [],
   "source": [
    "print('formation_CPLX0-221 = ', me.reactions.get_by_id('formation_CPLX0-221').x)\n",
    "print('formation_CPLX0-222 = ', me.reactions.get_by_id('formation_CPLX0-222').x)\n",
    "print('formation_RNAPE-CPLX = ', me.reactions.get_by_id('formation_RNAPE-CPLX').x)\n",
    "print('formation_RNAP32-CPLX = ', me.reactions.get_by_id('formation_RNAP32-CPLX').x)\n",
    "print('formation_RNAP54-CPLX = ', me.reactions.get_by_id('formation_RNAP54-CPLX').x)\n",
    "print('formation_RNAP70-CPLX = ', me.reactions.get_by_id('formation_RNAP70-CPLX').x)\n",
    "print('formation_RNAPS-CPLX = ', me.reactions.get_by_id('formation_RNAPS-CPLX').x)"
   ]
  },
  {
   "cell_type": "markdown",
   "metadata": {},
   "source": [
    "List the fluxes for the \"SummaryVariable\" reactions that are associated with the growth-rate (\"biomass_dilution\")."
   ]
  },
  {
   "cell_type": "code",
   "execution_count": null,
   "metadata": {},
   "outputs": [],
   "source": [
    "print('protein_biomass_to_biomass = ', me.reactions.get_by_id('protein_biomass_to_biomass').x)\n",
    "print('mRNA_biomass_to_biomass = ', me.reactions.get_by_id('mRNA_biomass_to_biomass').x)\n",
    "print('tRNA_biomass_to_biomass = ', me.reactions.get_by_id('tRNA_biomass_to_biomass').x)\n",
    "print('rRNA_biomass_to_biomass = ', me.reactions.get_by_id('rRNA_biomass_to_biomass').x)\n",
    "print('ncRNA_biomass_to_biomass = ', me.reactions.get_by_id('ncRNA_biomass_to_biomass').x)\n",
    "print('DNA_biomass_to_biomass = ', me.reactions.get_by_id('DNA_biomass_to_biomass').x)\n",
    "print('lipid_biomass_to_biomass = ', me.reactions.get_by_id('lipid_biomass_to_biomass').x)\n",
    "print('constituent_biomass_to_biomass = ', me.reactions.get_by_id('constituent_biomass_to_biomass').x)\n",
    "print('prosthetic_group_biomass_to_biomass = ', me.reactions.get_by_id('prosthetic_group_biomass_to_biomass').x)\n",
    "print('peptidoglycan_biomass_to_biomass = ', me.reactions.get_by_id('peptidoglycan_biomass_to_biomass').x)\n",
    "print('dummy_protein_to_mass = ', me.reactions.get_by_id('dummy_protein_to_mass').x)\n",
    "print('biomass_constituent_demand = ', me.reactions.get_by_id('biomass_constituent_demand').x)\n",
    "print('Demand_pe161_p = ', me.reactions.get_by_id('Demand_pe161_p').x)\n",
    "print('Demand_pe160_p = ', me.reactions.get_by_id('Demand_pe160_p').x)\n",
    "print('Demand_pe161_p = ', me.reactions.get_by_id('Demand_pe161_p').x)\n",
    "print('Demand_pe161_c = ', me.reactions.get_by_id('Demand_pe161_c').x)\n",
    "print('Demand_pe160_c = ', me.reactions.get_by_id('Demand_pe160_c').x)\n",
    "print('Demand_kdo2lipid4_e = ', me.reactions.get_by_id('Demand_kdo2lipid4_e').x)"
   ]
  },
  {
   "cell_type": "markdown",
   "metadata": {},
   "source": [
    "### Find the amino acid count"
   ]
  },
  {
   "cell_type": "code",
   "execution_count": null,
   "metadata": {},
   "outputs": [],
   "source": [
    "me.process_data.Alpha.amino_acid_count"
   ]
  },
  {
   "cell_type": "markdown",
   "metadata": {},
   "source": [
    "## 10. Tracking the tRNA flux\n",
    "\n",
    "From these amino acid counts it can be seen that glycine and alanine are the two amino acids that dominate the production of Alpha. Let's track the impact of the tRNA production of the reactions that charge the tRNA. \n",
    "\n",
    "### Reactions that create charged tRNA metabolites for both Glycine\n",
    "\n",
    "There are four different codons that can be used to create glycine tRNA. The metabolites associated with these glycine codons are\n",
    "\n",
    "#### Glycine Charged tRNA Metabolites\n",
    "1. generic_tRNA_GGC_gly_c\n",
    "- generic_tRNA_GGU_gly_c\n",
    "- generic_tRNA_GGG_gly_c\n",
    "- generic_tRNA_GGA_gly_c\n",
    "\n",
    "#### Glycine tRNA Charging Reactions\n",
    "The reactions, based on codons, that create these charged tRNA metabolites are\n",
    "\n",
    "##### GGC\n",
    "1. charging_tRNA_b1911_GGC\n",
    "- charging_tRNA_b4163_GGC\n",
    "- charging_tRNA_b4164_GGC\n",
    "- charging_tRNA_b4165_GGC\n",
    "\n",
    "##### GGU\n",
    "1.  charging_tRNA_b1911_GGU\n",
    "- charging_tRNA_b4163_GGU\n",
    "- charging_tRNA_b4164_GGU\n",
    "- charging_tRNA_b4165_GGU\n",
    "\n",
    "##### GGG\n",
    "1.  charging_tRNA_b2864_GGG\n",
    "\n",
    "##### GGA\n",
    "1. charging_tRNA_b3978_GGA\n",
    "\n",
    "Note that there are six different reactions that create these glycine tRNA metabolites. Also note that there are two reactions that create the glycine tRNA for three of the codons."
   ]
  },
  {
   "cell_type": "markdown",
   "metadata": {},
   "source": [
    "### Simulating the growth-rate based on the production of Alpha"
   ]
  },
  {
   "cell_type": "code",
   "execution_count": null,
   "metadata": {
    "scrolled": true
   },
   "outputs": [],
   "source": [
    "Alpha_protein = [0.0000, 0.0001, 0.0003, 0.0006, 0.0009, 0.001, 0.00105]\n",
    "growth_rate = []\n",
    "transcription_rate = []\n",
    "translation_rate = []\n",
    "ribosome_rate = []\n",
    "ribosome_shadow_price = []\n",
    "acetate_rate = []\n",
    "ATP_flux = []\n",
    "\n",
    "# Glycine tRNA\n",
    "charging_tRNA_b1911_GGC_data = []\n",
    "charging_tRNA_b4163_GGC_data = []\n",
    "charging_tRNA_b4164_GGC_data = []\n",
    "charging_tRNA_b4165_GGC_data = []\n",
    "charging_tRNA_b1911_GGU_data = []\n",
    "charging_tRNA_b4163_GGU_data = []\n",
    "charging_tRNA_b4164_GGU_data = []\n",
    "charging_tRNA_b4165_GGU_data = []\n",
    "charging_tRNA_b2864_GGG_data = []\n",
    "charging_tRNA_b3978_GGA_data = []\n",
    "\n",
    "# Alanine tRNA\n",
    "charging_tRNA_b0203_GCA_data = []\n",
    "charging_tRNA_b3276_GCA_data = []\n",
    "charging_tRNA_b3853_GCA_data = []\n",
    "charging_tRNA_b0203_GCG_data = []\n",
    "charging_tRNA_b3276_GCG_data = []\n",
    "charging_tRNA_b3853_GCG_data = []\n",
    "charging_tRNA_b0203_GCU_data = []\n",
    "charging_tRNA_b3276_GCU_data = []\n",
    "charging_tRNA_b3853_GCU_data = []\n",
    "charging_tRNA_b2396_GCC_data = []  \n",
    "charging_tRNA_b2397_GCC_data = [] \n",
    "\n",
    "# Cell Operation\n",
    "glucose_data = []\n",
    "oxygen_data = []\n",
    "acetate_data = []\n",
    "ammonium_data = []\n",
    "external_protons_data = []\n",
    "atp_synthase = []\n",
    "ATPS4rpp_REV_ATPSYN_CPLX_EG10106_MONOMER_mod_mg2_data = []\n",
    "ATPS4rpp_FWD_ATPSYN_CPLX_EG10106_MONOMER_mod_mg2_data = []\n",
    "ATPS4rpp_REV_ATPSYN_CPLX_mod_mg2_data = []\n",
    "ATPS4rpp_FWD_ATPSYN_CPLX_mod_mg2_data = []\n",
    "\n",
    "for x in Alpha_protein:\n",
    "    print('\\nAlpha Protein # ',x)\n",
    "    me.reactions.DM_protein_Alpha.upper_bound = x\n",
    "    me.reactions.DM_protein_Alpha.lower_bound = x\n",
    "    solve_me_model(me, 1., min_mu = .1, precision=1e-2, using_soplex=False)\n",
    "    growth_rate.append(me.solution.f)\n",
    "    transcription_rate.append(me.reactions.transcription_TU_Alpha.x)\n",
    "    translation_rate.append(me.reactions.translation_Alpha.x)\n",
    "    ribosome_rate.append(me.reactions.get_by_id('formation_ribosome').x)\n",
    "    ribosome_shadow_price.append(me.metabolites.get_by_id('ribosome').y)\n",
    "    acetate_rate.append(me.reactions.get_by_id('EX_ac_e').x)\n",
    "    ATP_flux.append(me.reactions.get_by_id('ATPS4rpp_FWD_ATPSYN-CPLX_mod_mg2').x)\n",
    "    # Glycine tRNA\n",
    "    charging_tRNA_b1911_GGC_data.append(me.reactions.charging_tRNA_b1911_GGC.x)\n",
    "    charging_tRNA_b4163_GGC_data.append(me.reactions.charging_tRNA_b4163_GGC.x)\n",
    "    charging_tRNA_b4164_GGC_data.append(me.reactions.charging_tRNA_b4164_GGC.x)\n",
    "    charging_tRNA_b4165_GGC_data.append(me.reactions.charging_tRNA_b4165_GGC.x)\n",
    "    charging_tRNA_b1911_GGU_data.append(me.reactions.charging_tRNA_b1911_GGU.x)\n",
    "    charging_tRNA_b4163_GGU_data.append(me.reactions.charging_tRNA_b4163_GGU.x)\n",
    "    charging_tRNA_b4164_GGU_data.append(me.reactions.charging_tRNA_b4164_GGU.x)\n",
    "    charging_tRNA_b4165_GGU_data.append(me.reactions.charging_tRNA_b4165_GGU.x)\n",
    "    charging_tRNA_b2864_GGG_data.append(me.reactions.charging_tRNA_b2864_GGG.x)\n",
    "    charging_tRNA_b3978_GGA_data.append(me.reactions.charging_tRNA_b3978_GGA.x)\n",
    "    # Alanine tRNA\n",
    "    charging_tRNA_b0203_GCA_data.append(me.reactions.charging_tRNA_b0203_GCA.x)\n",
    "    charging_tRNA_b3276_GCA_data.append(me.reactions.charging_tRNA_b3276_GCA.x)\n",
    "    charging_tRNA_b3853_GCA_data.append(me.reactions.charging_tRNA_b3853_GCA.x)\n",
    "    charging_tRNA_b0203_GCG_data.append(me.reactions.charging_tRNA_b0203_GCG.x)\n",
    "    charging_tRNA_b3276_GCG_data.append(me.reactions.charging_tRNA_b3276_GCG.x)\n",
    "    charging_tRNA_b3853_GCG_data.append(me.reactions.charging_tRNA_b3853_GCG.x)\n",
    "    charging_tRNA_b0203_GCU_data.append(me.reactions.charging_tRNA_b0203_GCU.x)\n",
    "    charging_tRNA_b3276_GCU_data.append(me.reactions.charging_tRNA_b3276_GCU.x)\n",
    "    charging_tRNA_b3853_GCU_data.append(me.reactions.charging_tRNA_b3853_GCU.x)\n",
    "    charging_tRNA_b2396_GCC_data.append(me.reactions.charging_tRNA_b2396_GCC.x)  \n",
    "    charging_tRNA_b2397_GCC_data.append(me.reactions.charging_tRNA_b2397_GCC.x) \n",
    "    # Cell operation\n",
    "    glucose_data.append(me.reactions.get_by_id('EX_glc__D_e').x)\n",
    "    oxygen_data.append(me.reactions.get_by_id('EX_o2_e').x)\n",
    "    acetate_data.append(me.reactions.get_by_id('EX_ac_e').x)\n",
    "    ammonium_data.append(me.reactions.get_by_id('EX_nh4_e').x)\n",
    "    external_protons_data.append(me.reactions.get_by_id('EX_h_e').x)\n",
    "    ATPS4rpp_REV_ATPSYN_CPLX_EG10106_MONOMER_mod_mg2_data.append(me.reactions.get_by_id('ATPS4rpp_REV_ATPSYN-CPLX_EG10106-MONOMER_mod_mg2').x)\n",
    "    ATPS4rpp_FWD_ATPSYN_CPLX_EG10106_MONOMER_mod_mg2_data.append(me.reactions.get_by_id('ATPS4rpp_FWD_ATPSYN-CPLX_EG10106-MONOMER_mod_mg2').x)\n",
    "    ATPS4rpp_REV_ATPSYN_CPLX_mod_mg2_data.append(me.reactions.get_by_id('ATPS4rpp_REV_ATPSYN-CPLX_mod_mg2').x)\n",
    "    ATPS4rpp_FWD_ATPSYN_CPLX_mod_mg2_data.append(me.reactions.get_by_id('ATPS4rpp_FWD_ATPSYN-CPLX_mod_mg2').x)\n",
    "    #atp_synthase.append(me.reactions.get_by_id(me.reactions.get_by_id('ATPS4rpp_FWD_ATPSYN-CPLX_EG10106-MONOMER_mod_mg2').x)\n",
    "\n",
    "\n",
    "print('Growth-rate =', growth_rate)\n",
    "print('Transcription Rate =', transcription_rate)\n",
    "print('Translation Rate =', translation_rate)"
   ]
  },
  {
   "cell_type": "code",
   "execution_count": null,
   "metadata": {},
   "outputs": [],
   "source": [
    "import matplotlib.pyplot as plt\n",
    "  \n",
    "# x axis values\n",
    "x = Alpha_protein\n",
    "# corresponding y axis values\n",
    "\n",
    "plt.figure(figsize=(7,5))\n",
    "\n",
    "# plotting the points \n",
    "plt.plot(x, glucose_data, label = \"glucose_data\")\n",
    "plt.plot(x, oxygen_data, label = \"oxygen_data\")\n",
    "\n",
    "# naming the x axis\n",
    "plt.xlabel('Alpha Protein Flux')\n",
    "# naming the y axis\n",
    "plt.ylabel('Cellular Flux Values')\n",
    "  \n",
    "# giving a title to my graph\n",
    "plt.title('Glucose and Oxygen Flux Values vs Alpha Protein Flux Production')\n",
    "  \n",
    "# function to show the plot\n",
    "plt.legend()\n",
    "#plt.yscale('log')\n",
    "plt.show()"
   ]
  },
  {
   "cell_type": "code",
   "execution_count": null,
   "metadata": {},
   "outputs": [],
   "source": [
    "glucose_data"
   ]
  },
  {
   "cell_type": "code",
   "execution_count": null,
   "metadata": {},
   "outputs": [],
   "source": [
    "oxygen_data"
   ]
  },
  {
   "cell_type": "code",
   "execution_count": null,
   "metadata": {},
   "outputs": [],
   "source": [
    "import matplotlib.pyplot as plt\n",
    "  \n",
    "# x axis values\n",
    "x = Alpha_protein\n",
    "# corresponding y axis values\n",
    "\n",
    "plt.figure(figsize=(12,12))\n",
    "\n",
    "# plotting the points \n",
    "#plt.plot(x, growth_rate, label = \"growth_rate\")\n",
    "plt.plot(x, glucose_data, label = \"glucose_data\")\n",
    "plt.plot(x, oxygen_data, label = \"oxygen_data\")\n",
    "plt.plot(x, acetate_data, label = \"acetate_data\")\n",
    "plt.plot(x, ammonium_data, label = \"ammonium_data\")\n",
    "\n",
    "plt.plot(x, external_protons_data, label = \"external_protons_data\")\n",
    "plt.plot(x, ATPS4rpp_REV_ATPSYN_CPLX_EG10106_MONOMER_mod_mg2_data, label = \"ATPS4rpp_REV_ATPSYN_CPLX_EG10106_MONOMER_mod_mg2_data\")\n",
    "plt.plot(x, ATPS4rpp_FWD_ATPSYN_CPLX_EG10106_MONOMER_mod_mg2_data, label = \"ATPS4rpp_FWD_ATPSYN_CPLX_EG10106_MONOMER_mod_mg2_data\")\n",
    "plt.plot(x, ATPS4rpp_REV_ATPSYN_CPLX_mod_mg2_data, label = \"ATPS4rpp_REV_ATPSYN_CPLX_mod_mg2_data\")\n",
    "plt.plot(x, ATPS4rpp_FWD_ATPSYN_CPLX_mod_mg2_data, label = \"ATPS4rpp_FWD_ATPSYN_CPLX_mod_mg2_data\")\n",
    "\n",
    "# naming the x axis\n",
    "plt.xlabel('Alpha_protein')\n",
    "# naming the y axis\n",
    "plt.ylabel('Cellular Flux Values')\n",
    "  \n",
    "# giving a title to my graph\n",
    "plt.title('Key Cellular Flux Values vs Alpha Protein Production')\n",
    "  \n",
    "# function to show the plot\n",
    "plt.legend()\n",
    "#plt.yscale('log')\n",
    "plt.show()"
   ]
  },
  {
   "cell_type": "markdown",
   "metadata": {},
   "source": [
    "### Plot the growth-rate with respect to Alpha production\n",
    "\n",
    "#### Plotting the flux of the individual tRNA charging reactions"
   ]
  },
  {
   "cell_type": "code",
   "execution_count": null,
   "metadata": {},
   "outputs": [],
   "source": [
    "import matplotlib.pyplot as plt\n",
    "  \n",
    "# x axis values\n",
    "x = Alpha_protein\n",
    "# corresponding y axis values\n",
    "\n",
    "plt.figure(figsize=(12,12))\n",
    "\n",
    "# plotting the points \n",
    "#plt.plot(x, growth_rate, label = \"growth_rate\")\n",
    "plt.plot(x, charging_tRNA_b1911_GGC_data, label = \"charging_tRNA_b1911_GGC_data\")\n",
    "plt.plot(x, charging_tRNA_b4163_GGC_data, label = \"charging_tRNA_b4163_GGC_data\")\n",
    "plt.plot(x, charging_tRNA_b4164_GGC_data, label = \"charging_tRNA_b4164_GGC_data\")\n",
    "plt.plot(x, charging_tRNA_b4165_GGC_data, label = \"charging_tRNA_b4165_GGC_data\")\n",
    "\n",
    "plt.plot(x, charging_tRNA_b1911_GGU_data, label = \"charging_tRNA_b1911_GGU_data\")\n",
    "plt.plot(x, charging_tRNA_b4163_GGU_data, label = \"charging_tRNA_b4163_GGU_data\")\n",
    "plt.plot(x, charging_tRNA_b4164_GGU_data, label = \"charging_tRNA_b4164_GGU_data\")\n",
    "plt.plot(x, charging_tRNA_b4165_GGU_data, label = \"charging_tRNA_b4165_GGU_data\")\n",
    "\n",
    "plt.plot(x, charging_tRNA_b2864_GGG_data, label = \"charging_tRNA_b2864_GGG_data\")\n",
    "plt.plot(x, charging_tRNA_b3978_GGA_data, label = \"charging_tRNA_b3978_GGA_data\")\n",
    "\n",
    "# naming the x axis\n",
    "plt.xlabel('Alpha_protein')\n",
    "# naming the y axis\n",
    "plt.ylabel('Glycine tRNA Flux Values')\n",
    "  \n",
    "# giving a title to my graph\n",
    "plt.title('Glycine tRNA Flux Values vs Alpha Protein Production')\n",
    "  \n",
    "# function to show the plot\n",
    "plt.legend()\n",
    "#plt.yscale('log')\n",
    "plt.show()"
   ]
  },
  {
   "cell_type": "markdown",
   "metadata": {},
   "source": [
    "#### Plot the growth-rate with respect to the codon-related flux"
   ]
  },
  {
   "cell_type": "code",
   "execution_count": null,
   "metadata": {},
   "outputs": [],
   "source": [
    "import numpy as np\n",
    "\n",
    "GGC = [charging_tRNA_b1911_GGC_data, charging_tRNA_b4163_GGC_data, charging_tRNA_b4164_GGC_data, \n",
    "          charging_tRNA_b4165_GGC_data]\n",
    "GGC = sum(map(np.array, GGC))\n",
    "print('GGC = ', GGC)\n",
    "\n",
    "GGU = [charging_tRNA_b1911_GGU_data, charging_tRNA_b4163_GGU_data, charging_tRNA_b4164_GGU_data,  \n",
    "       charging_tRNA_b4165_GGU_data]\n",
    "GGU = sum(map(np.array, GGU))\n",
    "print('GGU = ', GGU)\n",
    "\n",
    "GGG = charging_tRNA_b2864_GGG_data\n",
    "print('GGG = ', GGG)\n",
    "\n",
    "GGA = charging_tRNA_b3978_GGA_data\n",
    "print('GGA = ', GGA)\n",
    "\n",
    "# x axis values\n",
    "x = Alpha_protein\n",
    "# corresponding y axis values\n",
    "\n",
    "plt.figure(figsize=(7,5))\n",
    "\n",
    "# plotting the points \n",
    "plt.plot(x, GGC, label = \"GGC\")\n",
    "plt.plot(x, GGU, label = \"GGU\")\n",
    "plt.plot(x, GGG, label = \"GGG\")\n",
    "plt.plot(x, GGA, label = \"GGA\")\n",
    "\n",
    "# naming the x axis\n",
    "plt.xlabel('Alpha_protein')\n",
    "# naming the y axis\n",
    "plt.ylabel('Glycine Total tRNA Codon Flux Values')\n",
    "  \n",
    "# giving a title to my graph\n",
    "plt.title('Glycine Total tRNA Codon Flux Values vs Alpha Protein Production')\n",
    "  \n",
    "# function to show the plot\n",
    "plt.legend()\n",
    "#plt.yscale('log')\n",
    "plt.show()"
   ]
  },
  {
   "cell_type": "markdown",
   "metadata": {},
   "source": [
    "#### Plot the growth-rate with respect to the charging reaction flux"
   ]
  },
  {
   "cell_type": "code",
   "execution_count": null,
   "metadata": {},
   "outputs": [],
   "source": [
    "import numpy as np\n",
    "\n",
    "b1911_data = [charging_tRNA_b1911_GGC_data, charging_tRNA_b1911_GGU_data]\n",
    "b1911_data = sum(map(np.array, b1911_data))\n",
    "print('b1911_data = ', b1911_data)\n",
    "\n",
    "b4163_data = [charging_tRNA_b4163_GGC_data, charging_tRNA_b4163_GGU_data]\n",
    "b4163_data = sum(map(np.array, b4163_data))\n",
    "print('b4163_data = ', b4163_data)\n",
    "\n",
    "b4164_data = [charging_tRNA_b4164_GGC_data, charging_tRNA_b4164_GGU_data]\n",
    "b4164_data = sum(map(np.array, b4164_data))\n",
    "print('b4164_data = ', b4164_data)\n",
    "\n",
    "b4165_data = [charging_tRNA_b4165_GGC_data, charging_tRNA_b4165_GGU_data]\n",
    "b4165_data = sum(map(np.array, b4165_data))\n",
    "print('b4165_data = ', b4165_data)\n",
    "\n",
    "b2864_data = charging_tRNA_b2864_GGG_data\n",
    "print('b2864_data = ', b2864_data)\n",
    "\n",
    "b3978_data = charging_tRNA_b3978_GGA_data\n",
    "print('b3978_data = ', b3978_data)\n",
    "\n",
    "# x axis values\n",
    "x = Alpha_protein\n",
    "# corresponding y axis values\n",
    "\n",
    "plt.figure(figsize=(7,5))\n",
    "\n",
    "# plotting the points \n",
    "plt.plot(x, b1911_data, label = \"b1911_data\")\n",
    "plt.plot(x, b4163_data, label = \"b4163_data\")\n",
    "plt.plot(x, b4164_data, label = \"b4164_data\")\n",
    "plt.plot(x, b4165_data, label = \"b4165_data\")\n",
    "plt.plot(x, b2864_data, label = \"b2864_data\")\n",
    "plt.plot(x, b3978_data, label = \"b3978_data\")\n",
    "\n",
    "# naming the x axis\n",
    "plt.xlabel('Alpha_protein')\n",
    "# naming the y axis\n",
    "plt.ylabel('Total Gene tRNA Flux Values')\n",
    "  \n",
    "# giving a title to my graph\n",
    "plt.title('Total Gene tRNA Flux Values vs Alpha Protein Production')\n",
    "  \n",
    "# function to show the plot\n",
    "plt.legend()\n",
    "#plt.yscale('log')\n",
    "plt.show()"
   ]
  },
  {
   "cell_type": "markdown",
   "metadata": {},
   "source": [
    "### Reactions that create charged tRNA metabolites for both Alanine\n",
    "\n",
    "There are four different codons that can be used to create alanine tRNA. The metabolites associated with these alanine codons are\n",
    "\n",
    "### Alanine tRNA Charged Metabolites\n",
    "1. generic_tRNA_GCA_ala__L_c\n",
    "- generic_tRNA_GCG_ala__L_c\n",
    "- generic_tRNA_GCU_ala__L_c\n",
    "- generic_tRNA_GCC_ala__L_c\n",
    "\n",
    "### Alanine tRNA Charging Reactions\n",
    "The reactions, based on codons, that create these charged tRNA metabolites are\n",
    "\n",
    "##### GCA\n",
    "1. charging_tRNA_b0203_GCA\n",
    "- charging_tRNA_b3276_GCA\n",
    "- charging_tRNA_b3853_GCA\n",
    "\n",
    "##### GCG\n",
    "1. charging_tRNA_b0203_GCG\n",
    "- charging_tRNA_b3276_GCG\n",
    "- charging_tRNA_b3853_GCG\n",
    "\n",
    "##### GCU\n",
    "1. charging_tRNA_b0203_GCU\n",
    "- charging_tRNA_b3276_GCU\n",
    "- charging_tRNA_b3853_GCU\n",
    "\n",
    "##### GCC\n",
    "1. charging_tRNA_b2396_GCC\n",
    "- charging_tRNA_b2397_GCC\n",
    "\n",
    "Note that there are five different reactions that create these alanine tRNA metabolites. Also note that there are three reactions that create the alanine tRNA for three of the codons."
   ]
  },
  {
   "cell_type": "markdown",
   "metadata": {},
   "source": [
    "#### Plotting the flux of the individual alanine tRNA charging reactions"
   ]
  },
  {
   "cell_type": "code",
   "execution_count": null,
   "metadata": {},
   "outputs": [],
   "source": [
    "import matplotlib.pyplot as plt\n",
    "  \n",
    "# x axis values\n",
    "x = Alpha_protein\n",
    "# corresponding y axis values\n",
    "\n",
    "plt.figure(figsize=(12,12))\n",
    "\n",
    "# plotting the points \n",
    "#plt.plot(x, growth_rate, label = \"growth_rate\")\n",
    "plt.plot(x, charging_tRNA_b0203_GCA_data, label = \"charging_tRNA_b0203_GCA_data\")\n",
    "plt.plot(x, charging_tRNA_b3276_GCA_data, label = \"charging_tRNA_b3276_GCA_data\")\n",
    "plt.plot(x, charging_tRNA_b3853_GCA_data, label = \"charging_tRNA_b3853_GCA_data\")\n",
    "\n",
    "plt.plot(x, charging_tRNA_b0203_GCG_data, label = \"charging_tRNA_b0203_GCG_data\")\n",
    "plt.plot(x, charging_tRNA_b3276_GCG_data, label = \"charging_tRNA_b3276_GCG_data\")\n",
    "plt.plot(x, charging_tRNA_b3853_GCG_data, label = \"charging_tRNA_b3853_GCG_data\")\n",
    "\n",
    "plt.plot(x, charging_tRNA_b0203_GCU_data, label = \"charging_tRNA_b0203_GCU_data\")\n",
    "plt.plot(x, charging_tRNA_b3276_GCU_data, label = \"charging_tRNA_b3276_GCU_data\")\n",
    "plt.plot(x, charging_tRNA_b3853_GCU_data, label = \"charging_tRNA_b3853_GCU_data\")\n",
    "\n",
    "plt.plot(x, charging_tRNA_b2396_GCC_data, label = \"charging_tRNA_b2396_GCC_data\")\n",
    "plt.plot(x, charging_tRNA_b2397_GCC_data, label = \"charging_tRNA_b2397_GCC_data\")\n",
    "\n",
    "# naming the x axis\n",
    "plt.xlabel('Alpha_protein')\n",
    "# naming the y axis\n",
    "plt.ylabel('Alanine tRNA Flux Values')\n",
    "  \n",
    "# giving a title to my graph\n",
    "plt.title('Alanine tRNA Flux Values vs Alpha Protein Production')\n",
    "  \n",
    "# function to show the plot\n",
    "plt.legend()\n",
    "#plt.yscale('log')\n",
    "plt.show()"
   ]
  },
  {
   "cell_type": "markdown",
   "metadata": {},
   "source": [
    "#### Plot the growth-rate with respect to the codon-related flux"
   ]
  },
  {
   "cell_type": "code",
   "execution_count": null,
   "metadata": {},
   "outputs": [],
   "source": [
    "# x axis values\n",
    "x = Alpha_protein\n",
    "# corresponding y axis values\n",
    "\n",
    "plt.figure(figsize=(12,8))\n",
    "\n",
    "GCA = [charging_tRNA_b0203_GCA_data, charging_tRNA_b3276_GCA_data, charging_tRNA_b3853_GCA_data]\n",
    "GCA = sum(map(np.array, GCA))\n",
    "print('GCA = ', GCA)\n",
    "\n",
    "GCG = [charging_tRNA_b0203_GCG_data, charging_tRNA_b3276_GCG_data, charging_tRNA_b3853_GCG_data]\n",
    "GCG = sum(map(np.array, GCG))\n",
    "print('GCG = ', GCG)\n",
    "\n",
    "GCU = [charging_tRNA_b0203_GCU_data, charging_tRNA_b3276_GCU_data, charging_tRNA_b3853_GCU_data]\n",
    "GCU = sum(map(np.array, GCU))\n",
    "print('GCU = ', GCU)\n",
    "\n",
    "GCC = [charging_tRNA_b2396_GCC_data, charging_tRNA_b2397_GCC_data]\n",
    "GCC = sum(map(np.array, GCC))\n",
    "print('GCC = ', GCC)\n",
    "\n",
    "total = [GCA, GCG, GCU, GCC]\n",
    "total = sum(map(np.array, total))\n",
    "print('total = ', total)\n",
    "\n",
    "# plotting the points \n",
    "#plt.plot(x, growth_rate, label = \"growth_rate\")\n",
    "plt.plot(x, GCA, label = \"GCA\")\n",
    "plt.plot(x, GCG, label = \"GCG\")\n",
    "plt.plot(x, GCU, label = \"GCU\")\n",
    "plt.plot(x, GCC, label = \"GCC\")\n",
    "#plt.plot(x, total, label = \"Total\")\n",
    "\n",
    "# naming the x axis\n",
    "plt.xlabel('Alpha_protein')\n",
    "# naming the y axis\n",
    "plt.ylabel('Alanine tRNA Codon Flux Values')\n",
    "  \n",
    "# giving a title to my graph\n",
    "plt.title('Alanine tRNA Codon Flux Values vs Alpha Protein Production')\n",
    "  \n",
    "# function to show the plot\n",
    "plt.legend()\n",
    "#plt.yscale('log')\n",
    "plt.show()"
   ]
  },
  {
   "cell_type": "markdown",
   "metadata": {},
   "source": [
    "#### Plot the growth-rate with respect to the reaction flux"
   ]
  },
  {
   "cell_type": "code",
   "execution_count": null,
   "metadata": {},
   "outputs": [],
   "source": [
    "# x axis values\n",
    "x = Alpha_protein\n",
    "# corresponding y axis values\n",
    "\n",
    "plt.figure(figsize=(12,8))\n",
    "\n",
    "b0203 = [charging_tRNA_b0203_GCA_data, charging_tRNA_b0203_GCG_data, charging_tRNA_b0203_GCU_data]\n",
    "b0203 = sum(map(np.array, b0203))\n",
    "print('b0203 = ', b0203)\n",
    "\n",
    "b3276 = [charging_tRNA_b3276_GCA_data, charging_tRNA_b3276_GCG_data, charging_tRNA_b3276_GCU_data]\n",
    "b3276 = sum(map(np.array, b3276))\n",
    "print('b3276 = ', b3276)\n",
    "\n",
    "b3853 = [charging_tRNA_b3853_GCA_data, charging_tRNA_b3853_GCG_data, charging_tRNA_b3853_GCU_data]\n",
    "b3853 = sum(map(np.array, b3853))\n",
    "print('b3853 = ', b3853)\n",
    "\n",
    "b2396 = [charging_tRNA_b2396_GCC_data]\n",
    "b2396 = sum(map(np.array, b2396))\n",
    "print('b2396 = ', b2396)\n",
    "\n",
    "b2397 = [charging_tRNA_b2397_GCC_data]\n",
    "b2397 = sum(map(np.array, b2397))\n",
    "print('b2397 = ', b2397)\n",
    "\n",
    "total = [b0203, b3276, b3853, b2396,b2397]\n",
    "total = sum(map(np.array, total))\n",
    "print('total = ', total)\n",
    "\n",
    "# plotting the points \n",
    "#plt.plot(x, growth_rate, label = \"growth_rate\")\n",
    "plt.plot(x, b0203, label = \"b0203\")\n",
    "plt.plot(x, b3276, label = \"b3276\")\n",
    "plt.plot(x, b3853, label = \"b3853\")\n",
    "plt.plot(x, b2396, label = \"b2396\")\n",
    "plt.plot(x, b2397, label = \"b2397\")\n",
    "#plt.plot(x, total, label = \"total\")\n",
    "\n",
    "# naming the x axis\n",
    "plt.xlabel('Alpha_protein')\n",
    "# naming the y axis\n",
    "plt.ylabel('Alanine tRNA Gene Flux Values')\n",
    "  \n",
    "# giving a title to my graph\n",
    "plt.title('Alanine tRNA Gene Flux Values vs Alpha Protein Production')\n",
    "  \n",
    "# function to show the plot\n",
    "plt.legend()\n",
    "#plt.yscale('log')\n",
    "plt.show()"
   ]
  },
  {
   "cell_type": "markdown",
   "metadata": {},
   "source": [
    "#### Plot the transcription, translation, and ribosome flux with respect to Alpha production"
   ]
  },
  {
   "cell_type": "code",
   "execution_count": null,
   "metadata": {},
   "outputs": [],
   "source": [
    "import matplotlib.pyplot as plt\n",
    "  \n",
    "# x axis values\n",
    "x = Alpha_protein\n",
    "# corresponding y axis values\n",
    "\n",
    "plt.figure(figsize=(12,12))\n",
    "\n",
    "# plotting the points \n",
    "#plt.plot(x, growth_rate, label = \"growth_rate\")\n",
    "plt.plot(x, transcription_rate, label = \"transcription_rate\")\n",
    "plt.plot(x, translation_rate, label = \"translation_rate\")\n",
    "plt.plot(x, ribosome_rate, label = \"ribosome_rate\")\n",
    "#plt.plot(x, ribosome_shadow_price, label = \"ribosome_shadow_price\")\n",
    "\n",
    "# naming the x axis\n",
    "plt.xlabel('Alpha_protein')\n",
    "# naming the y axis\n",
    "plt.ylabel('Flux Values')\n",
    "  \n",
    "# giving a title to my graph\n",
    "plt.title('Key Data vs Alpha Protein Production')\n",
    "  \n",
    "# function to show the plot\n",
    "plt.legend()\n",
    "plt.yscale('log')\n",
    "plt.show()"
   ]
  },
  {
   "cell_type": "markdown",
   "metadata": {},
   "source": [
    "#### Plot the growth-rate with respect to Alpha production"
   ]
  },
  {
   "cell_type": "code",
   "execution_count": null,
   "metadata": {},
   "outputs": [],
   "source": [
    "import matplotlib.pyplot as plt\n",
    "  \n",
    "# x axis values\n",
    "x = Alpha_protein\n",
    "# corresponding y axis values\n",
    "y = growth_rate\n",
    "  \n",
    "# plotting the points \n",
    "plt.plot(x, y)\n",
    "  \n",
    "# naming the x axis\n",
    "plt.xlabel('Alpha Protein')\n",
    "# naming the y axis\n",
    "plt.ylabel('Growth-rate')\n",
    "  \n",
    "# giving a title to my graph\n",
    "plt.title('Cell Growth-rate vs Alpha Protein')\n",
    "  \n",
    "# function to show the plot\n",
    "plt.show()"
   ]
  },
  {
   "cell_type": "markdown",
   "metadata": {},
   "source": [
    "#### Plot the transcription flux with respect to Alpha production"
   ]
  },
  {
   "cell_type": "code",
   "execution_count": null,
   "metadata": {},
   "outputs": [],
   "source": [
    "# x axis values\n",
    "x = Alpha_protein\n",
    "# corresponding y axis values\n",
    "y = transcription_rate\n",
    "  \n",
    "# plotting the points \n",
    "plt.plot(x, y)\n",
    "  \n",
    "# naming the x axis\n",
    "plt.xlabel('Alpha Protein')\n",
    "# naming the y axis\n",
    "plt.ylabel('Transcription Rate')\n",
    "  \n",
    "# giving a title to my graph\n",
    "plt.title('Cell Transcription Rate vs Alpha Protein')\n",
    "  \n",
    "# function to show the plot\n",
    "plt.show()"
   ]
  },
  {
   "cell_type": "markdown",
   "metadata": {},
   "source": [
    "#### Plot the translation flux with respect to Alpha production"
   ]
  },
  {
   "cell_type": "code",
   "execution_count": null,
   "metadata": {},
   "outputs": [],
   "source": [
    "# x axis values\n",
    "x = Alpha_protein\n",
    "# corresponding y axis values\n",
    "y = translation_rate\n",
    "  \n",
    "# plotting the points \n",
    "plt.plot(x, y)\n",
    "  \n",
    "# naming the x axis\n",
    "plt.xlabel('Alpha Protein')\n",
    "# naming the y axis\n",
    "plt.ylabel('Translation Rate')\n",
    "  \n",
    "# giving a title to my graph\n",
    "plt.title('Cell Translation Rate vs Alpha Protein')\n",
    "  \n",
    "# function to show the plot\n",
    "plt.show()"
   ]
  },
  {
   "cell_type": "markdown",
   "metadata": {},
   "source": [
    "#### Plot the ribosome flux with respect to Alpha production"
   ]
  },
  {
   "cell_type": "code",
   "execution_count": null,
   "metadata": {},
   "outputs": [],
   "source": [
    "# x axis values\n",
    "x = Alpha_protein\n",
    "# corresponding y axis values\n",
    "y = ribosome_rate\n",
    "  \n",
    "# plotting the points \n",
    "plt.plot(x, y)\n",
    "  \n",
    "# naming the x axis\n",
    "plt.xlabel('Alpha Protein')\n",
    "# naming the y axis\n",
    "plt.ylabel('Ribosome Flux')\n",
    "  \n",
    "# giving a title to my graph\n",
    "plt.title('Ribosome Flux vs Alpha Protein')\n",
    "  \n",
    "# function to show the plot\n",
    "plt.show()"
   ]
  },
  {
   "cell_type": "markdown",
   "metadata": {},
   "source": [
    "#### Plot the ribosome shadow prices with respect to Alpha production"
   ]
  },
  {
   "cell_type": "code",
   "execution_count": null,
   "metadata": {},
   "outputs": [],
   "source": [
    "# x axis values\n",
    "x = Alpha_protein\n",
    "# corresponding y axis values\n",
    "y = ribosome_shadow_price\n",
    "  \n",
    "# plotting the points \n",
    "plt.plot(x, y)\n",
    "  \n",
    "# naming the x axis\n",
    "plt.xlabel('Alpha Protein')\n",
    "# naming the y axis\n",
    "plt.ylabel('Ribosome Shadow Price')\n",
    "  \n",
    "# giving a title to my graph\n",
    "plt.title('Ribosome Shadow Price vs Alpha Protein')\n",
    "  \n",
    "# function to show the plot\n",
    "plt.show()"
   ]
  },
  {
   "cell_type": "markdown",
   "metadata": {},
   "source": [
    "#### Plot the secreted acetate flux with respect to Alpha production"
   ]
  },
  {
   "cell_type": "code",
   "execution_count": null,
   "metadata": {},
   "outputs": [],
   "source": [
    "# x axis values\n",
    "x = Alpha_protein\n",
    "# corresponding y axis values\n",
    "y = acetate_rate\n",
    "  \n",
    "# plotting the points \n",
    "plt.plot(x, y)\n",
    "  \n",
    "# naming the x axis\n",
    "plt.xlabel('Alpha Protein')\n",
    "# naming the y axis\n",
    "plt.ylabel('Acetate Flux Rate')\n",
    "  \n",
    "# giving a title to my graph\n",
    "plt.title('Acetate Flux Rate vs Alpha Protein')\n",
    "  \n",
    "# function to show the plot\n",
    "plt.show()"
   ]
  },
  {
   "cell_type": "markdown",
   "metadata": {},
   "source": [
    "#### Plot the ATP production flux with respect to Alpha production"
   ]
  },
  {
   "cell_type": "code",
   "execution_count": null,
   "metadata": {},
   "outputs": [],
   "source": [
    "# x axis values\n",
    "x = Alpha_protein\n",
    "# corresponding y axis values\n",
    "y = ATP_flux\n",
    "  \n",
    "# plotting the points \n",
    "plt.plot(x, y)\n",
    "  \n",
    "# naming the x axis\n",
    "plt.xlabel('Alpha Protein')\n",
    "# naming the y axis\n",
    "plt.ylabel('ATP Flux Rate')\n",
    "  \n",
    "# giving a title to my graph\n",
    "plt.title('ATP Flux Rate vs Alpha Protein')\n",
    "  \n",
    "# function to show the plot\n",
    "plt.show()"
   ]
  },
  {
   "cell_type": "code",
   "execution_count": null,
   "metadata": {
    "scrolled": false
   },
   "outputs": [],
   "source": [
    "show_escher_map(me).display_in_notebook()"
   ]
  },
  {
   "cell_type": "code",
   "execution_count": null,
   "metadata": {},
   "outputs": [],
   "source": [
    "print('transcription_TU_Alpha =', me.reactions.get_by_id('transcription_TU_Alpha').x)\n",
    "print('formation_RNAP70-CPLX =', me.reactions.get_by_id('formation_RNAP70-CPLX').x)"
   ]
  },
  {
   "cell_type": "code",
   "execution_count": null,
   "metadata": {},
   "outputs": [],
   "source": [
    "me.metabolites.protein_Alpha.reactions"
   ]
  },
  {
   "cell_type": "code",
   "execution_count": null,
   "metadata": {},
   "outputs": [],
   "source": [
    "me.reactions.translation_Alpha.x"
   ]
  },
  {
   "cell_type": "code",
   "execution_count": null,
   "metadata": {},
   "outputs": [],
   "source": []
  }
 ],
 "metadata": {
  "kernelspec": {
   "display_name": "Python 3",
   "language": "python",
   "name": "python3"
  },
  "language_info": {
   "codemirror_mode": {
    "name": "ipython",
    "version": 3
   },
   "file_extension": ".py",
   "mimetype": "text/x-python",
   "name": "python",
   "nbconvert_exporter": "python",
   "pygments_lexer": "ipython3",
   "version": "3.6.1"
  }
 },
 "nbformat": 4,
 "nbformat_minor": 2
}
