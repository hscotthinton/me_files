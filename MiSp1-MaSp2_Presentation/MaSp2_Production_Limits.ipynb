{
 "cells": [
  {
   "cell_type": "markdown",
   "metadata": {},
   "source": [
    "# Simulating MaSp2 Production Limits (Four Repeats)"
   ]
  },
  {
   "cell_type": "markdown",
   "metadata": {},
   "source": [
    "## 1. Load the python packages"
   ]
  },
  {
   "cell_type": "code",
   "execution_count": 1,
   "metadata": {},
   "outputs": [
    {
     "name": "stderr",
     "output_type": "stream",
     "text": [
      "/usr/lib/python3.6/site-packages/cobra-0.5.11-py3.6-linux-x86_64.egg/cobra/solvers/__init__.py:63: UserWarning: No LP solvers found\n",
      "  warn(\"No LP solvers found\")\n",
      "/usr/lib/python3.6/site-packages/cobra-0.5.11-py3.6-linux-x86_64.egg/cobra/io/sbml3.py:24: UserWarning: Install lxml for faster SBML I/O\n",
      "  warn(\"Install lxml for faster SBML I/O\")\n",
      "/usr/lib/python3.6/site-packages/cobra-0.5.11-py3.6-linux-x86_64.egg/cobra/io/__init__.py:12: UserWarning: cobra.io.sbml requires libsbml\n",
      "  warn(\"cobra.io.sbml requires libsbml\")\n"
     ]
    }
   ],
   "source": [
    "from __future__ import print_function, division, absolute_import\n",
    "\n",
    "# python imports\n",
    "import re\n",
    "from os.path import join\n",
    "from collections import defaultdict\n",
    "import pickle\n",
    "import pandas as pd\n",
    "\n",
    "# third party imports\n",
    "import pandas\n",
    "import tabulate\n",
    "import cobra\n",
    "pd.set_option('display.max_columns', 100)\n",
    "pd.set_option('display.width',100)\n",
    "pd.set_option('display.max_colwidth',300)\n",
    "\n",
    "# ECOLIme\n",
    "import ecolime\n",
    "from ecolime import (transcription, translation, flat_files, generics, formulas, compartments)\n",
    "\n",
    "# COBRAme\n",
    "import cobrame\n",
    "from cobrame.util import building, mu, me_model_interface\n",
    "#from cobrame.io.json import save_json_me_model, save_reduced_json_me_model"
   ]
  },
  {
   "cell_type": "markdown",
   "metadata": {},
   "source": [
    "## 2. Load the iJL1678b model\n",
    "\n",
    "Load the iJL1678b model in pickle format that is located in the current directory."
   ]
  },
  {
   "cell_type": "code",
   "execution_count": 2,
   "metadata": {},
   "outputs": [],
   "source": [
    "with open('iJL1678b.pickle', 'rb') as f:\n",
    "    me = pickle.load(f)"
   ]
  },
  {
   "cell_type": "markdown",
   "metadata": {},
   "source": [
    "## 3. Define ME-Model Solve Functions"
   ]
  },
  {
   "cell_type": "code",
   "execution_count": 3,
   "metadata": {},
   "outputs": [],
   "source": [
    "def solve_me_model(me, max_mu, precision=1e-6, min_mu=0, using_soplex=False,\n",
    "                  compiled_expressions=None):\n",
    "    if using_soplex:\n",
    "        from cobrame.solve.algorithms import binary_search\n",
    "        binary_search(me, min_mu=min_mu, max_mu=max_mu, debug=True, mu_accuracy=precision,\n",
    "                      compiled_expressions=compiled_expressions)\n",
    "    else:\n",
    "        from qminospy.me1 import ME_NLP1\n",
    "        # The object containing solveME methods--composite that uses a ME model object \n",
    "        me_nlp = ME_NLP1(me, growth_key='mu')\n",
    "        # Use bisection for now (until the NLP formulation is worked out)\n",
    "        muopt, hs, xopt, cache = me_nlp.bisectmu(precision=precision, mumax=max_mu)\n",
    "        me.solution.f = me.solution.x_dict['biomass_dilution']\n",
    "        \n",
    "def show_escher_map(me, solution=None):\n",
    "    import escher\n",
    "    view = escher.Builder(\"iJO1366.Central metabolism\")\n",
    "    view.reaction_data = me.get_metabolic_flux(solution=solution)\n",
    "    return view"
   ]
  },
  {
   "cell_type": "markdown",
   "metadata": {},
   "source": [
    "## 4. Create the MaSp2 Transcription Reaction\n",
    "\n",
    "Complete the steps necessary to create the MaSp2 Transcription Reaction"
   ]
  },
  {
   "cell_type": "code",
   "execution_count": 4,
   "metadata": {},
   "outputs": [
    {
     "name": "stdout",
     "output_type": "stream",
     "text": [
      "740 atp_c + 2040 ctp_c + 1120 gtp_c + 288 utp_c --> RNA_MaSp2 + 1336.7666654680002 mRNA_biomass + 4188 ppi_c\n"
     ]
    },
    {
     "name": "stderr",
     "output_type": "stream",
     "text": [
      "/source/cobrame/cobrame/core/reaction.py:852 \u001b[1;31mUserWarning\u001b[0m: RNA Polymerase () not found\n"
     ]
    }
   ],
   "source": [
    "locus_id = 'MaSp2'\n",
    "left_pos =  None\n",
    "right_pos = None\n",
    "seq = 'AAACTGCACATGACCGGTCCGGGTCAGCAGGGTCCGGGTGGTTACGGTCCGGGTCAGCAGGGTCCGTCTGGTCCGGGTTCTGCGGCGGCGGCGGCGGCGGCGGCGGGTCCGGGTCAGCAGGGTCCGGGTGGTTACGGTCCGGGTCAGCAGGGTCCGGGTGGTTACGGTCCGGGTCAGCAGGGTCCGTCTGGTCCGGGTTCTGCGGCGGCGGCGGCGGCGGCGGCGGGTCCGGGTGGTTACGGTCCGGGTCAGCAGGGTCCGGGTGGTTACGGTCCGGGTCAGCAGGGTCCGGGTGGTTACGGTCCGGGTCAGCAGGGTCCGTCTGGTCCGGGTTCTGCGGCGGCGGCGGCGGCGGCGGCGGGTCCGGGTCAGCAGGGTCCGGGTGGTTACGGTCCGGGTCAGCAGGGTCCGGGTGGTTACGGTCCGGGTCAGCAGGGTCCGTCTGGTCCGGGTTCTGCGGCGGCGGCGGCGGCGGCGGCGGGTCCGGGTCAGCAGGGTCCGGGTGGTTACGGTCCGGGTCAGCAGGGTCCGTCTGGTCCGGGTTCTGCGGCGGCGGCGGCGGCGGCGGCGGGTCCGGGTCAGCAGGGTCCGGGTGGTTACGGTCCGGGTCAGCAGGGTCCGGGTGGTTACGGTCCGGGTCAGCAGGGTCCGTCTGGTCCGGGTTCTGCGGCGGCGGCGGCGGCGGCGGCGGGTCCGGGTGGTTACGGTCCGGGTCAGCAGGGTCCGGGTGGTTACGGTCCGGGTCAGCAGGGTCCGGGTGGTTACGGTCCGGGTCAGCAGGGTCCGTCTGGTCCGGGTTCTGCGGCGGCGGCGGCGGCGGCGGCGGGTCCGGGTCAGCAGGGTCCGGGTGGTTACGGTCCGGGTCAGCAGGGTCCGGGTGGTTACGGTCCGGGTCAGCAGGGTCCGTCTGGTCCGGGTTCTGCGGCGGCGGCGGCGGCGGCGGCGGGTCCGGGTCAGCAGGGTCCGGGTGGTTACGGTCCGGGTCAGCAGGGTCCGTCTGGTCCGGGTTCTGCGGCGGCGGCGGCGGCGGCGGCGTCTGGTGGTGACAAACTGCACATGACCGGTCCGGGTCAGCAGGGTCCGGGTGGTTACGGTCCGGGTCAGCAGGGTCCGTCTGGTCCGGGTTCTGCGGCGGCGGCGGCGGCGGCGGCGGGTCCGGGTCAGCAGGGTCCGGGTGGTTACGGTCCGGGTCAGCAGGGTCCGGGTGGTTACGGTCCGGGTCAGCAGGGTCCGTCTGGTCCGGGTTCTGCGGCGGCGGCGGCGGCGGCGGCGGGTCCGGGTGGTTACGGTCCGGGTCAGCAGGGTCCGGGTGGTTACGGTCCGGGTCAGCAGGGTCCGGGTGGTTACGGTCCGGGTCAGCAGGGTCCGTCTGGTCCGGGTTCTGCGGCGGCGGCGGCGGCGGCGGCGGGTCCGGGTCAGCAGGGTCCGGGTGGTTACGGTCCGGGTCAGCAGGGTCCGGGTGGTTACGGTCCGGGTCAGCAGGGTCCGTCTGGTCCGGGTTCTGCGGCGGCGGCGGCGGCGGCGGCGGGTCCGGGTCAGCAGGGTCCGGGTGGTTACGGTCCGGGTCAGCAGGGTCCGTCTGGTCCGGGTTCTGCGGCGGCGGCGGCGGCGGCGGCGGGTCCGGGTCAGCAGGGTCCGGGTGGTTACGGTCCGGGTCAGCAGGGTCCGGGTGGTTACGGTCCGGGTCAGCAGGGTCCGTCTGGTCCGGGTTCTGCGGCGGCGGCGGCGGCGGCGGCGGGTCCGGGTGGTTACGGTCCGGGTCAGCAGGGTCCGGGTGGTTACGGTCCGGGTCAGCAGGGTCCGGGTGGTTACGGTCCGGGTCAGCAGGGTCCGTCTGGTCCGGGTTCTGCGGCGGCGGCGGCGGCGGCGGCGGGTCCGGGTCAGCAGGGTCCGGGTGGTTACGGTCCGGGTCAGCAGGGTCCGGGTGGTTACGGTCCGGGTCAGCAGGGTCCGTCTGGTCCGGGTTCTGCGGCGGCGGCGGCGGCGGCGGCGGGTCCGGGTCAGCAGGGTCCGGGTGGTTACGGTCCGGGTCAGCAGGGTCCGTCTGGTCCGGGTTCTGCGGCGGCGGCGGCGGCGGCGGCGTCTGGTGGTGACAAACTGCACATGACCGGTCCGGGTCAGCAGGGTCCGGGTGGTTACGGTCCGGGTCAGCAGGGTCCGTCTGGTCCGGGTTCTGCGGCGGCGGCGGCGGCGGCGGCGGGTCCGGGTCAGCAGGGTCCGGGTGGTTACGGTCCGGGTCAGCAGGGTCCGGGTGGTTACGGTCCGGGTCAGCAGGGTCCGTCTGGTCCGGGTTCTGCGGCGGCGGCGGCGGCGGCGGCGGGTCCGGGTGGTTACGGTCCGGGTCAGCAGGGTCCGGGTGGTTACGGTCCGGGTCAGCAGGGTCCGGGTGGTTACGGTCCGGGTCAGCAGGGTCCGTCTGGTCCGGGTTCTGCGGCGGCGGCGGCGGCGGCGGCGGGTCCGGGTCAGCAGGGTCCGGGTGGTTACGGTCCGGGTCAGCAGGGTCCGGGTGGTTACGGTCCGGGTCAGCAGGGTCCGTCTGGTCCGGGTTCTGCGGCGGCGGCGGCGGCGGCGGCGGGTCCGGGTCAGCAGGGTCCGGGTGGTTACGGTCCGGGTCAGCAGGGTCCGTCTGGTCCGGGTTCTGCGGCGGCGGCGGCGGCGGCGGCGGGTCCGGGTCAGCAGGGTCCGGGTGGTTACGGTCCGGGTCAGCAGGGTCCGGGTGGTTACGGTCCGGGTCAGCAGGGTCCGTCTGGTCCGGGTTCTGCGGCGGCGGCGGCGGCGGCGGCGGGTCCGGGTGGTTACGGTCCGGGTCAGCAGGGTCCGGGTGGTTACGGTCCGGGTCAGCAGGGTCCGGGTGGTTACGGTCCGGGTCAGCAGGGTCCGTCTGGTCCGGGTTCTGCGGCGGCGGCGGCGGCGGCGGCGGGTCCGGGTCAGCAGGGTCCGGGTGGTTACGGTCCGGGTCAGCAGGGTCCGGGTGGTTACGGTCCGGGTCAGCAGGGTCCGTCTGGTCCGGGTTCTGCGGCGGCGGCGGCGGCGGCGGCGGGTCCGGGTCAGCAGGGTCCGGGTGGTTACGGTCCGGGTCAGCAGGGTCCGTCTGGTCCGGGTTCTGCGGCGGCGGCGGCGGCGGCGGCGTCTGGTGGTGACAAACTGCACATGACCGGTCCGGGTCAGCAGGGTCCGGGTGGTTACGGTCCGGGTCAGCAGGGTCCGTCTGGTCCGGGTTCTGCGGCGGCGGCGGCGGCGGCGGCGGGTCCGGGTCAGCAGGGTCCGGGTGGTTACGGTCCGGGTCAGCAGGGTCCGGGTGGTTACGGTCCGGGTCAGCAGGGTCCGTCTGGTCCGGGTTCTGCGGCGGCGGCGGCGGCGGCGGCGGGTCCGGGTGGTTACGGTCCGGGTCAGCAGGGTCCGGGTGGTTACGGTCCGGGTCAGCAGGGTCCGGGTGGTTACGGTCCGGGTCAGCAGGGTCCGTCTGGTCCGGGTTCTGCGGCGGCGGCGGCGGCGGCGGCGGGTCCGGGTCAGCAGGGTCCGGGTGGTTACGGTCCGGGTCAGCAGGGTCCGGGTGGTTACGGTCCGGGTCAGCAGGGTCCGTCTGGTCCGGGTTCTGCGGCGGCGGCGGCGGCGGCGGCGGGTCCGGGTCAGCAGGGTCCGGGTGGTTACGGTCCGGGTCAGCAGGGTCCGTCTGGTCCGGGTTCTGCGGCGGCGGCGGCGGCGGCGGCGGGTCCGGGTCAGCAGGGTCCGGGTGGTTACGGTCCGGGTCAGCAGGGTCCGGGTGGTTACGGTCCGGGTCAGCAGGGTCCGTCTGGTCCGGGTTCTGCGGCGGCGGCGGCGGCGGCGGCGGGTCCGGGTGGTTACGGTCCGGGTCAGCAGGGTCCGGGTGGTTACGGTCCGGGTCAGCAGGGTCCGGGTGGTTACGGTCCGGGTCAGCAGGGTCCGTCTGGTCCGGGTTCTGCGGCGGCGGCGGCGGCGGCGGCGGGTCCGGGTCAGCAGGGTCCGGGTGGTTACGGTCCGGGTCAGCAGGGTCCGGGTGGTTACGGTCCGGGTCAGCAGGGTCCGTCTGGTCCGGGTTCTGCGGCGGCGGCGGCGGCGGCGGCGGGTCCGGGTCAGCAGGGTCCGGGTGGTTACGGTCCGGGTCAGCAGGGTCCGTCTGGTCCGGGTTCTGCGGCGGCGGCGGCGGCGGCGGCGTCTGGTGGTGAC'\n",
    "strand = None\n",
    "rna_type = 'mRNA'\n",
    "\n",
    "building.create_transcribed_gene(me, locus_id, rna_type, seq)\n",
    "building.add_transcription_reaction(me, 'TU_MaSp2', {'MaSp2'}, seq)\n",
    "print(me.reactions.transcription_TU_MaSp2.reaction)\n",
    "me.reactions.transcription_TU_MaSp2.update()"
   ]
  },
  {
   "cell_type": "markdown",
   "metadata": {},
   "source": [
    "###  Add the RNAP to the MaSp1 Transcription Reaction"
   ]
  },
  {
   "cell_type": "code",
   "execution_count": 5,
   "metadata": {},
   "outputs": [],
   "source": [
    "me.reactions.transcription_TU_MaSp2.transcription_data.RNA_polymerase = 'RNAP70-CPLX'\n",
    "me.reactions.transcription_TU_MaSp2.update()"
   ]
  },
  {
   "cell_type": "markdown",
   "metadata": {},
   "source": [
    "List the transcription data (\"transcription_data\") associated with the MaSp2 transcription reaction (\"transcription_TU_MaSp2\")."
   ]
  },
  {
   "cell_type": "code",
   "execution_count": 6,
   "metadata": {},
   "outputs": [
    {
     "data": {
      "text/html": [
       "<div>\n",
       "<style scoped>\n",
       "    .dataframe tbody tr th:only-of-type {\n",
       "        vertical-align: middle;\n",
       "    }\n",
       "\n",
       "    .dataframe tbody tr th {\n",
       "        vertical-align: top;\n",
       "    }\n",
       "\n",
       "    .dataframe thead th {\n",
       "        text-align: right;\n",
       "    }\n",
       "</style>\n",
       "<table border=\"1\" class=\"dataframe\">\n",
       "  <thead>\n",
       "    <tr style=\"text-align: right;\">\n",
       "      <th></th>\n",
       "      <th>Attribute Values</th>\n",
       "    </tr>\n",
       "  </thead>\n",
       "  <tbody>\n",
       "    <tr>\n",
       "      <th>id</th>\n",
       "      <td>TU_MaSp2</td>\n",
       "    </tr>\n",
       "    <tr>\n",
       "      <th>_model</th>\n",
       "      <td>iJL1678b-ME</td>\n",
       "    </tr>\n",
       "    <tr>\n",
       "      <th>_parent_reactions</th>\n",
       "      <td>{'transcription_TU_MaSp2'}</td>\n",
       "    </tr>\n",
       "    <tr>\n",
       "      <th>nucleotide_sequence</th>\n",
       "      <td>AAACTGCACATGACCGGTCCGGGTCAGCAGGGTCCGGGTGGTTACGGTCCGGGTCAGCAGGGTCCGTCTGGTCCGGGTTCTGCGGCGGCGGCGGCGGCGGCGGCGGGTCCGGGTCAGCAGGGTCCGGGTGGTTACGGTCCGGGTCAGCAGGGTCCGGGTGGTTACGGTCCGGGTCAGCAGGGTCCGTCTGGTCCGGGTTCTGCGGCGGCGGCGGCGGCGGCGGCGGGTCCGGGTGGTTACGGTCCGGGTCAGCAGGGTCCGGGTGGTTACGGTCCGGGTCAGCAGGGTCCGGGTGG...</td>\n",
       "    </tr>\n",
       "    <tr>\n",
       "      <th>RNA_products</th>\n",
       "      <td>{'RNA_MaSp2'}</td>\n",
       "    </tr>\n",
       "    <tr>\n",
       "      <th>RNA_polymerase</th>\n",
       "      <td>RNAP70-CPLX</td>\n",
       "    </tr>\n",
       "    <tr>\n",
       "      <th>subreactions</th>\n",
       "      <td>defaultdict(&lt;class 'int'&gt;, {})</td>\n",
       "    </tr>\n",
       "  </tbody>\n",
       "</table>\n",
       "</div>"
      ],
      "text/plain": [
       "                                                                                                                                                                                                                                                                                                                Attribute Values\n",
       "id                                                                                                                                                                                                                                                                                                                      TU_MaSp2\n",
       "_model                                                                                                                                                                                                                                                                                                               iJL1678b-ME\n",
       "_parent_reactions                                                                                                                                                                                                                                                                                     {'transcription_TU_MaSp2'}\n",
       "nucleotide_sequence  AAACTGCACATGACCGGTCCGGGTCAGCAGGGTCCGGGTGGTTACGGTCCGGGTCAGCAGGGTCCGTCTGGTCCGGGTTCTGCGGCGGCGGCGGCGGCGGCGGCGGGTCCGGGTCAGCAGGGTCCGGGTGGTTACGGTCCGGGTCAGCAGGGTCCGGGTGGTTACGGTCCGGGTCAGCAGGGTCCGTCTGGTCCGGGTTCTGCGGCGGCGGCGGCGGCGGCGGCGGGTCCGGGTGGTTACGGTCCGGGTCAGCAGGGTCCGGGTGGTTACGGTCCGGGTCAGCAGGGTCCGGGTGG...\n",
       "RNA_products                                                                                                                                                                                                                                                                                                       {'RNA_MaSp2'}\n",
       "RNA_polymerase                                                                                                                                                                                                                                                                                                       RNAP70-CPLX\n",
       "subreactions                                                                                                                                                                                                                                                                                      defaultdict(<class 'int'>, {})"
      ]
     },
     "execution_count": 6,
     "metadata": {},
     "output_type": "execute_result"
    }
   ],
   "source": [
    "rxn = me.reactions.transcription_TU_MaSp2\n",
    "data = rxn.transcription_data\n",
    "pd.DataFrame({i: str(v) for i, v in data.__dict__.items()}, index=['Attribute Values']).T"
   ]
  },
  {
   "cell_type": "markdown",
   "metadata": {},
   "source": [
    "List the attributes of the MaSp2 transcription reaction."
   ]
  },
  {
   "cell_type": "code",
   "execution_count": 7,
   "metadata": {},
   "outputs": [
    {
     "data": {
      "text/html": [
       "<div>\n",
       "<style scoped>\n",
       "    .dataframe tbody tr th:only-of-type {\n",
       "        vertical-align: middle;\n",
       "    }\n",
       "\n",
       "    .dataframe tbody tr th {\n",
       "        vertical-align: top;\n",
       "    }\n",
       "\n",
       "    .dataframe thead th {\n",
       "        text-align: right;\n",
       "    }\n",
       "</style>\n",
       "<table border=\"1\" class=\"dataframe\">\n",
       "  <thead>\n",
       "    <tr style=\"text-align: right;\">\n",
       "      <th></th>\n",
       "      <th>Attribute Values</th>\n",
       "    </tr>\n",
       "  </thead>\n",
       "  <tbody>\n",
       "    <tr>\n",
       "      <th>id</th>\n",
       "      <td>transcription_TU_MaSp2</td>\n",
       "    </tr>\n",
       "    <tr>\n",
       "      <th>name</th>\n",
       "      <td></td>\n",
       "    </tr>\n",
       "    <tr>\n",
       "      <th>notes</th>\n",
       "      <td>{}</td>\n",
       "    </tr>\n",
       "    <tr>\n",
       "      <th>annotation</th>\n",
       "      <td>{}</td>\n",
       "    </tr>\n",
       "    <tr>\n",
       "      <th>_gene_reaction_rule</th>\n",
       "      <td></td>\n",
       "    </tr>\n",
       "    <tr>\n",
       "      <th>subsystem</th>\n",
       "      <td></td>\n",
       "    </tr>\n",
       "    <tr>\n",
       "      <th>_genes</th>\n",
       "      <td>set()</td>\n",
       "    </tr>\n",
       "    <tr>\n",
       "      <th>_metabolites</th>\n",
       "      <td>{&lt;RNAP RNAP70-CPLX at 0x7f09074b7390&gt;: -0.0200139236828019*mu - 0.00783545112181693, &lt;TranscribedGene RNA_MaSp2 at 0x7f09075e2550&gt;: 1, &lt;Metabolite utp_c at 0x7f09074b7e10&gt;: -288, &lt;Metabolite atp_c at 0x7f09074b79b0&gt;: -740, &lt;Metabolite ctp_c at 0x7f09074b7ef0&gt;: -2040, &lt;Metabolite gtp_c at 0x7f090...</td>\n",
       "    </tr>\n",
       "    <tr>\n",
       "      <th>_model</th>\n",
       "      <td>iJL1678b-ME</td>\n",
       "    </tr>\n",
       "    <tr>\n",
       "      <th>_objective_coefficient</th>\n",
       "      <td>0.0</td>\n",
       "    </tr>\n",
       "    <tr>\n",
       "      <th>upper_bound</th>\n",
       "      <td>1000.0</td>\n",
       "    </tr>\n",
       "    <tr>\n",
       "      <th>lower_bound</th>\n",
       "      <td>0.0</td>\n",
       "    </tr>\n",
       "    <tr>\n",
       "      <th>variable_kind</th>\n",
       "      <td>continuous</td>\n",
       "    </tr>\n",
       "    <tr>\n",
       "      <th>_transcription_data</th>\n",
       "      <td>&lt;TranscriptionData TU_MaSp2 at 0x7f09075e2518&gt;</td>\n",
       "    </tr>\n",
       "  </tbody>\n",
       "</table>\n",
       "</div>"
      ],
      "text/plain": [
       "                                                                                                                                                                                                                                                                                                                   Attribute Values\n",
       "id                                                                                                                                                                                                                                                                                                           transcription_TU_MaSp2\n",
       "name                                                                                                                                                                                                                                                                                                                               \n",
       "notes                                                                                                                                                                                                                                                                                                                            {}\n",
       "annotation                                                                                                                                                                                                                                                                                                                       {}\n",
       "_gene_reaction_rule                                                                                                                                                                                                                                                                                                                \n",
       "subsystem                                                                                                                                                                                                                                                                                                                          \n",
       "_genes                                                                                                                                                                                                                                                                                                                        set()\n",
       "_metabolites            {<RNAP RNAP70-CPLX at 0x7f09074b7390>: -0.0200139236828019*mu - 0.00783545112181693, <TranscribedGene RNA_MaSp2 at 0x7f09075e2550>: 1, <Metabolite utp_c at 0x7f09074b7e10>: -288, <Metabolite atp_c at 0x7f09074b79b0>: -740, <Metabolite ctp_c at 0x7f09074b7ef0>: -2040, <Metabolite gtp_c at 0x7f090...\n",
       "_model                                                                                                                                                                                                                                                                                                                  iJL1678b-ME\n",
       "_objective_coefficient                                                                                                                                                                                                                                                                                                          0.0\n",
       "upper_bound                                                                                                                                                                                                                                                                                                                  1000.0\n",
       "lower_bound                                                                                                                                                                                                                                                                                                                     0.0\n",
       "variable_kind                                                                                                                                                                                                                                                                                                            continuous\n",
       "_transcription_data                                                                                                                                                                                                                                                                  <TranscriptionData TU_MaSp2 at 0x7f09075e2518>"
      ]
     },
     "execution_count": 7,
     "metadata": {},
     "output_type": "execute_result"
    }
   ],
   "source": [
    "rxn = me.reactions.transcription_TU_MaSp2\n",
    "data = rxn\n",
    "pd.DataFrame({i: str(v) for i, v in data.__dict__.items()}, index=['Attribute Values']).T"
   ]
  },
  {
   "cell_type": "markdown",
   "metadata": {},
   "source": [
    "List the complete reaction associated with the MaSp1 transcription reaction."
   ]
  },
  {
   "cell_type": "code",
   "execution_count": 8,
   "metadata": {},
   "outputs": [
    {
     "data": {
      "text/plain": [
       "'0.0200139236828019*mu + 0.00783545112181693 RNAP70-CPLX + 740 atp_c + 2040 ctp_c + 1120 gtp_c + 288 utp_c --> RNA_MaSp2 + 1336.7666654680002 mRNA_biomass + 4188 ppi_c'"
      ]
     },
     "execution_count": 8,
     "metadata": {},
     "output_type": "execute_result"
    }
   ],
   "source": [
    "me.reactions.get_by_id('transcription_TU_MaSp2').reaction"
   ]
  },
  {
   "cell_type": "markdown",
   "metadata": {},
   "source": [
    "List the RNAP associated with the MaSp2 transcription reaction"
   ]
  },
  {
   "cell_type": "code",
   "execution_count": 9,
   "metadata": {},
   "outputs": [
    {
     "data": {
      "text/plain": [
       "'RNAP70-CPLX'"
      ]
     },
     "execution_count": 9,
     "metadata": {},
     "output_type": "execute_result"
    }
   ],
   "source": [
    "me.reactions.transcription_TU_MaSp2.transcription_data.RNA_polymerase"
   ]
  },
  {
   "cell_type": "markdown",
   "metadata": {},
   "source": [
    "## 5. Create the MaSp2 Translation Reaction"
   ]
  },
  {
   "cell_type": "markdown",
   "metadata": {},
   "source": [
    "Complete all the steps necessary to create the MaSp2 Translation Reaction"
   ]
  },
  {
   "cell_type": "markdown",
   "metadata": {},
   "source": [
    "### Storing information about a translation reaction"
   ]
  },
  {
   "cell_type": "code",
   "execution_count": 10,
   "metadata": {},
   "outputs": [],
   "source": [
    "data = cobrame.TranslationData('MaSp2', me, 'RNA_MaSp2', 'protein_MaSp2')\n",
    "data.nucleotide_sequence = seq"
   ]
  },
  {
   "cell_type": "markdown",
   "metadata": {},
   "source": [
    "### Create translation reaction\n",
    "\n",
    "By associating the TranslationReaction with its corresponding TranslationData object and running the update function, COBRAme will create a translation reaction for the nucleotide sequence given based on the organisms codon table and prespecified translation machinery."
   ]
  },
  {
   "cell_type": "code",
   "execution_count": 11,
   "metadata": {},
   "outputs": [],
   "source": [
    "rxn = cobrame.TranslationReaction('translation_MaSp2')\n",
    "rxn.translation_data = data\n",
    "me.add_reaction(rxn)"
   ]
  },
  {
   "cell_type": "markdown",
   "metadata": {},
   "source": [
    "### Updating the translation reaction\n",
    "\n",
    "Note that this process does not include the ribosome in the reaction."
   ]
  },
  {
   "cell_type": "code",
   "execution_count": 12,
   "metadata": {},
   "outputs": [
    {
     "name": "stdout",
     "output_type": "stream",
     "text": [
      "0.000498399634202103*mu + 0.000195123456790123 + 0.00598079561042524*(mu + 0.3915)/mu RNA_MaSp2 + 2.55589556001079e-8*mu + 1.00063311174422e-8 RNA_degradosome + 288 ala__L_c + 4 asp__L_c + 6.26039780521262*(mu + 0.3915)/mu atp_c + 192 gln__L_c + 512 gly_c + 4 his__L_c + 4 leu__L_c + 3 lys__L_c + 7.9949282049938*(mu + 0.3915)/mu mRNA_biomass + 5 met__L_c + 236 pro__L_c + 0.0200139236828019*mu + 0.00783545112181693 ribosome + 76 ser__L_c + 4 thr__L_c + 68 tyr__L_c --> 6.26039780521262*(mu + 0.3915)/mu adp_c + 4.42578875171468*(mu + 0.3915)/mu amp_c + 12.2008230452675*(mu + 0.3915)/mu cmp_c + 6.69849108367627*(mu + 0.3915)/mu gmp_c + 1395.0 - 6.26039780521262*(mu + 0.3915)/mu h2o_c + 6.26039780521262*(mu + 0.3915)/mu h_c + 6.26039780521262*(mu + 0.3915)/mu pi_c + protein_MaSp2 + 117.83781752 protein_biomass + 1.72246913580247*(mu + 0.3915)/mu ump_c\n"
     ]
    }
   ],
   "source": [
    "rxn.update()\n",
    "print(rxn.reaction)"
   ]
  },
  {
   "cell_type": "markdown",
   "metadata": {},
   "source": [
    "### Incorporate the ribosome\n",
    "\n",
    "Add the ribosome to the reaction."
   ]
  },
  {
   "cell_type": "code",
   "execution_count": 13,
   "metadata": {},
   "outputs": [
    {
     "name": "stdout",
     "output_type": "stream",
     "text": [
      "0.000498399634202103*mu + 0.000195123456790123 + 0.00598079561042524*(mu + 0.3915)/mu RNA_MaSp2 + 2.55589556001079e-8*mu + 1.00063311174422e-8 RNA_degradosome + 288 ala__L_c + 4 asp__L_c + 6.26039780521262*(mu + 0.3915)/mu atp_c + 192 gln__L_c + 512 gly_c + 4 his__L_c + 4 leu__L_c + 3 lys__L_c + 7.9949282049938*(mu + 0.3915)/mu mRNA_biomass + 5 met__L_c + 236 pro__L_c + 0.0200139236828019*mu + 0.00783545112181693 ribosome + 76 ser__L_c + 4 thr__L_c + 68 tyr__L_c --> 6.26039780521262*(mu + 0.3915)/mu adp_c + 4.42578875171468*(mu + 0.3915)/mu amp_c + 12.2008230452675*(mu + 0.3915)/mu cmp_c + 6.69849108367627*(mu + 0.3915)/mu gmp_c + 1395.0 - 6.26039780521262*(mu + 0.3915)/mu h2o_c + 6.26039780521262*(mu + 0.3915)/mu h_c + 6.26039780521262*(mu + 0.3915)/mu pi_c + protein_MaSp2 + 117.83781752 protein_biomass + 1.72246913580247*(mu + 0.3915)/mu ump_c\n"
     ]
    }
   ],
   "source": [
    "ribosome = cobrame.Ribosome('ribosome')\n",
    "me.add_metabolites([ribosome])\n",
    "me.reactions.translation_MaSp2.update()\n",
    "print(me.reactions.translation_MaSp2.reaction)"
   ]
  },
  {
   "cell_type": "markdown",
   "metadata": {},
   "source": [
    "### Add Subreactions to the MaSp2 model"
   ]
  },
  {
   "cell_type": "markdown",
   "metadata": {},
   "source": [
    "Create the subreactions that represent elongation, initiation and termination"
   ]
  },
  {
   "cell_type": "code",
   "execution_count": 14,
   "metadata": {},
   "outputs": [
    {
     "name": "stderr",
     "output_type": "stream",
     "text": [
      "/source/cobrame/cobrame/core/processdata.py:859 \u001b[1;31mUserWarning\u001b[0m: RNA_MaSp2 starts with 'AAA' which is not a start codon\n",
      "/source/cobrame/cobrame/core/processdata.py:896 \u001b[1;31mUserWarning\u001b[0m: No termination enzyme for RNA_MaSp2\n"
     ]
    }
   ],
   "source": [
    "elongation = ['FusA_mono_elongation', 'Tuf_gtp_regeneration']\n",
    "initiation = ['Translation_gtp_initiation_factor_InfB', 'Translation_initiation_factor_InfA', \n",
    "              'Translation_initiation_factor_InfC', 'fmet_addition_at_START', 'peptide_deformylase_processing', \n",
    "              'peptide_chain_release', 'ribosome_recycler']\n",
    "termination = {'UGA':'PrfB_mono'}\n",
    "me.process_data.get_by_id('MaSp2').add_elongation_subreactions(elongation_subreactions=set(elongation))\n",
    "me.process_data.get_by_id('MaSp2').add_initiation_subreactions(start_codons=set(['AUG']), start_subreactions=set(initiation))\n",
    "me.process_data.get_by_id('MaSp2').add_termination_subreactions(translation_terminator_dict=termination)\n",
    "#me.reactions.translation_MaSp2.update(verbose=False)"
   ]
  },
  {
   "cell_type": "markdown",
   "metadata": {},
   "source": [
    "List the subreactions associated with MaSp2 translation reaction stored in the ProcessData."
   ]
  },
  {
   "cell_type": "code",
   "execution_count": 15,
   "metadata": {
    "scrolled": true
   },
   "outputs": [
    {
     "data": {
      "text/plain": [
       "defaultdict(int,\n",
       "            {'FusA_mono_elongation': 1395.0,\n",
       "             'Tuf_gtp_regeneration': 1395.0,\n",
       "             'lys_addition_at_AAA': 3,\n",
       "             'leu_addition_at_CUG': 4,\n",
       "             'his_addition_at_CAC': 4,\n",
       "             'met_addition_at_AUG': 4,\n",
       "             'thr_addition_at_ACC': 4,\n",
       "             'gly_addition_at_GGU': 512,\n",
       "             'pro_addition_at_CCG': 236,\n",
       "             'gln_addition_at_CAG': 192,\n",
       "             'tyr_addition_at_UAC': 68,\n",
       "             'ser_addition_at_UCU': 76,\n",
       "             'ala_addition_at_GCG': 288,\n",
       "             'asp_addition_at_GAC': 3,\n",
       "             'peptide_chain_release': 1,\n",
       "             'peptide_deformylase_processing': 1,\n",
       "             'Translation_initiation_factor_InfA': 1,\n",
       "             'Translation_initiation_factor_InfC': 1,\n",
       "             'ribosome_recycler': 1,\n",
       "             'Translation_gtp_initiation_factor_InfB': 1,\n",
       "             'fmet_addition_at_START': 1})"
      ]
     },
     "execution_count": 15,
     "metadata": {},
     "output_type": "execute_result"
    }
   ],
   "source": [
    "me.process_data.get_by_id('MaSp2').subreactions"
   ]
  },
  {
   "cell_type": "markdown",
   "metadata": {},
   "source": [
    "List the subreactions generated from the nucleatide sequence that are stored in the ProcessData."
   ]
  },
  {
   "cell_type": "code",
   "execution_count": 16,
   "metadata": {
    "scrolled": true
   },
   "outputs": [
    {
     "data": {
      "text/plain": [
       "{'lys_addition_at_AAA': 3,\n",
       " 'leu_addition_at_CUG': 4,\n",
       " 'his_addition_at_CAC': 4,\n",
       " 'met_addition_at_AUG': 4,\n",
       " 'thr_addition_at_ACC': 4,\n",
       " 'gly_addition_at_GGU': 512,\n",
       " 'pro_addition_at_CCG': 236,\n",
       " 'gln_addition_at_CAG': 192,\n",
       " 'tyr_addition_at_UAC': 68,\n",
       " 'ser_addition_at_UCU': 76,\n",
       " 'ala_addition_at_GCG': 288,\n",
       " 'asp_addition_at_GAC': 3}"
      ]
     },
     "execution_count": 16,
     "metadata": {},
     "output_type": "execute_result"
    }
   ],
   "source": [
    "me.process_data.get_by_id('MaSp2').subreactions_from_sequence"
   ]
  },
  {
   "cell_type": "markdown",
   "metadata": {},
   "source": [
    "### Updating the MaSp2 translation reaction"
   ]
  },
  {
   "cell_type": "code",
   "execution_count": 17,
   "metadata": {},
   "outputs": [
    {
     "name": "stdout",
     "output_type": "stream",
     "text": [
      "Before adding tRNA subreaction\n",
      "------------------------------\n",
      "0.000498399634202103*mu + 0.000195123456790123 + 0.00598079561042524*(mu + 0.3915)/mu RNA_MaSp2 + 2.55589556001079e-8*mu + 1.00063311174422e-8 RNA_degradosome + 288 ala__L_c + 4 asp__L_c + 6.26039780521262*(mu + 0.3915)/mu atp_c + 192 gln__L_c + 512 gly_c + 4 his__L_c + 4 leu__L_c + 3 lys__L_c + 7.9949282049938*(mu + 0.3915)/mu mRNA_biomass + 5 met__L_c + 236 pro__L_c + 0.0200139236828019*mu + 0.00783545112181693 ribosome + 76 ser__L_c + 4 thr__L_c + 68 tyr__L_c --> 6.26039780521262*(mu + 0.3915)/mu adp_c + 4.42578875171468*(mu + 0.3915)/mu amp_c + 12.2008230452675*(mu + 0.3915)/mu cmp_c + 6.69849108367627*(mu + 0.3915)/mu gmp_c + 1395.0 - 6.26039780521262*(mu + 0.3915)/mu h2o_c + 6.26039780521262*(mu + 0.3915)/mu h_c + 6.26039780521262*(mu + 0.3915)/mu pi_c + protein_MaSp2 + 117.83781752 protein_biomass + 1.72246913580247*(mu + 0.3915)/mu ump_c\n",
      "\n",
      "After adding tRNA subreaction\n",
      "-----------------------------\n",
      "10fthf_c + 2.72438972852433e-7*mu Def_mono_mod_1:fe2 + 1.80324164444648e-7*mu Fmt_mono_mod_mg2_mod_k + 0.00596153846153846*mu FusA_mono + 4.27350427350427e-6*mu InfA_mono + 4.45382843794892e-6*mu InfB_mono + 4.27350427350427e-6*mu InfC_mono + 4.27350427350427e-6*mu PrfC_mono + 0.000498399634202103*mu + 0.000195123456790123 + 0.00598079561042524*(mu + 0.3915)/mu RNA_MaSp2 + 2.55589556001079e-8*mu + 1.00063311174422e-8 RNA_degradosome + 2.62130898398882e-7*mu Rrf_mono + 0.00596153846153846*mu Tsf_mono + 288 ala__L_c + 4 asp__L_c + 1394.0 + 6.26039780521262*(mu + 0.3915)/mu atp_c + 0.00595726495726496*mu generic_Tuf + 3.0 generic_tRNA_AAA_lys__L_c + 4.0 generic_tRNA_ACC_thr__L_c + 4.0 generic_tRNA_AUG_met__L_c + 4.0 generic_tRNA_CAC_his__L_c + 192.0 generic_tRNA_CAG_gln__L_c + 236.0 generic_tRNA_CCG_pro__L_c + 4.0 generic_tRNA_CUG_leu__L_c + 3.0 generic_tRNA_GAC_asp__L_c + 288.0 generic_tRNA_GCG_ala__L_c + 512.0 generic_tRNA_GGU_gly_c + generic_tRNA_START_met__L_c + 68.0 generic_tRNA_UAC_tyr__L_c + 76.0 generic_tRNA_UCU_ser__L_c + 192 gln__L_c + 512 gly_c + 2791.0 gtp_c + 2791.0 + 6.26039780521262*(mu + 0.3915)/mu h2o_c + 4 his__L_c + 4 leu__L_c + 3 lys__L_c + 7.9949282049938*(mu + 0.3915)/mu mRNA_biomass + 5 met__L_c + 236 pro__L_c + 0.0200139236828019*mu + 0.00783545112181693 ribosome + 76 ser__L_c + 4 thr__L_c + 68 tyr__L_c --> 6.26039780521262*(mu + 0.3915)/mu adp_c + 1394.0 + 4.42578875171468*(mu + 0.3915)/mu amp_c + 12.2008230452675*(mu + 0.3915)/mu cmp_c + for_c + 2791.0 gdp_c + 6.69849108367627*(mu + 0.3915)/mu gmp_c + 4185.0 + 6.26039780521262*(mu + 0.3915)/mu h_c + 2791.0 + 6.26039780521262*(mu + 0.3915)/mu pi_c + 1394.0 ppi_c + protein_MaSp2 + 117.83882546 protein_biomass + thf_c + 1.72246913580247*(mu + 0.3915)/mu ump_c\n"
     ]
    }
   ],
   "source": [
    "translation_subreactions = me.process_data.MaSp2.subreactions_from_sequence\n",
    "print(\"Before adding tRNA subreaction\")\n",
    "print(\"------------------------------\")\n",
    "print(me.reactions.translation_MaSp2.reaction)\n",
    "print(\"\")\n",
    "# Link tranlation_data to subreactions and update\n",
    "for subreaction, value in translation_subreactions.items():\n",
    "    me.process_data.MaSp2.subreactions[subreaction] = value\n",
    "me.reactions.translation_MaSp2.update(verbose=False)\n",
    "print(\"After adding tRNA subreaction\")\n",
    "print(\"-----------------------------\")\n",
    "print(me.reactions.translation_MaSp2.reaction)"
   ]
  },
  {
   "cell_type": "markdown",
   "metadata": {},
   "source": [
    "List the reactants associated with the MaSp2 translation reaction. In this list all the subreactions should be listed."
   ]
  },
  {
   "cell_type": "code",
   "execution_count": 18,
   "metadata": {
    "scrolled": true
   },
   "outputs": [
    {
     "data": {
      "text/plain": [
       "[<Metabolite met__L_c at 0x7f09067b79b0>,\n",
       " <Metabolite h2o_c at 0x7f09074b7a58>,\n",
       " <Metabolite leu__L_c at 0x7f09067b7b70>,\n",
       " <Metabolite his__L_c at 0x7f09067c63c8>,\n",
       " <Metabolite thr__L_c at 0x7f09067b7e48>,\n",
       " <Metabolite gly_c at 0x7f09067b7d30>,\n",
       " <Metabolite pro__L_c at 0x7f09067c6320>,\n",
       " <Metabolite gln__L_c at 0x7f09067c62b0>,\n",
       " <Metabolite tyr__L_c at 0x7f09067c64a8>,\n",
       " <Metabolite ser__L_c at 0x7f09067b7ef0>,\n",
       " <Metabolite ala__L_c at 0x7f09067b7f98>,\n",
       " <Metabolite asp__L_c at 0x7f09067c6198>,\n",
       " <Metabolite lys__L_c at 0x7f09067b7cc0>,\n",
       " <Ribosome ribosome at 0x7f09067c6588>,\n",
       " <TranscribedGene RNA_MaSp2 at 0x7f09075e2550>,\n",
       " <Metabolite atp_c at 0x7f09074b79b0>,\n",
       " <Complex RNA_degradosome at 0x7f09074df400>,\n",
       " <Complex FusA_mono at 0x7f09067e0c50>,\n",
       " <Metabolite gtp_c at 0x7f09074b7fd0>,\n",
       " <Complex Tsf_mono at 0x7f09067e0c88>,\n",
       " <GenericComponent generic_Tuf at 0x7f09067c6a90>,\n",
       " <GenerictRNA generic_tRNA_AAA_lys__L_c at 0x7f09067d5978>,\n",
       " <GenerictRNA generic_tRNA_CUG_leu__L_c at 0x7f09067d5320>,\n",
       " <GenerictRNA generic_tRNA_CAC_his__L_c at 0x7f09067d5a90>,\n",
       " <GenerictRNA generic_tRNA_AUG_met__L_c at 0x7f09067c6cf8>,\n",
       " <GenerictRNA generic_tRNA_ACC_thr__L_c at 0x7f09067d5710>,\n",
       " <GenerictRNA generic_tRNA_GGU_gly_c at 0x7f09067c6f98>,\n",
       " <GenerictRNA generic_tRNA_CCG_pro__L_c at 0x7f09067d5da0>,\n",
       " <GenerictRNA generic_tRNA_CAG_gln__L_c at 0x7f09067d5630>,\n",
       " <GenerictRNA generic_tRNA_UAC_tyr__L_c at 0x7f09067e02b0>,\n",
       " <GenerictRNA generic_tRNA_UCU_ser__L_c at 0x7f09067d5860>,\n",
       " <GenerictRNA generic_tRNA_GCG_ala__L_c at 0x7f09067d5b00>,\n",
       " <GenerictRNA generic_tRNA_GAC_asp__L_c at 0x7f09067e0390>,\n",
       " <Complex PrfC_mono at 0x7f09067e0fd0>,\n",
       " <Complex Def_mono_mod_1:fe2 at 0x7f09067e0da0>,\n",
       " <Complex InfA_mono at 0x7f09067e0ac8>,\n",
       " <Complex InfC_mono at 0x7f09067e0b70>,\n",
       " <Complex Rrf_mono at 0x7f09067e0d68>,\n",
       " <Complex InfB_mono at 0x7f09067e07f0>,\n",
       " <Complex Fmt_mono_mod_mg2_mod_k at 0x7f09067e08d0>,\n",
       " <Metabolite 10fthf_c at 0x7f09067e0978>,\n",
       " <GenerictRNA generic_tRNA_START_met__L_c at 0x7f09067e0a90>,\n",
       " <Constraint mRNA_biomass at 0x7f09075d7128>]"
      ]
     },
     "execution_count": 18,
     "metadata": {},
     "output_type": "execute_result"
    }
   ],
   "source": [
    "me.reactions.translation_MaSp2.reactants"
   ]
  },
  {
   "cell_type": "markdown",
   "metadata": {},
   "source": [
    "This completes the creation of the translation reaction"
   ]
  },
  {
   "cell_type": "markdown",
   "metadata": {},
   "source": [
    "## 6. Create Demand Reaction for MaSp2"
   ]
  },
  {
   "cell_type": "code",
   "execution_count": 19,
   "metadata": {},
   "outputs": [],
   "source": [
    "new_reaction = cobrame.MEReaction('DM_protein_MaSp2')\n",
    "me.add_reaction(new_reaction)"
   ]
  },
  {
   "cell_type": "code",
   "execution_count": 20,
   "metadata": {},
   "outputs": [
    {
     "data": {
      "text/plain": [
       "'protein_MaSp2 --> '"
      ]
     },
     "execution_count": 20,
     "metadata": {},
     "output_type": "execute_result"
    }
   ],
   "source": [
    "me.reactions.get_by_id('DM_protein_MaSp2').reaction = 'protein_MaSp2 ->'\n",
    "me.reactions.get_by_id('DM_protein_MaSp2').reaction"
   ]
  },
  {
   "cell_type": "code",
   "execution_count": 21,
   "metadata": {},
   "outputs": [
    {
     "data": {
      "text/html": [
       "<div>\n",
       "<style scoped>\n",
       "    .dataframe tbody tr th:only-of-type {\n",
       "        vertical-align: middle;\n",
       "    }\n",
       "\n",
       "    .dataframe tbody tr th {\n",
       "        vertical-align: top;\n",
       "    }\n",
       "\n",
       "    .dataframe thead th {\n",
       "        text-align: right;\n",
       "    }\n",
       "</style>\n",
       "<table border=\"1\" class=\"dataframe\">\n",
       "  <thead>\n",
       "    <tr style=\"text-align: right;\">\n",
       "      <th></th>\n",
       "      <th>Attribute Values</th>\n",
       "    </tr>\n",
       "  </thead>\n",
       "  <tbody>\n",
       "    <tr>\n",
       "      <th>id</th>\n",
       "      <td>DM_protein_MaSp2</td>\n",
       "    </tr>\n",
       "    <tr>\n",
       "      <th>name</th>\n",
       "      <td></td>\n",
       "    </tr>\n",
       "    <tr>\n",
       "      <th>notes</th>\n",
       "      <td>{}</td>\n",
       "    </tr>\n",
       "    <tr>\n",
       "      <th>annotation</th>\n",
       "      <td>{}</td>\n",
       "    </tr>\n",
       "    <tr>\n",
       "      <th>_gene_reaction_rule</th>\n",
       "      <td></td>\n",
       "    </tr>\n",
       "    <tr>\n",
       "      <th>subsystem</th>\n",
       "      <td></td>\n",
       "    </tr>\n",
       "    <tr>\n",
       "      <th>_genes</th>\n",
       "      <td>set()</td>\n",
       "    </tr>\n",
       "    <tr>\n",
       "      <th>_metabolites</th>\n",
       "      <td>{&lt;TranslatedGene protein_MaSp2 at 0x7f09075aa6d8&gt;: -1}</td>\n",
       "    </tr>\n",
       "    <tr>\n",
       "      <th>_model</th>\n",
       "      <td>iJL1678b-ME</td>\n",
       "    </tr>\n",
       "    <tr>\n",
       "      <th>_objective_coefficient</th>\n",
       "      <td>0.0</td>\n",
       "    </tr>\n",
       "    <tr>\n",
       "      <th>upper_bound</th>\n",
       "      <td>1000</td>\n",
       "    </tr>\n",
       "    <tr>\n",
       "      <th>lower_bound</th>\n",
       "      <td>0</td>\n",
       "    </tr>\n",
       "    <tr>\n",
       "      <th>variable_kind</th>\n",
       "      <td>continuous</td>\n",
       "    </tr>\n",
       "  </tbody>\n",
       "</table>\n",
       "</div>"
      ],
      "text/plain": [
       "                                                              Attribute Values\n",
       "id                                                            DM_protein_MaSp2\n",
       "name                                                                          \n",
       "notes                                                                       {}\n",
       "annotation                                                                  {}\n",
       "_gene_reaction_rule                                                           \n",
       "subsystem                                                                     \n",
       "_genes                                                                   set()\n",
       "_metabolites            {<TranslatedGene protein_MaSp2 at 0x7f09075aa6d8>: -1}\n",
       "_model                                                             iJL1678b-ME\n",
       "_objective_coefficient                                                     0.0\n",
       "upper_bound                                                               1000\n",
       "lower_bound                                                                  0\n",
       "variable_kind                                                       continuous"
      ]
     },
     "execution_count": 21,
     "metadata": {},
     "output_type": "execute_result"
    }
   ],
   "source": [
    "rxn = me.reactions.DM_protein_MaSp2\n",
    "data = rxn\n",
    "pd.DataFrame({i: str(v) for i, v in data.__dict__.items()}, index=['Attribute Values']).T"
   ]
  },
  {
   "cell_type": "markdown",
   "metadata": {},
   "source": [
    "### Find the amino acid count"
   ]
  },
  {
   "cell_type": "code",
   "execution_count": 22,
   "metadata": {},
   "outputs": [
    {
     "data": {
      "text/plain": [
       "defaultdict(int,\n",
       "            {'met__L_c': 5,\n",
       "             'leu__L_c': 4,\n",
       "             'his__L_c': 4,\n",
       "             'thr__L_c': 4,\n",
       "             'gly_c': 512,\n",
       "             'pro__L_c': 236,\n",
       "             'gln__L_c': 192,\n",
       "             'tyr__L_c': 68,\n",
       "             'ser__L_c': 76,\n",
       "             'ala__L_c': 288,\n",
       "             'asp__L_c': 4,\n",
       "             'lys__L_c': 3})"
      ]
     },
     "execution_count": 22,
     "metadata": {},
     "output_type": "execute_result"
    }
   ],
   "source": [
    "me.process_data.MaSp2.amino_acid_count"
   ]
  },
  {
   "cell_type": "code",
   "execution_count": 23,
   "metadata": {
    "scrolled": true
   },
   "outputs": [
    {
     "name": "stdout",
     "output_type": "stream",
     "text": [
      "\n",
      "MaSp2 Flux #  0\n",
      "iter\tmuopt    \ta     \tb     \tmu1       \tstat1\n",
      "Finished compiling expressions in 36.482500 seconds\n",
      "Finished substituting S,lb,ub in 2.373059 seconds\n",
      "Finished makeME_LP in 0.371959 seconds\n",
      "Getting MINOS parameters from ME_NLP...\n",
      "1 0.5 0.5 1.0 0.5 optimal\n",
      "Finished substituting S,lb,ub in 2.373622 seconds\n",
      "Finished makeME_LP in 0.376687 seconds\n",
      "Getting MINOS parameters from ME_NLP...\n",
      "2 0.75 0.75 1.0 0.75 optimal\n",
      "Finished substituting S,lb,ub in 2.361635 seconds\n",
      "Finished makeME_LP in 0.377408 seconds\n",
      "Getting MINOS parameters from ME_NLP...\n",
      "3 0.75 0.75 0.875 0.875 1\n",
      "Finished substituting S,lb,ub in 2.365061 seconds\n",
      "Finished makeME_LP in 0.370940 seconds\n",
      "Getting MINOS parameters from ME_NLP...\n",
      "4 0.8125 0.8125 0.875 0.8125 optimal\n",
      "Finished substituting S,lb,ub in 2.354953 seconds\n",
      "Finished makeME_LP in 0.375955 seconds\n",
      "Getting MINOS parameters from ME_NLP...\n",
      "5 0.8125 0.8125 0.84375 0.84375 1\n",
      "Finished substituting S,lb,ub in 2.352008 seconds\n",
      "Finished makeME_LP in 0.372527 seconds\n",
      "Getting MINOS parameters from ME_NLP...\n",
      "6 0.828125 0.828125 0.84375 0.828125 optimal\n",
      "Finished substituting S,lb,ub in 2.359431 seconds\n",
      "Finished makeME_LP in 0.373456 seconds\n",
      "Getting MINOS parameters from ME_NLP...\n",
      "7 0.828125 0.828125 0.8359375 0.8359375 1\n",
      "Bisection done in 127.751 seconds\n",
      "Growth-rate = [0.828125]\n",
      "\n",
      "MaSp2 Flux #  0.0001\n",
      "iter\tmuopt    \ta     \tb     \tmu1       \tstat1\n",
      "Finished compiling expressions in 35.249116 seconds\n",
      "Finished substituting S,lb,ub in 2.370903 seconds\n",
      "Finished makeME_LP in 0.386925 seconds\n",
      "Getting MINOS parameters from ME_NLP...\n",
      "1 0.5 0.5 1.0 0.5 optimal\n",
      "Finished substituting S,lb,ub in 2.343544 seconds\n",
      "Finished makeME_LP in 0.370491 seconds\n",
      "Getting MINOS parameters from ME_NLP...\n",
      "2 0.75 0.75 1.0 0.75 optimal\n",
      "Finished substituting S,lb,ub in 2.360617 seconds\n",
      "Finished makeME_LP in 0.372725 seconds\n",
      "Getting MINOS parameters from ME_NLP...\n",
      "3 0.75 0.75 0.875 0.875 1\n",
      "Finished substituting S,lb,ub in 2.369388 seconds\n",
      "Finished makeME_LP in 0.368914 seconds\n",
      "Getting MINOS parameters from ME_NLP...\n",
      "4 0.75 0.75 0.8125 0.8125 1\n",
      "Finished substituting S,lb,ub in 2.371850 seconds\n",
      "Finished makeME_LP in 0.366213 seconds\n",
      "Getting MINOS parameters from ME_NLP...\n",
      "5 0.78125 0.78125 0.8125 0.78125 optimal\n",
      "Finished substituting S,lb,ub in 2.353114 seconds\n",
      "Finished makeME_LP in 0.368604 seconds\n",
      "Getting MINOS parameters from ME_NLP...\n",
      "6 0.796875 0.796875 0.8125 0.796875 optimal\n",
      "Finished substituting S,lb,ub in 2.356938 seconds\n",
      "Finished makeME_LP in 0.364935 seconds\n",
      "Getting MINOS parameters from ME_NLP...\n",
      "7 0.796875 0.796875 0.8046875 0.8046875 1\n",
      "Bisection done in 129.144 seconds\n",
      "Growth-rate = [0.828125, 0.796875]\n",
      "\n",
      "MaSp2 Flux #  0.0005\n",
      "iter\tmuopt    \ta     \tb     \tmu1       \tstat1\n",
      "Finished compiling expressions in 35.096903 seconds\n",
      "Finished substituting S,lb,ub in 2.341089 seconds\n",
      "Finished makeME_LP in 0.389044 seconds\n",
      "Getting MINOS parameters from ME_NLP...\n",
      "1 0.5 0.5 1.0 0.5 optimal\n",
      "Finished substituting S,lb,ub in 2.317768 seconds\n",
      "Finished makeME_LP in 0.366282 seconds\n",
      "Getting MINOS parameters from ME_NLP...\n",
      "2 0.5 0.5 0.75 0.75 1\n",
      "Finished substituting S,lb,ub in 2.315338 seconds\n",
      "Finished makeME_LP in 0.366377 seconds\n",
      "Getting MINOS parameters from ME_NLP...\n",
      "3 0.5 0.5 0.625 0.625 1\n",
      "Finished substituting S,lb,ub in 2.325711 seconds\n",
      "Finished makeME_LP in 0.368206 seconds\n",
      "Getting MINOS parameters from ME_NLP...\n",
      "4 0.5625 0.5625 0.625 0.5625 optimal\n",
      "Finished substituting S,lb,ub in 2.322518 seconds\n",
      "Finished makeME_LP in 0.367850 seconds\n",
      "Getting MINOS parameters from ME_NLP...\n",
      "5 0.59375 0.59375 0.625 0.59375 optimal\n",
      "Finished substituting S,lb,ub in 2.297048 seconds\n",
      "Finished makeME_LP in 0.367785 seconds\n",
      "Getting MINOS parameters from ME_NLP...\n",
      "6 0.609375 0.609375 0.625 0.609375 optimal\n",
      "Finished substituting S,lb,ub in 2.294398 seconds\n",
      "Finished makeME_LP in 0.373135 seconds\n",
      "Getting MINOS parameters from ME_NLP...\n",
      "7 0.609375 0.609375 0.6171875 0.6171875 1\n",
      "Bisection done in 117.79 seconds\n",
      "Growth-rate = [0.828125, 0.796875, 0.609375]\n",
      "\n",
      "MaSp2 Flux #  0.001\n",
      "iter\tmuopt    \ta     \tb     \tmu1       \tstat1\n",
      "Finished compiling expressions in 34.944842 seconds\n",
      "Finished substituting S,lb,ub in 2.348261 seconds\n",
      "Finished makeME_LP in 0.381045 seconds\n",
      "Getting MINOS parameters from ME_NLP...\n",
      "1 0.0 0.0 0.5 0.5 1\n",
      "Finished substituting S,lb,ub in 2.334890 seconds\n",
      "Finished makeME_LP in 0.359163 seconds\n",
      "Getting MINOS parameters from ME_NLP...\n",
      "2 0.0 0.0 0.25 0.25 1\n",
      "Finished substituting S,lb,ub in 2.341246 seconds\n",
      "Finished makeME_LP in 0.366745 seconds\n",
      "Getting MINOS parameters from ME_NLP...\n",
      "3 0.0 0.0 0.125 0.125 1\n",
      "Finished substituting S,lb,ub in 2.366411 seconds\n",
      "Finished makeME_LP in 0.373714 seconds\n",
      "Getting MINOS parameters from ME_NLP...\n",
      "4 0.0 0.0 0.0625 0.0625 1\n",
      "Finished substituting S,lb,ub in 2.334992 seconds\n",
      "Finished makeME_LP in 0.358665 seconds\n",
      "Getting MINOS parameters from ME_NLP...\n",
      "5 0.0 0.0 0.03125 0.03125 1\n",
      "Finished substituting S,lb,ub in 2.369535 seconds\n",
      "Finished makeME_LP in 0.368697 seconds\n",
      "Getting MINOS parameters from ME_NLP...\n",
      "6 0.0 0.0 0.015625 0.015625 1\n",
      "Finished substituting S,lb,ub in 2.341536 seconds\n",
      "Finished makeME_LP in 0.366921 seconds\n",
      "Getting MINOS parameters from ME_NLP...\n",
      "7 0.0 0.0 0.0078125 0.0078125 1\n",
      "Bisection done in 516.781 seconds\n",
      "Growth-rate = [0.828125, 0.796875, 0.609375, 0]\n",
      "\n",
      "MaSp2 Flux #  0.005\n",
      "iter\tmuopt    \ta     \tb     \tmu1       \tstat1\n",
      "Finished compiling expressions in 35.233027 seconds\n",
      "Finished substituting S,lb,ub in 2.333623 seconds\n",
      "Finished makeME_LP in 0.383196 seconds\n",
      "Getting MINOS parameters from ME_NLP...\n",
      "1 0.0 0.0 0.5 0.5 1\n",
      "Finished substituting S,lb,ub in 2.326267 seconds\n",
      "Finished makeME_LP in 0.369320 seconds\n",
      "Getting MINOS parameters from ME_NLP...\n",
      "2 0.0 0.0 0.25 0.25 1\n",
      "Finished substituting S,lb,ub in 2.337618 seconds\n",
      "Finished makeME_LP in 0.364635 seconds\n",
      "Getting MINOS parameters from ME_NLP...\n",
      "3 0.0 0.0 0.125 0.125 1\n",
      "Finished substituting S,lb,ub in 2.354926 seconds\n",
      "Finished makeME_LP in 0.368660 seconds\n",
      "Getting MINOS parameters from ME_NLP...\n",
      "4 0.0 0.0 0.0625 0.0625 1\n",
      "Finished substituting S,lb,ub in 2.330280 seconds\n",
      "Finished makeME_LP in 0.373925 seconds\n",
      "Getting MINOS parameters from ME_NLP...\n",
      "5 0.0 0.0 0.03125 0.03125 1\n",
      "Finished substituting S,lb,ub in 2.325140 seconds\n",
      "Finished makeME_LP in 0.369153 seconds\n",
      "Getting MINOS parameters from ME_NLP...\n",
      "6 0.0 0.0 0.015625 0.015625 1\n",
      "Finished substituting S,lb,ub in 2.343702 seconds\n",
      "Finished makeME_LP in 0.365445 seconds\n",
      "Getting MINOS parameters from ME_NLP...\n",
      "7 0.0 0.0 0.0078125 0.0078125 1\n",
      "Bisection done in 517.218 seconds\n",
      "Growth-rate = [0.828125, 0.796875, 0.609375, 0, 0]\n",
      "\n",
      "MaSp2 Flux #  0.01\n",
      "iter\tmuopt    \ta     \tb     \tmu1       \tstat1\n",
      "Finished compiling expressions in 35.315622 seconds\n",
      "Finished substituting S,lb,ub in 2.383991 seconds\n",
      "Finished makeME_LP in 0.374174 seconds\n",
      "Getting MINOS parameters from ME_NLP...\n",
      "1 0.0 0.0 0.5 0.5 1\n",
      "Finished substituting S,lb,ub in 2.378593 seconds\n",
      "Finished makeME_LP in 0.369883 seconds\n",
      "Getting MINOS parameters from ME_NLP...\n",
      "2 0.0 0.0 0.25 0.25 1\n",
      "Finished substituting S,lb,ub in 2.366794 seconds\n",
      "Finished makeME_LP in 0.373441 seconds\n",
      "Getting MINOS parameters from ME_NLP...\n",
      "3 0.0 0.0 0.125 0.125 1\n",
      "Finished substituting S,lb,ub in 2.337445 seconds\n",
      "Finished makeME_LP in 0.369332 seconds\n",
      "Getting MINOS parameters from ME_NLP...\n",
      "4 0.0 0.0 0.0625 0.0625 1\n",
      "Finished substituting S,lb,ub in 2.386234 seconds\n",
      "Finished makeME_LP in 0.371268 seconds\n",
      "Getting MINOS parameters from ME_NLP...\n",
      "5 0.0 0.0 0.03125 0.03125 1\n",
      "Finished substituting S,lb,ub in 2.366223 seconds\n",
      "Finished makeME_LP in 0.367985 seconds\n",
      "Getting MINOS parameters from ME_NLP...\n",
      "6 0.0 0.0 0.015625 0.015625 1\n",
      "Finished substituting S,lb,ub in 2.373005 seconds\n",
      "Finished makeME_LP in 0.372013 seconds\n",
      "Getting MINOS parameters from ME_NLP...\n",
      "7 0.0 0.0 0.0078125 0.0078125 1\n",
      "Bisection done in 520.881 seconds\n",
      "Growth-rate = [0.828125, 0.796875, 0.609375, 0, 0, 0]\n",
      "\n",
      "MaSp2 Flux #  0.05\n",
      "iter\tmuopt    \ta     \tb     \tmu1       \tstat1\n",
      "Finished compiling expressions in 35.545545 seconds\n",
      "Finished substituting S,lb,ub in 2.403777 seconds\n",
      "Finished makeME_LP in 0.371776 seconds\n",
      "Getting MINOS parameters from ME_NLP...\n",
      "1 0.0 0.0 0.5 0.5 1\n",
      "Finished substituting S,lb,ub in 2.403373 seconds\n",
      "Finished makeME_LP in 0.372430 seconds\n",
      "Getting MINOS parameters from ME_NLP...\n",
      "2 0.0 0.0 0.25 0.25 1\n"
     ]
    },
    {
     "name": "stdout",
     "output_type": "stream",
     "text": [
      "Finished substituting S,lb,ub in 2.354620 seconds\n",
      "Finished makeME_LP in 0.367569 seconds\n",
      "Getting MINOS parameters from ME_NLP...\n",
      "3 0.0 0.0 0.125 0.125 1\n",
      "Finished substituting S,lb,ub in 2.416589 seconds\n",
      "Finished makeME_LP in 0.367901 seconds\n",
      "Getting MINOS parameters from ME_NLP...\n",
      "4 0.0 0.0 0.0625 0.0625 1\n",
      "Finished substituting S,lb,ub in 2.413848 seconds\n",
      "Finished makeME_LP in 0.374671 seconds\n",
      "Getting MINOS parameters from ME_NLP...\n",
      "5 0.0 0.0 0.03125 0.03125 1\n",
      "Finished substituting S,lb,ub in 2.383498 seconds\n",
      "Finished makeME_LP in 0.371743 seconds\n",
      "Getting MINOS parameters from ME_NLP...\n",
      "6 0.0 0.0 0.015625 0.015625 1\n",
      "Finished substituting S,lb,ub in 2.359668 seconds\n",
      "Finished makeME_LP in 0.368223 seconds\n",
      "Getting MINOS parameters from ME_NLP...\n",
      "7 0.0 0.0 0.0078125 0.0078125 1\n",
      "Bisection done in 522.43 seconds\n",
      "Growth-rate = [0.828125, 0.796875, 0.609375, 0, 0, 0, 0]\n"
     ]
    },
    {
     "data": {
      "text/plain": [
       "[0.828125, 0.796875, 0.609375, 0, 0, 0, 0]"
      ]
     },
     "execution_count": 23,
     "metadata": {},
     "output_type": "execute_result"
    }
   ],
   "source": [
    "from contextlib import suppress\n",
    "\n",
    "#me.reactions.DM_protein_MaSp1.upper_bound = 0.00015\n",
    "#me.reactions.DM_protein_MaSp1.lower_bound = 0.00015\n",
    "MaSp2 = [0, 0.0001, 0.0005, 0.001, 0.005, 0.01, 0.05]\n",
    "growth_rate = []\n",
    "for x in MaSp2:\n",
    "    print('\\nMaSp2 Flux # ',x)\n",
    "    me.reactions.get_by_id('DM_protein_MaSp2').lower_bound = x\n",
    "    me.reactions.get_by_id('DM_protein_MaSp2').upper_bound = x\n",
    "    temp = 0\n",
    "    with suppress(Exception):\n",
    "        solve_me_model(me, 1.0, min_mu = .01, precision=1e-2, using_soplex=False)\n",
    "        temp = me.solution.f    \n",
    "    growth_rate.append(temp)\n",
    "    print('Growth-rate =', growth_rate)\n",
    "    \n",
    "growth_rate"
   ]
  },
  {
   "cell_type": "code",
   "execution_count": 24,
   "metadata": {},
   "outputs": [
    {
     "data": {
      "image/png": "[encoded data removed]",
      "text/plain": [
       "<Figure size 432x288 with 1 Axes>"
      ]
     },
     "metadata": {},
     "output_type": "display_data"
    }
   ],
   "source": [
    "import matplotlib.pyplot as plt\n",
    "  \n",
    "# x axis values\n",
    "x = MaSp2\n",
    "# corresponding y axis values\n",
    "y = growth_rate\n",
    "  \n",
    "# plotting the points \n",
    "plt.plot(x, y)\n",
    "  \n",
    "# naming the x axis\n",
    "plt.xlabel('MaSp2 External Flux')\n",
    "# naming the y axis\n",
    "plt.ylabel('Growth-rate')\n",
    "  \n",
    "# giving a title to my graph\n",
    "plt.title('Cell Growth-rate vs MaSp2 External Flux')\n",
    "  \n",
    "# function to show the plot\n",
    "plt.show()"
   ]
  },
  {
   "cell_type": "code",
   "execution_count": 25,
   "metadata": {
    "scrolled": true
   },
   "outputs": [
    {
     "name": "stdout",
     "output_type": "stream",
     "text": [
      "\n",
      "MaSp2 Flux #  0\n",
      "iter\tmuopt    \ta     \tb     \tmu1       \tstat1\n",
      "Finished compiling expressions in 35.689793 seconds\n",
      "Finished substituting S,lb,ub in 2.372488 seconds\n",
      "Finished makeME_LP in 0.371839 seconds\n",
      "Getting MINOS parameters from ME_NLP...\n",
      "1 0.5 0.5 1.0 0.5 optimal\n",
      "Finished substituting S,lb,ub in 2.414979 seconds\n",
      "Finished makeME_LP in 0.372358 seconds\n",
      "Getting MINOS parameters from ME_NLP...\n",
      "2 0.75 0.75 1.0 0.75 optimal\n",
      "Finished substituting S,lb,ub in 2.399801 seconds\n",
      "Finished makeME_LP in 0.372827 seconds\n",
      "Getting MINOS parameters from ME_NLP...\n",
      "3 0.75 0.75 0.875 0.875 1\n",
      "Finished substituting S,lb,ub in 2.422055 seconds\n",
      "Finished makeME_LP in 0.379097 seconds\n",
      "Getting MINOS parameters from ME_NLP...\n",
      "4 0.8125 0.8125 0.875 0.8125 optimal\n",
      "Finished substituting S,lb,ub in 2.391869 seconds\n",
      "Finished makeME_LP in 0.375902 seconds\n",
      "Getting MINOS parameters from ME_NLP...\n",
      "5 0.8125 0.8125 0.84375 0.84375 1\n",
      "Finished substituting S,lb,ub in 2.423612 seconds\n",
      "Finished makeME_LP in 0.372254 seconds\n",
      "Getting MINOS parameters from ME_NLP...\n",
      "6 0.828125 0.828125 0.84375 0.828125 optimal\n",
      "Finished substituting S,lb,ub in 2.424180 seconds\n",
      "Finished makeME_LP in 0.372967 seconds\n",
      "Getting MINOS parameters from ME_NLP...\n",
      "7 0.828125 0.828125 0.8359375 0.8359375 1\n",
      "Bisection done in 128.379 seconds\n",
      "Growth-rate = [0.828125]\n",
      "\n",
      "MaSp2 Flux #  0.0001\n",
      "iter\tmuopt    \ta     \tb     \tmu1       \tstat1\n",
      "Finished compiling expressions in 35.622161 seconds\n",
      "Finished substituting S,lb,ub in 2.407545 seconds\n",
      "Finished makeME_LP in 0.371697 seconds\n",
      "Getting MINOS parameters from ME_NLP...\n",
      "1 0.5 0.5 1.0 0.5 optimal\n",
      "Finished substituting S,lb,ub in 2.366327 seconds\n",
      "Finished makeME_LP in 0.376745 seconds\n",
      "Getting MINOS parameters from ME_NLP...\n",
      "2 0.75 0.75 1.0 0.75 optimal\n",
      "Finished substituting S,lb,ub in 2.411426 seconds\n",
      "Finished makeME_LP in 0.374893 seconds\n",
      "Getting MINOS parameters from ME_NLP...\n",
      "3 0.75 0.75 0.875 0.875 1\n",
      "Finished substituting S,lb,ub in 2.379166 seconds\n",
      "Finished makeME_LP in 0.372494 seconds\n",
      "Getting MINOS parameters from ME_NLP...\n",
      "4 0.75 0.75 0.8125 0.8125 1\n",
      "Finished substituting S,lb,ub in 2.367974 seconds\n",
      "Finished makeME_LP in 0.373446 seconds\n",
      "Getting MINOS parameters from ME_NLP...\n",
      "5 0.78125 0.78125 0.8125 0.78125 optimal\n",
      "Finished substituting S,lb,ub in 2.382624 seconds\n",
      "Finished makeME_LP in 0.374294 seconds\n",
      "Getting MINOS parameters from ME_NLP...\n",
      "6 0.796875 0.796875 0.8125 0.796875 optimal\n",
      "Finished substituting S,lb,ub in 2.399622 seconds\n",
      "Finished makeME_LP in 0.372867 seconds\n",
      "Getting MINOS parameters from ME_NLP...\n",
      "7 0.796875 0.796875 0.8046875 0.8046875 1\n",
      "Bisection done in 130.361 seconds\n",
      "Growth-rate = [0.828125, 0.796875]\n",
      "\n",
      "MaSp2 Flux #  0.0005\n",
      "iter\tmuopt    \ta     \tb     \tmu1       \tstat1\n",
      "Finished compiling expressions in 35.764974 seconds\n",
      "Finished substituting S,lb,ub in 2.420293 seconds\n",
      "Finished makeME_LP in 0.376166 seconds\n",
      "Getting MINOS parameters from ME_NLP...\n",
      "1 0.5 0.5 1.0 0.5 optimal\n",
      "Finished substituting S,lb,ub in 2.413594 seconds\n",
      "Finished makeME_LP in 0.372386 seconds\n",
      "Getting MINOS parameters from ME_NLP...\n",
      "2 0.5 0.5 0.75 0.75 1\n",
      "Finished substituting S,lb,ub in 2.414002 seconds\n",
      "Finished makeME_LP in 0.374426 seconds\n",
      "Getting MINOS parameters from ME_NLP...\n",
      "3 0.5 0.5 0.625 0.625 1\n",
      "Finished substituting S,lb,ub in 2.401221 seconds\n",
      "Finished makeME_LP in 0.371175 seconds\n",
      "Getting MINOS parameters from ME_NLP...\n",
      "4 0.5625 0.5625 0.625 0.5625 optimal\n",
      "Finished substituting S,lb,ub in 2.377216 seconds\n",
      "Finished makeME_LP in 0.374655 seconds\n",
      "Getting MINOS parameters from ME_NLP...\n",
      "5 0.59375 0.59375 0.625 0.59375 optimal\n",
      "Finished substituting S,lb,ub in 2.387495 seconds\n",
      "Finished makeME_LP in 0.377304 seconds\n",
      "Getting MINOS parameters from ME_NLP...\n",
      "6 0.609375 0.609375 0.625 0.609375 optimal\n",
      "Finished substituting S,lb,ub in 2.394722 seconds\n",
      "Finished makeME_LP in 0.372805 seconds\n",
      "Getting MINOS parameters from ME_NLP...\n",
      "7 0.609375 0.609375 0.6171875 0.6171875 1\n",
      "Bisection done in 119.976 seconds\n",
      "Growth-rate = [0.828125, 0.796875, 0.609375]\n",
      "\n",
      "MaSp2 Flux #  0.0006\n",
      "iter\tmuopt    \ta     \tb     \tmu1       \tstat1\n",
      "Finished compiling expressions in 35.605170 seconds\n",
      "Finished substituting S,lb,ub in 2.359982 seconds\n",
      "Finished makeME_LP in 0.373428 seconds\n",
      "Getting MINOS parameters from ME_NLP...\n",
      "1 0.5 0.5 1.0 0.5 optimal\n",
      "Finished substituting S,lb,ub in 2.362533 seconds\n",
      "Finished makeME_LP in 0.371864 seconds\n",
      "Getting MINOS parameters from ME_NLP...\n",
      "2 0.5 0.5 0.75 0.75 1\n",
      "Finished substituting S,lb,ub in 2.381107 seconds\n",
      "Finished makeME_LP in 0.375863 seconds\n",
      "Getting MINOS parameters from ME_NLP...\n",
      "3 0.5 0.5 0.625 0.625 1\n",
      "Finished substituting S,lb,ub in 2.377338 seconds\n",
      "Finished makeME_LP in 0.370623 seconds\n",
      "Getting MINOS parameters from ME_NLP...\n",
      "4 0.5 0.5 0.5625 0.5625 1\n",
      "Finished substituting S,lb,ub in 2.385293 seconds\n",
      "Finished makeME_LP in 0.373008 seconds\n",
      "Getting MINOS parameters from ME_NLP...\n",
      "5 0.5 0.5 0.53125 0.53125 1\n",
      "Finished substituting S,lb,ub in 2.379830 seconds\n",
      "Finished makeME_LP in 0.373808 seconds\n",
      "Getting MINOS parameters from ME_NLP...\n",
      "6 0.5 0.5 0.515625 0.515625 1\n",
      "Finished substituting S,lb,ub in 2.381162 seconds\n",
      "Finished makeME_LP in 0.370149 seconds\n",
      "Getting MINOS parameters from ME_NLP...\n",
      "7 0.5078125 0.5078125 0.515625 0.5078125 optimal\n",
      "Bisection done in 120.855 seconds\n",
      "Growth-rate = [0.828125, 0.796875, 0.609375, 0.5078125]\n",
      "\n",
      "MaSp2 Flux #  0.00061\n",
      "iter\tmuopt    \ta     \tb     \tmu1       \tstat1\n",
      "Finished compiling expressions in 35.828542 seconds\n",
      "Finished substituting S,lb,ub in 2.416767 seconds\n",
      "Finished makeME_LP in 0.375758 seconds\n",
      "Getting MINOS parameters from ME_NLP...\n",
      "1 0.0 0.0 0.5 0.5 1\n",
      "Finished substituting S,lb,ub in 2.409786 seconds\n",
      "Finished makeME_LP in 0.379688 seconds\n",
      "Getting MINOS parameters from ME_NLP...\n",
      "2 0.0 0.0 0.25 0.25 1\n",
      "Finished substituting S,lb,ub in 2.403300 seconds\n",
      "Finished makeME_LP in 0.376724 seconds\n",
      "Getting MINOS parameters from ME_NLP...\n",
      "3 0.0 0.0 0.125 0.125 1\n",
      "Finished substituting S,lb,ub in 2.405574 seconds\n",
      "Finished makeME_LP in 0.372822 seconds\n",
      "Getting MINOS parameters from ME_NLP...\n",
      "4 0.0 0.0 0.0625 0.0625 1\n",
      "Finished substituting S,lb,ub in 2.424410 seconds\n",
      "Finished makeME_LP in 0.378030 seconds\n",
      "Getting MINOS parameters from ME_NLP...\n",
      "5 0.0 0.0 0.03125 0.03125 1\n",
      "Finished substituting S,lb,ub in 2.443721 seconds\n",
      "Finished makeME_LP in 0.374095 seconds\n",
      "Getting MINOS parameters from ME_NLP...\n",
      "6 0.0 0.0 0.015625 0.015625 1\n",
      "Finished substituting S,lb,ub in 2.383520 seconds\n",
      "Finished makeME_LP in 0.373101 seconds\n",
      "Getting MINOS parameters from ME_NLP...\n",
      "7 0.0 0.0 0.0078125 0.0078125 1\n",
      "Bisection done in 527.293 seconds\n",
      "Growth-rate = [0.828125, 0.796875, 0.609375, 0.5078125, 0]\n",
      "\n",
      "MaSp2 Flux #  0.00062\n",
      "iter\tmuopt    \ta     \tb     \tmu1       \tstat1\n",
      "Finished compiling expressions in 36.062176 seconds\n",
      "Finished substituting S,lb,ub in 2.388655 seconds\n",
      "Finished makeME_LP in 0.375341 seconds\n",
      "Getting MINOS parameters from ME_NLP...\n",
      "1 0.0 0.0 0.5 0.5 1\n",
      "Finished substituting S,lb,ub in 2.429905 seconds\n",
      "Finished makeME_LP in 0.381567 seconds\n",
      "Getting MINOS parameters from ME_NLP...\n",
      "2 0.0 0.0 0.25 0.25 1\n",
      "Finished substituting S,lb,ub in 2.410050 seconds\n",
      "Finished makeME_LP in 0.376304 seconds\n",
      "Getting MINOS parameters from ME_NLP...\n",
      "3 0.0 0.0 0.125 0.125 1\n",
      "Finished substituting S,lb,ub in 2.305285 seconds\n",
      "Finished makeME_LP in 0.364308 seconds\n",
      "Getting MINOS parameters from ME_NLP...\n",
      "4 0.0 0.0 0.0625 0.0625 1\n",
      "Finished substituting S,lb,ub in 2.284568 seconds\n",
      "Finished makeME_LP in 0.370516 seconds\n",
      "Getting MINOS parameters from ME_NLP...\n",
      "5 0.0 0.0 0.03125 0.03125 1\n",
      "Finished substituting S,lb,ub in 2.268380 seconds\n",
      "Finished makeME_LP in 0.359977 seconds\n",
      "Getting MINOS parameters from ME_NLP...\n",
      "6 0.0 0.0 0.015625 0.015625 1\n",
      "Finished substituting S,lb,ub in 2.235603 seconds\n",
      "Finished makeME_LP in 0.363206 seconds\n",
      "Getting MINOS parameters from ME_NLP...\n",
      "7 0.0 0.0 0.0078125 0.0078125 1\n",
      "Bisection done in 515.402 seconds\n",
      "Growth-rate = [0.828125, 0.796875, 0.609375, 0.5078125, 0, 0]\n",
      "\n",
      "MaSp2 Flux #  0.00063\n",
      "iter\tmuopt    \ta     \tb     \tmu1       \tstat1\n",
      "Finished compiling expressions in 33.985629 seconds\n",
      "Finished substituting S,lb,ub in 2.193290 seconds\n",
      "Finished makeME_LP in 0.360234 seconds\n",
      "Getting MINOS parameters from ME_NLP...\n",
      "1 0.0 0.0 0.5 0.5 1\n",
      "Finished substituting S,lb,ub in 2.225154 seconds\n"
     ]
    },
    {
     "name": "stdout",
     "output_type": "stream",
     "text": [
      "Finished makeME_LP in 0.359415 seconds\n",
      "Getting MINOS parameters from ME_NLP...\n",
      "2 0.0 0.0 0.25 0.25 1\n",
      "Finished substituting S,lb,ub in 2.206706 seconds\n",
      "Finished makeME_LP in 0.366745 seconds\n",
      "Getting MINOS parameters from ME_NLP...\n",
      "3 0.0 0.0 0.125 0.125 1\n",
      "Finished substituting S,lb,ub in 2.330440 seconds\n",
      "Finished makeME_LP in 0.368174 seconds\n",
      "Getting MINOS parameters from ME_NLP...\n",
      "4 0.0 0.0 0.0625 0.0625 1\n",
      "Finished substituting S,lb,ub in 2.322154 seconds\n",
      "Finished makeME_LP in 0.378013 seconds\n",
      "Getting MINOS parameters from ME_NLP...\n",
      "5 0.0 0.0 0.03125 0.03125 1\n",
      "Finished substituting S,lb,ub in 2.322453 seconds\n",
      "Finished makeME_LP in 0.369859 seconds\n",
      "Getting MINOS parameters from ME_NLP...\n",
      "6 0.0 0.0 0.015625 0.015625 1\n",
      "Finished substituting S,lb,ub in 2.323937 seconds\n",
      "Finished makeME_LP in 0.363150 seconds\n",
      "Getting MINOS parameters from ME_NLP...\n",
      "7 0.0 0.0 0.0078125 0.0078125 1\n",
      "Bisection done in 510.796 seconds\n",
      "Growth-rate = [0.828125, 0.796875, 0.609375, 0.5078125, 0, 0, 0]\n"
     ]
    },
    {
     "data": {
      "text/plain": [
       "[0.828125, 0.796875, 0.609375, 0.5078125, 0, 0, 0]"
      ]
     },
     "execution_count": 25,
     "metadata": {},
     "output_type": "execute_result"
    }
   ],
   "source": [
    "from contextlib import suppress\n",
    "\n",
    "#me.reactions.DM_protein_MaSp2.upper_bound = 0.00015\n",
    "#me.reactions.DM_protein_MaSp2.lower_bound = 0.00015\n",
    "MaSp2 = [0, 0.0001, 0.0005, 0.0006, 0.00061, 0.00062, 0.00063]\n",
    "growth_rate2 = []\n",
    "for x in MaSp2:\n",
    "    print('\\nMaSp2 Flux # ',x)\n",
    "    me.reactions.get_by_id('DM_protein_MaSp2').lower_bound = x\n",
    "    me.reactions.get_by_id('DM_protein_MaSp2').upper_bound = x\n",
    "    temp = 0\n",
    "    with suppress(Exception):\n",
    "        solve_me_model(me, 1.0, min_mu = .01, precision=1e-2, using_soplex=False)\n",
    "        temp = me.solution.f    \n",
    "    growth_rate2.append(temp)\n",
    "    print('Growth-rate =', growth_rate2)\n",
    "    \n",
    "growth_rate2"
   ]
  },
  {
   "cell_type": "code",
   "execution_count": 27,
   "metadata": {},
   "outputs": [
    {
     "data": {
      "image/png": "[encoded data removed]",
      "text/plain": [
       "<Figure size 504x288 with 1 Axes>"
      ]
     },
     "metadata": {},
     "output_type": "display_data"
    }
   ],
   "source": [
    "import matplotlib.pyplot as plt\n",
    "  \n",
    "# x axis values\n",
    "x = MaSp2\n",
    "# corresponding y axis values\n",
    "y = growth_rate2\n",
    "\n",
    "plt.figure(figsize=(7,4))\n",
    "  \n",
    "# plotting the points \n",
    "plt.plot(x, y)\n",
    "  \n",
    "# naming the x axis\n",
    "plt.xlabel('MaSp2 External Flux')\n",
    "# naming the y axis\n",
    "plt.ylabel('Growth-rate')\n",
    "  \n",
    "# giving a title to my graph\n",
    "plt.title('Cell Growth-rate vs MaSp2 External Flux')\n",
    "  \n",
    "# function to show the plot\n",
    "plt.show()"
   ]
  },
  {
   "cell_type": "code",
   "execution_count": null,
   "metadata": {},
   "outputs": [],
   "source": []
  }
 ],
 "metadata": {
  "kernelspec": {
   "display_name": "Python 3",
   "language": "python",
   "name": "python3"
  },
  "language_info": {
   "codemirror_mode": {
    "name": "ipython",
    "version": 3
   },
   "file_extension": ".py",
   "mimetype": "text/x-python",
   "name": "python",
   "nbconvert_exporter": "python",
   "pygments_lexer": "ipython3",
   "version": "3.6.1"
  }
 },
 "nbformat": 4,
 "nbformat_minor": 2
}
