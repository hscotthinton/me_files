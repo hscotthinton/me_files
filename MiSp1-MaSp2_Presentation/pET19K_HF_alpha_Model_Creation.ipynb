{
 "cells": [
  {
   "cell_type": "markdown",
   "metadata": {},
   "source": [
    "# pET19K_Haggfish Alpha Protein Model Creation"
   ]
  },
  {
   "cell_type": "markdown",
   "metadata": {},
   "source": [
    "## 1. Load the python packages"
   ]
  },
  {
   "cell_type": "code",
   "execution_count": 1,
   "metadata": {},
   "outputs": [
    {
     "name": "stderr",
     "output_type": "stream",
     "text": [
      "/usr/lib/python3.6/site-packages/cobra-0.5.11-py3.6-linux-x86_64.egg/cobra/solvers/__init__.py:63: UserWarning: No LP solvers found\n",
      "  warn(\"No LP solvers found\")\n",
      "/usr/lib/python3.6/site-packages/cobra-0.5.11-py3.6-linux-x86_64.egg/cobra/io/sbml3.py:24: UserWarning: Install lxml for faster SBML I/O\n",
      "  warn(\"Install lxml for faster SBML I/O\")\n",
      "/usr/lib/python3.6/site-packages/cobra-0.5.11-py3.6-linux-x86_64.egg/cobra/io/__init__.py:12: UserWarning: cobra.io.sbml requires libsbml\n",
      "  warn(\"cobra.io.sbml requires libsbml\")\n"
     ]
    }
   ],
   "source": [
    "from __future__ import print_function, division, absolute_import\n",
    "\n",
    "# python imports\n",
    "import re\n",
    "from os.path import join\n",
    "from collections import defaultdict\n",
    "import pickle\n",
    "import pandas as pd\n",
    "\n",
    "# third party imports\n",
    "import pandas\n",
    "import tabulate\n",
    "import cobra\n",
    "pd.set_option('display.max_columns', 100)\n",
    "pd.set_option('display.width',100)\n",
    "pd.set_option('display.max_colwidth',300)\n",
    "\n",
    "# ECOLIme\n",
    "import ecolime\n",
    "from ecolime import (transcription, translation, flat_files, generics, formulas, compartments)\n",
    "\n",
    "# COBRAme\n",
    "import cobrame\n",
    "from cobrame.util import building, mu, me_model_interface\n",
    "#from cobrame.io.json import save_json_me_model, save_reduced_json_me_model"
   ]
  },
  {
   "cell_type": "markdown",
   "metadata": {},
   "source": [
    "## 2. Load the iJL1678b model\n",
    "\n",
    "Load the iJL1678b model in pickle format that is located in the current directory."
   ]
  },
  {
   "cell_type": "code",
   "execution_count": 2,
   "metadata": {},
   "outputs": [],
   "source": [
    "with open('iJL1678b.pickle', 'rb') as f:\n",
    "    me = pickle.load(f)"
   ]
  },
  {
   "cell_type": "markdown",
   "metadata": {},
   "source": [
    "## 3. Define ME-Model Solve Functions"
   ]
  },
  {
   "cell_type": "code",
   "execution_count": 3,
   "metadata": {},
   "outputs": [],
   "source": [
    "def solve_me_model(me, max_mu, precision=1e-6, min_mu=0, using_soplex=False,\n",
    "                  compiled_expressions=None):\n",
    "    if using_soplex:\n",
    "        from cobrame.solve.algorithms import binary_search\n",
    "        binary_search(me, min_mu=min_mu, max_mu=max_mu, debug=True, mu_accuracy=precision,\n",
    "                      compiled_expressions=compiled_expressions)\n",
    "    else:\n",
    "        from qminospy.me1 import ME_NLP1\n",
    "        # The object containing solveME methods--composite that uses a ME model object \n",
    "        me_nlp = ME_NLP1(me, growth_key='mu')\n",
    "        # Use bisection for now (until the NLP formulation is worked out)\n",
    "        muopt, hs, xopt, cache = me_nlp.bisectmu(precision=precision, mumax=max_mu)\n",
    "        me.solution.f = me.solution.x_dict['biomass_dilution']\n",
    "        \n",
    "def show_escher_map(me, solution=None):\n",
    "    import escher\n",
    "    view = escher.Builder(\"iJO1366.Central metabolism\")\n",
    "    view.reaction_data = me.get_metabolic_flux(solution=solution)\n",
    "    return view"
   ]
  },
  {
   "cell_type": "markdown",
   "metadata": {},
   "source": [
    "## 4. Create the Alpha Transcription Reaction\n",
    "\n",
    "Complete the steps necessary to create the Alpha Transcription Reaction"
   ]
  },
  {
   "cell_type": "code",
   "execution_count": 4,
   "metadata": {},
   "outputs": [
    {
     "name": "stdout",
     "output_type": "stream",
     "text": [
      "469 atp_c + 549 ctp_c + 411 gtp_c + 500 utp_c --> RNA_Alpha + 614.960167029 mRNA_biomass + 1929 ppi_c\n"
     ]
    },
    {
     "name": "stderr",
     "output_type": "stream",
     "text": [
      "/source/cobrame/cobrame/core/reaction.py:852 \u001b[1;31mUserWarning\u001b[0m: RNA Polymerase () not found\n"
     ]
    }
   ],
   "source": [
    "locus_id = 'Alpha'\n",
    "left_pos =  None\n",
    "right_pos = None\n",
    "seq = 'ATGAGCATCAGCCAGACCGTTAGCAAAAGCTATACCAAAAGCGTTAGCCGTGGTGGTCAGGGTGTTAGCTATAGCCAGAGCAGCAGCCATAAAGTTGGTGGTGGTAGCGTTCGTTATGGCACCACCTATAGCAGCGGTGGTATTAGCCGTGTTCTGGGTTTTCAAGGTGGTGCAGGCGGTGCAGCAAGCGCAGGTTTTGGTGGTAGTGTTGGTGGTTCAGGTCTGAGCCGTGTGTTAGGTGGTAGCATGGTTAGCGGTTATCGTAGCGGTATGGGTGTTGGCGGTCTGAGTCTGAGCGGCACCGCAGGTCTGCCGGTTAGCCTGCGTGGTGTTGGTGCAGGTAAAGCACTGCATGCAATTACCAGCGCATTTCGTACACGCGTTGGTGGTCCGGGTACAAGCGTTGGCGGTTATGGTGTGAATTATAGCTTTCTGCCGAGCACAGCAGGTCCGAGCTTTGGTGGCCCTTTTGGCGGTCCGTTTGGAGGTCCTTTTGGTGGACCATTAGGTCCGGGTTATATTGATCCGGCAACACTGCCGAGTCCGGATACCGTTCAGCATACCCGTATTCGTGAAAAACAGGATCTGCAGACACTGAATACCAAATTTGCCAATCTGGTTGATCAGGTTCGTACCCTGGAACAGCATAATGCAATTCTGAAAGCACAGATTAGCATGATTACCAGTCCGAGCGATACACCGGAAGGTCCGGTTAATACCGCAGTTGTTGCAAGCACCGTTACCGCAACCTATAATGCACAGATTGAAGATCTGCGTACCACCAATACCGCACTGCATAGCGAAATTGATCATCTGACAACCATCATCAACGACATCACCACCAAATATGAAGAACAGGTTGAAGTTACCCGTACACTGGAAACCGATTGGAATACCAACAAAGATAACATCGATAACACCTACCTGACCATTGTTGATCTGCAAACCAAAGTTCAAGGTCTGGATGAGCAGATTAATACCACAAAGCAGATTTATAACGCACGTGTTCGTGAAGTTCAGGCAGCAGTTACCGGTGGTCCGACCGCAGCATATAGCATTCGTGTTGATAATACCCATCAGGCCATTGATCTGACCACCTCACTGCAAGAAATGAAAACACATTATGAAGTGCTGGCAACCAAAAGCCGTGAAGAAGCATTTACCCAGGTTCAGCCTCGTATTCAAGAAATGGCAGTGACCGTGCAGGCAGGTCCGCAGGCAATTATTCAGGCAAAAGAACAAATCCACGTGTTCAAACTGCAGATTGATAGCGTTCATCGTGAAATCGATCGTCTGCATCGTAAAAATACCGATGTGGAACGTGAAATTACCGTGATCGAAACCAATATTCATACCCAGAGTGATGAATGGACCAACAATATTAACAGCCTGAAAGTTGATCTGGAAGTGATCAAAAAGCAGATCACCCAGTATGCACGTGATTATCAAGATCTGCTGGCCACAAAAATGAGCCTGGATGTTGAAATTGCAGCCTACAAAAAACTGCTGGATAGCGAAGAAACCCGTATTAGTCATGGTGGTGGCATTACCATTACAACCAATGCAGGCACCTTTCCTGGTGGTCTGAGCGCAGCCCCAGGTGGTGGTGCAAGCTATGCAATGGTTCCGGCAGGCGTTGGAGGTGTTGGTCTGGCAGGCGTAGGTGGTTATGGTTTTCGTAGCATGGGTGGCGGTGGTGGCGTTGGCTATGGTGCCGGTGGCGGAGGTGTAGGTTATGGCGTCGGTGGTGGTTTTGGAGGTGGTATGGGTATGAGCATGAGCCGTATGAGTATGGGTGCAGCAGTTGGCGGTGGCAGCTATGGTAGCGGCAGCGGTTATAGCGGTGGCTTTGGTCTGAGTAGCAGCCGTGCAGGTTATAGTGCAAGCCGTAAAAGCTATTCAAGCGCACGTAGCAGCAGTCGTATCTAT'\n",
    "strand = None\n",
    "rna_type = 'mRNA'\n",
    "\n",
    "building.create_transcribed_gene(me, locus_id, rna_type, seq)\n",
    "building.add_transcription_reaction(me, 'TU_Alpha', {'Alpha'}, seq)\n",
    "print(me.reactions.transcription_TU_Alpha.reaction)\n",
    "me.reactions.transcription_TU_Alpha.update()"
   ]
  },
  {
   "cell_type": "markdown",
   "metadata": {},
   "source": [
    "###  Add the RNAP to the Alpha Transcription Reaction"
   ]
  },
  {
   "cell_type": "code",
   "execution_count": 5,
   "metadata": {},
   "outputs": [],
   "source": [
    "me.reactions.transcription_TU_Alpha.transcription_data.RNA_polymerase = 'RNAP70-CPLX'\n",
    "me.reactions.transcription_TU_Alpha.update()"
   ]
  },
  {
   "cell_type": "markdown",
   "metadata": {},
   "source": [
    "List the transcription data (\"transcription_data\") associated with the Alpha transcription reaction (\"transcription_TU_Alpha\")."
   ]
  },
  {
   "cell_type": "code",
   "execution_count": 6,
   "metadata": {},
   "outputs": [
    {
     "data": {
      "text/html": [
       "<div>\n",
       "<style scoped>\n",
       "    .dataframe tbody tr th:only-of-type {\n",
       "        vertical-align: middle;\n",
       "    }\n",
       "\n",
       "    .dataframe tbody tr th {\n",
       "        vertical-align: top;\n",
       "    }\n",
       "\n",
       "    .dataframe thead th {\n",
       "        text-align: right;\n",
       "    }\n",
       "</style>\n",
       "<table border=\"1\" class=\"dataframe\">\n",
       "  <thead>\n",
       "    <tr style=\"text-align: right;\">\n",
       "      <th></th>\n",
       "      <th>Attribute Values</th>\n",
       "    </tr>\n",
       "  </thead>\n",
       "  <tbody>\n",
       "    <tr>\n",
       "      <th>id</th>\n",
       "      <td>TU_Alpha</td>\n",
       "    </tr>\n",
       "    <tr>\n",
       "      <th>_model</th>\n",
       "      <td>iJL1678b-ME</td>\n",
       "    </tr>\n",
       "    <tr>\n",
       "      <th>_parent_reactions</th>\n",
       "      <td>{'transcription_TU_Alpha'}</td>\n",
       "    </tr>\n",
       "    <tr>\n",
       "      <th>nucleotide_sequence</th>\n",
       "      <td>ATGAGCATCAGCCAGACCGTTAGCAAAAGCTATACCAAAAGCGTTAGCCGTGGTGGTCAGGGTGTTAGCTATAGCCAGAGCAGCAGCCATAAAGTTGGTGGTGGTAGCGTTCGTTATGGCACCACCTATAGCAGCGGTGGTATTAGCCGTGTTCTGGGTTTTCAAGGTGGTGCAGGCGGTGCAGCAAGCGCAGGTTTTGGTGGTAGTGTTGGTGGTTCAGGTCTGAGCCGTGTGTTAGGTGGTAGCATGGTTAGCGGTTATCGTAGCGGTATGGGTGTTGGCGGTCTGAGTCTGAG...</td>\n",
       "    </tr>\n",
       "    <tr>\n",
       "      <th>RNA_products</th>\n",
       "      <td>{'RNA_Alpha'}</td>\n",
       "    </tr>\n",
       "    <tr>\n",
       "      <th>RNA_polymerase</th>\n",
       "      <td>RNAP70-CPLX</td>\n",
       "    </tr>\n",
       "    <tr>\n",
       "      <th>subreactions</th>\n",
       "      <td>defaultdict(&lt;class 'int'&gt;, {})</td>\n",
       "    </tr>\n",
       "  </tbody>\n",
       "</table>\n",
       "</div>"
      ],
      "text/plain": [
       "                                                                                                                                                                                                                                                                                                                Attribute Values\n",
       "id                                                                                                                                                                                                                                                                                                                      TU_Alpha\n",
       "_model                                                                                                                                                                                                                                                                                                               iJL1678b-ME\n",
       "_parent_reactions                                                                                                                                                                                                                                                                                     {'transcription_TU_Alpha'}\n",
       "nucleotide_sequence  ATGAGCATCAGCCAGACCGTTAGCAAAAGCTATACCAAAAGCGTTAGCCGTGGTGGTCAGGGTGTTAGCTATAGCCAGAGCAGCAGCCATAAAGTTGGTGGTGGTAGCGTTCGTTATGGCACCACCTATAGCAGCGGTGGTATTAGCCGTGTTCTGGGTTTTCAAGGTGGTGCAGGCGGTGCAGCAAGCGCAGGTTTTGGTGGTAGTGTTGGTGGTTCAGGTCTGAGCCGTGTGTTAGGTGGTAGCATGGTTAGCGGTTATCGTAGCGGTATGGGTGTTGGCGGTCTGAGTCTGAG...\n",
       "RNA_products                                                                                                                                                                                                                                                                                                       {'RNA_Alpha'}\n",
       "RNA_polymerase                                                                                                                                                                                                                                                                                                       RNAP70-CPLX\n",
       "subreactions                                                                                                                                                                                                                                                                                      defaultdict(<class 'int'>, {})"
      ]
     },
     "execution_count": 6,
     "metadata": {},
     "output_type": "execute_result"
    }
   ],
   "source": [
    "rxn = me.reactions.transcription_TU_Alpha\n",
    "data = rxn.transcription_data\n",
    "pd.DataFrame({i: str(v) for i, v in data.__dict__.items()}, index=['Attribute Values']).T"
   ]
  },
  {
   "cell_type": "markdown",
   "metadata": {},
   "source": [
    "List the attributes of the Alpha transcription reaction."
   ]
  },
  {
   "cell_type": "code",
   "execution_count": 7,
   "metadata": {},
   "outputs": [
    {
     "data": {
      "text/html": [
       "<div>\n",
       "<style scoped>\n",
       "    .dataframe tbody tr th:only-of-type {\n",
       "        vertical-align: middle;\n",
       "    }\n",
       "\n",
       "    .dataframe tbody tr th {\n",
       "        vertical-align: top;\n",
       "    }\n",
       "\n",
       "    .dataframe thead th {\n",
       "        text-align: right;\n",
       "    }\n",
       "</style>\n",
       "<table border=\"1\" class=\"dataframe\">\n",
       "  <thead>\n",
       "    <tr style=\"text-align: right;\">\n",
       "      <th></th>\n",
       "      <th>Attribute Values</th>\n",
       "    </tr>\n",
       "  </thead>\n",
       "  <tbody>\n",
       "    <tr>\n",
       "      <th>id</th>\n",
       "      <td>transcription_TU_Alpha</td>\n",
       "    </tr>\n",
       "    <tr>\n",
       "      <th>name</th>\n",
       "      <td></td>\n",
       "    </tr>\n",
       "    <tr>\n",
       "      <th>notes</th>\n",
       "      <td>{}</td>\n",
       "    </tr>\n",
       "    <tr>\n",
       "      <th>annotation</th>\n",
       "      <td>{}</td>\n",
       "    </tr>\n",
       "    <tr>\n",
       "      <th>_gene_reaction_rule</th>\n",
       "      <td></td>\n",
       "    </tr>\n",
       "    <tr>\n",
       "      <th>subsystem</th>\n",
       "      <td></td>\n",
       "    </tr>\n",
       "    <tr>\n",
       "      <th>_genes</th>\n",
       "      <td>set()</td>\n",
       "    </tr>\n",
       "    <tr>\n",
       "      <th>_metabolites</th>\n",
       "      <td>{&lt;RNAP RNAP70-CPLX at 0x7f9f0a244390&gt;: -0.00921844765619026*mu - 0.00360902225739849, &lt;TranscribedGene RNA_Alpha at 0x7f9f0a36f630&gt;: 1, &lt;Metabolite utp_c at 0x7f9f0a244dd8&gt;: -500, &lt;Metabolite atp_c at 0x7f9f0a244978&gt;: -469, &lt;Metabolite ctp_c at 0x7f9f0a244eb8&gt;: -549, &lt;Metabolite gtp_c at 0x7f9f0...</td>\n",
       "    </tr>\n",
       "    <tr>\n",
       "      <th>_model</th>\n",
       "      <td>iJL1678b-ME</td>\n",
       "    </tr>\n",
       "    <tr>\n",
       "      <th>_objective_coefficient</th>\n",
       "      <td>0.0</td>\n",
       "    </tr>\n",
       "    <tr>\n",
       "      <th>upper_bound</th>\n",
       "      <td>1000.0</td>\n",
       "    </tr>\n",
       "    <tr>\n",
       "      <th>lower_bound</th>\n",
       "      <td>0.0</td>\n",
       "    </tr>\n",
       "    <tr>\n",
       "      <th>variable_kind</th>\n",
       "      <td>continuous</td>\n",
       "    </tr>\n",
       "    <tr>\n",
       "      <th>_transcription_data</th>\n",
       "      <td>&lt;TranscriptionData TU_Alpha at 0x7f9f0a36f438&gt;</td>\n",
       "    </tr>\n",
       "  </tbody>\n",
       "</table>\n",
       "</div>"
      ],
      "text/plain": [
       "                                                                                                                                                                                                                                                                                                                   Attribute Values\n",
       "id                                                                                                                                                                                                                                                                                                           transcription_TU_Alpha\n",
       "name                                                                                                                                                                                                                                                                                                                               \n",
       "notes                                                                                                                                                                                                                                                                                                                            {}\n",
       "annotation                                                                                                                                                                                                                                                                                                                       {}\n",
       "_gene_reaction_rule                                                                                                                                                                                                                                                                                                                \n",
       "subsystem                                                                                                                                                                                                                                                                                                                          \n",
       "_genes                                                                                                                                                                                                                                                                                                                        set()\n",
       "_metabolites            {<RNAP RNAP70-CPLX at 0x7f9f0a244390>: -0.00921844765619026*mu - 0.00360902225739849, <TranscribedGene RNA_Alpha at 0x7f9f0a36f630>: 1, <Metabolite utp_c at 0x7f9f0a244dd8>: -500, <Metabolite atp_c at 0x7f9f0a244978>: -469, <Metabolite ctp_c at 0x7f9f0a244eb8>: -549, <Metabolite gtp_c at 0x7f9f0...\n",
       "_model                                                                                                                                                                                                                                                                                                                  iJL1678b-ME\n",
       "_objective_coefficient                                                                                                                                                                                                                                                                                                          0.0\n",
       "upper_bound                                                                                                                                                                                                                                                                                                                  1000.0\n",
       "lower_bound                                                                                                                                                                                                                                                                                                                     0.0\n",
       "variable_kind                                                                                                                                                                                                                                                                                                            continuous\n",
       "_transcription_data                                                                                                                                                                                                                                                                  <TranscriptionData TU_Alpha at 0x7f9f0a36f438>"
      ]
     },
     "execution_count": 7,
     "metadata": {},
     "output_type": "execute_result"
    }
   ],
   "source": [
    "rxn = me.reactions.transcription_TU_Alpha\n",
    "data = rxn\n",
    "pd.DataFrame({i: str(v) for i, v in data.__dict__.items()}, index=['Attribute Values']).T"
   ]
  },
  {
   "cell_type": "markdown",
   "metadata": {},
   "source": [
    "List the complete reaction associated with the Alpha transcription reaction."
   ]
  },
  {
   "cell_type": "code",
   "execution_count": 8,
   "metadata": {},
   "outputs": [
    {
     "data": {
      "text/plain": [
       "'0.00921844765619026*mu + 0.00360902225739849 RNAP70-CPLX + 469 atp_c + 549 ctp_c + 411 gtp_c + 500 utp_c --> RNA_Alpha + 614.960167029 mRNA_biomass + 1929 ppi_c'"
      ]
     },
     "execution_count": 8,
     "metadata": {},
     "output_type": "execute_result"
    }
   ],
   "source": [
    "me.reactions.get_by_id('transcription_TU_Alpha').reaction"
   ]
  },
  {
   "cell_type": "markdown",
   "metadata": {},
   "source": [
    "List the RNAP associated with the Alpha transcription reaction"
   ]
  },
  {
   "cell_type": "code",
   "execution_count": 9,
   "metadata": {},
   "outputs": [
    {
     "data": {
      "text/plain": [
       "'RNAP70-CPLX'"
      ]
     },
     "execution_count": 9,
     "metadata": {},
     "output_type": "execute_result"
    }
   ],
   "source": [
    "me.reactions.transcription_TU_Alpha.transcription_data.RNA_polymerase"
   ]
  },
  {
   "cell_type": "markdown",
   "metadata": {},
   "source": [
    "## 5. Create the Alpha Translation Reaction"
   ]
  },
  {
   "cell_type": "markdown",
   "metadata": {},
   "source": [
    "Complete all the steps necessary to create the Alpha Translation Reaction"
   ]
  },
  {
   "cell_type": "markdown",
   "metadata": {},
   "source": [
    "### Storing information about a translation reaction"
   ]
  },
  {
   "cell_type": "code",
   "execution_count": 10,
   "metadata": {},
   "outputs": [],
   "source": [
    "data = cobrame.TranslationData('Alpha', me, 'RNA_Alpha', 'protein_Alpha')\n",
    "data.nucleotide_sequence = seq"
   ]
  },
  {
   "cell_type": "markdown",
   "metadata": {},
   "source": [
    "### Create translation reaction\n",
    "\n",
    "By associating the TranslationReaction with its corresponding TranslationData object and running the update function, COBRAme will create a translation reaction for the nucleotide sequence given based on the organisms codon table and prespecified translation machinery."
   ]
  },
  {
   "cell_type": "code",
   "execution_count": 11,
   "metadata": {},
   "outputs": [],
   "source": [
    "rxn = cobrame.TranslationReaction('translation_Alpha')\n",
    "rxn.translation_data = data\n",
    "me.add_reaction(rxn)"
   ]
  },
  {
   "cell_type": "markdown",
   "metadata": {},
   "source": [
    "### Updating the translation reaction\n",
    "\n",
    "Note that this process does not include the ribosome in the reaction."
   ]
  },
  {
   "cell_type": "code",
   "execution_count": 12,
   "metadata": {},
   "outputs": [
    {
     "name": "stdout",
     "output_type": "stream",
     "text": [
      "0.000498399634202103*mu + 0.000195123456790123 + 0.00598079561042524*(mu + 0.3915)/mu RNA_Alpha + 2.55589556001079e-8*mu + 1.00063311174422e-8 RNA_degradosome + 48 ala__L_c + 30 arg__L_c + 21 asn__L_c + 24 asp__L_c + 2.88274348422497*(mu + 0.3915)/mu atp_c + 31 gln__L_c + 26 glu__L_c + 102 gly_c + 13 his__L_c + 36 ile__L_c + 38 leu__L_c + 23 lys__L_c + 3.67795106755342*(mu + 0.3915)/mu mRNA_biomass + 14 met__L_c + 15 phe__L_c + 21 pro__L_c + 0.00921844765619026*mu + 0.00360902225739849 ribosome + 66 ser__L_c + 58 thr__L_c + 2 trp__L_c + 26 tyr__L_c + 49 val__L_c --> 2.88274348422497*(mu + 0.3915)/mu adp_c + 2.80499314128944*(mu + 0.3915)/mu amp_c + 3.28345679012346*(mu + 0.3915)/mu cmp_c + 2.45810699588477*(mu + 0.3915)/mu gmp_c + 642.0 - 2.88274348422497*(mu + 0.3915)/mu h2o_c + 2.88274348422497*(mu + 0.3915)/mu h_c + 2.88274348422497*(mu + 0.3915)/mu pi_c + protein_Alpha + 66.69648898000001 protein_biomass + 2.99039780521262*(mu + 0.3915)/mu ump_c\n"
     ]
    }
   ],
   "source": [
    "rxn.update()\n",
    "print(rxn.reaction)"
   ]
  },
  {
   "cell_type": "markdown",
   "metadata": {},
   "source": [
    "### Incorporate the ribosome\n",
    "\n",
    "Add the ribosome to the reaction."
   ]
  },
  {
   "cell_type": "code",
   "execution_count": 13,
   "metadata": {},
   "outputs": [
    {
     "name": "stdout",
     "output_type": "stream",
     "text": [
      "0.000498399634202103*mu + 0.000195123456790123 + 0.00598079561042524*(mu + 0.3915)/mu RNA_Alpha + 2.55589556001079e-8*mu + 1.00063311174422e-8 RNA_degradosome + 48 ala__L_c + 30 arg__L_c + 21 asn__L_c + 24 asp__L_c + 2.88274348422497*(mu + 0.3915)/mu atp_c + 31 gln__L_c + 26 glu__L_c + 102 gly_c + 13 his__L_c + 36 ile__L_c + 38 leu__L_c + 23 lys__L_c + 3.67795106755342*(mu + 0.3915)/mu mRNA_biomass + 14 met__L_c + 15 phe__L_c + 21 pro__L_c + 0.00921844765619026*mu + 0.00360902225739849 ribosome + 66 ser__L_c + 58 thr__L_c + 2 trp__L_c + 26 tyr__L_c + 49 val__L_c --> 2.88274348422497*(mu + 0.3915)/mu adp_c + 2.80499314128944*(mu + 0.3915)/mu amp_c + 3.28345679012346*(mu + 0.3915)/mu cmp_c + 2.45810699588477*(mu + 0.3915)/mu gmp_c + 642.0 - 2.88274348422497*(mu + 0.3915)/mu h2o_c + 2.88274348422497*(mu + 0.3915)/mu h_c + 2.88274348422497*(mu + 0.3915)/mu pi_c + protein_Alpha + 66.69648898000001 protein_biomass + 2.99039780521262*(mu + 0.3915)/mu ump_c\n"
     ]
    }
   ],
   "source": [
    "ribosome = cobrame.Ribosome('ribosome')\n",
    "me.add_metabolites([ribosome])\n",
    "me.reactions.translation_Alpha.update()\n",
    "print(me.reactions.translation_Alpha.reaction)"
   ]
  },
  {
   "cell_type": "markdown",
   "metadata": {},
   "source": [
    "### Add Subreactions to the Alpha model"
   ]
  },
  {
   "cell_type": "markdown",
   "metadata": {},
   "source": [
    "Create the subreactions that represent elongation, initiation and termination"
   ]
  },
  {
   "cell_type": "code",
   "execution_count": 14,
   "metadata": {},
   "outputs": [
    {
     "name": "stderr",
     "output_type": "stream",
     "text": [
      "/source/cobrame/cobrame/core/processdata.py:896 \u001b[1;31mUserWarning\u001b[0m: No termination enzyme for RNA_Alpha\n"
     ]
    }
   ],
   "source": [
    "elongation = ['FusA_mono_elongation', 'Tuf_gtp_regeneration']\n",
    "initiation = ['Translation_gtp_initiation_factor_InfB', 'Translation_initiation_factor_InfA', \n",
    "              'Translation_initiation_factor_InfC', 'fmet_addition_at_START', 'peptide_deformylase_processing', \n",
    "              'peptide_chain_release', 'ribosome_recycler']\n",
    "termination = {'UGA':'PrfB_mono'}\n",
    "me.process_data.get_by_id('Alpha').add_elongation_subreactions(elongation_subreactions=set(elongation))\n",
    "me.process_data.get_by_id('Alpha').add_initiation_subreactions(start_codons=set(['AUG']), start_subreactions=set(initiation))\n",
    "me.process_data.get_by_id('Alpha').add_termination_subreactions(translation_terminator_dict=termination)\n",
    "#me.reactions.translation_Alpha.update(verbose=False)"
   ]
  },
  {
   "cell_type": "markdown",
   "metadata": {},
   "source": [
    "List the subreactions associated with Alpha translation reaction stored in the ProcessData."
   ]
  },
  {
   "cell_type": "code",
   "execution_count": 15,
   "metadata": {
    "scrolled": true
   },
   "outputs": [
    {
     "data": {
      "text/plain": [
       "defaultdict(int,\n",
       "            {'FusA_mono_elongation': 642.0,\n",
       "             'Tuf_gtp_regeneration': 642.0,\n",
       "             'met_addition_at_AUG': 13,\n",
       "             'ser_addition_at_AGC': 53,\n",
       "             'ile_addition_at_AUC': 11,\n",
       "             'gln_addition_at_CAG': 24,\n",
       "             'thr_addition_at_ACC': 46,\n",
       "             'val_addition_at_GUU': 37,\n",
       "             'lys_addition_at_AAA': 21,\n",
       "             'tyr_addition_at_UAU': 23,\n",
       "             'arg_addition_at_CGU': 29,\n",
       "             'gly_addition_at_GGU': 77,\n",
       "             'his_addition_at_CAU': 12,\n",
       "             'gly_addition_at_GGC': 20,\n",
       "             'ile_addition_at_AUU': 25,\n",
       "             'leu_addition_at_CUG': 36,\n",
       "             'phe_addition_at_UUU': 14,\n",
       "             'gln_addition_at_CAA': 7,\n",
       "             'ala_addition_at_GCA': 42,\n",
       "             'ser_addition_at_AGU': 10,\n",
       "             'ser_addition_at_UCA': 3,\n",
       "             'val_addition_at_GUG': 9,\n",
       "             'leu_addition_at_UUA': 2,\n",
       "             'pro_addition_at_CCG': 15,\n",
       "             'thr_addition_at_ACA': 12,\n",
       "             'arg_addition_at_CGC': 1,\n",
       "             'asn_addition_at_AAU': 14,\n",
       "             'pro_addition_at_CCU': 4,\n",
       "             'gly_addition_at_GGA': 5,\n",
       "             'pro_addition_at_CCA': 2,\n",
       "             'asp_addition_at_GAU': 23,\n",
       "             'glu_addition_at_GAA': 25,\n",
       "             'ala_addition_at_GCC': 6,\n",
       "             'asn_addition_at_AAC': 7,\n",
       "             'asp_addition_at_GAC': 1,\n",
       "             'trp_addition_at_UGG': 2,\n",
       "             'tyr_addition_at_UAC': 2,\n",
       "             'glu_addition_at_GAG': 1,\n",
       "             'lys_addition_at_AAG': 2,\n",
       "             'his_addition_at_CAC': 1,\n",
       "             'phe_addition_at_UUC': 1,\n",
       "             'val_addition_at_GUA': 2,\n",
       "             'val_addition_at_GUC': 1,\n",
       "             'Translation_initiation_factor_InfC': 1,\n",
       "             'fmet_addition_at_START': 1,\n",
       "             'peptide_chain_release': 1,\n",
       "             'ribosome_recycler': 1,\n",
       "             'Translation_gtp_initiation_factor_InfB': 1,\n",
       "             'peptide_deformylase_processing': 1,\n",
       "             'Translation_initiation_factor_InfA': 1})"
      ]
     },
     "execution_count": 15,
     "metadata": {},
     "output_type": "execute_result"
    }
   ],
   "source": [
    "me.process_data.get_by_id('Alpha').subreactions"
   ]
  },
  {
   "cell_type": "markdown",
   "metadata": {},
   "source": [
    "List the subreactions generated from the nucleatide sequence that are stored in the ProcessData."
   ]
  },
  {
   "cell_type": "code",
   "execution_count": 16,
   "metadata": {
    "scrolled": true
   },
   "outputs": [
    {
     "data": {
      "text/plain": [
       "{'met_addition_at_AUG': 13,\n",
       " 'ser_addition_at_AGC': 53,\n",
       " 'ile_addition_at_AUC': 11,\n",
       " 'gln_addition_at_CAG': 24,\n",
       " 'thr_addition_at_ACC': 46,\n",
       " 'val_addition_at_GUU': 37,\n",
       " 'lys_addition_at_AAA': 21,\n",
       " 'tyr_addition_at_UAU': 23,\n",
       " 'arg_addition_at_CGU': 29,\n",
       " 'gly_addition_at_GGU': 77,\n",
       " 'his_addition_at_CAU': 12,\n",
       " 'gly_addition_at_GGC': 20,\n",
       " 'ile_addition_at_AUU': 25,\n",
       " 'leu_addition_at_CUG': 36,\n",
       " 'phe_addition_at_UUU': 14,\n",
       " 'gln_addition_at_CAA': 7,\n",
       " 'ala_addition_at_GCA': 42,\n",
       " 'ser_addition_at_AGU': 10,\n",
       " 'ser_addition_at_UCA': 3,\n",
       " 'val_addition_at_GUG': 9,\n",
       " 'leu_addition_at_UUA': 2,\n",
       " 'pro_addition_at_CCG': 15,\n",
       " 'thr_addition_at_ACA': 12,\n",
       " 'arg_addition_at_CGC': 1,\n",
       " 'asn_addition_at_AAU': 14,\n",
       " 'pro_addition_at_CCU': 4,\n",
       " 'gly_addition_at_GGA': 5,\n",
       " 'pro_addition_at_CCA': 2,\n",
       " 'asp_addition_at_GAU': 23,\n",
       " 'glu_addition_at_GAA': 25,\n",
       " 'ala_addition_at_GCC': 6,\n",
       " 'asn_addition_at_AAC': 7,\n",
       " 'asp_addition_at_GAC': 1,\n",
       " 'trp_addition_at_UGG': 2,\n",
       " 'tyr_addition_at_UAC': 2,\n",
       " 'glu_addition_at_GAG': 1,\n",
       " 'lys_addition_at_AAG': 2,\n",
       " 'his_addition_at_CAC': 1,\n",
       " 'phe_addition_at_UUC': 1,\n",
       " 'val_addition_at_GUA': 2,\n",
       " 'val_addition_at_GUC': 1}"
      ]
     },
     "execution_count": 16,
     "metadata": {},
     "output_type": "execute_result"
    }
   ],
   "source": [
    "me.process_data.get_by_id('Alpha').subreactions_from_sequence"
   ]
  },
  {
   "cell_type": "markdown",
   "metadata": {},
   "source": [
    "### Updating the Alpha translation reaction"
   ]
  },
  {
   "cell_type": "code",
   "execution_count": 17,
   "metadata": {},
   "outputs": [
    {
     "name": "stdout",
     "output_type": "stream",
     "text": [
      "Before adding tRNA subreaction\n",
      "------------------------------\n",
      "0.000498399634202103*mu + 0.000195123456790123 + 0.00598079561042524*(mu + 0.3915)/mu RNA_Alpha + 2.55589556001079e-8*mu + 1.00063311174422e-8 RNA_degradosome + 48 ala__L_c + 30 arg__L_c + 21 asn__L_c + 24 asp__L_c + 2.88274348422497*(mu + 0.3915)/mu atp_c + 31 gln__L_c + 26 glu__L_c + 102 gly_c + 13 his__L_c + 36 ile__L_c + 38 leu__L_c + 23 lys__L_c + 3.67795106755342*(mu + 0.3915)/mu mRNA_biomass + 14 met__L_c + 15 phe__L_c + 21 pro__L_c + 0.00921844765619026*mu + 0.00360902225739849 ribosome + 66 ser__L_c + 58 thr__L_c + 2 trp__L_c + 26 tyr__L_c + 49 val__L_c --> 2.88274348422497*(mu + 0.3915)/mu adp_c + 2.80499314128944*(mu + 0.3915)/mu amp_c + 3.28345679012346*(mu + 0.3915)/mu cmp_c + 2.45810699588477*(mu + 0.3915)/mu gmp_c + 642.0 - 2.88274348422497*(mu + 0.3915)/mu h2o_c + 2.88274348422497*(mu + 0.3915)/mu h_c + 2.88274348422497*(mu + 0.3915)/mu pi_c + protein_Alpha + 66.69648898000001 protein_biomass + 2.99039780521262*(mu + 0.3915)/mu ump_c\n",
      "\n",
      "After adding tRNA subreaction\n",
      "-----------------------------\n",
      "10fthf_c + 2.72438972852433e-7*mu Def_mono_mod_1:fe2 + 1.80324164444648e-7*mu Fmt_mono_mod_mg2_mod_k + 0.00274358974358974*mu FusA_mono + 4.27350427350427e-6*mu InfA_mono + 4.45382843794892e-6*mu InfB_mono + 4.27350427350427e-6*mu InfC_mono + 4.27350427350427e-6*mu PrfC_mono + 0.000498399634202103*mu + 0.000195123456790123 + 0.00598079561042524*(mu + 0.3915)/mu RNA_Alpha + 2.55589556001079e-8*mu + 1.00063311174422e-8 RNA_degradosome + 2.62130898398882e-7*mu Rrf_mono + 0.00274358974358974*mu Tsf_mono + 48 ala__L_c + 30 arg__L_c + 21 asn__L_c + 24 asp__L_c + 641.0 + 2.88274348422497*(mu + 0.3915)/mu atp_c + 0.00273931623931624*mu generic_Tuf + 21.0 generic_tRNA_AAA_lys__L_c + 7.0 generic_tRNA_AAC_asn__L_c + 2.0 generic_tRNA_AAG_lys__L_c + 14.0 generic_tRNA_AAU_asn__L_c + 12.0 generic_tRNA_ACA_thr__L_c + 46.0 generic_tRNA_ACC_thr__L_c + 53.0 generic_tRNA_AGC_ser__L_c + 10.0 generic_tRNA_AGU_ser__L_c + 11.0 generic_tRNA_AUC_ile__L_c + 13.0 generic_tRNA_AUG_met__L_c + 25.0 generic_tRNA_AUU_ile__L_c + 7.0 generic_tRNA_CAA_gln__L_c + generic_tRNA_CAC_his__L_c + 24.0 generic_tRNA_CAG_gln__L_c + 12.0 generic_tRNA_CAU_his__L_c + 2.0 generic_tRNA_CCA_pro__L_c + 15.0 generic_tRNA_CCG_pro__L_c + 4.0 generic_tRNA_CCU_pro__L_c + generic_tRNA_CGC_arg__L_c + 29.0 generic_tRNA_CGU_arg__L_c + 36.0 generic_tRNA_CUG_leu__L_c + 25.0 generic_tRNA_GAA_glu__L_c + generic_tRNA_GAC_asp__L_c + generic_tRNA_GAG_glu__L_c + 23.0 generic_tRNA_GAU_asp__L_c + 42.0 generic_tRNA_GCA_ala__L_c + 6.0 generic_tRNA_GCC_ala__L_c + 5.0 generic_tRNA_GGA_gly_c + 20.0 generic_tRNA_GGC_gly_c + 77.0 generic_tRNA_GGU_gly_c + 2.0 generic_tRNA_GUA_val__L_c + generic_tRNA_GUC_val__L_c + 9.0 generic_tRNA_GUG_val__L_c + 37.0 generic_tRNA_GUU_val__L_c + generic_tRNA_START_met__L_c + 2.0 generic_tRNA_UAC_tyr__L_c + 23.0 generic_tRNA_UAU_tyr__L_c + 3.0 generic_tRNA_UCA_ser__L_c + 2.0 generic_tRNA_UGG_trp__L_c + 2.0 generic_tRNA_UUA_leu__L_c + generic_tRNA_UUC_phe__L_c + 14.0 generic_tRNA_UUU_phe__L_c + 31 gln__L_c + 26 glu__L_c + 102 gly_c + 1285.0 gtp_c + 1285.0 + 2.88274348422497*(mu + 0.3915)/mu h2o_c + 13 his__L_c + 36 ile__L_c + 38 leu__L_c + 23 lys__L_c + 3.67795106755342*(mu + 0.3915)/mu mRNA_biomass + 14 met__L_c + 15 phe__L_c + 21 pro__L_c + 0.00921844765619026*mu + 0.00360902225739849 ribosome + 66 ser__L_c + 58 thr__L_c + 2 trp__L_c + 26 tyr__L_c + 49 val__L_c --> 2.88274348422497*(mu + 0.3915)/mu adp_c + 641.0 + 2.80499314128944*(mu + 0.3915)/mu amp_c + 3.28345679012346*(mu + 0.3915)/mu cmp_c + for_c + 1285.0 gdp_c + 2.45810699588477*(mu + 0.3915)/mu gmp_c + 1926.0 + 2.88274348422497*(mu + 0.3915)/mu h_c + 1285.0 + 2.88274348422497*(mu + 0.3915)/mu pi_c + 641.0 ppi_c + protein_Alpha + 66.69749692 protein_biomass + thf_c + 2.99039780521262*(mu + 0.3915)/mu ump_c\n"
     ]
    },
    {
     "name": "stderr",
     "output_type": "stream",
     "text": [
      "/source/cobrame/cobrame/core/processdata.py:256 \u001b[1;31mUserWarning\u001b[0m: met (generic_tRNA_GAG_glu__L_c) does not have formula\n"
     ]
    }
   ],
   "source": [
    "translation_subreactions = me.process_data.Alpha.subreactions_from_sequence\n",
    "print(\"Before adding tRNA subreaction\")\n",
    "print(\"------------------------------\")\n",
    "print(me.reactions.translation_Alpha.reaction)\n",
    "print(\"\")\n",
    "# Link tranlation_data to subreactions and update\n",
    "for subreaction, value in translation_subreactions.items():\n",
    "    me.process_data.Alpha.subreactions[subreaction] = value\n",
    "me.reactions.translation_Alpha.update(verbose=False)\n",
    "print(\"After adding tRNA subreaction\")\n",
    "print(\"-----------------------------\")\n",
    "print(me.reactions.translation_Alpha.reaction)"
   ]
  },
  {
   "cell_type": "markdown",
   "metadata": {},
   "source": [
    "List the reactants associated with the Alpha translation reaction. In this list all the subreactions should be listed."
   ]
  },
  {
   "cell_type": "code",
   "execution_count": 18,
   "metadata": {
    "scrolled": true
   },
   "outputs": [
    {
     "data": {
      "text/plain": [
       "[<Metabolite met__L_c at 0x7f9f09547978>,\n",
       " <Metabolite h2o_c at 0x7f9f0a244a20>,\n",
       " <Metabolite ser__L_c at 0x7f9f09547eb8>,\n",
       " <Metabolite ile__L_c at 0x7f9f09553240>,\n",
       " <Metabolite gln__L_c at 0x7f9f09553278>,\n",
       " <Metabolite thr__L_c at 0x7f9f09547e10>,\n",
       " <Metabolite val__L_c at 0x7f9f09547b70>,\n",
       " <Metabolite lys__L_c at 0x7f9f09547c88>,\n",
       " <Metabolite tyr__L_c at 0x7f9f09553470>,\n",
       " <Metabolite arg__L_c at 0x7f9f09547a90>,\n",
       " <Metabolite gly_c at 0x7f9f09547cf8>,\n",
       " <Metabolite his__L_c at 0x7f9f09553390>,\n",
       " <Metabolite leu__L_c at 0x7f9f09547b38>,\n",
       " <Metabolite phe__L_c at 0x7f9f09547cc0>,\n",
       " <Metabolite ala__L_c at 0x7f9f09547f60>,\n",
       " <Metabolite pro__L_c at 0x7f9f095532e8>,\n",
       " <Metabolite asn__L_c at 0x7f9f09553080>,\n",
       " <Metabolite asp__L_c at 0x7f9f09553160>,\n",
       " <Metabolite glu__L_c at 0x7f9f095530b8>,\n",
       " <Metabolite trp__L_c at 0x7f9f095534e0>,\n",
       " <Ribosome ribosome at 0x7f9f09553550>,\n",
       " <TranscribedGene RNA_Alpha at 0x7f9f0a36f630>,\n",
       " <Metabolite atp_c at 0x7f9f0a244978>,\n",
       " <Complex RNA_degradosome at 0x7f9f0a26b3c8>,\n",
       " <Complex FusA_mono at 0x7f9f0956cc18>,\n",
       " <Metabolite gtp_c at 0x7f9f0a244f98>,\n",
       " <Complex Tsf_mono at 0x7f9f0956cc50>,\n",
       " <GenericComponent generic_Tuf at 0x7f9f09553a58>,\n",
       " <GenerictRNA generic_tRNA_AUG_met__L_c at 0x7f9f09553cc0>,\n",
       " <GenerictRNA generic_tRNA_AGC_ser__L_c at 0x7f9f09563518>,\n",
       " <GenerictRNA generic_tRNA_AUC_ile__L_c at 0x7f9f09563978>,\n",
       " <GenerictRNA generic_tRNA_CAG_gln__L_c at 0x7f9f095635f8>,\n",
       " <GenerictRNA generic_tRNA_ACC_thr__L_c at 0x7f9f095636d8>,\n",
       " <GenerictRNA generic_tRNA_GUU_val__L_c at 0x7f9f09563358>,\n",
       " <GenerictRNA generic_tRNA_AAA_lys__L_c at 0x7f9f09563940>,\n",
       " <GenerictRNA generic_tRNA_UAU_tyr__L_c at 0x7f9f0956c4a8>,\n",
       " <GenerictRNA generic_tRNA_CGU_arg__L_c at 0x7f9f09563208>,\n",
       " <GenerictRNA generic_tRNA_GGU_gly_c at 0x7f9f09553f60>,\n",
       " <GenerictRNA generic_tRNA_CAU_his__L_c at 0x7f9f09563f28>,\n",
       " <GenerictRNA generic_tRNA_GGC_gly_c at 0x7f9f09553eb8>,\n",
       " <GenerictRNA generic_tRNA_AUU_ile__L_c at 0x7f9f095634a8>,\n",
       " <GenerictRNA generic_tRNA_CUG_leu__L_c at 0x7f9f095632e8>,\n",
       " <GenerictRNA generic_tRNA_UUU_phe__L_c at 0x7f9f09563278>,\n",
       " <GenerictRNA generic_tRNA_CAA_gln__L_c at 0x7f9f09563e10>,\n",
       " <GenerictRNA generic_tRNA_GCA_ala__L_c at 0x7f9f095630b8>,\n",
       " <GenerictRNA generic_tRNA_AGU_ser__L_c at 0x7f9f09563f98>,\n",
       " <GenerictRNA generic_tRNA_UCA_ser__L_c at 0x7f9f09563048>,\n",
       " <GenerictRNA generic_tRNA_GUG_val__L_c at 0x7f9f09553d30>,\n",
       " <GenerictRNA generic_tRNA_UUA_leu__L_c at 0x7f9f09563ba8>,\n",
       " <GenerictRNA generic_tRNA_CCG_pro__L_c at 0x7f9f09563d68>,\n",
       " <GenerictRNA generic_tRNA_ACA_thr__L_c at 0x7f9f09553f98>,\n",
       " <GenerictRNA generic_tRNA_CGC_arg__L_c at 0x7f9f0956c208>,\n",
       " <GenerictRNA generic_tRNA_AAU_asn__L_c at 0x7f9f09563128>,\n",
       " <GenerictRNA generic_tRNA_CCU_pro__L_c at 0x7f9f0956c518>,\n",
       " <GenerictRNA generic_tRNA_GGA_gly_c at 0x7f9f09563cf8>,\n",
       " <GenerictRNA generic_tRNA_CCA_pro__L_c at 0x7f9f0956c588>,\n",
       " <GenerictRNA generic_tRNA_GAU_asp__L_c at 0x7f9f09563470>,\n",
       " <GenerictRNA generic_tRNA_GAA_glu__L_c at 0x7f9f09563198>,\n",
       " <GenerictRNA generic_tRNA_GCC_ala__L_c at 0x7f9f095633c8>,\n",
       " <GenerictRNA generic_tRNA_AAC_asn__L_c at 0x7f9f095639e8>,\n",
       " <GenerictRNA generic_tRNA_GAC_asp__L_c at 0x7f9f0956c358>,\n",
       " <GenerictRNA generic_tRNA_UGG_trp__L_c at 0x7f9f0956c438>,\n",
       " <GenerictRNA generic_tRNA_UAC_tyr__L_c at 0x7f9f0956c278>,\n",
       " <Metabolite generic_tRNA_GAG_glu__L_c at 0x7f9f0956c0b8>,\n",
       " <GenerictRNA generic_tRNA_AAG_lys__L_c at 0x7f9f09553dd8>,\n",
       " <GenerictRNA generic_tRNA_CAC_his__L_c at 0x7f9f09563a58>,\n",
       " <GenerictRNA generic_tRNA_UUC_phe__L_c at 0x7f9f09553e48>,\n",
       " <GenerictRNA generic_tRNA_GUA_val__L_c at 0x7f9f0956c198>,\n",
       " <GenerictRNA generic_tRNA_GUC_val__L_c at 0x7f9f09563748>,\n",
       " <Complex InfC_mono at 0x7f9f0956cb38>,\n",
       " <Complex InfB_mono at 0x7f9f0956c7b8>,\n",
       " <Complex Fmt_mono_mod_mg2_mod_k at 0x7f9f0956c898>,\n",
       " <Metabolite 10fthf_c at 0x7f9f0956c940>,\n",
       " <GenerictRNA generic_tRNA_START_met__L_c at 0x7f9f0956ca58>,\n",
       " <Complex PrfC_mono at 0x7f9f0956cf98>,\n",
       " <Complex Rrf_mono at 0x7f9f0956cd30>,\n",
       " <Complex Def_mono_mod_1:fe2 at 0x7f9f0956cd68>,\n",
       " <Complex InfA_mono at 0x7f9f0956ca90>,\n",
       " <Constraint mRNA_biomass at 0x7f9f0a363128>]"
      ]
     },
     "execution_count": 18,
     "metadata": {},
     "output_type": "execute_result"
    }
   ],
   "source": [
    "me.reactions.translation_Alpha.reactants"
   ]
  },
  {
   "cell_type": "markdown",
   "metadata": {},
   "source": [
    "This completes the creation of the translation reaction"
   ]
  },
  {
   "cell_type": "markdown",
   "metadata": {},
   "source": [
    "## 6. Create Demand Reaction for Alpha"
   ]
  },
  {
   "cell_type": "code",
   "execution_count": 19,
   "metadata": {},
   "outputs": [],
   "source": [
    "new_reaction = cobrame.MEReaction('DM_protein_Alpha')\n",
    "me.add_reaction(new_reaction)"
   ]
  },
  {
   "cell_type": "code",
   "execution_count": 20,
   "metadata": {},
   "outputs": [
    {
     "data": {
      "text/plain": [
       "'protein_Alpha --> '"
      ]
     },
     "execution_count": 20,
     "metadata": {},
     "output_type": "execute_result"
    }
   ],
   "source": [
    "me.reactions.get_by_id('DM_protein_Alpha').reaction = 'protein_Alpha ->'\n",
    "me.reactions.get_by_id('DM_protein_Alpha').reaction"
   ]
  },
  {
   "cell_type": "code",
   "execution_count": 21,
   "metadata": {},
   "outputs": [
    {
     "data": {
      "text/html": [
       "<div>\n",
       "<style scoped>\n",
       "    .dataframe tbody tr th:only-of-type {\n",
       "        vertical-align: middle;\n",
       "    }\n",
       "\n",
       "    .dataframe tbody tr th {\n",
       "        vertical-align: top;\n",
       "    }\n",
       "\n",
       "    .dataframe thead th {\n",
       "        text-align: right;\n",
       "    }\n",
       "</style>\n",
       "<table border=\"1\" class=\"dataframe\">\n",
       "  <thead>\n",
       "    <tr style=\"text-align: right;\">\n",
       "      <th></th>\n",
       "      <th>Attribute Values</th>\n",
       "    </tr>\n",
       "  </thead>\n",
       "  <tbody>\n",
       "    <tr>\n",
       "      <th>id</th>\n",
       "      <td>DM_protein_Alpha</td>\n",
       "    </tr>\n",
       "    <tr>\n",
       "      <th>name</th>\n",
       "      <td></td>\n",
       "    </tr>\n",
       "    <tr>\n",
       "      <th>notes</th>\n",
       "      <td>{}</td>\n",
       "    </tr>\n",
       "    <tr>\n",
       "      <th>annotation</th>\n",
       "      <td>{}</td>\n",
       "    </tr>\n",
       "    <tr>\n",
       "      <th>_gene_reaction_rule</th>\n",
       "      <td></td>\n",
       "    </tr>\n",
       "    <tr>\n",
       "      <th>subsystem</th>\n",
       "      <td></td>\n",
       "    </tr>\n",
       "    <tr>\n",
       "      <th>_genes</th>\n",
       "      <td>set()</td>\n",
       "    </tr>\n",
       "    <tr>\n",
       "      <th>_metabolites</th>\n",
       "      <td>{&lt;TranslatedGene protein_Alpha at 0x7f9f0a32cd68&gt;: -1}</td>\n",
       "    </tr>\n",
       "    <tr>\n",
       "      <th>_model</th>\n",
       "      <td>iJL1678b-ME</td>\n",
       "    </tr>\n",
       "    <tr>\n",
       "      <th>_objective_coefficient</th>\n",
       "      <td>0.0</td>\n",
       "    </tr>\n",
       "    <tr>\n",
       "      <th>upper_bound</th>\n",
       "      <td>1000</td>\n",
       "    </tr>\n",
       "    <tr>\n",
       "      <th>lower_bound</th>\n",
       "      <td>0</td>\n",
       "    </tr>\n",
       "    <tr>\n",
       "      <th>variable_kind</th>\n",
       "      <td>continuous</td>\n",
       "    </tr>\n",
       "  </tbody>\n",
       "</table>\n",
       "</div>"
      ],
      "text/plain": [
       "                                                              Attribute Values\n",
       "id                                                            DM_protein_Alpha\n",
       "name                                                                          \n",
       "notes                                                                       {}\n",
       "annotation                                                                  {}\n",
       "_gene_reaction_rule                                                           \n",
       "subsystem                                                                     \n",
       "_genes                                                                   set()\n",
       "_metabolites            {<TranslatedGene protein_Alpha at 0x7f9f0a32cd68>: -1}\n",
       "_model                                                             iJL1678b-ME\n",
       "_objective_coefficient                                                     0.0\n",
       "upper_bound                                                               1000\n",
       "lower_bound                                                                  0\n",
       "variable_kind                                                       continuous"
      ]
     },
     "execution_count": 21,
     "metadata": {},
     "output_type": "execute_result"
    }
   ],
   "source": [
    "rxn = me.reactions.DM_protein_Alpha\n",
    "data = rxn\n",
    "pd.DataFrame({i: str(v) for i, v in data.__dict__.items()}, index=['Attribute Values']).T"
   ]
  },
  {
   "cell_type": "markdown",
   "metadata": {},
   "source": [
    "### Find the amino acid count"
   ]
  },
  {
   "cell_type": "code",
   "execution_count": 22,
   "metadata": {},
   "outputs": [
    {
     "data": {
      "text/plain": [
       "defaultdict(int,\n",
       "            {'met__L_c': 14,\n",
       "             'ser__L_c': 66,\n",
       "             'ile__L_c': 36,\n",
       "             'gln__L_c': 31,\n",
       "             'thr__L_c': 58,\n",
       "             'val__L_c': 49,\n",
       "             'lys__L_c': 23,\n",
       "             'tyr__L_c': 26,\n",
       "             'arg__L_c': 30,\n",
       "             'gly_c': 102,\n",
       "             'his__L_c': 13,\n",
       "             'leu__L_c': 38,\n",
       "             'phe__L_c': 15,\n",
       "             'ala__L_c': 48,\n",
       "             'pro__L_c': 21,\n",
       "             'asn__L_c': 21,\n",
       "             'asp__L_c': 24,\n",
       "             'glu__L_c': 26,\n",
       "             'trp__L_c': 2})"
      ]
     },
     "execution_count": 22,
     "metadata": {},
     "output_type": "execute_result"
    }
   ],
   "source": [
    "me.process_data.Alpha.amino_acid_count"
   ]
  },
  {
   "cell_type": "code",
   "execution_count": 23,
   "metadata": {},
   "outputs": [],
   "source": [
    "import pickle\n",
    "with open('iJL1678b_pET19K_HF_alpha.pickle', 'wb') as f:\n",
    "    pickle.dump(me, f)"
   ]
  },
  {
   "cell_type": "code",
   "execution_count": 24,
   "metadata": {},
   "outputs": [],
   "source": [
    "with open('iJL1678b_pET19K_HF_alpha.pickle', 'rb') as f:\n",
    "    test_me = pickle.load(f)"
   ]
  },
  {
   "cell_type": "code",
   "execution_count": 25,
   "metadata": {},
   "outputs": [
    {
     "data": {
      "text/plain": [
       "<MEModel iJL1678b-ME at 0x7f9f0a005780>"
      ]
     },
     "execution_count": 25,
     "metadata": {},
     "output_type": "execute_result"
    }
   ],
   "source": [
    "test_me"
   ]
  },
  {
   "cell_type": "code",
   "execution_count": 26,
   "metadata": {},
   "outputs": [
    {
     "data": {
      "text/plain": [
       "{'kt': 4.5,\n",
       " 'r0': 0.087,\n",
       " 'k_deg': 12.0,\n",
       " 'm_rr': 1453.0,\n",
       " 'm_aa': 0.109,\n",
       " 'f_rRNA': 0.86,\n",
       " 'm_nt': 0.324,\n",
       " 'f_mRNA': 0.02,\n",
       " 'm_tRNA': 25.0,\n",
       " 'f_tRNA': 0.12,\n",
       " 'temperature': 37,\n",
       " 'propensity_scaling': 0.45,\n",
       " 'GC_fraction': 0.507896997096}"
      ]
     },
     "execution_count": 26,
     "metadata": {},
     "output_type": "execute_result"
    }
   ],
   "source": [
    "test_me.global_info"
   ]
  }
 ],
 "metadata": {
  "kernelspec": {
   "display_name": "Python 3",
   "language": "python",
   "name": "python3"
  },
  "language_info": {
   "codemirror_mode": {
    "name": "ipython",
    "version": 3
   },
   "file_extension": ".py",
   "mimetype": "text/x-python",
   "name": "python",
   "nbconvert_exporter": "python",
   "pygments_lexer": "ipython3",
   "version": "3.6.1"
  }
 },
 "nbformat": 4,
 "nbformat_minor": 2
}
