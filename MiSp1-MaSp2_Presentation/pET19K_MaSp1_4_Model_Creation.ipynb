{
 "cells": [
  {
   "cell_type": "markdown",
   "metadata": {},
   "source": [
    "# pET19K_MaSp1_4 Model Creation"
   ]
  },
  {
   "cell_type": "markdown",
   "metadata": {},
   "source": [
    "## 1. Load the python packages"
   ]
  },
  {
   "cell_type": "code",
   "execution_count": 1,
   "metadata": {},
   "outputs": [
    {
     "name": "stderr",
     "output_type": "stream",
     "text": [
      "/usr/lib/python3.6/site-packages/cobra-0.5.11-py3.6-linux-x86_64.egg/cobra/solvers/__init__.py:63: UserWarning: No LP solvers found\n",
      "  warn(\"No LP solvers found\")\n",
      "/usr/lib/python3.6/site-packages/cobra-0.5.11-py3.6-linux-x86_64.egg/cobra/io/sbml3.py:24: UserWarning: Install lxml for faster SBML I/O\n",
      "  warn(\"Install lxml for faster SBML I/O\")\n",
      "/usr/lib/python3.6/site-packages/cobra-0.5.11-py3.6-linux-x86_64.egg/cobra/io/__init__.py:12: UserWarning: cobra.io.sbml requires libsbml\n",
      "  warn(\"cobra.io.sbml requires libsbml\")\n"
     ]
    }
   ],
   "source": [
    "from __future__ import print_function, division, absolute_import\n",
    "\n",
    "# python imports\n",
    "import re\n",
    "from os.path import join\n",
    "from collections import defaultdict\n",
    "import pickle\n",
    "import pandas as pd\n",
    "\n",
    "# third party imports\n",
    "import pandas\n",
    "import tabulate\n",
    "import cobra\n",
    "pd.set_option('display.max_columns', 100)\n",
    "pd.set_option('display.width',100)\n",
    "pd.set_option('display.max_colwidth',300)\n",
    "\n",
    "# ECOLIme\n",
    "import ecolime\n",
    "from ecolime import (transcription, translation, flat_files, generics, formulas, compartments)\n",
    "\n",
    "# COBRAme\n",
    "import cobrame\n",
    "from cobrame.util import building, mu, me_model_interface\n",
    "#from cobrame.io.json import save_json_me_model, save_reduced_json_me_model"
   ]
  },
  {
   "cell_type": "markdown",
   "metadata": {},
   "source": [
    "## 2. Load the iJL1678b model\n",
    "\n",
    "Load the iJL1678b model in pickle format that is located in the current directory."
   ]
  },
  {
   "cell_type": "code",
   "execution_count": 2,
   "metadata": {},
   "outputs": [],
   "source": [
    "with open('iJL1678b.pickle', 'rb') as f:\n",
    "    me = pickle.load(f)"
   ]
  },
  {
   "cell_type": "markdown",
   "metadata": {},
   "source": [
    "## 3. Define ME-Model Solve Functions"
   ]
  },
  {
   "cell_type": "code",
   "execution_count": 3,
   "metadata": {},
   "outputs": [],
   "source": [
    "def solve_me_model(me, max_mu, precision=1e-6, min_mu=0, using_soplex=False,\n",
    "                  compiled_expressions=None):\n",
    "    if using_soplex:\n",
    "        from cobrame.solve.algorithms import binary_search\n",
    "        binary_search(me, min_mu=min_mu, max_mu=max_mu, debug=True, mu_accuracy=precision,\n",
    "                      compiled_expressions=compiled_expressions)\n",
    "    else:\n",
    "        from qminospy.me1 import ME_NLP1\n",
    "        # The object containing solveME methods--composite that uses a ME model object \n",
    "        me_nlp = ME_NLP1(me, growth_key='mu')\n",
    "        # Use bisection for now (until the NLP formulation is worked out)\n",
    "        muopt, hs, xopt, cache = me_nlp.bisectmu(precision=precision, mumax=max_mu)\n",
    "        me.solution.f = me.solution.x_dict['biomass_dilution']\n",
    "        \n",
    "def show_escher_map(me, solution=None):\n",
    "    import escher\n",
    "    view = escher.Builder(\"iJO1366.Central metabolism\")\n",
    "    view.reaction_data = me.get_metabolic_flux(solution=solution)\n",
    "    return view"
   ]
  },
  {
   "cell_type": "markdown",
   "metadata": {},
   "source": [
    "## 4. Create the MaSp1 Transcription Reaction\n",
    "\n",
    "Complete the steps necessary to create the MaSp1 Transcription Reaction"
   ]
  },
  {
   "cell_type": "code",
   "execution_count": 4,
   "metadata": {},
   "outputs": [
    {
     "name": "stdout",
     "output_type": "stream",
     "text": [
      "717 atp_c + 1950 ctp_c + 882 gtp_c + 567 utp_c --> RNA_MaSp1 + 1305.062631936 mRNA_biomass + 4116 ppi_c\n"
     ]
    },
    {
     "name": "stderr",
     "output_type": "stream",
     "text": [
      "/source/cobrame/cobrame/core/reaction.py:852 \u001b[1;31mUserWarning\u001b[0m: RNA Polymerase () not found\n"
     ]
    }
   ],
   "source": [
    "locus_id = 'MaSp1'\n",
    "left_pos =  None\n",
    "right_pos = None\n",
    "seq = 'ATGACCGGTGGTGCAGGTCAGGGTGGTTATGGTGGTCTGGGTAGCCAGGGTGCCGGTCGTGGTGGACTGGGTGGTCAAGGTGCTGGTGCAGCAGCAGCTGCCGCAGCAGCAGGCGGTGCAGGCCAAGGCGGATATGGCGGACTGGGTTCACAGGGTGCAGGCCGTGGCGGTTTAGGTGGTCAAGGCGCAGGCGCTGCTGCAGCCGCAGCGGCAGCAGCTGGCCAAGGTGGCTATGGTGGCTTAGGCTCACAGGGTGGCGGTGCTGGACAGGGTGGATACGGTGGCCTTGGCAGTCAAGGTGCGGGTCGCGGTGGTTTAGGCGGTCAGGGTGCGGGTGCGGCTGCTGCAGCTGCGGCAGCGGGTGGTGCTGGGCAAGGCGGTTACGGTGGATTAGGTAGCCAAGGTGCAGGACGCGGAGGTCTTGGTGGACAGGGTGCTGGCGCTGCTGCGGCAGCAGCAGCCGCTGGGGGTGCTGGTCAAGGGGGTTATGGCGGTTTAGGATCTCAGGGTGCGGGACGGGGTGGTCTGGGAGGGCAAGGGGCAGGCGCAGCAGCAGCGGCAGCTGCAGCCGGTGGTGCCGGACAAGGGGGATATGGGGGTCTTGGCTCCCAAGGCGCTGGTCGTGGCGGTCTTGGAGGCCAAGGTGCCGGTGCCGCTGCAGCGGCTGCTGCTGCAGCGGGTCAAGGGGGATACGGTGGTCTGGGATCACAAGGTGGTGGCGCAGGGCAAGGTGGGTATGGGGGTTTAGGTTCGCAAGGTGCTGGCCGTGGGGGACTGGGAGGACAGGGTGCCGGTGCGGCAGCCGCTGCAGCTGCTGCGGGTGGCGCTGGTCAGGGTGGCTATGGCGGATTGGGCTCTCAAGGGGCAGGTCGGGGTGGCTTGGGAGGACAAGGTGCGGGTGCAGCCGCTGCGGCAGCTGCCGCTGGCGGAGCAGGCCAGGGTGGCTACGGTGGACTGGGTTCCCAAGGTGCGGGAAGAGGTGGCTTGGGTGGCCAGGGTGCAGGGGCAGCGGCTGCAGCGGCAGCAGCCTCCGGTGGTGCAGGTCAGGGTGGTTATGGTGGTCTGGGTAGCCAGGGTGCCGGTCGTGGTGGACTGGGTGGTCAAGGTGCTGGTGCAGCAGCAGCTGCCGCAGCAGCAGGCGGTGCAGGCCAAGGCGGATATGGCGGACTGGGTTCACAGGGTGCAGGCCGTGGCGGTTTAGGTGGTCAAGGCGCAGGCGCTGCTGCAGCCGCAGCGGCAGCAGCTGGCCAAGGTGGCTATGGTGGCTTAGGCTCACAGGGTGGCGGTGCTGGACAGGGTGGATACGGTGGCCTTGGCAGTCAAGGTGCGGGTCGCGGTGGTTTAGGCGGTCAGGGTGCGGGTGCGGCTGCTGCAGCTGCGGCAGCGGGTGGTGCTGGGCAAGGCGGTTACGGTGGATTAGGTAGCCAAGGTGCAGGACGCGGAGGTCTTGGTGGACAGGGTGCTGGCGCTGCTGCGGCAGCAGCAGCCGCTGGGGGTGCTGGTCAAGGGGGTTATGGCGGTTTAGGATCTCAGGGTGCGGGACGGGGTGGTCTGGGAGGGCAAGGGGCAGGCGCAGCAGCAGCGGCAGCTGCAGCCGGTGGTGCCGGACAAGGGGGATATGGGGGTCTTGGCTCCCAAGGCGCTGGTCGTGGCGGTCTTGGAGGCCAAGGTGCCGGTGCCGCTGCAGCGGCTGCTGCTGCAGCGGGTCAAGGGGGATACGGTGGTCTGGGATCACAAGGTGGTGGCGCAGGGCAAGGTGGGTATGGGGGTTTAGGTTCGCAAGGTGCTGGCCGTGGGGGACTGGGAGGACAGGGTGCCGGTGCGGCAGCCGCTGCAGCTGCTGCGGGTGGCGCTGGTCAGGGTGGCTATGGCGGATTGGGCTCTCAAGGGGCAGGTCGGGGTGGCTTGGGAGGACAAGGTGCGGGTGCAGCCGCTGCGGCAGCTGCCGCTGGCGGAGCAGGCCAGGGTGGCTACGGTGGACTGGGTTCCCAAGGTGCGGGAAGAGGTGGCTTGGGTGGCCAGGGTGCAGGGGCAGCGGCTGCAGCGGCAGCAGCCTCCGGTGGTGCAGGTCAGGGTGGTTATGGTGGTCTGGGTAGCCAGGGTGCCGGTCGTGGTGGACTGGGTGGTCAAGGTGCTGGTGCAGCAGCAGCTGCCGCAGCAGCAGGCGGTGCAGGCCAAGGCGGATATGGCGGACTGGGTTCACAGGGTGCAGGCCGTGGCGGTTTAGGTGGTCAAGGCGCAGGCGCTGCTGCAGCCGCAGCGGCAGCAGCTGGCCAAGGTGGCTATGGTGGCTTAGGCTCACAGGGTGGCGGTGCTGGACAGGGTGGATACGGTGGCCTTGGCAGTCAAGGTGCGGGTCGCGGTGGTTTAGGCGGTCAGGGTGCGGGTGCGGCTGCTGCAGCTGCGGCAGCGGGTGGTGCTGGGCAAGGCGGTTACGGTGGATTAGGTAGCCAAGGTGCAGGACGCGGAGGTCTTGGTGGACAGGGTGCTGGCGCTGCTGCGGCAGCAGCAGCCGCTGGGGGTGCTGGTCAAGGGGGTTATGGCGGTTTAGGATCTCAGGGTGCGGGACGGGGTGGTCTGGGAGGGCAAGGGGCAGGCGCAGCAGCAGCGGCAGCTGCAGCCGGTGGTGCCGGACAAGGGGGATATGGGGGTCTTGGCTCCCAAGGCGCTGGTCGTGGCGGTCTTGGAGGCCAAGGTGCCGGTGCCGCTGCAGCGGCTGCTGCTGCAGCGGGTCAAGGGGGATACGGTGGTCTGGGATCACAAGGTGGTGGCGCAGGGCAAGGTGGGTATGGGGGTTTAGGTTCGCAAGGTGCTGGCCGTGGGGGACTGGGAGGACAGGGTGCCGGTGCGGCAGCCGCTGCAGCTGCTGCGGGTGGCGCTGGTCAGGGTGGCTATGGCGGATTGGGCTCTCAAGGGGCAGGTCGGGGTGGCTTGGGAGGACAAGGTGCGGGTGCAGCCGCTGCGGCAGCTGCCGCTGGCGGAGCAGGCCAGGGTGGCTACGGTGGACTGGGTTCCCAAGGTGCGGGAAGAGGTGGCTTGGGTGGCCAGGGTGCAGGGGCAGCGGCTGCAGCGGCAGCAGCCTCCGGTGGTGCAGGTCAGGGTGGTTATGGTGGTCTGGGTAGCCAGGGTGCCGGTCGTGGTGGACTGGGTGGTCAAGGTGCTGGTGCAGCAGCAGCTGCCGCAGCAGCAGGCGGTGCAGGCCAAGGCGGATATGGCGGACTGGGTTCACAGGGTGCAGGCCGTGGCGGTTTAGGTGGTCAAGGCGCAGGCGCTGCTGCAGCCGCAGCGGCAGCAGCTGGCCAAGGTGGCTATGGTGGCTTAGGCTCACAGGGTGGCGGTGCTGGACAGGGTGGATACGGTGGCCTTGGCAGTCAAGGTGCGGGTCGCGGTGGTTTAGGCGGTCAGGGTGCGGGTGCGGCTGCTGCAGCTGCGGCAGCGGGTGGTGCTGGGCAAGGCGGTTACGGTGGATTAGGTAGCCAAGGTGCAGGACGCGGAGGTCTTGGTGGACAGGGTGCTGGCGCTGCTGCGGCAGCAGCAGCCGCTGGGGGTGCTGGTCAAGGGGGTTATGGCGGTTTAGGATCTCAGGGTGCGGGACGGGGTGGTCTGGGAGGGCAAGGGGCAGGCGCAGCAGCAGCGGCAGCTGCAGCCGGTGGTGCCGGACAAGGGGGATATGGGGGTCTTGGCTCCCAAGGCGCTGGTCGTGGCGGTCTTGGAGGCCAAGGTGCCGGTGCCGCTGCAGCGGCTGCTGCTGCAGCGGGTCAAGGGGGATACGGTGGTCTGGGATCACAAGGTGGTGGCGCAGGGCAAGGTGGGTATGGGGGTTTAGGTTCGCAAGGTGCTGGCCGTGGGGGACTGGGAGGACAGGGTGCCGGTGCGGCAGCCGCTGCAGCTGCTGCGGGTGGCGCTGGTCAGGGTGGCTATGGCGGATTGGGCTCTCAAGGGGCAGGTCGGGGTGGCTTGGGAGGACAAGGTGCGGGTGCAGCCGCTGCGGCAGCTGCCGCTGGCGGAGCAGGCCAGGGTGGCTACGGTGGACTGGGTTCCCAAGGTGCGGGAAGAGGTGGCTTGGGTGGCCAGGGTGCAGGGGCAGCGGCTGCAGCGGCAGCAGCCTCCGGAGGG'\n",
    "strand = None\n",
    "rna_type = 'mRNA'\n",
    "\n",
    "building.create_transcribed_gene(me, locus_id, rna_type, seq)\n",
    "building.add_transcription_reaction(me, 'TU_MaSp1', {'MaSp1'}, seq)\n",
    "print(me.reactions.transcription_TU_MaSp1.reaction)\n",
    "me.reactions.transcription_TU_MaSp1.update()"
   ]
  },
  {
   "cell_type": "markdown",
   "metadata": {},
   "source": [
    "###  Add the RNAP to the MaSp1 Transcription Reaction"
   ]
  },
  {
   "cell_type": "code",
   "execution_count": 5,
   "metadata": {},
   "outputs": [],
   "source": [
    "me.reactions.transcription_TU_MaSp1.transcription_data.RNA_polymerase = 'RNAP70-CPLX'\n",
    "me.reactions.transcription_TU_MaSp1.update()"
   ]
  },
  {
   "cell_type": "markdown",
   "metadata": {},
   "source": [
    "List the transcription data (\"transcription_data\") associated with the MaSp1 transcription reaction (\"transcription_TU_MaSp1\")."
   ]
  },
  {
   "cell_type": "code",
   "execution_count": 6,
   "metadata": {},
   "outputs": [
    {
     "data": {
      "text/html": [
       "<div>\n",
       "<style scoped>\n",
       "    .dataframe tbody tr th:only-of-type {\n",
       "        vertical-align: middle;\n",
       "    }\n",
       "\n",
       "    .dataframe tbody tr th {\n",
       "        vertical-align: top;\n",
       "    }\n",
       "\n",
       "    .dataframe thead th {\n",
       "        text-align: right;\n",
       "    }\n",
       "</style>\n",
       "<table border=\"1\" class=\"dataframe\">\n",
       "  <thead>\n",
       "    <tr style=\"text-align: right;\">\n",
       "      <th></th>\n",
       "      <th>Attribute Values</th>\n",
       "    </tr>\n",
       "  </thead>\n",
       "  <tbody>\n",
       "    <tr>\n",
       "      <th>id</th>\n",
       "      <td>TU_MaSp1</td>\n",
       "    </tr>\n",
       "    <tr>\n",
       "      <th>_model</th>\n",
       "      <td>iJL1678b-ME</td>\n",
       "    </tr>\n",
       "    <tr>\n",
       "      <th>_parent_reactions</th>\n",
       "      <td>{'transcription_TU_MaSp1'}</td>\n",
       "    </tr>\n",
       "    <tr>\n",
       "      <th>nucleotide_sequence</th>\n",
       "      <td>ATGACCGGTGGTGCAGGTCAGGGTGGTTATGGTGGTCTGGGTAGCCAGGGTGCCGGTCGTGGTGGACTGGGTGGTCAAGGTGCTGGTGCAGCAGCAGCTGCCGCAGCAGCAGGCGGTGCAGGCCAAGGCGGATATGGCGGACTGGGTTCACAGGGTGCAGGCCGTGGCGGTTTAGGTGGTCAAGGCGCAGGCGCTGCTGCAGCCGCAGCGGCAGCAGCTGGCCAAGGTGGCTATGGTGGCTTAGGCTCACAGGGTGGCGGTGCTGGACAGGGTGGATACGGTGGCCTTGGCAGTCA...</td>\n",
       "    </tr>\n",
       "    <tr>\n",
       "      <th>RNA_products</th>\n",
       "      <td>{'RNA_MaSp1'}</td>\n",
       "    </tr>\n",
       "    <tr>\n",
       "      <th>RNA_polymerase</th>\n",
       "      <td>RNAP70-CPLX</td>\n",
       "    </tr>\n",
       "    <tr>\n",
       "      <th>subreactions</th>\n",
       "      <td>defaultdict(&lt;class 'int'&gt;, {})</td>\n",
       "    </tr>\n",
       "  </tbody>\n",
       "</table>\n",
       "</div>"
      ],
      "text/plain": [
       "                                                                                                                                                                                                                                                                                                                Attribute Values\n",
       "id                                                                                                                                                                                                                                                                                                                      TU_MaSp1\n",
       "_model                                                                                                                                                                                                                                                                                                               iJL1678b-ME\n",
       "_parent_reactions                                                                                                                                                                                                                                                                                     {'transcription_TU_MaSp1'}\n",
       "nucleotide_sequence  ATGACCGGTGGTGCAGGTCAGGGTGGTTATGGTGGTCTGGGTAGCCAGGGTGCCGGTCGTGGTGGACTGGGTGGTCAAGGTGCTGGTGCAGCAGCAGCTGCCGCAGCAGCAGGCGGTGCAGGCCAAGGCGGATATGGCGGACTGGGTTCACAGGGTGCAGGCCGTGGCGGTTTAGGTGGTCAAGGCGCAGGCGCTGCTGCAGCCGCAGCGGCAGCAGCTGGCCAAGGTGGCTATGGTGGCTTAGGCTCACAGGGTGGCGGTGCTGGACAGGGTGGATACGGTGGCCTTGGCAGTCA...\n",
       "RNA_products                                                                                                                                                                                                                                                                                                       {'RNA_MaSp1'}\n",
       "RNA_polymerase                                                                                                                                                                                                                                                                                                       RNAP70-CPLX\n",
       "subreactions                                                                                                                                                                                                                                                                                      defaultdict(<class 'int'>, {})"
      ]
     },
     "execution_count": 6,
     "metadata": {},
     "output_type": "execute_result"
    }
   ],
   "source": [
    "rxn = me.reactions.transcription_TU_MaSp1\n",
    "data = rxn.transcription_data\n",
    "pd.DataFrame({i: str(v) for i, v in data.__dict__.items()}, index=['Attribute Values']).T"
   ]
  },
  {
   "cell_type": "markdown",
   "metadata": {},
   "source": [
    "List the attributes of the MaSp1 transcription reaction."
   ]
  },
  {
   "cell_type": "code",
   "execution_count": 7,
   "metadata": {},
   "outputs": [
    {
     "data": {
      "text/html": [
       "<div>\n",
       "<style scoped>\n",
       "    .dataframe tbody tr th:only-of-type {\n",
       "        vertical-align: middle;\n",
       "    }\n",
       "\n",
       "    .dataframe tbody tr th {\n",
       "        vertical-align: top;\n",
       "    }\n",
       "\n",
       "    .dataframe thead th {\n",
       "        text-align: right;\n",
       "    }\n",
       "</style>\n",
       "<table border=\"1\" class=\"dataframe\">\n",
       "  <thead>\n",
       "    <tr style=\"text-align: right;\">\n",
       "      <th></th>\n",
       "      <th>Attribute Values</th>\n",
       "    </tr>\n",
       "  </thead>\n",
       "  <tbody>\n",
       "    <tr>\n",
       "      <th>id</th>\n",
       "      <td>transcription_TU_MaSp1</td>\n",
       "    </tr>\n",
       "    <tr>\n",
       "      <th>name</th>\n",
       "      <td></td>\n",
       "    </tr>\n",
       "    <tr>\n",
       "      <th>notes</th>\n",
       "      <td>{}</td>\n",
       "    </tr>\n",
       "    <tr>\n",
       "      <th>annotation</th>\n",
       "      <td>{}</td>\n",
       "    </tr>\n",
       "    <tr>\n",
       "      <th>_gene_reaction_rule</th>\n",
       "      <td></td>\n",
       "    </tr>\n",
       "    <tr>\n",
       "      <th>subsystem</th>\n",
       "      <td></td>\n",
       "    </tr>\n",
       "    <tr>\n",
       "      <th>_genes</th>\n",
       "      <td>set()</td>\n",
       "    </tr>\n",
       "    <tr>\n",
       "      <th>_metabolites</th>\n",
       "      <td>{&lt;RNAP RNAP70-CPLX at 0x7efee03d23c8&gt;: -0.019669844765619*mu - 0.00770074422573985, &lt;TranscribedGene RNA_MaSp1 at 0x7efee04fd550&gt;: 1, &lt;Metabolite utp_c at 0x7efee03d2e10&gt;: -567, &lt;Metabolite atp_c at 0x7efee03d29b0&gt;: -717, &lt;Metabolite ctp_c at 0x7efee03d2ef0&gt;: -1950, &lt;Metabolite gtp_c at 0x7efee0...</td>\n",
       "    </tr>\n",
       "    <tr>\n",
       "      <th>_model</th>\n",
       "      <td>iJL1678b-ME</td>\n",
       "    </tr>\n",
       "    <tr>\n",
       "      <th>_objective_coefficient</th>\n",
       "      <td>0.0</td>\n",
       "    </tr>\n",
       "    <tr>\n",
       "      <th>upper_bound</th>\n",
       "      <td>1000.0</td>\n",
       "    </tr>\n",
       "    <tr>\n",
       "      <th>lower_bound</th>\n",
       "      <td>0.0</td>\n",
       "    </tr>\n",
       "    <tr>\n",
       "      <th>variable_kind</th>\n",
       "      <td>continuous</td>\n",
       "    </tr>\n",
       "    <tr>\n",
       "      <th>_transcription_data</th>\n",
       "      <td>&lt;TranscriptionData TU_MaSp1 at 0x7efee04fd4a8&gt;</td>\n",
       "    </tr>\n",
       "  </tbody>\n",
       "</table>\n",
       "</div>"
      ],
      "text/plain": [
       "                                                                                                                                                                                                                                                                                                                   Attribute Values\n",
       "id                                                                                                                                                                                                                                                                                                           transcription_TU_MaSp1\n",
       "name                                                                                                                                                                                                                                                                                                                               \n",
       "notes                                                                                                                                                                                                                                                                                                                            {}\n",
       "annotation                                                                                                                                                                                                                                                                                                                       {}\n",
       "_gene_reaction_rule                                                                                                                                                                                                                                                                                                                \n",
       "subsystem                                                                                                                                                                                                                                                                                                                          \n",
       "_genes                                                                                                                                                                                                                                                                                                                        set()\n",
       "_metabolites            {<RNAP RNAP70-CPLX at 0x7efee03d23c8>: -0.019669844765619*mu - 0.00770074422573985, <TranscribedGene RNA_MaSp1 at 0x7efee04fd550>: 1, <Metabolite utp_c at 0x7efee03d2e10>: -567, <Metabolite atp_c at 0x7efee03d29b0>: -717, <Metabolite ctp_c at 0x7efee03d2ef0>: -1950, <Metabolite gtp_c at 0x7efee0...\n",
       "_model                                                                                                                                                                                                                                                                                                                  iJL1678b-ME\n",
       "_objective_coefficient                                                                                                                                                                                                                                                                                                          0.0\n",
       "upper_bound                                                                                                                                                                                                                                                                                                                  1000.0\n",
       "lower_bound                                                                                                                                                                                                                                                                                                                     0.0\n",
       "variable_kind                                                                                                                                                                                                                                                                                                            continuous\n",
       "_transcription_data                                                                                                                                                                                                                                                                  <TranscriptionData TU_MaSp1 at 0x7efee04fd4a8>"
      ]
     },
     "execution_count": 7,
     "metadata": {},
     "output_type": "execute_result"
    }
   ],
   "source": [
    "rxn = me.reactions.transcription_TU_MaSp1\n",
    "data = rxn\n",
    "pd.DataFrame({i: str(v) for i, v in data.__dict__.items()}, index=['Attribute Values']).T"
   ]
  },
  {
   "cell_type": "markdown",
   "metadata": {},
   "source": [
    "List the complete reaction associated with the MaSp1 transcription reaction."
   ]
  },
  {
   "cell_type": "code",
   "execution_count": 8,
   "metadata": {},
   "outputs": [
    {
     "data": {
      "text/plain": [
       "'0.019669844765619*mu + 0.00770074422573985 RNAP70-CPLX + 717 atp_c + 1950 ctp_c + 882 gtp_c + 567 utp_c --> RNA_MaSp1 + 1305.062631936 mRNA_biomass + 4116 ppi_c'"
      ]
     },
     "execution_count": 8,
     "metadata": {},
     "output_type": "execute_result"
    }
   ],
   "source": [
    "me.reactions.get_by_id('transcription_TU_MaSp1').reaction"
   ]
  },
  {
   "cell_type": "markdown",
   "metadata": {},
   "source": [
    "List the RNAP associated with the MaSp1 transcription reaction"
   ]
  },
  {
   "cell_type": "code",
   "execution_count": 9,
   "metadata": {},
   "outputs": [
    {
     "data": {
      "text/plain": [
       "'RNAP70-CPLX'"
      ]
     },
     "execution_count": 9,
     "metadata": {},
     "output_type": "execute_result"
    }
   ],
   "source": [
    "me.reactions.transcription_TU_MaSp1.transcription_data.RNA_polymerase"
   ]
  },
  {
   "cell_type": "markdown",
   "metadata": {},
   "source": [
    "## 5. Create the MaSp1 Translation Reaction"
   ]
  },
  {
   "cell_type": "markdown",
   "metadata": {},
   "source": [
    "Complete all the steps necessary to create the MaSp1 Translation Reaction"
   ]
  },
  {
   "cell_type": "markdown",
   "metadata": {},
   "source": [
    "### Storing information about a translation reaction"
   ]
  },
  {
   "cell_type": "code",
   "execution_count": 10,
   "metadata": {},
   "outputs": [],
   "source": [
    "data = cobrame.TranslationData('MaSp1', me, 'RNA_MaSp1', 'protein_MaSp1')\n",
    "data.nucleotide_sequence = seq"
   ]
  },
  {
   "cell_type": "markdown",
   "metadata": {},
   "source": [
    "### Create translation reaction\n",
    "\n",
    "By associating the TranslationReaction with its corresponding TranslationData object and running the update function, COBRAme will create a translation reaction for the nucleotide sequence given based on the organisms codon table and prespecified translation machinery."
   ]
  },
  {
   "cell_type": "code",
   "execution_count": 11,
   "metadata": {},
   "outputs": [],
   "source": [
    "rxn = cobrame.TranslationReaction('translation_MaSp1')\n",
    "rxn.translation_data = data\n",
    "me.add_reaction(rxn)"
   ]
  },
  {
   "cell_type": "markdown",
   "metadata": {},
   "source": [
    "### Updating the translation reaction\n",
    "\n",
    "Note that this process does not include the ribosome in the reaction."
   ]
  },
  {
   "cell_type": "code",
   "execution_count": 12,
   "metadata": {},
   "outputs": [
    {
     "name": "stdout",
     "output_type": "stream",
     "text": [
      "0.000498399634202103*mu + 0.000195123456790123 + 0.00598079561042524*(mu + 0.3915)/mu RNA_MaSp1 + 2.55589556001079e-8*mu + 1.00063311174422e-8 RNA_degradosome + 404 ala__L_c + 36 arg__L_c + 6.15274348422497*(mu + 0.3915)/mu atp_c + 124 gln__L_c + 634 gly_c + 80 leu__L_c + 7.80531286041284*(mu + 0.3915)/mu mRNA_biomass + met__L_c + 0.019669844765619*mu + 0.00770074422573985 ribosome + 48 ser__L_c + thr__L_c + 44 tyr__L_c --> 6.15274348422497*(mu + 0.3915)/mu adp_c + 4.2882304526749*(mu + 0.3915)/mu amp_c + 11.6625514403292*(mu + 0.3915)/mu cmp_c + 5.27506172839506*(mu + 0.3915)/mu gmp_c + 1371.0 - 6.15274348422497*(mu + 0.3915)/mu h2o_c + 6.15274348422497*(mu + 0.3915)/mu h_c + 6.15274348422497*(mu + 0.3915)/mu pi_c + protein_MaSp1 + 107.09526234 protein_biomass + 3.39111111111111*(mu + 0.3915)/mu ump_c\n"
     ]
    }
   ],
   "source": [
    "rxn.update()\n",
    "print(rxn.reaction)"
   ]
  },
  {
   "cell_type": "markdown",
   "metadata": {},
   "source": [
    "### Incorporate the ribosome\n",
    "\n",
    "Add the ribosome to the reaction."
   ]
  },
  {
   "cell_type": "code",
   "execution_count": 13,
   "metadata": {},
   "outputs": [
    {
     "name": "stdout",
     "output_type": "stream",
     "text": [
      "0.000498399634202103*mu + 0.000195123456790123 + 0.00598079561042524*(mu + 0.3915)/mu RNA_MaSp1 + 2.55589556001079e-8*mu + 1.00063311174422e-8 RNA_degradosome + 404 ala__L_c + 36 arg__L_c + 6.15274348422497*(mu + 0.3915)/mu atp_c + 124 gln__L_c + 634 gly_c + 80 leu__L_c + 7.80531286041284*(mu + 0.3915)/mu mRNA_biomass + met__L_c + 0.019669844765619*mu + 0.00770074422573985 ribosome + 48 ser__L_c + thr__L_c + 44 tyr__L_c --> 6.15274348422497*(mu + 0.3915)/mu adp_c + 4.2882304526749*(mu + 0.3915)/mu amp_c + 11.6625514403292*(mu + 0.3915)/mu cmp_c + 5.27506172839506*(mu + 0.3915)/mu gmp_c + 1371.0 - 6.15274348422497*(mu + 0.3915)/mu h2o_c + 6.15274348422497*(mu + 0.3915)/mu h_c + 6.15274348422497*(mu + 0.3915)/mu pi_c + protein_MaSp1 + 107.09526234 protein_biomass + 3.39111111111111*(mu + 0.3915)/mu ump_c\n"
     ]
    }
   ],
   "source": [
    "ribosome = cobrame.Ribosome('ribosome')\n",
    "me.add_metabolites([ribosome])\n",
    "me.reactions.translation_MaSp1.update()\n",
    "print(me.reactions.translation_MaSp1.reaction)"
   ]
  },
  {
   "cell_type": "markdown",
   "metadata": {},
   "source": [
    "### Add Subreactions to the MaSp1 model"
   ]
  },
  {
   "cell_type": "markdown",
   "metadata": {},
   "source": [
    "Create the subreactions that represent elongation, initiation and termination"
   ]
  },
  {
   "cell_type": "code",
   "execution_count": 14,
   "metadata": {},
   "outputs": [
    {
     "name": "stderr",
     "output_type": "stream",
     "text": [
      "/source/cobrame/cobrame/core/processdata.py:896 \u001b[1;31mUserWarning\u001b[0m: No termination enzyme for RNA_MaSp1\n"
     ]
    }
   ],
   "source": [
    "elongation = ['FusA_mono_elongation', 'Tuf_gtp_regeneration']\n",
    "initiation = ['Translation_gtp_initiation_factor_InfB', 'Translation_initiation_factor_InfA', \n",
    "              'Translation_initiation_factor_InfC', 'fmet_addition_at_START', 'peptide_deformylase_processing', \n",
    "              'peptide_chain_release', 'ribosome_recycler']\n",
    "termination = {'UGA':'PrfB_mono'}\n",
    "me.process_data.get_by_id('MaSp1').add_elongation_subreactions(elongation_subreactions=set(elongation))\n",
    "me.process_data.get_by_id('MaSp1').add_initiation_subreactions(start_codons=set(['AUG']), start_subreactions=set(initiation))\n",
    "me.process_data.get_by_id('MaSp1').add_termination_subreactions(translation_terminator_dict=termination)\n",
    "#me.reactions.translation_MaSp1.update(verbose=False)"
   ]
  },
  {
   "cell_type": "markdown",
   "metadata": {},
   "source": [
    "List the subreactions associated with MaSp1 translation reaction stored in the ProcessData."
   ]
  },
  {
   "cell_type": "code",
   "execution_count": 15,
   "metadata": {
    "scrolled": true
   },
   "outputs": [
    {
     "data": {
      "text/plain": [
       "defaultdict(int,\n",
       "            {'FusA_mono_elongation': 1371.0,\n",
       "             'Tuf_gtp_regeneration': 1371.0,\n",
       "             'thr_addition_at_ACC': 1,\n",
       "             'gly_addition_at_GGU': 328,\n",
       "             'ala_addition_at_GCA': 160,\n",
       "             'gln_addition_at_CAG': 48,\n",
       "             'tyr_addition_at_UAU': 28,\n",
       "             'leu_addition_at_CUG': 28,\n",
       "             'ser_addition_at_AGC': 8,\n",
       "             'ala_addition_at_GCC': 52,\n",
       "             'arg_addition_at_CGU': 16,\n",
       "             'gly_addition_at_GGA': 105,\n",
       "             'gln_addition_at_CAA': 76,\n",
       "             'ala_addition_at_GCU': 120,\n",
       "             'gly_addition_at_GGC': 144,\n",
       "             'ser_addition_at_UCA': 12,\n",
       "             'leu_addition_at_UUA': 24,\n",
       "             'ala_addition_at_GCG': 72,\n",
       "             'tyr_addition_at_UAC': 16,\n",
       "             'leu_addition_at_CUU': 16,\n",
       "             'ser_addition_at_AGU': 4,\n",
       "             'arg_addition_at_CGC': 8,\n",
       "             'gly_addition_at_GGG': 56,\n",
       "             'ser_addition_at_UCU': 8,\n",
       "             'arg_addition_at_CGG': 8,\n",
       "             'ser_addition_at_UCC': 12,\n",
       "             'ser_addition_at_UCG': 4,\n",
       "             'leu_addition_at_UUG': 12,\n",
       "             'arg_addition_at_AGA': 4,\n",
       "             'Translation_gtp_initiation_factor_InfB': 1,\n",
       "             'Translation_initiation_factor_InfA': 1,\n",
       "             'fmet_addition_at_START': 1,\n",
       "             'peptide_chain_release': 1,\n",
       "             'ribosome_recycler': 1,\n",
       "             'Translation_initiation_factor_InfC': 1,\n",
       "             'peptide_deformylase_processing': 1})"
      ]
     },
     "execution_count": 15,
     "metadata": {},
     "output_type": "execute_result"
    }
   ],
   "source": [
    "me.process_data.get_by_id('MaSp1').subreactions"
   ]
  },
  {
   "cell_type": "markdown",
   "metadata": {},
   "source": [
    "List the subreactions generated from the nucleatide sequence that are stored in the ProcessData."
   ]
  },
  {
   "cell_type": "code",
   "execution_count": 16,
   "metadata": {
    "scrolled": true
   },
   "outputs": [
    {
     "data": {
      "text/plain": [
       "{'thr_addition_at_ACC': 1,\n",
       " 'gly_addition_at_GGU': 328,\n",
       " 'ala_addition_at_GCA': 160,\n",
       " 'gln_addition_at_CAG': 48,\n",
       " 'tyr_addition_at_UAU': 28,\n",
       " 'leu_addition_at_CUG': 28,\n",
       " 'ser_addition_at_AGC': 8,\n",
       " 'ala_addition_at_GCC': 52,\n",
       " 'arg_addition_at_CGU': 16,\n",
       " 'gly_addition_at_GGA': 105,\n",
       " 'gln_addition_at_CAA': 76,\n",
       " 'ala_addition_at_GCU': 120,\n",
       " 'gly_addition_at_GGC': 144,\n",
       " 'ser_addition_at_UCA': 12,\n",
       " 'leu_addition_at_UUA': 24,\n",
       " 'ala_addition_at_GCG': 72,\n",
       " 'tyr_addition_at_UAC': 16,\n",
       " 'leu_addition_at_CUU': 16,\n",
       " 'ser_addition_at_AGU': 4,\n",
       " 'arg_addition_at_CGC': 8,\n",
       " 'gly_addition_at_GGG': 56,\n",
       " 'ser_addition_at_UCU': 8,\n",
       " 'arg_addition_at_CGG': 8,\n",
       " 'ser_addition_at_UCC': 12,\n",
       " 'ser_addition_at_UCG': 4,\n",
       " 'leu_addition_at_UUG': 12,\n",
       " 'arg_addition_at_AGA': 4}"
      ]
     },
     "execution_count": 16,
     "metadata": {},
     "output_type": "execute_result"
    }
   ],
   "source": [
    "me.process_data.get_by_id('MaSp1').subreactions_from_sequence"
   ]
  },
  {
   "cell_type": "markdown",
   "metadata": {},
   "source": [
    "### Updating the MaSp1 translation reaction"
   ]
  },
  {
   "cell_type": "code",
   "execution_count": 17,
   "metadata": {},
   "outputs": [
    {
     "name": "stdout",
     "output_type": "stream",
     "text": [
      "Before adding tRNA subreaction\n",
      "------------------------------\n",
      "0.000498399634202103*mu + 0.000195123456790123 + 0.00598079561042524*(mu + 0.3915)/mu RNA_MaSp1 + 2.55589556001079e-8*mu + 1.00063311174422e-8 RNA_degradosome + 404 ala__L_c + 36 arg__L_c + 6.15274348422497*(mu + 0.3915)/mu atp_c + 124 gln__L_c + 634 gly_c + 80 leu__L_c + 7.80531286041284*(mu + 0.3915)/mu mRNA_biomass + met__L_c + 0.019669844765619*mu + 0.00770074422573985 ribosome + 48 ser__L_c + thr__L_c + 44 tyr__L_c --> 6.15274348422497*(mu + 0.3915)/mu adp_c + 4.2882304526749*(mu + 0.3915)/mu amp_c + 11.6625514403292*(mu + 0.3915)/mu cmp_c + 5.27506172839506*(mu + 0.3915)/mu gmp_c + 1371.0 - 6.15274348422497*(mu + 0.3915)/mu h2o_c + 6.15274348422497*(mu + 0.3915)/mu h_c + 6.15274348422497*(mu + 0.3915)/mu pi_c + protein_MaSp1 + 107.09526234 protein_biomass + 3.39111111111111*(mu + 0.3915)/mu ump_c\n",
      "\n",
      "After adding tRNA subreaction\n",
      "-----------------------------\n",
      "10fthf_c + 2.72438972852433e-7*mu Def_mono_mod_1:fe2 + 1.80324164444648e-7*mu Fmt_mono_mod_mg2_mod_k + 0.00585897435897436*mu FusA_mono + 4.27350427350427e-6*mu InfA_mono + 4.45382843794892e-6*mu InfB_mono + 4.27350427350427e-6*mu InfC_mono + 4.27350427350427e-6*mu PrfC_mono + 0.000498399634202103*mu + 0.000195123456790123 + 0.00598079561042524*(mu + 0.3915)/mu RNA_MaSp1 + 2.55589556001079e-8*mu + 1.00063311174422e-8 RNA_degradosome + 2.62130898398882e-7*mu Rrf_mono + 0.00585897435897436*mu Tsf_mono + 404 ala__L_c + 36 arg__L_c + 1370.0 + 6.15274348422497*(mu + 0.3915)/mu atp_c + 0.00585470085470085*mu generic_Tuf + generic_tRNA_ACC_thr__L_c + 4.0 generic_tRNA_AGA_arg__L_c + 8.0 generic_tRNA_AGC_ser__L_c + 4.0 generic_tRNA_AGU_ser__L_c + 76.0 generic_tRNA_CAA_gln__L_c + 48.0 generic_tRNA_CAG_gln__L_c + 8.0 generic_tRNA_CGC_arg__L_c + 8.0 generic_tRNA_CGG_arg__L_c + 16.0 generic_tRNA_CGU_arg__L_c + 28.0 generic_tRNA_CUG_leu__L_c + 16.0 generic_tRNA_CUU_leu__L_c + 160.0 generic_tRNA_GCA_ala__L_c + 52.0 generic_tRNA_GCC_ala__L_c + 72.0 generic_tRNA_GCG_ala__L_c + 120.0 generic_tRNA_GCU_ala__L_c + 105.0 generic_tRNA_GGA_gly_c + 144.0 generic_tRNA_GGC_gly_c + 56.0 generic_tRNA_GGG_gly_c + 328.0 generic_tRNA_GGU_gly_c + generic_tRNA_START_met__L_c + 16.0 generic_tRNA_UAC_tyr__L_c + 28.0 generic_tRNA_UAU_tyr__L_c + 12.0 generic_tRNA_UCA_ser__L_c + 12.0 generic_tRNA_UCC_ser__L_c + 4.0 generic_tRNA_UCG_ser__L_c + 8.0 generic_tRNA_UCU_ser__L_c + 24.0 generic_tRNA_UUA_leu__L_c + 12.0 generic_tRNA_UUG_leu__L_c + 124 gln__L_c + 634 gly_c + 2743.0 gtp_c + 2743.0 + 6.15274348422497*(mu + 0.3915)/mu h2o_c + 80 leu__L_c + 7.80531286041284*(mu + 0.3915)/mu mRNA_biomass + met__L_c + 0.019669844765619*mu + 0.00770074422573985 ribosome + 48 ser__L_c + thr__L_c + 44 tyr__L_c --> 6.15274348422497*(mu + 0.3915)/mu adp_c + 1370.0 + 4.2882304526749*(mu + 0.3915)/mu amp_c + 11.6625514403292*(mu + 0.3915)/mu cmp_c + for_c + 2743.0 gdp_c + 5.27506172839506*(mu + 0.3915)/mu gmp_c + 4113.0 + 6.15274348422497*(mu + 0.3915)/mu h_c + 2743.0 + 6.15274348422497*(mu + 0.3915)/mu pi_c + 1370.0 ppi_c + protein_MaSp1 + 107.09627028 protein_biomass + thf_c + 3.39111111111111*(mu + 0.3915)/mu ump_c\n"
     ]
    }
   ],
   "source": [
    "translation_subreactions = me.process_data.MaSp1.subreactions_from_sequence\n",
    "print(\"Before adding tRNA subreaction\")\n",
    "print(\"------------------------------\")\n",
    "print(me.reactions.translation_MaSp1.reaction)\n",
    "print(\"\")\n",
    "# Link tranlation_data to subreactions and update\n",
    "for subreaction, value in translation_subreactions.items():\n",
    "    me.process_data.MaSp1.subreactions[subreaction] = value\n",
    "me.reactions.translation_MaSp1.update(verbose=False)\n",
    "print(\"After adding tRNA subreaction\")\n",
    "print(\"-----------------------------\")\n",
    "print(me.reactions.translation_MaSp1.reaction)"
   ]
  },
  {
   "cell_type": "markdown",
   "metadata": {},
   "source": [
    "List the reactants associated with the MaSp1 translation reaction. In this list all the subreactions should be listed."
   ]
  },
  {
   "cell_type": "code",
   "execution_count": 18,
   "metadata": {
    "scrolled": true
   },
   "outputs": [
    {
     "data": {
      "text/plain": [
       "[<Metabolite met__L_c at 0x7efedf6d49b0>,\n",
       " <Metabolite h2o_c at 0x7efee03d2a58>,\n",
       " <Metabolite thr__L_c at 0x7efedf6d4e48>,\n",
       " <Metabolite gly_c at 0x7efedf6d4d30>,\n",
       " <Metabolite ala__L_c at 0x7efedf6d4f98>,\n",
       " <Metabolite gln__L_c at 0x7efedf6e12b0>,\n",
       " <Metabolite tyr__L_c at 0x7efedf6e14a8>,\n",
       " <Metabolite leu__L_c at 0x7efedf6d4b70>,\n",
       " <Metabolite ser__L_c at 0x7efedf6d4ef0>,\n",
       " <Metabolite arg__L_c at 0x7efedf6d4ac8>,\n",
       " <Ribosome ribosome at 0x7efedf6e1588>,\n",
       " <TranscribedGene RNA_MaSp1 at 0x7efee04fd550>,\n",
       " <Metabolite atp_c at 0x7efee03d29b0>,\n",
       " <Complex RNA_degradosome at 0x7efee03fa400>,\n",
       " <Complex FusA_mono at 0x7efedf6fac50>,\n",
       " <Metabolite gtp_c at 0x7efee03d2fd0>,\n",
       " <Complex Tsf_mono at 0x7efedf6fac88>,\n",
       " <GenericComponent generic_Tuf at 0x7efedf6e1a90>,\n",
       " <GenerictRNA generic_tRNA_ACC_thr__L_c at 0x7efedf6f0710>,\n",
       " <GenerictRNA generic_tRNA_GGU_gly_c at 0x7efedf6e1f98>,\n",
       " <GenerictRNA generic_tRNA_GCA_ala__L_c at 0x7efedf6f00f0>,\n",
       " <GenerictRNA generic_tRNA_CAG_gln__L_c at 0x7efedf6f0630>,\n",
       " <GenerictRNA generic_tRNA_UAU_tyr__L_c at 0x7efedf6fa4e0>,\n",
       " <GenerictRNA generic_tRNA_CUG_leu__L_c at 0x7efedf6f0320>,\n",
       " <GenerictRNA generic_tRNA_AGC_ser__L_c at 0x7efedf6f0550>,\n",
       " <GenerictRNA generic_tRNA_GCC_ala__L_c at 0x7efedf6f0400>,\n",
       " <GenerictRNA generic_tRNA_CGU_arg__L_c at 0x7efedf6f0240>,\n",
       " <GenerictRNA generic_tRNA_GGA_gly_c at 0x7efedf6f0d30>,\n",
       " <GenerictRNA generic_tRNA_CAA_gln__L_c at 0x7efedf6f0e48>,\n",
       " <GenerictRNA generic_tRNA_GCU_ala__L_c at 0x7efedf6f0b70>,\n",
       " <GenerictRNA generic_tRNA_GGC_gly_c at 0x7efedf6e1ef0>,\n",
       " <GenerictRNA generic_tRNA_UCA_ser__L_c at 0x7efedf6f0080>,\n",
       " <GenerictRNA generic_tRNA_UUA_leu__L_c at 0x7efedf6f0be0>,\n",
       " <GenerictRNA generic_tRNA_GCG_ala__L_c at 0x7efedf6f0b00>,\n",
       " <GenerictRNA generic_tRNA_UAC_tyr__L_c at 0x7efedf6fa2b0>,\n",
       " <GenerictRNA generic_tRNA_CUU_leu__L_c at 0x7efedf6f0c50>,\n",
       " <GenerictRNA generic_tRNA_AGU_ser__L_c at 0x7efedf6f0fd0>,\n",
       " <GenerictRNA generic_tRNA_CGC_arg__L_c at 0x7efedf6fa240>,\n",
       " <GenerictRNA generic_tRNA_GGG_gly_c at 0x7efedf6f06a0>,\n",
       " <GenerictRNA generic_tRNA_UCU_ser__L_c at 0x7efedf6f0860>,\n",
       " <GenerictRNA generic_tRNA_CGG_arg__L_c at 0x7efedf6fa630>,\n",
       " <GenerictRNA generic_tRNA_UCC_ser__L_c at 0x7efedf6fa358>,\n",
       " <GenerictRNA generic_tRNA_UCG_ser__L_c at 0x7efedf6fa160>,\n",
       " <GenerictRNA generic_tRNA_UUG_leu__L_c at 0x7efedf6e1da0>,\n",
       " <GenerictRNA generic_tRNA_AGA_arg__L_c at 0x7efedf6bf2b0>,\n",
       " <Complex InfB_mono at 0x7efedf6fa7f0>,\n",
       " <Complex InfA_mono at 0x7efedf6faac8>,\n",
       " <Complex Fmt_mono_mod_mg2_mod_k at 0x7efedf6fa8d0>,\n",
       " <Metabolite 10fthf_c at 0x7efedf6fa978>,\n",
       " <GenerictRNA generic_tRNA_START_met__L_c at 0x7efedf6faa90>,\n",
       " <Complex PrfC_mono at 0x7efedf6fafd0>,\n",
       " <Complex Rrf_mono at 0x7efedf6fad68>,\n",
       " <Complex InfC_mono at 0x7efedf6fab70>,\n",
       " <Complex Def_mono_mod_1:fe2 at 0x7efedf6fada0>,\n",
       " <Constraint mRNA_biomass at 0x7efee04f1160>]"
      ]
     },
     "execution_count": 18,
     "metadata": {},
     "output_type": "execute_result"
    }
   ],
   "source": [
    "me.reactions.translation_MaSp1.reactants"
   ]
  },
  {
   "cell_type": "markdown",
   "metadata": {},
   "source": [
    "This completes the creation of the translation reaction"
   ]
  },
  {
   "cell_type": "markdown",
   "metadata": {},
   "source": [
    "## 6. Create Demand Reaction for MaSp1"
   ]
  },
  {
   "cell_type": "code",
   "execution_count": 19,
   "metadata": {},
   "outputs": [],
   "source": [
    "new_reaction = cobrame.MEReaction('DM_protein_MaSp1')\n",
    "me.add_reaction(new_reaction)"
   ]
  },
  {
   "cell_type": "code",
   "execution_count": 20,
   "metadata": {},
   "outputs": [
    {
     "data": {
      "text/plain": [
       "'protein_MaSp1 --> '"
      ]
     },
     "execution_count": 20,
     "metadata": {},
     "output_type": "execute_result"
    }
   ],
   "source": [
    "me.reactions.get_by_id('DM_protein_MaSp1').reaction = 'protein_MaSp1 ->'\n",
    "me.reactions.get_by_id('DM_protein_MaSp1').reaction"
   ]
  },
  {
   "cell_type": "code",
   "execution_count": 21,
   "metadata": {},
   "outputs": [
    {
     "data": {
      "text/html": [
       "<div>\n",
       "<style scoped>\n",
       "    .dataframe tbody tr th:only-of-type {\n",
       "        vertical-align: middle;\n",
       "    }\n",
       "\n",
       "    .dataframe tbody tr th {\n",
       "        vertical-align: top;\n",
       "    }\n",
       "\n",
       "    .dataframe thead th {\n",
       "        text-align: right;\n",
       "    }\n",
       "</style>\n",
       "<table border=\"1\" class=\"dataframe\">\n",
       "  <thead>\n",
       "    <tr style=\"text-align: right;\">\n",
       "      <th></th>\n",
       "      <th>Attribute Values</th>\n",
       "    </tr>\n",
       "  </thead>\n",
       "  <tbody>\n",
       "    <tr>\n",
       "      <th>id</th>\n",
       "      <td>DM_protein_MaSp1</td>\n",
       "    </tr>\n",
       "    <tr>\n",
       "      <th>name</th>\n",
       "      <td></td>\n",
       "    </tr>\n",
       "    <tr>\n",
       "      <th>notes</th>\n",
       "      <td>{}</td>\n",
       "    </tr>\n",
       "    <tr>\n",
       "      <th>annotation</th>\n",
       "      <td>{}</td>\n",
       "    </tr>\n",
       "    <tr>\n",
       "      <th>_gene_reaction_rule</th>\n",
       "      <td></td>\n",
       "    </tr>\n",
       "    <tr>\n",
       "      <th>subsystem</th>\n",
       "      <td></td>\n",
       "    </tr>\n",
       "    <tr>\n",
       "      <th>_genes</th>\n",
       "      <td>set()</td>\n",
       "    </tr>\n",
       "    <tr>\n",
       "      <th>_metabolites</th>\n",
       "      <td>{&lt;TranslatedGene protein_MaSp1 at 0x7efee04c5da0&gt;: -1}</td>\n",
       "    </tr>\n",
       "    <tr>\n",
       "      <th>_model</th>\n",
       "      <td>iJL1678b-ME</td>\n",
       "    </tr>\n",
       "    <tr>\n",
       "      <th>_objective_coefficient</th>\n",
       "      <td>0.0</td>\n",
       "    </tr>\n",
       "    <tr>\n",
       "      <th>upper_bound</th>\n",
       "      <td>1000</td>\n",
       "    </tr>\n",
       "    <tr>\n",
       "      <th>lower_bound</th>\n",
       "      <td>0</td>\n",
       "    </tr>\n",
       "    <tr>\n",
       "      <th>variable_kind</th>\n",
       "      <td>continuous</td>\n",
       "    </tr>\n",
       "  </tbody>\n",
       "</table>\n",
       "</div>"
      ],
      "text/plain": [
       "                                                              Attribute Values\n",
       "id                                                            DM_protein_MaSp1\n",
       "name                                                                          \n",
       "notes                                                                       {}\n",
       "annotation                                                                  {}\n",
       "_gene_reaction_rule                                                           \n",
       "subsystem                                                                     \n",
       "_genes                                                                   set()\n",
       "_metabolites            {<TranslatedGene protein_MaSp1 at 0x7efee04c5da0>: -1}\n",
       "_model                                                             iJL1678b-ME\n",
       "_objective_coefficient                                                     0.0\n",
       "upper_bound                                                               1000\n",
       "lower_bound                                                                  0\n",
       "variable_kind                                                       continuous"
      ]
     },
     "execution_count": 21,
     "metadata": {},
     "output_type": "execute_result"
    }
   ],
   "source": [
    "rxn = me.reactions.DM_protein_MaSp1\n",
    "data = rxn\n",
    "pd.DataFrame({i: str(v) for i, v in data.__dict__.items()}, index=['Attribute Values']).T"
   ]
  },
  {
   "cell_type": "markdown",
   "metadata": {},
   "source": [
    "### Find the amino acid count"
   ]
  },
  {
   "cell_type": "code",
   "execution_count": 22,
   "metadata": {},
   "outputs": [
    {
     "data": {
      "text/plain": [
       "defaultdict(int,\n",
       "            {'met__L_c': 1,\n",
       "             'thr__L_c': 1,\n",
       "             'gly_c': 634,\n",
       "             'ala__L_c': 404,\n",
       "             'gln__L_c': 124,\n",
       "             'tyr__L_c': 44,\n",
       "             'leu__L_c': 80,\n",
       "             'ser__L_c': 48,\n",
       "             'arg__L_c': 36})"
      ]
     },
     "execution_count": 22,
     "metadata": {},
     "output_type": "execute_result"
    }
   ],
   "source": [
    "me.process_data.MaSp1.amino_acid_count"
   ]
  },
  {
   "cell_type": "code",
   "execution_count": 23,
   "metadata": {},
   "outputs": [],
   "source": [
    "import pickle\n",
    "with open('iJL1678b_pET19K_MaSp1_4.pickle', 'wb') as f:\n",
    "    pickle.dump(me, f)"
   ]
  },
  {
   "cell_type": "code",
   "execution_count": 24,
   "metadata": {},
   "outputs": [],
   "source": [
    "with open('iJL1678b_pET19K_MaSp1_4.pickle', 'rb') as f:\n",
    "    test_me = pickle.load(f)"
   ]
  },
  {
   "cell_type": "code",
   "execution_count": 25,
   "metadata": {},
   "outputs": [
    {
     "data": {
      "text/plain": [
       "<MEModel iJL1678b-ME at 0x7efed9803470>"
      ]
     },
     "execution_count": 25,
     "metadata": {},
     "output_type": "execute_result"
    }
   ],
   "source": [
    "test_me"
   ]
  },
  {
   "cell_type": "code",
   "execution_count": 27,
   "metadata": {
    "scrolled": true
   },
   "outputs": [
    {
     "data": {
      "text/plain": [
       "['__add__',\n",
       " '__class__',\n",
       " '__delattr__',\n",
       " '__dict__',\n",
       " '__dir__',\n",
       " '__doc__',\n",
       " '__eq__',\n",
       " '__format__',\n",
       " '__ge__',\n",
       " '__getattribute__',\n",
       " '__getstate__',\n",
       " '__gt__',\n",
       " '__hash__',\n",
       " '__iadd__',\n",
       " '__init__',\n",
       " '__init_subclass__',\n",
       " '__le__',\n",
       " '__lt__',\n",
       " '__module__',\n",
       " '__ne__',\n",
       " '__new__',\n",
       " '__reduce__',\n",
       " '__reduce_ex__',\n",
       " '__repr__',\n",
       " '__setattr__',\n",
       " '__setstate__',\n",
       " '__sizeof__',\n",
       " '__str__',\n",
       " '__subclasshook__',\n",
       " '__weakref__',\n",
       " '_biomass',\n",
       " '_biomass_dilution',\n",
       " '_gam',\n",
       " '_ngam',\n",
       " '_trimmed',\n",
       " '_trimmed_genes',\n",
       " '_trimmed_reactions',\n",
       " '_unmodeled_protein_fraction',\n",
       " 'add_biomass_constraints_to_model',\n",
       " 'add_metabolites',\n",
       " 'add_reaction',\n",
       " 'add_reactions',\n",
       " 'annotation',\n",
       " 'change_objective',\n",
       " 'compartments',\n",
       " 'complex_data',\n",
       " 'compute_solution_error',\n",
       " 'construct_attribute_vector',\n",
       " 'construct_s_matrix',\n",
       " 'copy',\n",
       " 'description',\n",
       " 'gam',\n",
       " 'generic_data',\n",
       " 'genes',\n",
       " 'get_metabolic_flux',\n",
       " 'get_transcription_flux',\n",
       " 'get_translation_flux',\n",
       " 'global_info',\n",
       " 'id',\n",
       " 'media_compositions',\n",
       " 'metabolites',\n",
       " 'name',\n",
       " 'ngam',\n",
       " 'notes',\n",
       " 'objective',\n",
       " 'optimize',\n",
       " 'posttranslation_data',\n",
       " 'process_data',\n",
       " 'prune',\n",
       " 'reactions',\n",
       " 'remove_genes_from_model',\n",
       " 'remove_reactions',\n",
       " 'repair',\n",
       " 'set_sasa_keffs',\n",
       " 'solution',\n",
       " 'stoichiometric_data',\n",
       " 'subreaction_data',\n",
       " 'summary',\n",
       " 'tRNA_data',\n",
       " 'to_array_based_model',\n",
       " 'transcription_data',\n",
       " 'translation_data',\n",
       " 'translocation_data',\n",
       " 'unmodeled_protein',\n",
       " 'unmodeled_protein_biomass',\n",
       " 'unmodeled_protein_fraction',\n",
       " 'update']"
      ]
     },
     "execution_count": 27,
     "metadata": {},
     "output_type": "execute_result"
    }
   ],
   "source": [
    "dir(test_me)"
   ]
  },
  {
   "cell_type": "code",
   "execution_count": 28,
   "metadata": {},
   "outputs": [
    {
     "data": {
      "text/plain": [
       "{'kt': 4.5,\n",
       " 'r0': 0.087,\n",
       " 'k_deg': 12.0,\n",
       " 'm_rr': 1453.0,\n",
       " 'm_aa': 0.109,\n",
       " 'f_rRNA': 0.86,\n",
       " 'm_nt': 0.324,\n",
       " 'f_mRNA': 0.02,\n",
       " 'm_tRNA': 25.0,\n",
       " 'f_tRNA': 0.12,\n",
       " 'temperature': 37,\n",
       " 'propensity_scaling': 0.45,\n",
       " 'GC_fraction': 0.507896997096}"
      ]
     },
     "execution_count": 28,
     "metadata": {},
     "output_type": "execute_result"
    }
   ],
   "source": [
    "test_me.global_info"
   ]
  },
  {
   "cell_type": "code",
   "execution_count": null,
   "metadata": {},
   "outputs": [],
   "source": []
  }
 ],
 "metadata": {
  "kernelspec": {
   "display_name": "Python 3",
   "language": "python",
   "name": "python3"
  },
  "language_info": {
   "codemirror_mode": {
    "name": "ipython",
    "version": 3
   },
   "file_extension": ".py",
   "mimetype": "text/x-python",
   "name": "python",
   "nbconvert_exporter": "python",
   "pygments_lexer": "ipython3",
   "version": "3.6.1"
  }
 },
 "nbformat": 4,
 "nbformat_minor": 2
}
