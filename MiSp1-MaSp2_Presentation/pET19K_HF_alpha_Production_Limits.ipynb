{
 "cells": [
  {
   "cell_type": "markdown",
   "metadata": {},
   "source": [
    "# pET19K HF alpha (Hagfish Alpha) Protein Production Limits"
   ]
  },
  {
   "cell_type": "markdown",
   "metadata": {},
   "source": [
    "## 1. Load the python packages"
   ]
  },
  {
   "cell_type": "code",
   "execution_count": 1,
   "metadata": {},
   "outputs": [
    {
     "name": "stderr",
     "output_type": "stream",
     "text": [
      "/usr/lib/python3.6/site-packages/cobra-0.5.11-py3.6-linux-x86_64.egg/cobra/solvers/__init__.py:63: UserWarning: No LP solvers found\n",
      "  warn(\"No LP solvers found\")\n",
      "/usr/lib/python3.6/site-packages/cobra-0.5.11-py3.6-linux-x86_64.egg/cobra/io/sbml3.py:24: UserWarning: Install lxml for faster SBML I/O\n",
      "  warn(\"Install lxml for faster SBML I/O\")\n",
      "/usr/lib/python3.6/site-packages/cobra-0.5.11-py3.6-linux-x86_64.egg/cobra/io/__init__.py:12: UserWarning: cobra.io.sbml requires libsbml\n",
      "  warn(\"cobra.io.sbml requires libsbml\")\n"
     ]
    }
   ],
   "source": [
    "from __future__ import print_function, division, absolute_import\n",
    "\n",
    "# python imports\n",
    "import re\n",
    "from os.path import join\n",
    "from collections import defaultdict\n",
    "import pickle\n",
    "import pandas as pd\n",
    "\n",
    "# third party imports\n",
    "import pandas\n",
    "import tabulate\n",
    "import cobra\n",
    "pd.set_option('display.max_columns', 100)\n",
    "pd.set_option('display.width',100)\n",
    "pd.set_option('display.max_colwidth',300)\n",
    "\n",
    "# ECOLIme\n",
    "import ecolime\n",
    "from ecolime import (transcription, translation, flat_files, generics, formulas, compartments)\n",
    "\n",
    "# COBRAme\n",
    "import cobrame\n",
    "from cobrame.util import building, mu, me_model_interface\n",
    "#from cobrame.io.json import save_json_me_model, save_reduced_json_me_model"
   ]
  },
  {
   "cell_type": "markdown",
   "metadata": {},
   "source": [
    "## 2. Load the iJL1678b model\n",
    "\n",
    "Load the iJL1678b model in pickle format that is located in the current directory."
   ]
  },
  {
   "cell_type": "code",
   "execution_count": 2,
   "metadata": {},
   "outputs": [],
   "source": [
    "with open('iJL1678b.pickle', 'rb') as f:\n",
    "    me = pickle.load(f)"
   ]
  },
  {
   "cell_type": "markdown",
   "metadata": {},
   "source": [
    "## 3. Define ME-Model Solve Functions"
   ]
  },
  {
   "cell_type": "code",
   "execution_count": 3,
   "metadata": {},
   "outputs": [],
   "source": [
    "def solve_me_model(me, max_mu, precision=1e-6, min_mu=0, using_soplex=False,\n",
    "                  compiled_expressions=None):\n",
    "    if using_soplex:\n",
    "        from cobrame.solve.algorithms import binary_search\n",
    "        binary_search(me, min_mu=min_mu, max_mu=max_mu, debug=True, mu_accuracy=precision,\n",
    "                      compiled_expressions=compiled_expressions)\n",
    "    else:\n",
    "        from qminospy.me1 import ME_NLP1\n",
    "        # The object containing solveME methods--composite that uses a ME model object \n",
    "        me_nlp = ME_NLP1(me, growth_key='mu')\n",
    "        # Use bisection for now (until the NLP formulation is worked out)\n",
    "        muopt, hs, xopt, cache = me_nlp.bisectmu(precision=precision, mumax=max_mu)\n",
    "        me.solution.f = me.solution.x_dict['biomass_dilution']\n",
    "        \n",
    "def show_escher_map(me, solution=None):\n",
    "    import escher\n",
    "    view = escher.Builder(\"iJO1366.Central metabolism\")\n",
    "    view.reaction_data = me.get_metabolic_flux(solution=solution)\n",
    "    return view"
   ]
  },
  {
   "cell_type": "markdown",
   "metadata": {},
   "source": [
    "## 4. Create the Alpha Transcription Reaction\n",
    "\n",
    "Complete the steps necessary to create the Alpha Transcription Reaction"
   ]
  },
  {
   "cell_type": "code",
   "execution_count": 4,
   "metadata": {},
   "outputs": [
    {
     "name": "stdout",
     "output_type": "stream",
     "text": [
      "469 atp_c + 549 ctp_c + 411 gtp_c + 500 utp_c --> RNA_Alpha + 614.960167029 mRNA_biomass + 1929 ppi_c\n"
     ]
    },
    {
     "name": "stderr",
     "output_type": "stream",
     "text": [
      "/source/cobrame/cobrame/core/reaction.py:852 \u001b[1;31mUserWarning\u001b[0m: RNA Polymerase () not found\n"
     ]
    }
   ],
   "source": [
    "locus_id = 'Alpha'\n",
    "left_pos =  None\n",
    "right_pos = None\n",
    "seq = 'ATGAGCATCAGCCAGACCGTTAGCAAAAGCTATACCAAAAGCGTTAGCCGTGGTGGTCAGGGTGTTAGCTATAGCCAGAGCAGCAGCCATAAAGTTGGTGGTGGTAGCGTTCGTTATGGCACCACCTATAGCAGCGGTGGTATTAGCCGTGTTCTGGGTTTTCAAGGTGGTGCAGGCGGTGCAGCAAGCGCAGGTTTTGGTGGTAGTGTTGGTGGTTCAGGTCTGAGCCGTGTGTTAGGTGGTAGCATGGTTAGCGGTTATCGTAGCGGTATGGGTGTTGGCGGTCTGAGTCTGAGCGGCACCGCAGGTCTGCCGGTTAGCCTGCGTGGTGTTGGTGCAGGTAAAGCACTGCATGCAATTACCAGCGCATTTCGTACACGCGTTGGTGGTCCGGGTACAAGCGTTGGCGGTTATGGTGTGAATTATAGCTTTCTGCCGAGCACAGCAGGTCCGAGCTTTGGTGGCCCTTTTGGCGGTCCGTTTGGAGGTCCTTTTGGTGGACCATTAGGTCCGGGTTATATTGATCCGGCAACACTGCCGAGTCCGGATACCGTTCAGCATACCCGTATTCGTGAAAAACAGGATCTGCAGACACTGAATACCAAATTTGCCAATCTGGTTGATCAGGTTCGTACCCTGGAACAGCATAATGCAATTCTGAAAGCACAGATTAGCATGATTACCAGTCCGAGCGATACACCGGAAGGTCCGGTTAATACCGCAGTTGTTGCAAGCACCGTTACCGCAACCTATAATGCACAGATTGAAGATCTGCGTACCACCAATACCGCACTGCATAGCGAAATTGATCATCTGACAACCATCATCAACGACATCACCACCAAATATGAAGAACAGGTTGAAGTTACCCGTACACTGGAAACCGATTGGAATACCAACAAAGATAACATCGATAACACCTACCTGACCATTGTTGATCTGCAAACCAAAGTTCAAGGTCTGGATGAGCAGATTAATACCACAAAGCAGATTTATAACGCACGTGTTCGTGAAGTTCAGGCAGCAGTTACCGGTGGTCCGACCGCAGCATATAGCATTCGTGTTGATAATACCCATCAGGCCATTGATCTGACCACCTCACTGCAAGAAATGAAAACACATTATGAAGTGCTGGCAACCAAAAGCCGTGAAGAAGCATTTACCCAGGTTCAGCCTCGTATTCAAGAAATGGCAGTGACCGTGCAGGCAGGTCCGCAGGCAATTATTCAGGCAAAAGAACAAATCCACGTGTTCAAACTGCAGATTGATAGCGTTCATCGTGAAATCGATCGTCTGCATCGTAAAAATACCGATGTGGAACGTGAAATTACCGTGATCGAAACCAATATTCATACCCAGAGTGATGAATGGACCAACAATATTAACAGCCTGAAAGTTGATCTGGAAGTGATCAAAAAGCAGATCACCCAGTATGCACGTGATTATCAAGATCTGCTGGCCACAAAAATGAGCCTGGATGTTGAAATTGCAGCCTACAAAAAACTGCTGGATAGCGAAGAAACCCGTATTAGTCATGGTGGTGGCATTACCATTACAACCAATGCAGGCACCTTTCCTGGTGGTCTGAGCGCAGCCCCAGGTGGTGGTGCAAGCTATGCAATGGTTCCGGCAGGCGTTGGAGGTGTTGGTCTGGCAGGCGTAGGTGGTTATGGTTTTCGTAGCATGGGTGGCGGTGGTGGCGTTGGCTATGGTGCCGGTGGCGGAGGTGTAGGTTATGGCGTCGGTGGTGGTTTTGGAGGTGGTATGGGTATGAGCATGAGCCGTATGAGTATGGGTGCAGCAGTTGGCGGTGGCAGCTATGGTAGCGGCAGCGGTTATAGCGGTGGCTTTGGTCTGAGTAGCAGCCGTGCAGGTTATAGTGCAAGCCGTAAAAGCTATTCAAGCGCACGTAGCAGCAGTCGTATCTAT'\n",
    "strand = None\n",
    "rna_type = 'mRNA'\n",
    "\n",
    "building.create_transcribed_gene(me, locus_id, rna_type, seq)\n",
    "building.add_transcription_reaction(me, 'TU_Alpha', {'Alpha'}, seq)\n",
    "print(me.reactions.transcription_TU_Alpha.reaction)\n",
    "me.reactions.transcription_TU_Alpha.update()"
   ]
  },
  {
   "cell_type": "markdown",
   "metadata": {},
   "source": [
    "###  Add the RNAP to the Alpha Transcription Reaction"
   ]
  },
  {
   "cell_type": "code",
   "execution_count": 5,
   "metadata": {},
   "outputs": [],
   "source": [
    "me.reactions.transcription_TU_Alpha.transcription_data.RNA_polymerase = 'RNAP70-CPLX'\n",
    "me.reactions.transcription_TU_Alpha.update()"
   ]
  },
  {
   "cell_type": "markdown",
   "metadata": {},
   "source": [
    "List the transcription data (\"transcription_data\") associated with the Alpha transcription reaction (\"transcription_TU_Alpha\")."
   ]
  },
  {
   "cell_type": "code",
   "execution_count": 6,
   "metadata": {},
   "outputs": [
    {
     "data": {
      "text/html": [
       "<div>\n",
       "<style scoped>\n",
       "    .dataframe tbody tr th:only-of-type {\n",
       "        vertical-align: middle;\n",
       "    }\n",
       "\n",
       "    .dataframe tbody tr th {\n",
       "        vertical-align: top;\n",
       "    }\n",
       "\n",
       "    .dataframe thead th {\n",
       "        text-align: right;\n",
       "    }\n",
       "</style>\n",
       "<table border=\"1\" class=\"dataframe\">\n",
       "  <thead>\n",
       "    <tr style=\"text-align: right;\">\n",
       "      <th></th>\n",
       "      <th>Attribute Values</th>\n",
       "    </tr>\n",
       "  </thead>\n",
       "  <tbody>\n",
       "    <tr>\n",
       "      <th>id</th>\n",
       "      <td>TU_Alpha</td>\n",
       "    </tr>\n",
       "    <tr>\n",
       "      <th>_model</th>\n",
       "      <td>iJL1678b-ME</td>\n",
       "    </tr>\n",
       "    <tr>\n",
       "      <th>_parent_reactions</th>\n",
       "      <td>{'transcription_TU_Alpha'}</td>\n",
       "    </tr>\n",
       "    <tr>\n",
       "      <th>nucleotide_sequence</th>\n",
       "      <td>ATGAGCATCAGCCAGACCGTTAGCAAAAGCTATACCAAAAGCGTTAGCCGTGGTGGTCAGGGTGTTAGCTATAGCCAGAGCAGCAGCCATAAAGTTGGTGGTGGTAGCGTTCGTTATGGCACCACCTATAGCAGCGGTGGTATTAGCCGTGTTCTGGGTTTTCAAGGTGGTGCAGGCGGTGCAGCAAGCGCAGGTTTTGGTGGTAGTGTTGGTGGTTCAGGTCTGAGCCGTGTGTTAGGTGGTAGCATGGTTAGCGGTTATCGTAGCGGTATGGGTGTTGGCGGTCTGAGTCTGAG...</td>\n",
       "    </tr>\n",
       "    <tr>\n",
       "      <th>RNA_products</th>\n",
       "      <td>{'RNA_Alpha'}</td>\n",
       "    </tr>\n",
       "    <tr>\n",
       "      <th>RNA_polymerase</th>\n",
       "      <td>RNAP70-CPLX</td>\n",
       "    </tr>\n",
       "    <tr>\n",
       "      <th>subreactions</th>\n",
       "      <td>defaultdict(&lt;class 'int'&gt;, {})</td>\n",
       "    </tr>\n",
       "  </tbody>\n",
       "</table>\n",
       "</div>"
      ],
      "text/plain": [
       "                                                                                                                                                                                                                                                                                                                Attribute Values\n",
       "id                                                                                                                                                                                                                                                                                                                      TU_Alpha\n",
       "_model                                                                                                                                                                                                                                                                                                               iJL1678b-ME\n",
       "_parent_reactions                                                                                                                                                                                                                                                                                     {'transcription_TU_Alpha'}\n",
       "nucleotide_sequence  ATGAGCATCAGCCAGACCGTTAGCAAAAGCTATACCAAAAGCGTTAGCCGTGGTGGTCAGGGTGTTAGCTATAGCCAGAGCAGCAGCCATAAAGTTGGTGGTGGTAGCGTTCGTTATGGCACCACCTATAGCAGCGGTGGTATTAGCCGTGTTCTGGGTTTTCAAGGTGGTGCAGGCGGTGCAGCAAGCGCAGGTTTTGGTGGTAGTGTTGGTGGTTCAGGTCTGAGCCGTGTGTTAGGTGGTAGCATGGTTAGCGGTTATCGTAGCGGTATGGGTGTTGGCGGTCTGAGTCTGAG...\n",
       "RNA_products                                                                                                                                                                                                                                                                                                       {'RNA_Alpha'}\n",
       "RNA_polymerase                                                                                                                                                                                                                                                                                                       RNAP70-CPLX\n",
       "subreactions                                                                                                                                                                                                                                                                                      defaultdict(<class 'int'>, {})"
      ]
     },
     "execution_count": 6,
     "metadata": {},
     "output_type": "execute_result"
    }
   ],
   "source": [
    "rxn = me.reactions.transcription_TU_Alpha\n",
    "data = rxn.transcription_data\n",
    "pd.DataFrame({i: str(v) for i, v in data.__dict__.items()}, index=['Attribute Values']).T"
   ]
  },
  {
   "cell_type": "markdown",
   "metadata": {},
   "source": [
    "List the attributes of the Alpha transcription reaction."
   ]
  },
  {
   "cell_type": "code",
   "execution_count": 7,
   "metadata": {},
   "outputs": [
    {
     "data": {
      "text/html": [
       "<div>\n",
       "<style scoped>\n",
       "    .dataframe tbody tr th:only-of-type {\n",
       "        vertical-align: middle;\n",
       "    }\n",
       "\n",
       "    .dataframe tbody tr th {\n",
       "        vertical-align: top;\n",
       "    }\n",
       "\n",
       "    .dataframe thead th {\n",
       "        text-align: right;\n",
       "    }\n",
       "</style>\n",
       "<table border=\"1\" class=\"dataframe\">\n",
       "  <thead>\n",
       "    <tr style=\"text-align: right;\">\n",
       "      <th></th>\n",
       "      <th>Attribute Values</th>\n",
       "    </tr>\n",
       "  </thead>\n",
       "  <tbody>\n",
       "    <tr>\n",
       "      <th>id</th>\n",
       "      <td>transcription_TU_Alpha</td>\n",
       "    </tr>\n",
       "    <tr>\n",
       "      <th>name</th>\n",
       "      <td></td>\n",
       "    </tr>\n",
       "    <tr>\n",
       "      <th>notes</th>\n",
       "      <td>{}</td>\n",
       "    </tr>\n",
       "    <tr>\n",
       "      <th>annotation</th>\n",
       "      <td>{}</td>\n",
       "    </tr>\n",
       "    <tr>\n",
       "      <th>_gene_reaction_rule</th>\n",
       "      <td></td>\n",
       "    </tr>\n",
       "    <tr>\n",
       "      <th>subsystem</th>\n",
       "      <td></td>\n",
       "    </tr>\n",
       "    <tr>\n",
       "      <th>_genes</th>\n",
       "      <td>set()</td>\n",
       "    </tr>\n",
       "    <tr>\n",
       "      <th>_metabolites</th>\n",
       "      <td>{&lt;RNAP RNAP70-CPLX at 0x7f9897758390&gt;: -0.00921844765619026*mu - 0.00360902225739849, &lt;TranscribedGene RNA_Alpha at 0x7f9897884518&gt;: 1, &lt;Metabolite utp_c at 0x7f9897758e10&gt;: -500, &lt;Metabolite atp_c at 0x7f98977589b0&gt;: -469, &lt;Metabolite ctp_c at 0x7f9897758ef0&gt;: -549, &lt;Metabolite gtp_c at 0x7f989...</td>\n",
       "    </tr>\n",
       "    <tr>\n",
       "      <th>_model</th>\n",
       "      <td>iJL1678b-ME</td>\n",
       "    </tr>\n",
       "    <tr>\n",
       "      <th>_objective_coefficient</th>\n",
       "      <td>0.0</td>\n",
       "    </tr>\n",
       "    <tr>\n",
       "      <th>upper_bound</th>\n",
       "      <td>1000.0</td>\n",
       "    </tr>\n",
       "    <tr>\n",
       "      <th>lower_bound</th>\n",
       "      <td>0.0</td>\n",
       "    </tr>\n",
       "    <tr>\n",
       "      <th>variable_kind</th>\n",
       "      <td>continuous</td>\n",
       "    </tr>\n",
       "    <tr>\n",
       "      <th>_transcription_data</th>\n",
       "      <td>&lt;TranscriptionData TU_Alpha at 0x7f9897884128&gt;</td>\n",
       "    </tr>\n",
       "  </tbody>\n",
       "</table>\n",
       "</div>"
      ],
      "text/plain": [
       "                                                                                                                                                                                                                                                                                                                   Attribute Values\n",
       "id                                                                                                                                                                                                                                                                                                           transcription_TU_Alpha\n",
       "name                                                                                                                                                                                                                                                                                                                               \n",
       "notes                                                                                                                                                                                                                                                                                                                            {}\n",
       "annotation                                                                                                                                                                                                                                                                                                                       {}\n",
       "_gene_reaction_rule                                                                                                                                                                                                                                                                                                                \n",
       "subsystem                                                                                                                                                                                                                                                                                                                          \n",
       "_genes                                                                                                                                                                                                                                                                                                                        set()\n",
       "_metabolites            {<RNAP RNAP70-CPLX at 0x7f9897758390>: -0.00921844765619026*mu - 0.00360902225739849, <TranscribedGene RNA_Alpha at 0x7f9897884518>: 1, <Metabolite utp_c at 0x7f9897758e10>: -500, <Metabolite atp_c at 0x7f98977589b0>: -469, <Metabolite ctp_c at 0x7f9897758ef0>: -549, <Metabolite gtp_c at 0x7f989...\n",
       "_model                                                                                                                                                                                                                                                                                                                  iJL1678b-ME\n",
       "_objective_coefficient                                                                                                                                                                                                                                                                                                          0.0\n",
       "upper_bound                                                                                                                                                                                                                                                                                                                  1000.0\n",
       "lower_bound                                                                                                                                                                                                                                                                                                                     0.0\n",
       "variable_kind                                                                                                                                                                                                                                                                                                            continuous\n",
       "_transcription_data                                                                                                                                                                                                                                                                  <TranscriptionData TU_Alpha at 0x7f9897884128>"
      ]
     },
     "execution_count": 7,
     "metadata": {},
     "output_type": "execute_result"
    }
   ],
   "source": [
    "rxn = me.reactions.transcription_TU_Alpha\n",
    "data = rxn\n",
    "pd.DataFrame({i: str(v) for i, v in data.__dict__.items()}, index=['Attribute Values']).T"
   ]
  },
  {
   "cell_type": "markdown",
   "metadata": {},
   "source": [
    "List the complete reaction associated with the Alpha transcription reaction."
   ]
  },
  {
   "cell_type": "code",
   "execution_count": 8,
   "metadata": {},
   "outputs": [
    {
     "data": {
      "text/plain": [
       "'0.00921844765619026*mu + 0.00360902225739849 RNAP70-CPLX + 469 atp_c + 549 ctp_c + 411 gtp_c + 500 utp_c --> RNA_Alpha + 614.960167029 mRNA_biomass + 1929 ppi_c'"
      ]
     },
     "execution_count": 8,
     "metadata": {},
     "output_type": "execute_result"
    }
   ],
   "source": [
    "me.reactions.get_by_id('transcription_TU_Alpha').reaction"
   ]
  },
  {
   "cell_type": "markdown",
   "metadata": {},
   "source": [
    "List the RNAP associated with the Alpha transcription reaction"
   ]
  },
  {
   "cell_type": "code",
   "execution_count": 9,
   "metadata": {},
   "outputs": [
    {
     "data": {
      "text/plain": [
       "'RNAP70-CPLX'"
      ]
     },
     "execution_count": 9,
     "metadata": {},
     "output_type": "execute_result"
    }
   ],
   "source": [
    "me.reactions.transcription_TU_Alpha.transcription_data.RNA_polymerase"
   ]
  },
  {
   "cell_type": "markdown",
   "metadata": {},
   "source": [
    "## 5. Create the Alpha Translation Reaction"
   ]
  },
  {
   "cell_type": "markdown",
   "metadata": {},
   "source": [
    "Complete all the steps necessary to create the Alpha Translation Reaction"
   ]
  },
  {
   "cell_type": "markdown",
   "metadata": {},
   "source": [
    "### Storing information about a translation reaction"
   ]
  },
  {
   "cell_type": "code",
   "execution_count": 10,
   "metadata": {},
   "outputs": [],
   "source": [
    "data = cobrame.TranslationData('Alpha', me, 'RNA_Alpha', 'protein_Alpha')\n",
    "data.nucleotide_sequence = seq"
   ]
  },
  {
   "cell_type": "markdown",
   "metadata": {},
   "source": [
    "### Create translation reaction\n",
    "\n",
    "By associating the TranslationReaction with its corresponding TranslationData object and running the update function, COBRAme will create a translation reaction for the nucleotide sequence given based on the organisms codon table and prespecified translation machinery."
   ]
  },
  {
   "cell_type": "code",
   "execution_count": 11,
   "metadata": {},
   "outputs": [],
   "source": [
    "rxn = cobrame.TranslationReaction('translation_Alpha')\n",
    "rxn.translation_data = data\n",
    "me.add_reaction(rxn)"
   ]
  },
  {
   "cell_type": "markdown",
   "metadata": {},
   "source": [
    "### Updating the translation reaction\n",
    "\n",
    "Note that this process does not include the ribosome in the reaction."
   ]
  },
  {
   "cell_type": "code",
   "execution_count": 12,
   "metadata": {},
   "outputs": [
    {
     "name": "stdout",
     "output_type": "stream",
     "text": [
      "0.000498399634202103*mu + 0.000195123456790123 + 0.00598079561042524*(mu + 0.3915)/mu RNA_Alpha + 2.55589556001079e-8*mu + 1.00063311174422e-8 RNA_degradosome + 48 ala__L_c + 30 arg__L_c + 21 asn__L_c + 24 asp__L_c + 2.88274348422497*(mu + 0.3915)/mu atp_c + 31 gln__L_c + 26 glu__L_c + 102 gly_c + 13 his__L_c + 36 ile__L_c + 38 leu__L_c + 23 lys__L_c + 3.67795106755342*(mu + 0.3915)/mu mRNA_biomass + 14 met__L_c + 15 phe__L_c + 21 pro__L_c + 0.00921844765619026*mu + 0.00360902225739849 ribosome + 66 ser__L_c + 58 thr__L_c + 2 trp__L_c + 26 tyr__L_c + 49 val__L_c --> 2.88274348422497*(mu + 0.3915)/mu adp_c + 2.80499314128944*(mu + 0.3915)/mu amp_c + 3.28345679012346*(mu + 0.3915)/mu cmp_c + 2.45810699588477*(mu + 0.3915)/mu gmp_c + 642.0 - 2.88274348422497*(mu + 0.3915)/mu h2o_c + 2.88274348422497*(mu + 0.3915)/mu h_c + 2.88274348422497*(mu + 0.3915)/mu pi_c + protein_Alpha + 66.69648898000001 protein_biomass + 2.99039780521262*(mu + 0.3915)/mu ump_c\n"
     ]
    }
   ],
   "source": [
    "rxn.update()\n",
    "print(rxn.reaction)"
   ]
  },
  {
   "cell_type": "markdown",
   "metadata": {},
   "source": [
    "### Incorporate the ribosome\n",
    "\n",
    "Add the ribosome to the reaction."
   ]
  },
  {
   "cell_type": "code",
   "execution_count": 13,
   "metadata": {},
   "outputs": [
    {
     "name": "stdout",
     "output_type": "stream",
     "text": [
      "0.000498399634202103*mu + 0.000195123456790123 + 0.00598079561042524*(mu + 0.3915)/mu RNA_Alpha + 2.55589556001079e-8*mu + 1.00063311174422e-8 RNA_degradosome + 48 ala__L_c + 30 arg__L_c + 21 asn__L_c + 24 asp__L_c + 2.88274348422497*(mu + 0.3915)/mu atp_c + 31 gln__L_c + 26 glu__L_c + 102 gly_c + 13 his__L_c + 36 ile__L_c + 38 leu__L_c + 23 lys__L_c + 3.67795106755342*(mu + 0.3915)/mu mRNA_biomass + 14 met__L_c + 15 phe__L_c + 21 pro__L_c + 0.00921844765619026*mu + 0.00360902225739849 ribosome + 66 ser__L_c + 58 thr__L_c + 2 trp__L_c + 26 tyr__L_c + 49 val__L_c --> 2.88274348422497*(mu + 0.3915)/mu adp_c + 2.80499314128944*(mu + 0.3915)/mu amp_c + 3.28345679012346*(mu + 0.3915)/mu cmp_c + 2.45810699588477*(mu + 0.3915)/mu gmp_c + 642.0 - 2.88274348422497*(mu + 0.3915)/mu h2o_c + 2.88274348422497*(mu + 0.3915)/mu h_c + 2.88274348422497*(mu + 0.3915)/mu pi_c + protein_Alpha + 66.69648898000001 protein_biomass + 2.99039780521262*(mu + 0.3915)/mu ump_c\n"
     ]
    }
   ],
   "source": [
    "ribosome = cobrame.Ribosome('ribosome')\n",
    "me.add_metabolites([ribosome])\n",
    "me.reactions.translation_Alpha.update()\n",
    "print(me.reactions.translation_Alpha.reaction)"
   ]
  },
  {
   "cell_type": "markdown",
   "metadata": {},
   "source": [
    "### Add Subreactions to the Alpha model"
   ]
  },
  {
   "cell_type": "markdown",
   "metadata": {},
   "source": [
    "Create the subreactions that represent elongation, initiation and termination"
   ]
  },
  {
   "cell_type": "code",
   "execution_count": 14,
   "metadata": {},
   "outputs": [
    {
     "name": "stderr",
     "output_type": "stream",
     "text": [
      "/source/cobrame/cobrame/core/processdata.py:896 \u001b[1;31mUserWarning\u001b[0m: No termination enzyme for RNA_Alpha\n"
     ]
    }
   ],
   "source": [
    "elongation = ['FusA_mono_elongation', 'Tuf_gtp_regeneration']\n",
    "initiation = ['Translation_gtp_initiation_factor_InfB', 'Translation_initiation_factor_InfA', \n",
    "              'Translation_initiation_factor_InfC', 'fmet_addition_at_START', 'peptide_deformylase_processing', \n",
    "              'peptide_chain_release', 'ribosome_recycler']\n",
    "termination = {'UGA':'PrfB_mono'}\n",
    "me.process_data.get_by_id('Alpha').add_elongation_subreactions(elongation_subreactions=set(elongation))\n",
    "me.process_data.get_by_id('Alpha').add_initiation_subreactions(start_codons=set(['AUG']), start_subreactions=set(initiation))\n",
    "me.process_data.get_by_id('Alpha').add_termination_subreactions(translation_terminator_dict=termination)\n",
    "#me.reactions.translation_Alpha.update(verbose=False)"
   ]
  },
  {
   "cell_type": "markdown",
   "metadata": {},
   "source": [
    "List the subreactions associated with Alpha translation reaction stored in the ProcessData."
   ]
  },
  {
   "cell_type": "code",
   "execution_count": 15,
   "metadata": {
    "scrolled": true
   },
   "outputs": [
    {
     "data": {
      "text/plain": [
       "defaultdict(int,\n",
       "            {'FusA_mono_elongation': 642.0,\n",
       "             'Tuf_gtp_regeneration': 642.0,\n",
       "             'met_addition_at_AUG': 13,\n",
       "             'ser_addition_at_AGC': 53,\n",
       "             'ile_addition_at_AUC': 11,\n",
       "             'gln_addition_at_CAG': 24,\n",
       "             'thr_addition_at_ACC': 46,\n",
       "             'val_addition_at_GUU': 37,\n",
       "             'lys_addition_at_AAA': 21,\n",
       "             'tyr_addition_at_UAU': 23,\n",
       "             'arg_addition_at_CGU': 29,\n",
       "             'gly_addition_at_GGU': 77,\n",
       "             'his_addition_at_CAU': 12,\n",
       "             'gly_addition_at_GGC': 20,\n",
       "             'ile_addition_at_AUU': 25,\n",
       "             'leu_addition_at_CUG': 36,\n",
       "             'phe_addition_at_UUU': 14,\n",
       "             'gln_addition_at_CAA': 7,\n",
       "             'ala_addition_at_GCA': 42,\n",
       "             'ser_addition_at_AGU': 10,\n",
       "             'ser_addition_at_UCA': 3,\n",
       "             'val_addition_at_GUG': 9,\n",
       "             'leu_addition_at_UUA': 2,\n",
       "             'pro_addition_at_CCG': 15,\n",
       "             'thr_addition_at_ACA': 12,\n",
       "             'arg_addition_at_CGC': 1,\n",
       "             'asn_addition_at_AAU': 14,\n",
       "             'pro_addition_at_CCU': 4,\n",
       "             'gly_addition_at_GGA': 5,\n",
       "             'pro_addition_at_CCA': 2,\n",
       "             'asp_addition_at_GAU': 23,\n",
       "             'glu_addition_at_GAA': 25,\n",
       "             'ala_addition_at_GCC': 6,\n",
       "             'asn_addition_at_AAC': 7,\n",
       "             'asp_addition_at_GAC': 1,\n",
       "             'trp_addition_at_UGG': 2,\n",
       "             'tyr_addition_at_UAC': 2,\n",
       "             'glu_addition_at_GAG': 1,\n",
       "             'lys_addition_at_AAG': 2,\n",
       "             'his_addition_at_CAC': 1,\n",
       "             'phe_addition_at_UUC': 1,\n",
       "             'val_addition_at_GUA': 2,\n",
       "             'val_addition_at_GUC': 1,\n",
       "             'peptide_deformylase_processing': 1,\n",
       "             'Translation_gtp_initiation_factor_InfB': 1,\n",
       "             'fmet_addition_at_START': 1,\n",
       "             'Translation_initiation_factor_InfC': 1,\n",
       "             'ribosome_recycler': 1,\n",
       "             'Translation_initiation_factor_InfA': 1,\n",
       "             'peptide_chain_release': 1})"
      ]
     },
     "execution_count": 15,
     "metadata": {},
     "output_type": "execute_result"
    }
   ],
   "source": [
    "me.process_data.get_by_id('Alpha').subreactions"
   ]
  },
  {
   "cell_type": "markdown",
   "metadata": {},
   "source": [
    "List the subreactions generated from the nucleatide sequence that are stored in the ProcessData."
   ]
  },
  {
   "cell_type": "code",
   "execution_count": 16,
   "metadata": {
    "scrolled": true
   },
   "outputs": [
    {
     "data": {
      "text/plain": [
       "{'met_addition_at_AUG': 13,\n",
       " 'ser_addition_at_AGC': 53,\n",
       " 'ile_addition_at_AUC': 11,\n",
       " 'gln_addition_at_CAG': 24,\n",
       " 'thr_addition_at_ACC': 46,\n",
       " 'val_addition_at_GUU': 37,\n",
       " 'lys_addition_at_AAA': 21,\n",
       " 'tyr_addition_at_UAU': 23,\n",
       " 'arg_addition_at_CGU': 29,\n",
       " 'gly_addition_at_GGU': 77,\n",
       " 'his_addition_at_CAU': 12,\n",
       " 'gly_addition_at_GGC': 20,\n",
       " 'ile_addition_at_AUU': 25,\n",
       " 'leu_addition_at_CUG': 36,\n",
       " 'phe_addition_at_UUU': 14,\n",
       " 'gln_addition_at_CAA': 7,\n",
       " 'ala_addition_at_GCA': 42,\n",
       " 'ser_addition_at_AGU': 10,\n",
       " 'ser_addition_at_UCA': 3,\n",
       " 'val_addition_at_GUG': 9,\n",
       " 'leu_addition_at_UUA': 2,\n",
       " 'pro_addition_at_CCG': 15,\n",
       " 'thr_addition_at_ACA': 12,\n",
       " 'arg_addition_at_CGC': 1,\n",
       " 'asn_addition_at_AAU': 14,\n",
       " 'pro_addition_at_CCU': 4,\n",
       " 'gly_addition_at_GGA': 5,\n",
       " 'pro_addition_at_CCA': 2,\n",
       " 'asp_addition_at_GAU': 23,\n",
       " 'glu_addition_at_GAA': 25,\n",
       " 'ala_addition_at_GCC': 6,\n",
       " 'asn_addition_at_AAC': 7,\n",
       " 'asp_addition_at_GAC': 1,\n",
       " 'trp_addition_at_UGG': 2,\n",
       " 'tyr_addition_at_UAC': 2,\n",
       " 'glu_addition_at_GAG': 1,\n",
       " 'lys_addition_at_AAG': 2,\n",
       " 'his_addition_at_CAC': 1,\n",
       " 'phe_addition_at_UUC': 1,\n",
       " 'val_addition_at_GUA': 2,\n",
       " 'val_addition_at_GUC': 1}"
      ]
     },
     "execution_count": 16,
     "metadata": {},
     "output_type": "execute_result"
    }
   ],
   "source": [
    "me.process_data.get_by_id('Alpha').subreactions_from_sequence"
   ]
  },
  {
   "cell_type": "markdown",
   "metadata": {},
   "source": [
    "### Updating the Alpha translation reaction"
   ]
  },
  {
   "cell_type": "code",
   "execution_count": 17,
   "metadata": {},
   "outputs": [
    {
     "name": "stdout",
     "output_type": "stream",
     "text": [
      "Before adding tRNA subreaction\n",
      "------------------------------\n",
      "0.000498399634202103*mu + 0.000195123456790123 + 0.00598079561042524*(mu + 0.3915)/mu RNA_Alpha + 2.55589556001079e-8*mu + 1.00063311174422e-8 RNA_degradosome + 48 ala__L_c + 30 arg__L_c + 21 asn__L_c + 24 asp__L_c + 2.88274348422497*(mu + 0.3915)/mu atp_c + 31 gln__L_c + 26 glu__L_c + 102 gly_c + 13 his__L_c + 36 ile__L_c + 38 leu__L_c + 23 lys__L_c + 3.67795106755342*(mu + 0.3915)/mu mRNA_biomass + 14 met__L_c + 15 phe__L_c + 21 pro__L_c + 0.00921844765619026*mu + 0.00360902225739849 ribosome + 66 ser__L_c + 58 thr__L_c + 2 trp__L_c + 26 tyr__L_c + 49 val__L_c --> 2.88274348422497*(mu + 0.3915)/mu adp_c + 2.80499314128944*(mu + 0.3915)/mu amp_c + 3.28345679012346*(mu + 0.3915)/mu cmp_c + 2.45810699588477*(mu + 0.3915)/mu gmp_c + 642.0 - 2.88274348422497*(mu + 0.3915)/mu h2o_c + 2.88274348422497*(mu + 0.3915)/mu h_c + 2.88274348422497*(mu + 0.3915)/mu pi_c + protein_Alpha + 66.69648898000001 protein_biomass + 2.99039780521262*(mu + 0.3915)/mu ump_c\n",
      "\n",
      "After adding tRNA subreaction\n",
      "-----------------------------\n",
      "10fthf_c + 2.72438972852433e-7*mu Def_mono_mod_1:fe2 + 1.80324164444648e-7*mu Fmt_mono_mod_mg2_mod_k + 0.00274358974358974*mu FusA_mono + 4.27350427350427e-6*mu InfA_mono + 4.45382843794892e-6*mu InfB_mono + 4.27350427350427e-6*mu InfC_mono + 4.27350427350427e-6*mu PrfC_mono + 0.000498399634202103*mu + 0.000195123456790123 + 0.00598079561042524*(mu + 0.3915)/mu RNA_Alpha + 2.55589556001079e-8*mu + 1.00063311174422e-8 RNA_degradosome + 2.62130898398882e-7*mu Rrf_mono + 0.00274358974358974*mu Tsf_mono + 48 ala__L_c + 30 arg__L_c + 21 asn__L_c + 24 asp__L_c + 641.0 + 2.88274348422497*(mu + 0.3915)/mu atp_c + 0.00273931623931624*mu generic_Tuf + 21.0 generic_tRNA_AAA_lys__L_c + 7.0 generic_tRNA_AAC_asn__L_c + 2.0 generic_tRNA_AAG_lys__L_c + 14.0 generic_tRNA_AAU_asn__L_c + 12.0 generic_tRNA_ACA_thr__L_c + 46.0 generic_tRNA_ACC_thr__L_c + 53.0 generic_tRNA_AGC_ser__L_c + 10.0 generic_tRNA_AGU_ser__L_c + 11.0 generic_tRNA_AUC_ile__L_c + 13.0 generic_tRNA_AUG_met__L_c + 25.0 generic_tRNA_AUU_ile__L_c + 7.0 generic_tRNA_CAA_gln__L_c + generic_tRNA_CAC_his__L_c + 24.0 generic_tRNA_CAG_gln__L_c + 12.0 generic_tRNA_CAU_his__L_c + 2.0 generic_tRNA_CCA_pro__L_c + 15.0 generic_tRNA_CCG_pro__L_c + 4.0 generic_tRNA_CCU_pro__L_c + generic_tRNA_CGC_arg__L_c + 29.0 generic_tRNA_CGU_arg__L_c + 36.0 generic_tRNA_CUG_leu__L_c + 25.0 generic_tRNA_GAA_glu__L_c + generic_tRNA_GAC_asp__L_c + generic_tRNA_GAG_glu__L_c + 23.0 generic_tRNA_GAU_asp__L_c + 42.0 generic_tRNA_GCA_ala__L_c + 6.0 generic_tRNA_GCC_ala__L_c + 5.0 generic_tRNA_GGA_gly_c + 20.0 generic_tRNA_GGC_gly_c + 77.0 generic_tRNA_GGU_gly_c + 2.0 generic_tRNA_GUA_val__L_c + generic_tRNA_GUC_val__L_c + 9.0 generic_tRNA_GUG_val__L_c + 37.0 generic_tRNA_GUU_val__L_c + generic_tRNA_START_met__L_c + 2.0 generic_tRNA_UAC_tyr__L_c + 23.0 generic_tRNA_UAU_tyr__L_c + 3.0 generic_tRNA_UCA_ser__L_c + 2.0 generic_tRNA_UGG_trp__L_c + 2.0 generic_tRNA_UUA_leu__L_c + generic_tRNA_UUC_phe__L_c + 14.0 generic_tRNA_UUU_phe__L_c + 31 gln__L_c + 26 glu__L_c + 102 gly_c + 1285.0 gtp_c + 1285.0 + 2.88274348422497*(mu + 0.3915)/mu h2o_c + 13 his__L_c + 36 ile__L_c + 38 leu__L_c + 23 lys__L_c + 3.67795106755342*(mu + 0.3915)/mu mRNA_biomass + 14 met__L_c + 15 phe__L_c + 21 pro__L_c + 0.00921844765619026*mu + 0.00360902225739849 ribosome + 66 ser__L_c + 58 thr__L_c + 2 trp__L_c + 26 tyr__L_c + 49 val__L_c --> 2.88274348422497*(mu + 0.3915)/mu adp_c + 641.0 + 2.80499314128944*(mu + 0.3915)/mu amp_c + 3.28345679012346*(mu + 0.3915)/mu cmp_c + for_c + 1285.0 gdp_c + 2.45810699588477*(mu + 0.3915)/mu gmp_c + 1926.0 + 2.88274348422497*(mu + 0.3915)/mu h_c + 1285.0 + 2.88274348422497*(mu + 0.3915)/mu pi_c + 641.0 ppi_c + protein_Alpha + 66.69749692 protein_biomass + thf_c + 2.99039780521262*(mu + 0.3915)/mu ump_c\n"
     ]
    },
    {
     "name": "stderr",
     "output_type": "stream",
     "text": [
      "/source/cobrame/cobrame/core/processdata.py:256 \u001b[1;31mUserWarning\u001b[0m: met (generic_tRNA_GAG_glu__L_c) does not have formula\n"
     ]
    }
   ],
   "source": [
    "translation_subreactions = me.process_data.Alpha.subreactions_from_sequence\n",
    "print(\"Before adding tRNA subreaction\")\n",
    "print(\"------------------------------\")\n",
    "print(me.reactions.translation_Alpha.reaction)\n",
    "print(\"\")\n",
    "# Link tranlation_data to subreactions and update\n",
    "for subreaction, value in translation_subreactions.items():\n",
    "    me.process_data.Alpha.subreactions[subreaction] = value\n",
    "me.reactions.translation_Alpha.update(verbose=False)\n",
    "print(\"After adding tRNA subreaction\")\n",
    "print(\"-----------------------------\")\n",
    "print(me.reactions.translation_Alpha.reaction)"
   ]
  },
  {
   "cell_type": "markdown",
   "metadata": {},
   "source": [
    "List the reactants associated with the Alpha translation reaction. In this list all the subreactions should be listed."
   ]
  },
  {
   "cell_type": "code",
   "execution_count": 18,
   "metadata": {
    "scrolled": true
   },
   "outputs": [
    {
     "data": {
      "text/plain": [
       "[<Metabolite met__L_c at 0x7f9896a5a978>,\n",
       " <Metabolite h2o_c at 0x7f9897758a58>,\n",
       " <Metabolite ser__L_c at 0x7f9896a5ae80>,\n",
       " <Metabolite ile__L_c at 0x7f9896a67208>,\n",
       " <Metabolite gln__L_c at 0x7f9896a67240>,\n",
       " <Metabolite thr__L_c at 0x7f9896a5add8>,\n",
       " <Metabolite val__L_c at 0x7f9896a5aa90>,\n",
       " <Metabolite lys__L_c at 0x7f9896a5ac50>,\n",
       " <Metabolite tyr__L_c at 0x7f9896a67438>,\n",
       " <Metabolite arg__L_c at 0x7f98978a9c18>,\n",
       " <Metabolite gly_c at 0x7f9896a5acc0>,\n",
       " <Metabolite his__L_c at 0x7f9896a67358>,\n",
       " <Metabolite leu__L_c at 0x7f9896a5ab38>,\n",
       " <Metabolite phe__L_c at 0x7f9896a5ac88>,\n",
       " <Metabolite ala__L_c at 0x7f9896a5af28>,\n",
       " <Metabolite pro__L_c at 0x7f9896a672b0>,\n",
       " <Metabolite asn__L_c at 0x7f9896a67048>,\n",
       " <Metabolite asp__L_c at 0x7f9896a67128>,\n",
       " <Metabolite glu__L_c at 0x7f9896a67080>,\n",
       " <Metabolite trp__L_c at 0x7f9896a674a8>,\n",
       " <Ribosome ribosome at 0x7f9896a67518>,\n",
       " <TranscribedGene RNA_Alpha at 0x7f9897884518>,\n",
       " <Metabolite atp_c at 0x7f98977589b0>,\n",
       " <Complex RNA_degradosome at 0x7f989777f3c8>,\n",
       " <Complex FusA_mono at 0x7f9896a81be0>,\n",
       " <Metabolite gtp_c at 0x7f9897758fd0>,\n",
       " <Complex Tsf_mono at 0x7f9896a81c18>,\n",
       " <GenericComponent generic_Tuf at 0x7f9896a67a20>,\n",
       " <GenerictRNA generic_tRNA_AUG_met__L_c at 0x7f9896a67c88>,\n",
       " <GenerictRNA generic_tRNA_AGC_ser__L_c at 0x7f9896a774e0>,\n",
       " <GenerictRNA generic_tRNA_AUC_ile__L_c at 0x7f9896a77940>,\n",
       " <GenerictRNA generic_tRNA_CAG_gln__L_c at 0x7f9896a775c0>,\n",
       " <GenerictRNA generic_tRNA_ACC_thr__L_c at 0x7f9896a776a0>,\n",
       " <GenerictRNA generic_tRNA_GUU_val__L_c at 0x7f9896a77320>,\n",
       " <GenerictRNA generic_tRNA_AAA_lys__L_c at 0x7f9896a77908>,\n",
       " <GenerictRNA generic_tRNA_UAU_tyr__L_c at 0x7f9896a81470>,\n",
       " <GenerictRNA generic_tRNA_CGU_arg__L_c at 0x7f9896a771d0>,\n",
       " <GenerictRNA generic_tRNA_GGU_gly_c at 0x7f9896a67f28>,\n",
       " <GenerictRNA generic_tRNA_CAU_his__L_c at 0x7f9896a77ef0>,\n",
       " <GenerictRNA generic_tRNA_GGC_gly_c at 0x7f9896a67e80>,\n",
       " <GenerictRNA generic_tRNA_AUU_ile__L_c at 0x7f9896a77470>,\n",
       " <GenerictRNA generic_tRNA_CUG_leu__L_c at 0x7f9896a772b0>,\n",
       " <GenerictRNA generic_tRNA_UUU_phe__L_c at 0x7f9896a77240>,\n",
       " <GenerictRNA generic_tRNA_CAA_gln__L_c at 0x7f9896a77dd8>,\n",
       " <GenerictRNA generic_tRNA_GCA_ala__L_c at 0x7f9896a77080>,\n",
       " <GenerictRNA generic_tRNA_AGU_ser__L_c at 0x7f9896a77f60>,\n",
       " <GenerictRNA generic_tRNA_UCA_ser__L_c at 0x7f9896a67fd0>,\n",
       " <GenerictRNA generic_tRNA_GUG_val__L_c at 0x7f9896a67cf8>,\n",
       " <GenerictRNA generic_tRNA_UUA_leu__L_c at 0x7f9896a77b70>,\n",
       " <GenerictRNA generic_tRNA_CCG_pro__L_c at 0x7f9896a77d30>,\n",
       " <GenerictRNA generic_tRNA_ACA_thr__L_c at 0x7f9896a67f60>,\n",
       " <GenerictRNA generic_tRNA_CGC_arg__L_c at 0x7f9896a811d0>,\n",
       " <GenerictRNA generic_tRNA_AAU_asn__L_c at 0x7f9896a770f0>,\n",
       " <GenerictRNA generic_tRNA_CCU_pro__L_c at 0x7f9896a814e0>,\n",
       " <GenerictRNA generic_tRNA_GGA_gly_c at 0x7f9896a77cc0>,\n",
       " <GenerictRNA generic_tRNA_CCA_pro__L_c at 0x7f9896a81550>,\n",
       " <GenerictRNA generic_tRNA_GAU_asp__L_c at 0x7f9896a77438>,\n",
       " <GenerictRNA generic_tRNA_GAA_glu__L_c at 0x7f9896a77160>,\n",
       " <GenerictRNA generic_tRNA_GCC_ala__L_c at 0x7f9896a77390>,\n",
       " <GenerictRNA generic_tRNA_AAC_asn__L_c at 0x7f9896a779b0>,\n",
       " <GenerictRNA generic_tRNA_GAC_asp__L_c at 0x7f9896a81320>,\n",
       " <GenerictRNA generic_tRNA_UGG_trp__L_c at 0x7f9896a81400>,\n",
       " <GenerictRNA generic_tRNA_UAC_tyr__L_c at 0x7f9896a81240>,\n",
       " <Metabolite generic_tRNA_GAG_glu__L_c at 0x7f9896a81080>,\n",
       " <GenerictRNA generic_tRNA_AAG_lys__L_c at 0x7f9896a67da0>,\n",
       " <GenerictRNA generic_tRNA_CAC_his__L_c at 0x7f9896a77a20>,\n",
       " <GenerictRNA generic_tRNA_UUC_phe__L_c at 0x7f9896a67e10>,\n",
       " <GenerictRNA generic_tRNA_GUA_val__L_c at 0x7f9896a81160>,\n",
       " <GenerictRNA generic_tRNA_GUC_val__L_c at 0x7f9896a77710>,\n",
       " <Complex Def_mono_mod_1:fe2 at 0x7f9896a81d30>,\n",
       " <Complex InfB_mono at 0x7f9896a81780>,\n",
       " <Complex Fmt_mono_mod_mg2_mod_k at 0x7f9896a81860>,\n",
       " <Metabolite 10fthf_c at 0x7f9896a81908>,\n",
       " <GenerictRNA generic_tRNA_START_met__L_c at 0x7f9896a81a20>,\n",
       " <Complex InfC_mono at 0x7f9896a81b00>,\n",
       " <Complex Rrf_mono at 0x7f9896a81cf8>,\n",
       " <Complex InfA_mono at 0x7f9896a81a58>,\n",
       " <Complex PrfC_mono at 0x7f9896a81f60>,\n",
       " <Constraint mRNA_biomass at 0x7f9897878128>]"
      ]
     },
     "execution_count": 18,
     "metadata": {},
     "output_type": "execute_result"
    }
   ],
   "source": [
    "me.reactions.translation_Alpha.reactants"
   ]
  },
  {
   "cell_type": "markdown",
   "metadata": {},
   "source": [
    "This completes the creation of the translation reaction"
   ]
  },
  {
   "cell_type": "markdown",
   "metadata": {},
   "source": [
    "## 6. Create Demand Reaction for Alpha"
   ]
  },
  {
   "cell_type": "code",
   "execution_count": 19,
   "metadata": {},
   "outputs": [],
   "source": [
    "new_reaction = cobrame.MEReaction('DM_protein_Alpha')\n",
    "me.add_reaction(new_reaction)"
   ]
  },
  {
   "cell_type": "code",
   "execution_count": 20,
   "metadata": {},
   "outputs": [
    {
     "data": {
      "text/plain": [
       "'protein_Alpha --> '"
      ]
     },
     "execution_count": 20,
     "metadata": {},
     "output_type": "execute_result"
    }
   ],
   "source": [
    "me.reactions.get_by_id('DM_protein_Alpha').reaction = 'protein_Alpha ->'\n",
    "me.reactions.get_by_id('DM_protein_Alpha').reaction"
   ]
  },
  {
   "cell_type": "code",
   "execution_count": 21,
   "metadata": {},
   "outputs": [
    {
     "data": {
      "text/html": [
       "<div>\n",
       "<style scoped>\n",
       "    .dataframe tbody tr th:only-of-type {\n",
       "        vertical-align: middle;\n",
       "    }\n",
       "\n",
       "    .dataframe tbody tr th {\n",
       "        vertical-align: top;\n",
       "    }\n",
       "\n",
       "    .dataframe thead th {\n",
       "        text-align: right;\n",
       "    }\n",
       "</style>\n",
       "<table border=\"1\" class=\"dataframe\">\n",
       "  <thead>\n",
       "    <tr style=\"text-align: right;\">\n",
       "      <th></th>\n",
       "      <th>Attribute Values</th>\n",
       "    </tr>\n",
       "  </thead>\n",
       "  <tbody>\n",
       "    <tr>\n",
       "      <th>id</th>\n",
       "      <td>DM_protein_Alpha</td>\n",
       "    </tr>\n",
       "    <tr>\n",
       "      <th>name</th>\n",
       "      <td></td>\n",
       "    </tr>\n",
       "    <tr>\n",
       "      <th>notes</th>\n",
       "      <td>{}</td>\n",
       "    </tr>\n",
       "    <tr>\n",
       "      <th>annotation</th>\n",
       "      <td>{}</td>\n",
       "    </tr>\n",
       "    <tr>\n",
       "      <th>_gene_reaction_rule</th>\n",
       "      <td></td>\n",
       "    </tr>\n",
       "    <tr>\n",
       "      <th>subsystem</th>\n",
       "      <td></td>\n",
       "    </tr>\n",
       "    <tr>\n",
       "      <th>_genes</th>\n",
       "      <td>set()</td>\n",
       "    </tr>\n",
       "    <tr>\n",
       "      <th>_metabolites</th>\n",
       "      <td>{&lt;TranslatedGene protein_Alpha at 0x7f989784b828&gt;: -1}</td>\n",
       "    </tr>\n",
       "    <tr>\n",
       "      <th>_model</th>\n",
       "      <td>iJL1678b-ME</td>\n",
       "    </tr>\n",
       "    <tr>\n",
       "      <th>_objective_coefficient</th>\n",
       "      <td>0.0</td>\n",
       "    </tr>\n",
       "    <tr>\n",
       "      <th>upper_bound</th>\n",
       "      <td>1000</td>\n",
       "    </tr>\n",
       "    <tr>\n",
       "      <th>lower_bound</th>\n",
       "      <td>0</td>\n",
       "    </tr>\n",
       "    <tr>\n",
       "      <th>variable_kind</th>\n",
       "      <td>continuous</td>\n",
       "    </tr>\n",
       "  </tbody>\n",
       "</table>\n",
       "</div>"
      ],
      "text/plain": [
       "                                                              Attribute Values\n",
       "id                                                            DM_protein_Alpha\n",
       "name                                                                          \n",
       "notes                                                                       {}\n",
       "annotation                                                                  {}\n",
       "_gene_reaction_rule                                                           \n",
       "subsystem                                                                     \n",
       "_genes                                                                   set()\n",
       "_metabolites            {<TranslatedGene protein_Alpha at 0x7f989784b828>: -1}\n",
       "_model                                                             iJL1678b-ME\n",
       "_objective_coefficient                                                     0.0\n",
       "upper_bound                                                               1000\n",
       "lower_bound                                                                  0\n",
       "variable_kind                                                       continuous"
      ]
     },
     "execution_count": 21,
     "metadata": {},
     "output_type": "execute_result"
    }
   ],
   "source": [
    "rxn = me.reactions.DM_protein_Alpha\n",
    "data = rxn\n",
    "pd.DataFrame({i: str(v) for i, v in data.__dict__.items()}, index=['Attribute Values']).T"
   ]
  },
  {
   "cell_type": "markdown",
   "metadata": {},
   "source": [
    "### Find the amino acid count"
   ]
  },
  {
   "cell_type": "code",
   "execution_count": 22,
   "metadata": {},
   "outputs": [
    {
     "data": {
      "text/plain": [
       "defaultdict(int,\n",
       "            {'met__L_c': 14,\n",
       "             'ser__L_c': 66,\n",
       "             'ile__L_c': 36,\n",
       "             'gln__L_c': 31,\n",
       "             'thr__L_c': 58,\n",
       "             'val__L_c': 49,\n",
       "             'lys__L_c': 23,\n",
       "             'tyr__L_c': 26,\n",
       "             'arg__L_c': 30,\n",
       "             'gly_c': 102,\n",
       "             'his__L_c': 13,\n",
       "             'leu__L_c': 38,\n",
       "             'phe__L_c': 15,\n",
       "             'ala__L_c': 48,\n",
       "             'pro__L_c': 21,\n",
       "             'asn__L_c': 21,\n",
       "             'asp__L_c': 24,\n",
       "             'glu__L_c': 26,\n",
       "             'trp__L_c': 2})"
      ]
     },
     "execution_count": 22,
     "metadata": {},
     "output_type": "execute_result"
    }
   ],
   "source": [
    "me.process_data.Alpha.amino_acid_count"
   ]
  },
  {
   "cell_type": "code",
   "execution_count": 23,
   "metadata": {
    "scrolled": true
   },
   "outputs": [
    {
     "name": "stdout",
     "output_type": "stream",
     "text": [
      "\n",
      "Alpha Flux #  0\n",
      "iter\tmuopt    \ta     \tb     \tmu1       \tstat1\n",
      "Finished compiling expressions in 34.870902 seconds\n",
      "Finished substituting S,lb,ub in 2.240419 seconds\n",
      "Finished makeME_LP in 0.359959 seconds\n",
      "Getting MINOS parameters from ME_NLP...\n",
      "1 0.5 0.5 1.0 0.5 optimal\n",
      "Finished substituting S,lb,ub in 2.221338 seconds\n",
      "Finished makeME_LP in 0.362027 seconds\n",
      "Getting MINOS parameters from ME_NLP...\n",
      "2 0.75 0.75 1.0 0.75 optimal\n",
      "Finished substituting S,lb,ub in 2.281878 seconds\n",
      "Finished makeME_LP in 0.362503 seconds\n",
      "Getting MINOS parameters from ME_NLP...\n",
      "3 0.75 0.75 0.875 0.875 1\n",
      "Finished substituting S,lb,ub in 2.283173 seconds\n",
      "Finished makeME_LP in 0.357863 seconds\n",
      "Getting MINOS parameters from ME_NLP...\n",
      "4 0.8125 0.8125 0.875 0.8125 optimal\n",
      "Finished substituting S,lb,ub in 2.256819 seconds\n",
      "Finished makeME_LP in 0.359146 seconds\n",
      "Getting MINOS parameters from ME_NLP...\n",
      "5 0.8125 0.8125 0.84375 0.84375 1\n",
      "Finished substituting S,lb,ub in 2.333318 seconds\n",
      "Finished makeME_LP in 0.364806 seconds\n",
      "Getting MINOS parameters from ME_NLP...\n",
      "6 0.828125 0.828125 0.84375 0.828125 optimal\n",
      "Finished substituting S,lb,ub in 2.278618 seconds\n",
      "Finished makeME_LP in 0.358530 seconds\n",
      "Getting MINOS parameters from ME_NLP...\n",
      "7 0.828125 0.828125 0.8359375 0.8359375 1\n",
      "Bisection done in 121.479 seconds\n",
      "Growth-rate = [0.828125]\n",
      "\n",
      "Alpha Flux #  0.0001\n",
      "iter\tmuopt    \ta     \tb     \tmu1       \tstat1\n",
      "Finished compiling expressions in 33.580268 seconds\n",
      "Finished substituting S,lb,ub in 2.209688 seconds\n",
      "Finished makeME_LP in 0.360750 seconds\n",
      "Getting MINOS parameters from ME_NLP...\n",
      "1 0.5 0.5 1.0 0.5 optimal\n",
      "Finished substituting S,lb,ub in 2.297021 seconds\n",
      "Finished makeME_LP in 0.363588 seconds\n",
      "Getting MINOS parameters from ME_NLP...\n",
      "2 0.75 0.75 1.0 0.75 optimal\n",
      "Finished substituting S,lb,ub in 2.325190 seconds\n",
      "Finished makeME_LP in 0.367457 seconds\n",
      "Getting MINOS parameters from ME_NLP...\n",
      "3 0.75 0.75 0.875 0.875 1\n",
      "Finished substituting S,lb,ub in 2.427206 seconds\n",
      "Finished makeME_LP in 0.362305 seconds\n",
      "Getting MINOS parameters from ME_NLP...\n",
      "4 0.8125 0.8125 0.875 0.8125 optimal\n",
      "Finished substituting S,lb,ub in 2.322881 seconds\n",
      "Finished makeME_LP in 0.369920 seconds\n",
      "Getting MINOS parameters from ME_NLP...\n",
      "5 0.8125 0.8125 0.84375 0.84375 1\n",
      "Finished substituting S,lb,ub in 2.428618 seconds\n",
      "Finished makeME_LP in 0.383182 seconds\n",
      "Getting MINOS parameters from ME_NLP...\n",
      "6 0.8125 0.8125 0.828125 0.828125 1\n",
      "Finished substituting S,lb,ub in 2.400015 seconds\n",
      "Finished makeME_LP in 0.366144 seconds\n",
      "Getting MINOS parameters from ME_NLP...\n",
      "7 0.8125 0.8125 0.8203125 0.8203125 1\n",
      "Bisection done in 126.323 seconds\n",
      "Growth-rate = [0.828125, 0.8125]\n",
      "\n",
      "Alpha Flux #  0.0005\n",
      "iter\tmuopt    \ta     \tb     \tmu1       \tstat1\n",
      "Finished compiling expressions in 35.029321 seconds\n",
      "Finished substituting S,lb,ub in 2.376203 seconds\n",
      "Finished makeME_LP in 0.376191 seconds\n",
      "Getting MINOS parameters from ME_NLP...\n",
      "1 0.5 0.5 1.0 0.5 optimal\n",
      "Finished substituting S,lb,ub in 2.550533 seconds\n",
      "Finished makeME_LP in 0.379107 seconds\n",
      "Getting MINOS parameters from ME_NLP...\n",
      "2 0.5 0.5 0.75 0.75 1\n",
      "Finished substituting S,lb,ub in 2.385287 seconds\n",
      "Finished makeME_LP in 0.377867 seconds\n",
      "Getting MINOS parameters from ME_NLP...\n",
      "3 0.625 0.625 0.75 0.625 optimal\n",
      "Finished substituting S,lb,ub in 2.462514 seconds\n",
      "Finished makeME_LP in 0.380177 seconds\n",
      "Getting MINOS parameters from ME_NLP...\n",
      "4 0.6875 0.6875 0.75 0.6875 optimal\n",
      "Finished substituting S,lb,ub in 2.430809 seconds\n",
      "Finished makeME_LP in 0.381647 seconds\n",
      "Getting MINOS parameters from ME_NLP...\n",
      "5 0.71875 0.71875 0.75 0.71875 optimal\n",
      "Finished substituting S,lb,ub in 2.318315 seconds\n",
      "Finished makeME_LP in 0.364996 seconds\n",
      "Getting MINOS parameters from ME_NLP...\n",
      "6 0.71875 0.71875 0.734375 0.734375 1\n",
      "Finished substituting S,lb,ub in 2.295698 seconds\n",
      "Finished makeME_LP in 0.366522 seconds\n",
      "Getting MINOS parameters from ME_NLP...\n",
      "7 0.7265625 0.7265625 0.734375 0.7265625 optimal\n",
      "Bisection done in 131.378 seconds\n",
      "Growth-rate = [0.828125, 0.8125, 0.7265625]\n",
      "\n",
      "Alpha Flux #  0.001\n",
      "iter\tmuopt    \ta     \tb     \tmu1       \tstat1\n",
      "Finished compiling expressions in 35.232186 seconds\n",
      "Finished substituting S,lb,ub in 2.338007 seconds\n",
      "Finished makeME_LP in 0.355752 seconds\n",
      "Getting MINOS parameters from ME_NLP...\n",
      "1 0.5 0.5 1.0 0.5 optimal\n",
      "Finished substituting S,lb,ub in 2.326850 seconds\n",
      "Finished makeME_LP in 0.367958 seconds\n",
      "Getting MINOS parameters from ME_NLP...\n",
      "2 0.5 0.5 0.75 0.75 1\n",
      "Finished substituting S,lb,ub in 2.379115 seconds\n",
      "Finished makeME_LP in 0.366910 seconds\n",
      "Getting MINOS parameters from ME_NLP...\n",
      "3 0.5 0.5 0.625 0.625 1\n",
      "Finished substituting S,lb,ub in 2.345465 seconds\n",
      "Finished makeME_LP in 0.365455 seconds\n",
      "Getting MINOS parameters from ME_NLP...\n",
      "4 0.5625 0.5625 0.625 0.5625 optimal\n",
      "Finished substituting S,lb,ub in 2.332679 seconds\n",
      "Finished makeME_LP in 0.358067 seconds\n",
      "Getting MINOS parameters from ME_NLP...\n",
      "5 0.5625 0.5625 0.59375 0.59375 1\n",
      "Finished substituting S,lb,ub in 2.359986 seconds\n",
      "Finished makeME_LP in 0.362863 seconds\n",
      "Getting MINOS parameters from ME_NLP...\n",
      "6 0.5625 0.5625 0.578125 0.578125 1\n",
      "Finished substituting S,lb,ub in 2.400531 seconds\n",
      "Finished makeME_LP in 0.371724 seconds\n",
      "Getting MINOS parameters from ME_NLP...\n",
      "7 0.5703125 0.5703125 0.578125 0.5703125 optimal\n",
      "Bisection done in 126.923 seconds\n",
      "Growth-rate = [0.828125, 0.8125, 0.7265625, 0.5703125]\n",
      "\n",
      "Alpha Flux #  0.005\n",
      "iter\tmuopt    \ta     \tb     \tmu1       \tstat1\n",
      "Finished compiling expressions in 35.654387 seconds\n",
      "Finished substituting S,lb,ub in 2.383669 seconds\n",
      "Finished makeME_LP in 0.361113 seconds\n",
      "Getting MINOS parameters from ME_NLP...\n",
      "1 0.0 0.0 0.5 0.5 1\n",
      "Finished substituting S,lb,ub in 2.287055 seconds\n",
      "Finished makeME_LP in 0.357891 seconds\n",
      "Getting MINOS parameters from ME_NLP...\n",
      "2 0.0 0.0 0.25 0.25 1\n",
      "Finished substituting S,lb,ub in 2.236550 seconds\n",
      "Finished makeME_LP in 0.362668 seconds\n",
      "Getting MINOS parameters from ME_NLP...\n",
      "3 0.0 0.0 0.125 0.125 1\n",
      "Finished substituting S,lb,ub in 2.241024 seconds\n",
      "Finished makeME_LP in 0.353786 seconds\n",
      "Getting MINOS parameters from ME_NLP...\n",
      "4 0.0 0.0 0.0625 0.0625 1\n",
      "Finished substituting S,lb,ub in 2.395881 seconds\n",
      "Finished makeME_LP in 0.378198 seconds\n",
      "Getting MINOS parameters from ME_NLP...\n",
      "5 0.0 0.0 0.03125 0.03125 1\n",
      "Finished substituting S,lb,ub in 2.264199 seconds\n",
      "Finished makeME_LP in 0.356486 seconds\n",
      "Getting MINOS parameters from ME_NLP...\n",
      "6 0.0 0.0 0.015625 0.015625 1\n",
      "Finished substituting S,lb,ub in 2.265467 seconds\n",
      "Finished makeME_LP in 0.363322 seconds\n",
      "Getting MINOS parameters from ME_NLP...\n",
      "7 0.0 0.0 0.0078125 0.0078125 1\n",
      "Bisection done in 522.852 seconds\n",
      "Growth-rate = [0.828125, 0.8125, 0.7265625, 0.5703125, 0]\n",
      "\n",
      "Alpha Flux #  0.01\n",
      "iter\tmuopt    \ta     \tb     \tmu1       \tstat1\n",
      "Finished compiling expressions in 33.547060 seconds\n",
      "Finished substituting S,lb,ub in 2.227330 seconds\n",
      "Finished makeME_LP in 0.362289 seconds\n",
      "Getting MINOS parameters from ME_NLP...\n",
      "1 0.0 0.0 0.5 0.5 1\n",
      "Finished substituting S,lb,ub in 2.305810 seconds\n",
      "Finished makeME_LP in 0.359675 seconds\n",
      "Getting MINOS parameters from ME_NLP...\n",
      "2 0.0 0.0 0.25 0.25 1\n",
      "Finished substituting S,lb,ub in 2.382730 seconds\n",
      "Finished makeME_LP in 0.372312 seconds\n",
      "Getting MINOS parameters from ME_NLP...\n",
      "3 0.0 0.0 0.125 0.125 1\n",
      "Finished substituting S,lb,ub in 2.323156 seconds\n",
      "Finished makeME_LP in 0.367088 seconds\n",
      "Getting MINOS parameters from ME_NLP...\n",
      "4 0.0 0.0 0.0625 0.0625 1\n",
      "Finished substituting S,lb,ub in 2.300364 seconds\n",
      "Finished makeME_LP in 0.367897 seconds\n",
      "Getting MINOS parameters from ME_NLP...\n",
      "5 0.0 0.0 0.03125 0.03125 1\n",
      "Finished substituting S,lb,ub in 2.291076 seconds\n",
      "Finished makeME_LP in 0.366635 seconds\n",
      "Getting MINOS parameters from ME_NLP...\n",
      "6 0.0 0.0 0.015625 0.015625 1\n",
      "Finished substituting S,lb,ub in 2.461937 seconds\n",
      "Finished makeME_LP in 0.384993 seconds\n",
      "Getting MINOS parameters from ME_NLP...\n",
      "7 0.0 0.0 0.0078125 0.0078125 1\n",
      "Bisection done in 647.86 seconds\n",
      "Growth-rate = [0.828125, 0.8125, 0.7265625, 0.5703125, 0, 0]\n",
      "\n",
      "Alpha Flux #  0.05\n",
      "iter\tmuopt    \ta     \tb     \tmu1       \tstat1\n",
      "Finished compiling expressions in 33.861475 seconds\n",
      "Finished substituting S,lb,ub in 2.250495 seconds\n",
      "Finished makeME_LP in 0.363653 seconds\n",
      "Getting MINOS parameters from ME_NLP...\n",
      "1 0.0 0.0 0.5 0.5 1\n",
      "Finished substituting S,lb,ub in 2.230674 seconds\n"
     ]
    },
    {
     "name": "stdout",
     "output_type": "stream",
     "text": [
      "Finished makeME_LP in 0.358680 seconds\n",
      "Getting MINOS parameters from ME_NLP...\n",
      "2 0.0 0.0 0.25 0.25 1\n",
      "Finished substituting S,lb,ub in 2.274396 seconds\n",
      "Finished makeME_LP in 0.372519 seconds\n",
      "Getting MINOS parameters from ME_NLP...\n",
      "3 0.0 0.0 0.125 0.125 1\n",
      "Finished substituting S,lb,ub in 2.292277 seconds\n",
      "Finished makeME_LP in 0.368557 seconds\n",
      "Getting MINOS parameters from ME_NLP...\n",
      "4 0.0 0.0 0.0625 0.0625 1\n",
      "Finished substituting S,lb,ub in 2.261937 seconds\n",
      "Finished makeME_LP in 0.365237 seconds\n",
      "Getting MINOS parameters from ME_NLP...\n",
      "5 0.0 0.0 0.03125 0.03125 1\n",
      "Finished substituting S,lb,ub in 2.252920 seconds\n",
      "Finished makeME_LP in 0.359539 seconds\n",
      "Getting MINOS parameters from ME_NLP...\n",
      "6 0.0 0.0 0.015625 0.015625 1\n",
      "Finished substituting S,lb,ub in 2.484005 seconds\n",
      "Finished makeME_LP in 0.384011 seconds\n",
      "Getting MINOS parameters from ME_NLP...\n",
      "7 0.0 0.0 0.0078125 0.0078125 1\n",
      "Bisection done in 1287.77 seconds\n",
      "Growth-rate = [0.828125, 0.8125, 0.7265625, 0.5703125, 0, 0, 0]\n"
     ]
    },
    {
     "data": {
      "text/plain": [
       "[0.828125, 0.8125, 0.7265625, 0.5703125, 0, 0, 0]"
      ]
     },
     "execution_count": 23,
     "metadata": {},
     "output_type": "execute_result"
    }
   ],
   "source": [
    "from contextlib import suppress\n",
    "\n",
    "Alpha = [0, 0.0001, 0.0005, 0.001, 0.005, 0.01, 0.05]\n",
    "growth_rate = []\n",
    "for x in Alpha:\n",
    "    print('\\nAlpha Flux # ',x)\n",
    "    me.reactions.get_by_id('DM_protein_Alpha').lower_bound = x\n",
    "    me.reactions.get_by_id('DM_protein_Alpha').upper_bound = x\n",
    "    temp = 0\n",
    "    with suppress(Exception):\n",
    "        solve_me_model(me, 1.0, min_mu = .01, precision=1e-2, using_soplex=False)\n",
    "        temp = me.solution.f    \n",
    "    growth_rate.append(temp)\n",
    "    print('Growth-rate =', growth_rate)\n",
    "    \n",
    "growth_rate"
   ]
  },
  {
   "cell_type": "code",
   "execution_count": 24,
   "metadata": {},
   "outputs": [
    {
     "data": {
      "image/png": "[encoded data removed]",
      "text/plain": [
       "<Figure size 432x288 with 1 Axes>"
      ]
     },
     "metadata": {},
     "output_type": "display_data"
    }
   ],
   "source": [
    "import matplotlib.pyplot as plt\n",
    "  \n",
    "# x axis values\n",
    "x = Alpha\n",
    "# corresponding y axis values\n",
    "y = growth_rate\n",
    "  \n",
    "# plotting the points \n",
    "plt.plot(x, y)\n",
    "  \n",
    "# naming the x axis\n",
    "plt.xlabel('Alpha External Flux')\n",
    "# naming the y axis\n",
    "plt.ylabel('Growth-rate')\n",
    "  \n",
    "# giving a title to my graph\n",
    "plt.title('Cell Growth-rate vs Alpha External Flux')\n",
    "  \n",
    "# function to show the plot\n",
    "plt.show()"
   ]
  },
  {
   "cell_type": "code",
   "execution_count": 25,
   "metadata": {
    "scrolled": true
   },
   "outputs": [
    {
     "name": "stdout",
     "output_type": "stream",
     "text": [
      "\n",
      "Alpha Flux #  0\n",
      "iter\tmuopt    \ta     \tb     \tmu1       \tstat1\n",
      "Finished compiling expressions in 34.137215 seconds\n",
      "Finished substituting S,lb,ub in 2.252379 seconds\n",
      "Finished makeME_LP in 0.357988 seconds\n",
      "Getting MINOS parameters from ME_NLP...\n",
      "1 0.5 0.5 1.0 0.5 optimal\n",
      "Finished substituting S,lb,ub in 2.410705 seconds\n",
      "Finished makeME_LP in 0.393480 seconds\n",
      "Getting MINOS parameters from ME_NLP...\n",
      "2 0.75 0.75 1.0 0.75 optimal\n",
      "Finished substituting S,lb,ub in 2.274788 seconds\n",
      "Finished makeME_LP in 0.363542 seconds\n",
      "Getting MINOS parameters from ME_NLP...\n",
      "3 0.75 0.75 0.875 0.875 1\n",
      "Finished substituting S,lb,ub in 2.289625 seconds\n",
      "Finished makeME_LP in 0.361925 seconds\n",
      "Getting MINOS parameters from ME_NLP...\n",
      "4 0.8125 0.8125 0.875 0.8125 optimal\n",
      "Finished substituting S,lb,ub in 2.280603 seconds\n",
      "Finished makeME_LP in 0.368685 seconds\n",
      "Getting MINOS parameters from ME_NLP...\n",
      "5 0.8125 0.8125 0.84375 0.84375 1\n",
      "Finished substituting S,lb,ub in 2.343206 seconds\n",
      "Finished makeME_LP in 0.360756 seconds\n",
      "Getting MINOS parameters from ME_NLP...\n",
      "6 0.828125 0.828125 0.84375 0.828125 optimal\n",
      "Finished substituting S,lb,ub in 2.279984 seconds\n",
      "Finished makeME_LP in 0.359360 seconds\n",
      "Getting MINOS parameters from ME_NLP...\n",
      "7 0.828125 0.828125 0.8359375 0.8359375 1\n",
      "Bisection done in 121.911 seconds\n",
      "Growth-rate = [0.828125]\n",
      "\n",
      "Alpha Flux #  0.001\n",
      "iter\tmuopt    \ta     \tb     \tmu1       \tstat1\n",
      "Finished compiling expressions in 33.749755 seconds\n",
      "Finished substituting S,lb,ub in 2.214149 seconds\n",
      "Finished makeME_LP in 0.361558 seconds\n",
      "Getting MINOS parameters from ME_NLP...\n",
      "1 0.5 0.5 1.0 0.5 optimal\n",
      "Finished substituting S,lb,ub in 2.325861 seconds\n",
      "Finished makeME_LP in 0.366585 seconds\n",
      "Getting MINOS parameters from ME_NLP...\n",
      "2 0.5 0.5 0.75 0.75 1\n",
      "Finished substituting S,lb,ub in 2.358117 seconds\n",
      "Finished makeME_LP in 0.366091 seconds\n",
      "Getting MINOS parameters from ME_NLP...\n",
      "3 0.5 0.5 0.625 0.625 1\n",
      "Finished substituting S,lb,ub in 2.351075 seconds\n",
      "Finished makeME_LP in 0.382626 seconds\n",
      "Getting MINOS parameters from ME_NLP...\n",
      "4 0.5625 0.5625 0.625 0.5625 optimal\n",
      "Finished substituting S,lb,ub in 2.356663 seconds\n",
      "Finished makeME_LP in 0.374350 seconds\n",
      "Getting MINOS parameters from ME_NLP...\n",
      "5 0.5625 0.5625 0.59375 0.59375 1\n",
      "Finished substituting S,lb,ub in 2.395061 seconds\n",
      "Finished makeME_LP in 0.366050 seconds\n",
      "Getting MINOS parameters from ME_NLP...\n",
      "6 0.5625 0.5625 0.578125 0.578125 1\n",
      "Finished substituting S,lb,ub in 2.349773 seconds\n",
      "Finished makeME_LP in 0.378521 seconds\n",
      "Getting MINOS parameters from ME_NLP...\n",
      "7 0.5703125 0.5703125 0.578125 0.5703125 optimal\n",
      "Bisection done in 124.636 seconds\n",
      "Growth-rate = [0.828125, 0.5703125]\n",
      "\n",
      "Alpha Flux #  0.00102\n",
      "iter\tmuopt    \ta     \tb     \tmu1       \tstat1\n",
      "Finished compiling expressions in 34.860576 seconds\n",
      "Finished substituting S,lb,ub in 2.361843 seconds\n",
      "Finished makeME_LP in 0.364868 seconds\n",
      "Getting MINOS parameters from ME_NLP...\n",
      "1 0.5 0.5 1.0 0.5 optimal\n",
      "Finished substituting S,lb,ub in 2.290494 seconds\n",
      "Finished makeME_LP in 0.371366 seconds\n",
      "Getting MINOS parameters from ME_NLP...\n",
      "2 0.5 0.5 0.75 0.75 1\n",
      "Finished substituting S,lb,ub in 2.326202 seconds\n",
      "Finished makeME_LP in 0.363108 seconds\n",
      "Getting MINOS parameters from ME_NLP...\n",
      "3 0.5 0.5 0.625 0.625 1\n",
      "Finished substituting S,lb,ub in 2.340729 seconds\n",
      "Finished makeME_LP in 0.367535 seconds\n",
      "Getting MINOS parameters from ME_NLP...\n",
      "4 0.5625 0.5625 0.625 0.5625 optimal\n",
      "Finished substituting S,lb,ub in 2.302587 seconds\n",
      "Finished makeME_LP in 0.369140 seconds\n",
      "Getting MINOS parameters from ME_NLP...\n",
      "5 0.5625 0.5625 0.59375 0.59375 1\n",
      "Finished substituting S,lb,ub in 2.317940 seconds\n",
      "Finished makeME_LP in 0.368111 seconds\n",
      "Getting MINOS parameters from ME_NLP...\n",
      "6 0.5625 0.5625 0.578125 0.578125 1\n",
      "Finished substituting S,lb,ub in 2.316766 seconds\n",
      "Finished makeME_LP in 0.372491 seconds\n",
      "Getting MINOS parameters from ME_NLP...\n",
      "7 0.5625 0.5625 0.5703125 0.5703125 1\n",
      "Bisection done in 125.718 seconds\n",
      "Growth-rate = [0.828125, 0.5703125, 0.5625]\n",
      "\n",
      "Alpha Flux #  0.00104\n",
      "iter\tmuopt    \ta     \tb     \tmu1       \tstat1\n",
      "Finished compiling expressions in 34.967493 seconds\n",
      "Finished substituting S,lb,ub in 2.374297 seconds\n",
      "Finished makeME_LP in 0.372761 seconds\n",
      "Getting MINOS parameters from ME_NLP...\n",
      "1 0.5 0.5 1.0 0.5 optimal\n",
      "Finished substituting S,lb,ub in 2.308923 seconds\n",
      "Finished makeME_LP in 0.365239 seconds\n",
      "Getting MINOS parameters from ME_NLP...\n",
      "2 0.5 0.5 0.75 0.75 1\n",
      "Finished substituting S,lb,ub in 2.325932 seconds\n",
      "Finished makeME_LP in 0.370431 seconds\n",
      "Getting MINOS parameters from ME_NLP...\n",
      "3 0.5 0.5 0.625 0.625 1\n",
      "Finished substituting S,lb,ub in 2.307119 seconds\n",
      "Finished makeME_LP in 0.368196 seconds\n",
      "Getting MINOS parameters from ME_NLP...\n",
      "4 0.5 0.5 0.5625 0.5625 1\n",
      "Finished substituting S,lb,ub in 2.353487 seconds\n",
      "Finished makeME_LP in 0.365573 seconds\n",
      "Getting MINOS parameters from ME_NLP...\n",
      "5 0.53125 0.53125 0.5625 0.53125 optimal\n",
      "Finished substituting S,lb,ub in 2.306268 seconds\n",
      "Finished makeME_LP in 0.364745 seconds\n",
      "Getting MINOS parameters from ME_NLP...\n",
      "6 0.546875 0.546875 0.5625 0.546875 optimal\n",
      "Finished substituting S,lb,ub in 2.325645 seconds\n",
      "Finished makeME_LP in 0.370806 seconds\n",
      "Getting MINOS parameters from ME_NLP...\n",
      "7 0.546875 0.546875 0.5546875 0.5546875 1\n",
      "Bisection done in 125.797 seconds\n",
      "Growth-rate = [0.828125, 0.5703125, 0.5625, 0.546875]\n",
      "\n",
      "Alpha Flux #  0.001045\n",
      "iter\tmuopt    \ta     \tb     \tmu1       \tstat1\n",
      "Finished compiling expressions in 34.655455 seconds\n",
      "Finished substituting S,lb,ub in 2.358693 seconds\n",
      "Finished makeME_LP in 0.365557 seconds\n",
      "Getting MINOS parameters from ME_NLP...\n",
      "1 0.5 0.5 1.0 0.5 optimal\n",
      "Finished substituting S,lb,ub in 2.316977 seconds\n",
      "Finished makeME_LP in 0.376904 seconds\n",
      "Getting MINOS parameters from ME_NLP...\n",
      "2 0.5 0.5 0.75 0.75 1\n",
      "Finished substituting S,lb,ub in 2.365861 seconds\n",
      "Finished makeME_LP in 0.371797 seconds\n",
      "Getting MINOS parameters from ME_NLP...\n",
      "3 0.5 0.5 0.625 0.625 1\n",
      "Finished substituting S,lb,ub in 2.367340 seconds\n",
      "Finished makeME_LP in 0.367314 seconds\n",
      "Getting MINOS parameters from ME_NLP...\n",
      "4 0.5 0.5 0.5625 0.5625 1\n",
      "Finished substituting S,lb,ub in 2.409628 seconds\n",
      "Finished makeME_LP in 0.367042 seconds\n",
      "Getting MINOS parameters from ME_NLP...\n",
      "5 0.53125 0.53125 0.5625 0.53125 optimal\n",
      "Finished substituting S,lb,ub in 2.453028 seconds\n",
      "Finished makeME_LP in 0.376702 seconds\n",
      "Getting MINOS parameters from ME_NLP...\n",
      "6 0.546875 0.546875 0.5625 0.546875 optimal\n",
      "Finished substituting S,lb,ub in 2.365003 seconds\n",
      "Finished makeME_LP in 0.373872 seconds\n",
      "Getting MINOS parameters from ME_NLP...\n",
      "7 0.546875 0.546875 0.5546875 0.5546875 1\n",
      "Bisection done in 126.759 seconds\n",
      "Growth-rate = [0.828125, 0.5703125, 0.5625, 0.546875, 0.546875]\n",
      "\n",
      "Alpha Flux #  0.00105\n",
      "iter\tmuopt    \ta     \tb     \tmu1       \tstat1\n",
      "Finished compiling expressions in 34.939501 seconds\n",
      "Finished substituting S,lb,ub in 2.383228 seconds\n",
      "Finished makeME_LP in 0.357049 seconds\n",
      "Getting MINOS parameters from ME_NLP...\n",
      "1 0.5 0.5 1.0 0.5 optimal\n",
      "Finished substituting S,lb,ub in 2.331559 seconds\n",
      "Finished makeME_LP in 0.376936 seconds\n",
      "Getting MINOS parameters from ME_NLP...\n",
      "2 0.5 0.5 0.75 0.75 1\n",
      "Finished substituting S,lb,ub in 2.368963 seconds\n",
      "Finished makeME_LP in 0.365064 seconds\n",
      "Getting MINOS parameters from ME_NLP...\n",
      "3 0.5 0.5 0.625 0.625 1\n",
      "Finished substituting S,lb,ub in 2.380283 seconds\n",
      "Finished makeME_LP in 0.364876 seconds\n",
      "Getting MINOS parameters from ME_NLP...\n",
      "4 0.5 0.5 0.5625 0.5625 1\n",
      "Finished substituting S,lb,ub in 2.301286 seconds\n",
      "Finished makeME_LP in 0.363493 seconds\n",
      "Getting MINOS parameters from ME_NLP...\n",
      "5 0.53125 0.53125 0.5625 0.53125 optimal\n",
      "Finished substituting S,lb,ub in 2.281840 seconds\n",
      "Finished makeME_LP in 0.360324 seconds\n",
      "Getting MINOS parameters from ME_NLP...\n",
      "6 0.546875 0.546875 0.5625 0.546875 optimal\n",
      "Finished substituting S,lb,ub in 2.304263 seconds\n",
      "Finished makeME_LP in 0.363507 seconds\n",
      "Getting MINOS parameters from ME_NLP...\n",
      "7 0.546875 0.546875 0.5546875 0.5546875 1\n",
      "Bisection done in 125.251 seconds\n",
      "Growth-rate = [0.828125, 0.5703125, 0.5625, 0.546875, 0.546875, 0.546875]\n",
      "\n",
      "Alpha Flux #  0.002\n",
      "iter\tmuopt    \ta     \tb     \tmu1       \tstat1\n",
      "Finished compiling expressions in 34.691763 seconds\n",
      "Finished substituting S,lb,ub in 2.249467 seconds\n",
      "Finished makeME_LP in 0.365972 seconds\n",
      "Getting MINOS parameters from ME_NLP...\n",
      "1 0.0 0.0 0.5 0.5 1\n"
     ]
    },
    {
     "name": "stdout",
     "output_type": "stream",
     "text": [
      "Finished substituting S,lb,ub in 2.321796 seconds\n",
      "Finished makeME_LP in 0.362799 seconds\n",
      "Getting MINOS parameters from ME_NLP...\n",
      "2 0.0 0.0 0.25 0.25 1\n",
      "Finished substituting S,lb,ub in 2.372416 seconds\n",
      "Finished makeME_LP in 0.361450 seconds\n",
      "Getting MINOS parameters from ME_NLP...\n",
      "3 0.0 0.0 0.125 0.125 1\n",
      "Finished substituting S,lb,ub in 2.290285 seconds\n",
      "Finished makeME_LP in 0.375129 seconds\n",
      "Getting MINOS parameters from ME_NLP...\n",
      "4 0.0 0.0 0.0625 0.0625 1\n",
      "Finished substituting S,lb,ub in 2.379379 seconds\n",
      "Finished makeME_LP in 0.373367 seconds\n",
      "Getting MINOS parameters from ME_NLP...\n",
      "5 0.0 0.0 0.03125 0.03125 1\n",
      "Finished substituting S,lb,ub in 2.365396 seconds\n",
      "Finished makeME_LP in 0.364998 seconds\n",
      "Getting MINOS parameters from ME_NLP...\n",
      "6 0.0 0.0 0.015625 0.015625 1\n",
      "Finished substituting S,lb,ub in 2.371260 seconds\n",
      "Finished makeME_LP in 0.377369 seconds\n",
      "Getting MINOS parameters from ME_NLP...\n",
      "7 0.0 0.0 0.0078125 0.0078125 1\n",
      "Bisection done in 531.578 seconds\n",
      "Growth-rate = [0.828125, 0.5703125, 0.5625, 0.546875, 0.546875, 0.546875, 0]\n"
     ]
    },
    {
     "data": {
      "text/plain": [
       "[0.828125, 0.5703125, 0.5625, 0.546875, 0.546875, 0.546875, 0]"
      ]
     },
     "execution_count": 25,
     "metadata": {},
     "output_type": "execute_result"
    }
   ],
   "source": [
    "from contextlib import suppress\n",
    "\n",
    "Alpha = [0, 0.001, 0.00102, 0.00104, 0.001045, 0.00105, 0.002]\n",
    "growth_rate2 = []\n",
    "for x in Alpha:\n",
    "    print('\\nAlpha Flux # ',x)\n",
    "    me.reactions.get_by_id('DM_protein_Alpha').lower_bound = x\n",
    "    me.reactions.get_by_id('DM_protein_Alpha').upper_bound = x\n",
    "    temp = 0\n",
    "    with suppress(Exception):\n",
    "        solve_me_model(me, 1.0, min_mu = .01, precision=1e-2, using_soplex=False)\n",
    "        temp = me.solution.f    \n",
    "    growth_rate2.append(temp)\n",
    "    print('Growth-rate =', growth_rate2)\n",
    "    \n",
    "growth_rate2"
   ]
  },
  {
   "cell_type": "code",
   "execution_count": 27,
   "metadata": {},
   "outputs": [
    {
     "data": {
      "image/png": "[encoded data removed]",
      "text/plain": [
       "<Figure size 504x288 with 1 Axes>"
      ]
     },
     "metadata": {},
     "output_type": "display_data"
    }
   ],
   "source": [
    "import matplotlib.pyplot as plt\n",
    "  \n",
    "# x axis values\n",
    "x = Alpha\n",
    "# corresponding y axis values\n",
    "y = growth_rate2\n",
    "\n",
    "plt.figure(figsize=(7,4))\n",
    "  \n",
    "# plotting the points \n",
    "plt.plot(x, y)\n",
    "  \n",
    "# naming the x axis\n",
    "plt.xlabel('Alpha External Flux')\n",
    "# naming the y axis\n",
    "plt.ylabel('Growth-rate')\n",
    "  \n",
    "# giving a title to my graph\n",
    "plt.title('Cell Growth-rate vs Alpha External Flux')\n",
    "  \n",
    "# function to show the plot\n",
    "plt.show()"
   ]
  },
  {
   "cell_type": "code",
   "execution_count": null,
   "metadata": {},
   "outputs": [],
   "source": []
  }
 ],
 "metadata": {
  "kernelspec": {
   "display_name": "Python 3",
   "language": "python",
   "name": "python3"
  },
  "language_info": {
   "codemirror_mode": {
    "name": "ipython",
    "version": 3
   },
   "file_extension": ".py",
   "mimetype": "text/x-python",
   "name": "python",
   "nbconvert_exporter": "python",
   "pygments_lexer": "ipython3",
   "version": "3.6.1"
  }
 },
 "nbformat": 4,
 "nbformat_minor": 2
}
