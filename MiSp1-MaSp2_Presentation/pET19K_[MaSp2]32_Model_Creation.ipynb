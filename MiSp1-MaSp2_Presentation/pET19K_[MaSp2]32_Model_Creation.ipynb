{
 "cells": [
  {
   "cell_type": "markdown",
   "metadata": {},
   "source": [
    "# pET19K_[MaSp2]32 Model Creation"
   ]
  },
  {
   "cell_type": "markdown",
   "metadata": {},
   "source": [
    "## 1. Load the python packages"
   ]
  },
  {
   "cell_type": "code",
   "execution_count": 1,
   "metadata": {},
   "outputs": [
    {
     "name": "stderr",
     "output_type": "stream",
     "text": [
      "/usr/lib/python3.6/site-packages/cobra-0.5.11-py3.6-linux-x86_64.egg/cobra/solvers/__init__.py:63: UserWarning: No LP solvers found\n",
      "  warn(\"No LP solvers found\")\n",
      "/usr/lib/python3.6/site-packages/cobra-0.5.11-py3.6-linux-x86_64.egg/cobra/io/sbml3.py:24: UserWarning: Install lxml for faster SBML I/O\n",
      "  warn(\"Install lxml for faster SBML I/O\")\n",
      "/usr/lib/python3.6/site-packages/cobra-0.5.11-py3.6-linux-x86_64.egg/cobra/io/__init__.py:12: UserWarning: cobra.io.sbml requires libsbml\n",
      "  warn(\"cobra.io.sbml requires libsbml\")\n"
     ]
    }
   ],
   "source": [
    "from __future__ import print_function, division, absolute_import\n",
    "\n",
    "# python imports\n",
    "import re\n",
    "from os.path import join\n",
    "from collections import defaultdict\n",
    "import pickle\n",
    "import pandas as pd\n",
    "\n",
    "# third party imports\n",
    "import pandas\n",
    "import tabulate\n",
    "import cobra\n",
    "pd.set_option('display.max_columns', 100)\n",
    "pd.set_option('display.width',100)\n",
    "pd.set_option('display.max_colwidth',300)\n",
    "\n",
    "# ECOLIme\n",
    "import ecolime\n",
    "from ecolime import (transcription, translation, flat_files, generics, formulas, compartments)\n",
    "\n",
    "# COBRAme\n",
    "import cobrame\n",
    "from cobrame.util import building, mu, me_model_interface\n",
    "#from cobrame.io.json import save_json_me_model, save_reduced_json_me_model"
   ]
  },
  {
   "cell_type": "markdown",
   "metadata": {},
   "source": [
    "## 2. Load the iJL1678b model\n",
    "\n",
    "Load the iJL1678b model in pickle format that is located in the current directory."
   ]
  },
  {
   "cell_type": "code",
   "execution_count": 2,
   "metadata": {},
   "outputs": [],
   "source": [
    "with open('iJL1678b.pickle', 'rb') as f:\n",
    "    me = pickle.load(f)"
   ]
  },
  {
   "cell_type": "markdown",
   "metadata": {},
   "source": [
    "## 3. Define ME-Model Solve Functions"
   ]
  },
  {
   "cell_type": "code",
   "execution_count": 3,
   "metadata": {},
   "outputs": [],
   "source": [
    "def solve_me_model(me, max_mu, precision=1e-6, min_mu=0, using_soplex=False,\n",
    "                  compiled_expressions=None):\n",
    "    if using_soplex:\n",
    "        from cobrame.solve.algorithms import binary_search\n",
    "        binary_search(me, min_mu=min_mu, max_mu=max_mu, debug=True, mu_accuracy=precision,\n",
    "                      compiled_expressions=compiled_expressions)\n",
    "    else:\n",
    "        from qminospy.me1 import ME_NLP1\n",
    "        # The object containing solveME methods--composite that uses a ME model object \n",
    "        me_nlp = ME_NLP1(me, growth_key='mu')\n",
    "        # Use bisection for now (until the NLP formulation is worked out)\n",
    "        muopt, hs, xopt, cache = me_nlp.bisectmu(precision=precision, mumax=max_mu)\n",
    "        me.solution.f = me.solution.x_dict['biomass_dilution']\n",
    "        \n",
    "def show_escher_map(me, solution=None):\n",
    "    import escher\n",
    "    view = escher.Builder(\"iJO1366.Central metabolism\")\n",
    "    view.reaction_data = me.get_metabolic_flux(solution=solution)\n",
    "    return view"
   ]
  },
  {
   "cell_type": "markdown",
   "metadata": {},
   "source": [
    "## 4. Create the MaSp2 Transcription Reaction\n",
    "\n",
    "Complete the steps necessary to create the MaSp2 Transcription Reaction"
   ]
  },
  {
   "cell_type": "code",
   "execution_count": 4,
   "metadata": {},
   "outputs": [
    {
     "name": "stdout",
     "output_type": "stream",
     "text": [
      "549 atp_c + 1570 ctp_c + 1218 gtp_c + 767 utp_c --> RNA_MaSp2 + 1311.0214523240002 mRNA_biomass + 4104 ppi_c\n"
     ]
    },
    {
     "name": "stderr",
     "output_type": "stream",
     "text": [
      "/source/cobrame/cobrame/core/reaction.py:852 \u001b[1;31mUserWarning\u001b[0m: RNA Polymerase () not found\n"
     ]
    }
   ],
   "source": [
    "locus_id = 'MaSp2'\n",
    "left_pos =  None\n",
    "right_pos = None\n",
    "seq = 'ATGACCGGTCCGGGTCAGCAGGGTCCGGGTGGTTATGGTCCTGGCCAGCAGGGACCGAGCGGTCCGGGTAGTGCAGCAGCAGCTGCAGCAGCCGCAGGCCCTGGTCAGCAAGGCCCTGGTGGATATGGACCAGGCCAACAGGGTCCTGGCGGATACGGTCCTGGTCAACAAGGTCCGTCAGGTCCGGGTTCAGCCGCAGCGGCTGCTGCCGCAGCAGGTCCAGGTGGCTACGGACCGGGTCAACAGGGACCCGGTGGGTACGGACCAGGACAGCAAGGGCCAGGCGGTTATGGCCCTGGACAACAAGGGCCTAGTGGTCCTGGTTCTGCAGCGGCAGCCGCTGCGGCAGCTGGTCCGGGACAGCAAGGACCCGGTGGATACGGTCCCGGTCAGCAGGGACCTGGCGGTTACGGACCCGGACAACAGGGTCCATCTGGTCCTGGTAGCGCAGCCGCAGCAGCAGCGGCTGCAGGTCCAGGACAACAAGGTCCTGGTGGGTATGGTCCAGGGCAGCAAGGTCCGAGTGGTCCAGGCTCTGCGGCAGCGGCAGCAGCAGCAGCGGGACCTGGTCAACAGGGTCCAGGGGGATATGGCCCAGGTCAGCAAGGACCGGGTGGCTATGGGCCAGGTCAACAAGGCCCTAGCGGTCCGGGATCTGCCGCAGCTGCAGCGGCAGCGGCAGGTCCTGGCGGTTATGGACCAGGTCAGCAGGGTCCCGGTGGCTACGGTCCCGGACAACAAGGCCCAGGGGGTTACGGACCTGGCCAGCAAGGTCCTTCTGGACCGGGAAGCGCTGCAGCCGCAGCAGCTGCAGCCGGTCCAGGCCAGCAAGGGCCTGGGGGTTACGGTCCGGGTCAGCAAGGCCCAGGCGGATACGGTCCAGGACAACAGGGACCAAGTGGTCCGGGATCAGCAGCCGCTGCCGCAGCGGCAGCCGGTCCCGGTCAACAAGGACCTGGTGGCTACGGTCCTGGGCAACAGGGTCCTAGCGGTCCAGGGTCAGCAGCAGCAGCCGCAGCTGCAGCATCCGGTCCGGGTCAGCAGGGTCCGGGTGGTTATGGTCCTGGCCAGCAGGGACCGAGCGGTCCGGGTAGTGCAGCAGCAGCTGCAGCAGCCGCAGGCCCTGGTCAGCAAGGCCCTGGTGGATATGGACCAGGCCAACAGGGTCCTGGCGGATACGGTCCTGGTCAACAAGGTCCGTCAGGTCCGGGTTCAGCCGCAGCGGCTGCTGCCGCAGCAGGTCCAGGTGGCTACGGACCGGGTCAACAGGGACCCGGTGGGTACGGACCAGGACAGCAAGGGCCAGGCGGTTATGGCCCTGGACAACAAGGGCCTAGTGGTCCTGGTTCTGCAGCGGCAGCCGCTGCGGCAGCTGGTCCGGGACAGCAAGGACCCGGTGGATACGGTCCCGGTCAGCAGGGACCTGGCGGTTACGGACCCGGACAACAGGGTCCATCTGGTCCTGGTAGCGCAGCCGCAGCAGCAGCGGCTGCAGGTCCAGGACAACAAGGTCCTGGTGGGTATGGTCCAGGGCAGCAAGGTCCGAGTGGTCCAGGCTCTGCGGCAGCGGCAGCAGCAGCAGCGGGACCTGGTCAACAGGGTCCAGGGGGATATGGCCCAGGTCAGCAAGGACCGGGTGGCTATGGGCCAGGTCAACAAGGCCCTAGCGGTCCGGGATCTGCCGCAGCTGCAGCGGCAGCGGCAGGTCCTGGCGGTTATGGACCAGGTCAGCAGGGTCCCGGTGGCTACGGTCCCGGACAACAAGGCCCAGGGGGTTACGGACCTGGCCAGCAAGGTCCTTCTGGACCGGGAAGCGCTGCAGCCGCAGCAGCTGCAGCCGGTCCAGGCCAGCAAGGGCCTGGGGGTTACGGTCCGGGTCAGCAAGGCCCAGGCGGATACGGTCCAGGACAACAGGGACCAAGTGGTCCGGGATCAGCAGCCGCTGCCGCAGCGGCAGCCGGTCCCGGTCAACAAGGACCTGGTGGCTACGGTCCTGGGCAACAGGGTCCTAGCGGTCCAGGGTCAGCAGCAGCAGCCGCAGCTGCAGCATCCGGTCCGGGTCAGCAGGGTCCGGGTGGTTATGGTCCTGGCCAGCAGGGACCGAGCGGTCCGGGTAGTGCAGCAGCAGCTGCAGCAGCCGCAGGCCCTGGTCAGCAAGGCCCTGGTGGATATGGACCAGGCCAACAGGGTCCTGGCGGATACGGTCCTGGTCAACAAGGTCCGTCAGGTCCGGGTTCAGCCGCAGCGGCTGCTGCCGCAGCAGGTCCAGGTGGCTACGGACCGGGTCAACAGGGACCCGGTGGGTACGGACCAGGACAGCAAGGGCCAGGCGGTTATGGCCCTGGACAACAAGGGCCTAGTGGTCCTGGTTCTGCAGCGGCAGCCGCTGCGGCAGCTGGTCCGGGACAGCAAGGACCCGGTGGATACGGTCCCGGTCAGCAGGGACCTGGCGGTTACGGACCCGGACAACAGGGTCCATCTGGTCCTGGTAGCGCAGCCGCAGCAGCAGCGGCTGCAGGTCCAGGACAACAAGGTCCTGGTGGGTATGGTCCAGGGCAGCAAGGTCCGAGTGGTCCAGGCTCTGCGGCAGCGGCAGCAGCAGCAGCGGGACCTGGTCAACAGGGTCCAGGGGGATATGGCCCAGGTCAGCAAGGACCGGGTGGCTATGGGCCAGGTCAACAAGGCCCTAGCGGTCCGGGATCTGCCGCAGCTGCAGCGGCAGCGGCAGGTCCTGGCGGTTATGGACCAGGTCAGCAGGGTCCCGGTGGCTACGGTCCCGGACAACAAGGCCCAGGGGGTTACGGACCTGGCCAGCAAGGTCCTTCTGGACCGGGAAGCGCTGCAGCCGCAGCAGCTGCAGCCGGTCCAGGCCAGCAAGGGCCTGGGGGTTACGGTCCGGGTCAGCAAGGCCCAGGCGGATACGGTCCAGGACAACAGGGACCAAGTGGTCCGGGATCAGCAGCCGCTGCCGCAGCGGCAGCCGGTCCCGGTCAACAAGGACCTGGTGGCTACGGTCCTGGGCAACAGGGTCCTAGCGGTCCAGGGTCAGCAGCAGCAGCCGCAGCTGCAGCATCCGGTCCGGGTCAGCAGGGTCCGGGTGGTTATGGTCCTGGCCAGCAGGGACCGAGCGGTCCGGGTAGTGCAGCAGCAGCTGCAGCAGCCGCAGGCCCTGGTCAGCAAGGCCCTGGTGGATATGGACCAGGCCAACAGGGTCCTGGCGGATACGGTCCTGGTCAACAAGGTCCGTCAGGTCCGGGTTCAGCCGCAGCGGCTGCTGCCGCAGCAGGTCCAGGTGGCTACGGACCGGGTCAACAGGGACCCGGTGGGTACGGACCAGGACAGCAAGGGCCAGGCGGTTATGGCCCTGGACAACAAGGGCCTAGTGGTCCTGGTTCTGCAGCGGCAGCCGCTGCGGCAGCTGGTCCGGGACAGCAAGGACCCGGTGGATACGGTCCCGGTCAGCAGGGACCTGGCGGTTACGGACCCGGACAACAGGGTCCATCTGGTCCTGGTAGCGCAGCCGCAGCAGCAGCGGCTGCAGGTCCAGGACAACAAGGTCCTGGTGGGTATGGTCCAGGGCAGCAAGGTCCGAGTGGTCCAGGCTCTGCGGCAGCGGCAGCAGCAGCAGCGGGACCTGGTCAACAGGGTCCAGGGGGATATGGCCCAGGTCAGCAAGGACCGGGTGGCTATGGGCCAGGTCAACAAGGCCCTAGCGGTCCGGGATCTGCCGCAGCTGCAGCGGCAGCGGCAGGTCCTGGCGGTTATGGACCAGGTCAGCAGGGTCCCGGTGGCTACGGTCCCGGACAACAAGGCCCAGGGGGTTACGGACCTGGCCAGCAAGGTCCTTCTGGACCGGGAAGCGCTGCAGCCGCAGCAGCTGCAGCCGGTCCAGGCCAGCAAGGGCCTGGGGGTTACGGTCCGGGTCAGCAAGGCCCAGGCGGATACGGTCCAGGACAACAGGGACCAAGTGGTCCGGGATCAGCAGCCGCTGCCGCAGCGGCAGCCGGTCCCGGTCAACAAGGACCTGGTGGCTACGGTCCTGGGCAACAGGGTCCTAGCGGTCCAGGGTCAGCAGCAGCAGCCGCAGCTGCAGCATCCGGAGGG'\n",
    "strand = None\n",
    "rna_type = 'mRNA'\n",
    "\n",
    "building.create_transcribed_gene(me, locus_id, rna_type, seq)\n",
    "building.add_transcription_reaction(me, 'TU_MaSp2', {'MaSp2'}, seq)\n",
    "print(me.reactions.transcription_TU_MaSp2.reaction)\n",
    "me.reactions.transcription_TU_MaSp2.update()"
   ]
  },
  {
   "cell_type": "markdown",
   "metadata": {},
   "source": [
    "###  Add the RNAP to the MaSp2 Transcription Reaction"
   ]
  },
  {
   "cell_type": "code",
   "execution_count": 5,
   "metadata": {},
   "outputs": [],
   "source": [
    "me.reactions.transcription_TU_MaSp2.transcription_data.RNA_polymerase = 'RNAP70-CPLX'\n",
    "me.reactions.transcription_TU_MaSp2.update()"
   ]
  },
  {
   "cell_type": "markdown",
   "metadata": {},
   "source": [
    "List the transcription data (\"transcription_data\") associated with the MaSp2 transcription reaction (\"transcription_TU_MaSp2\")."
   ]
  },
  {
   "cell_type": "code",
   "execution_count": 6,
   "metadata": {},
   "outputs": [
    {
     "data": {
      "text/html": [
       "<div>\n",
       "<style scoped>\n",
       "    .dataframe tbody tr th:only-of-type {\n",
       "        vertical-align: middle;\n",
       "    }\n",
       "\n",
       "    .dataframe tbody tr th {\n",
       "        vertical-align: top;\n",
       "    }\n",
       "\n",
       "    .dataframe thead th {\n",
       "        text-align: right;\n",
       "    }\n",
       "</style>\n",
       "<table border=\"1\" class=\"dataframe\">\n",
       "  <thead>\n",
       "    <tr style=\"text-align: right;\">\n",
       "      <th></th>\n",
       "      <th>Attribute Values</th>\n",
       "    </tr>\n",
       "  </thead>\n",
       "  <tbody>\n",
       "    <tr>\n",
       "      <th>id</th>\n",
       "      <td>TU_MaSp2</td>\n",
       "    </tr>\n",
       "    <tr>\n",
       "      <th>_model</th>\n",
       "      <td>iJL1678b-ME</td>\n",
       "    </tr>\n",
       "    <tr>\n",
       "      <th>_parent_reactions</th>\n",
       "      <td>{'transcription_TU_MaSp2'}</td>\n",
       "    </tr>\n",
       "    <tr>\n",
       "      <th>nucleotide_sequence</th>\n",
       "      <td>ATGACCGGTCCGGGTCAGCAGGGTCCGGGTGGTTATGGTCCTGGCCAGCAGGGACCGAGCGGTCCGGGTAGTGCAGCAGCAGCTGCAGCAGCCGCAGGCCCTGGTCAGCAAGGCCCTGGTGGATATGGACCAGGCCAACAGGGTCCTGGCGGATACGGTCCTGGTCAACAAGGTCCGTCAGGTCCGGGTTCAGCCGCAGCGGCTGCTGCCGCAGCAGGTCCAGGTGGCTACGGACCGGGTCAACAGGGACCCGGTGGGTACGGACCAGGACAGCAAGGGCCAGGCGGTTATGGCCC...</td>\n",
       "    </tr>\n",
       "    <tr>\n",
       "      <th>RNA_products</th>\n",
       "      <td>{'RNA_MaSp2'}</td>\n",
       "    </tr>\n",
       "    <tr>\n",
       "      <th>RNA_polymerase</th>\n",
       "      <td>RNAP70-CPLX</td>\n",
       "    </tr>\n",
       "    <tr>\n",
       "      <th>subreactions</th>\n",
       "      <td>defaultdict(&lt;class 'int'&gt;, {})</td>\n",
       "    </tr>\n",
       "  </tbody>\n",
       "</table>\n",
       "</div>"
      ],
      "text/plain": [
       "                                                                                                                                                                                                                                                                                                                Attribute Values\n",
       "id                                                                                                                                                                                                                                                                                                                      TU_MaSp2\n",
       "_model                                                                                                                                                                                                                                                                                                               iJL1678b-ME\n",
       "_parent_reactions                                                                                                                                                                                                                                                                                     {'transcription_TU_MaSp2'}\n",
       "nucleotide_sequence  ATGACCGGTCCGGGTCAGCAGGGTCCGGGTGGTTATGGTCCTGGCCAGCAGGGACCGAGCGGTCCGGGTAGTGCAGCAGCAGCTGCAGCAGCCGCAGGCCCTGGTCAGCAAGGCCCTGGTGGATATGGACCAGGCCAACAGGGTCCTGGCGGATACGGTCCTGGTCAACAAGGTCCGTCAGGTCCGGGTTCAGCCGCAGCGGCTGCTGCCGCAGCAGGTCCAGGTGGCTACGGACCGGGTCAACAGGGACCCGGTGGGTACGGACCAGGACAGCAAGGGCCAGGCGGTTATGGCCC...\n",
       "RNA_products                                                                                                                                                                                                                                                                                                       {'RNA_MaSp2'}\n",
       "RNA_polymerase                                                                                                                                                                                                                                                                                                       RNAP70-CPLX\n",
       "subreactions                                                                                                                                                                                                                                                                                      defaultdict(<class 'int'>, {})"
      ]
     },
     "execution_count": 6,
     "metadata": {},
     "output_type": "execute_result"
    }
   ],
   "source": [
    "rxn = me.reactions.transcription_TU_MaSp2\n",
    "data = rxn.transcription_data\n",
    "pd.DataFrame({i: str(v) for i, v in data.__dict__.items()}, index=['Attribute Values']).T"
   ]
  },
  {
   "cell_type": "markdown",
   "metadata": {},
   "source": [
    "List the attributes of the MaSp2 transcription reaction."
   ]
  },
  {
   "cell_type": "code",
   "execution_count": 7,
   "metadata": {},
   "outputs": [
    {
     "data": {
      "text/html": [
       "<div>\n",
       "<style scoped>\n",
       "    .dataframe tbody tr th:only-of-type {\n",
       "        vertical-align: middle;\n",
       "    }\n",
       "\n",
       "    .dataframe tbody tr th {\n",
       "        vertical-align: top;\n",
       "    }\n",
       "\n",
       "    .dataframe thead th {\n",
       "        text-align: right;\n",
       "    }\n",
       "</style>\n",
       "<table border=\"1\" class=\"dataframe\">\n",
       "  <thead>\n",
       "    <tr style=\"text-align: right;\">\n",
       "      <th></th>\n",
       "      <th>Attribute Values</th>\n",
       "    </tr>\n",
       "  </thead>\n",
       "  <tbody>\n",
       "    <tr>\n",
       "      <th>id</th>\n",
       "      <td>transcription_TU_MaSp2</td>\n",
       "    </tr>\n",
       "    <tr>\n",
       "      <th>name</th>\n",
       "      <td></td>\n",
       "    </tr>\n",
       "    <tr>\n",
       "      <th>notes</th>\n",
       "      <td>{}</td>\n",
       "    </tr>\n",
       "    <tr>\n",
       "      <th>annotation</th>\n",
       "      <td>{}</td>\n",
       "    </tr>\n",
       "    <tr>\n",
       "      <th>_gene_reaction_rule</th>\n",
       "      <td></td>\n",
       "    </tr>\n",
       "    <tr>\n",
       "      <th>subsystem</th>\n",
       "      <td></td>\n",
       "    </tr>\n",
       "    <tr>\n",
       "      <th>_genes</th>\n",
       "      <td>set()</td>\n",
       "    </tr>\n",
       "    <tr>\n",
       "      <th>_metabolites</th>\n",
       "      <td>{&lt;RNAP RNAP70-CPLX at 0x7f2c7f7ee390&gt;: -0.0196124982794219*mu - 0.00767829307639367, &lt;TranscribedGene RNA_MaSp2 at 0x7f2c7f919518&gt;: 1, &lt;Metabolite utp_c at 0x7f2c7f7eee10&gt;: -767, &lt;Metabolite atp_c at 0x7f2c7f7ee9b0&gt;: -549, &lt;Metabolite ctp_c at 0x7f2c7f7eeef0&gt;: -1570, &lt;Metabolite gtp_c at 0x7f2c7...</td>\n",
       "    </tr>\n",
       "    <tr>\n",
       "      <th>_model</th>\n",
       "      <td>iJL1678b-ME</td>\n",
       "    </tr>\n",
       "    <tr>\n",
       "      <th>_objective_coefficient</th>\n",
       "      <td>0.0</td>\n",
       "    </tr>\n",
       "    <tr>\n",
       "      <th>upper_bound</th>\n",
       "      <td>1000.0</td>\n",
       "    </tr>\n",
       "    <tr>\n",
       "      <th>lower_bound</th>\n",
       "      <td>0.0</td>\n",
       "    </tr>\n",
       "    <tr>\n",
       "      <th>variable_kind</th>\n",
       "      <td>continuous</td>\n",
       "    </tr>\n",
       "    <tr>\n",
       "      <th>_transcription_data</th>\n",
       "      <td>&lt;TranscriptionData TU_MaSp2 at 0x7f2c7f919470&gt;</td>\n",
       "    </tr>\n",
       "  </tbody>\n",
       "</table>\n",
       "</div>"
      ],
      "text/plain": [
       "                                                                                                                                                                                                                                                                                                                   Attribute Values\n",
       "id                                                                                                                                                                                                                                                                                                           transcription_TU_MaSp2\n",
       "name                                                                                                                                                                                                                                                                                                                               \n",
       "notes                                                                                                                                                                                                                                                                                                                            {}\n",
       "annotation                                                                                                                                                                                                                                                                                                                       {}\n",
       "_gene_reaction_rule                                                                                                                                                                                                                                                                                                                \n",
       "subsystem                                                                                                                                                                                                                                                                                                                          \n",
       "_genes                                                                                                                                                                                                                                                                                                                        set()\n",
       "_metabolites            {<RNAP RNAP70-CPLX at 0x7f2c7f7ee390>: -0.0196124982794219*mu - 0.00767829307639367, <TranscribedGene RNA_MaSp2 at 0x7f2c7f919518>: 1, <Metabolite utp_c at 0x7f2c7f7eee10>: -767, <Metabolite atp_c at 0x7f2c7f7ee9b0>: -549, <Metabolite ctp_c at 0x7f2c7f7eeef0>: -1570, <Metabolite gtp_c at 0x7f2c7...\n",
       "_model                                                                                                                                                                                                                                                                                                                  iJL1678b-ME\n",
       "_objective_coefficient                                                                                                                                                                                                                                                                                                          0.0\n",
       "upper_bound                                                                                                                                                                                                                                                                                                                  1000.0\n",
       "lower_bound                                                                                                                                                                                                                                                                                                                     0.0\n",
       "variable_kind                                                                                                                                                                                                                                                                                                            continuous\n",
       "_transcription_data                                                                                                                                                                                                                                                                  <TranscriptionData TU_MaSp2 at 0x7f2c7f919470>"
      ]
     },
     "execution_count": 7,
     "metadata": {},
     "output_type": "execute_result"
    }
   ],
   "source": [
    "rxn = me.reactions.transcription_TU_MaSp2\n",
    "data = rxn\n",
    "pd.DataFrame({i: str(v) for i, v in data.__dict__.items()}, index=['Attribute Values']).T"
   ]
  },
  {
   "cell_type": "markdown",
   "metadata": {},
   "source": [
    "List the complete reaction associated with the MaSp2 transcription reaction."
   ]
  },
  {
   "cell_type": "code",
   "execution_count": 8,
   "metadata": {},
   "outputs": [
    {
     "data": {
      "text/plain": [
       "'0.0196124982794219*mu + 0.00767829307639367 RNAP70-CPLX + 549 atp_c + 1570 ctp_c + 1218 gtp_c + 767 utp_c --> RNA_MaSp2 + 1311.0214523240002 mRNA_biomass + 4104 ppi_c'"
      ]
     },
     "execution_count": 8,
     "metadata": {},
     "output_type": "execute_result"
    }
   ],
   "source": [
    "me.reactions.get_by_id('transcription_TU_MaSp2').reaction"
   ]
  },
  {
   "cell_type": "markdown",
   "metadata": {},
   "source": [
    "List the RNAP associated with the MaSp2 transcription reaction"
   ]
  },
  {
   "cell_type": "code",
   "execution_count": 9,
   "metadata": {},
   "outputs": [
    {
     "data": {
      "text/plain": [
       "'RNAP70-CPLX'"
      ]
     },
     "execution_count": 9,
     "metadata": {},
     "output_type": "execute_result"
    }
   ],
   "source": [
    "me.reactions.transcription_TU_MaSp2.transcription_data.RNA_polymerase"
   ]
  },
  {
   "cell_type": "markdown",
   "metadata": {},
   "source": [
    "## 5. Create the MaSp2 Translation Reaction"
   ]
  },
  {
   "cell_type": "markdown",
   "metadata": {},
   "source": [
    "Complete all the steps necessary to create the MaSp2 Translation Reaction"
   ]
  },
  {
   "cell_type": "markdown",
   "metadata": {},
   "source": [
    "### Storing information about a translation reaction"
   ]
  },
  {
   "cell_type": "code",
   "execution_count": 10,
   "metadata": {},
   "outputs": [],
   "source": [
    "data = cobrame.TranslationData('MaSp2', me, 'RNA_MaSp2', 'protein_MaSp2')\n",
    "data.nucleotide_sequence = seq"
   ]
  },
  {
   "cell_type": "markdown",
   "metadata": {},
   "source": [
    "### Create translation reaction\n",
    "\n",
    "By associating the TranslationReaction with its corresponding TranslationData object and running the update function, COBRAme will create a translation reaction for the nucleotide sequence given based on the organisms codon table and prespecified translation machinery."
   ]
  },
  {
   "cell_type": "code",
   "execution_count": 11,
   "metadata": {},
   "outputs": [],
   "source": [
    "rxn = cobrame.TranslationReaction('translation_MaSp2')\n",
    "rxn.translation_data = data\n",
    "me.add_reaction(rxn)"
   ]
  },
  {
   "cell_type": "markdown",
   "metadata": {},
   "source": [
    "### Updating the translation reaction\n",
    "\n",
    "Note that this process does not include the ribosome in the reaction."
   ]
  },
  {
   "cell_type": "code",
   "execution_count": 12,
   "metadata": {},
   "outputs": [
    {
     "name": "stdout",
     "output_type": "stream",
     "text": [
      "0.000498399634202103*mu + 0.000195123456790123 + 0.00598079561042524*(mu + 0.3915)/mu RNA_MaSp2 + 2.55589556001079e-8*mu + 1.00063311174422e-8 RNA_degradosome + 288 ala__L_c + 6.13480109739369*(mu + 0.3915)/mu atp_c + 192 gln__L_c + 506 gly_c + 7.84095134723271*(mu + 0.3915)/mu mRNA_biomass + met__L_c + 236 pro__L_c + 0.0196124982794219*mu + 0.00767829307639367 ribosome + 76 ser__L_c + thr__L_c + 68 tyr__L_c --> 6.13480109739369*(mu + 0.3915)/mu adp_c + 3.28345679012346*(mu + 0.3915)/mu amp_c + 9.38984910836763*(mu + 0.3915)/mu cmp_c + 7.28460905349794*(mu + 0.3915)/mu gmp_c + 1367.0 - 6.13480109739369*(mu + 0.3915)/mu h2o_c + 6.13480109739369*(mu + 0.3915)/mu h_c + 6.13480109739369*(mu + 0.3915)/mu pi_c + protein_MaSp2 + 114.82236754 protein_biomass + 4.58727023319616*(mu + 0.3915)/mu ump_c\n"
     ]
    }
   ],
   "source": [
    "rxn.update()\n",
    "print(rxn.reaction)"
   ]
  },
  {
   "cell_type": "markdown",
   "metadata": {},
   "source": [
    "### Incorporate the ribosome\n",
    "\n",
    "Add the ribosome to the reaction."
   ]
  },
  {
   "cell_type": "code",
   "execution_count": 13,
   "metadata": {},
   "outputs": [
    {
     "name": "stdout",
     "output_type": "stream",
     "text": [
      "0.000498399634202103*mu + 0.000195123456790123 + 0.00598079561042524*(mu + 0.3915)/mu RNA_MaSp2 + 2.55589556001079e-8*mu + 1.00063311174422e-8 RNA_degradosome + 288 ala__L_c + 6.13480109739369*(mu + 0.3915)/mu atp_c + 192 gln__L_c + 506 gly_c + 7.84095134723271*(mu + 0.3915)/mu mRNA_biomass + met__L_c + 236 pro__L_c + 0.0196124982794219*mu + 0.00767829307639367 ribosome + 76 ser__L_c + thr__L_c + 68 tyr__L_c --> 6.13480109739369*(mu + 0.3915)/mu adp_c + 3.28345679012346*(mu + 0.3915)/mu amp_c + 9.38984910836763*(mu + 0.3915)/mu cmp_c + 7.28460905349794*(mu + 0.3915)/mu gmp_c + 1367.0 - 6.13480109739369*(mu + 0.3915)/mu h2o_c + 6.13480109739369*(mu + 0.3915)/mu h_c + 6.13480109739369*(mu + 0.3915)/mu pi_c + protein_MaSp2 + 114.82236754 protein_biomass + 4.58727023319616*(mu + 0.3915)/mu ump_c\n"
     ]
    }
   ],
   "source": [
    "ribosome = cobrame.Ribosome('ribosome')\n",
    "me.add_metabolites([ribosome])\n",
    "me.reactions.translation_MaSp2.update()\n",
    "print(me.reactions.translation_MaSp2.reaction)"
   ]
  },
  {
   "cell_type": "markdown",
   "metadata": {},
   "source": [
    "### Add Subreactions to the MaSp2 model"
   ]
  },
  {
   "cell_type": "markdown",
   "metadata": {},
   "source": [
    "Create the subreactions that represent elongation, initiation and termination"
   ]
  },
  {
   "cell_type": "code",
   "execution_count": 14,
   "metadata": {},
   "outputs": [
    {
     "name": "stderr",
     "output_type": "stream",
     "text": [
      "/source/cobrame/cobrame/core/processdata.py:896 \u001b[1;31mUserWarning\u001b[0m: No termination enzyme for RNA_MaSp2\n"
     ]
    }
   ],
   "source": [
    "elongation = ['FusA_mono_elongation', 'Tuf_gtp_regeneration']\n",
    "initiation = ['Translation_gtp_initiation_factor_InfB', 'Translation_initiation_factor_InfA', \n",
    "              'Translation_initiation_factor_InfC', 'fmet_addition_at_START', 'peptide_deformylase_processing', \n",
    "              'peptide_chain_release', 'ribosome_recycler']\n",
    "termination = {'UGA':'PrfB_mono'}\n",
    "me.process_data.get_by_id('MaSp2').add_elongation_subreactions(elongation_subreactions=set(elongation))\n",
    "me.process_data.get_by_id('MaSp2').add_initiation_subreactions(start_codons=set(['AUG']), start_subreactions=set(initiation))\n",
    "me.process_data.get_by_id('MaSp2').add_termination_subreactions(translation_terminator_dict=termination)\n",
    "#me.reactions.translation_MaSp2.update(verbose=False)"
   ]
  },
  {
   "cell_type": "markdown",
   "metadata": {},
   "source": [
    "List the subreactions associated with MaSp2 translation reaction stored in the ProcessData."
   ]
  },
  {
   "cell_type": "code",
   "execution_count": 15,
   "metadata": {
    "scrolled": true
   },
   "outputs": [
    {
     "data": {
      "text/plain": [
       "defaultdict(int,\n",
       "            {'Tuf_gtp_regeneration': 1367.0,\n",
       "             'FusA_mono_elongation': 1367.0,\n",
       "             'thr_addition_at_ACC': 1,\n",
       "             'gly_addition_at_GGU': 252,\n",
       "             'pro_addition_at_CCG': 56,\n",
       "             'gln_addition_at_CAG': 88,\n",
       "             'tyr_addition_at_UAU': 28,\n",
       "             'pro_addition_at_CCU': 80,\n",
       "             'gly_addition_at_GGC': 84,\n",
       "             'gly_addition_at_GGA': 121,\n",
       "             'ser_addition_at_AGC': 20,\n",
       "             'ser_addition_at_AGU': 16,\n",
       "             'ala_addition_at_GCA': 156,\n",
       "             'ala_addition_at_GCU': 44,\n",
       "             'ala_addition_at_GCC': 48,\n",
       "             'gln_addition_at_CAA': 104,\n",
       "             'pro_addition_at_CCA': 72,\n",
       "             'tyr_addition_at_UAC': 40,\n",
       "             'ser_addition_at_UCA': 16,\n",
       "             'ala_addition_at_GCG': 40,\n",
       "             'pro_addition_at_CCC': 28,\n",
       "             'gly_addition_at_GGG': 48,\n",
       "             'ser_addition_at_UCU': 20,\n",
       "             'ser_addition_at_UCC': 4,\n",
       "             'Translation_initiation_factor_InfC': 1,\n",
       "             'ribosome_recycler': 1,\n",
       "             'Translation_initiation_factor_InfA': 1,\n",
       "             'Translation_gtp_initiation_factor_InfB': 1,\n",
       "             'fmet_addition_at_START': 1,\n",
       "             'peptide_deformylase_processing': 1,\n",
       "             'peptide_chain_release': 1})"
      ]
     },
     "execution_count": 15,
     "metadata": {},
     "output_type": "execute_result"
    }
   ],
   "source": [
    "me.process_data.get_by_id('MaSp2').subreactions"
   ]
  },
  {
   "cell_type": "markdown",
   "metadata": {},
   "source": [
    "List the subreactions generated from the nucleatide sequence that are stored in the ProcessData."
   ]
  },
  {
   "cell_type": "code",
   "execution_count": 16,
   "metadata": {
    "scrolled": true
   },
   "outputs": [
    {
     "data": {
      "text/plain": [
       "{'thr_addition_at_ACC': 1,\n",
       " 'gly_addition_at_GGU': 252,\n",
       " 'pro_addition_at_CCG': 56,\n",
       " 'gln_addition_at_CAG': 88,\n",
       " 'tyr_addition_at_UAU': 28,\n",
       " 'pro_addition_at_CCU': 80,\n",
       " 'gly_addition_at_GGC': 84,\n",
       " 'gly_addition_at_GGA': 121,\n",
       " 'ser_addition_at_AGC': 20,\n",
       " 'ser_addition_at_AGU': 16,\n",
       " 'ala_addition_at_GCA': 156,\n",
       " 'ala_addition_at_GCU': 44,\n",
       " 'ala_addition_at_GCC': 48,\n",
       " 'gln_addition_at_CAA': 104,\n",
       " 'pro_addition_at_CCA': 72,\n",
       " 'tyr_addition_at_UAC': 40,\n",
       " 'ser_addition_at_UCA': 16,\n",
       " 'ala_addition_at_GCG': 40,\n",
       " 'pro_addition_at_CCC': 28,\n",
       " 'gly_addition_at_GGG': 48,\n",
       " 'ser_addition_at_UCU': 20,\n",
       " 'ser_addition_at_UCC': 4}"
      ]
     },
     "execution_count": 16,
     "metadata": {},
     "output_type": "execute_result"
    }
   ],
   "source": [
    "me.process_data.get_by_id('MaSp2').subreactions_from_sequence"
   ]
  },
  {
   "cell_type": "markdown",
   "metadata": {},
   "source": [
    "### Updating the MaSp2 translation reaction"
   ]
  },
  {
   "cell_type": "code",
   "execution_count": 17,
   "metadata": {},
   "outputs": [
    {
     "name": "stdout",
     "output_type": "stream",
     "text": [
      "Before adding tRNA subreaction\n",
      "------------------------------\n",
      "0.000498399634202103*mu + 0.000195123456790123 + 0.00598079561042524*(mu + 0.3915)/mu RNA_MaSp2 + 2.55589556001079e-8*mu + 1.00063311174422e-8 RNA_degradosome + 288 ala__L_c + 6.13480109739369*(mu + 0.3915)/mu atp_c + 192 gln__L_c + 506 gly_c + 7.84095134723271*(mu + 0.3915)/mu mRNA_biomass + met__L_c + 236 pro__L_c + 0.0196124982794219*mu + 0.00767829307639367 ribosome + 76 ser__L_c + thr__L_c + 68 tyr__L_c --> 6.13480109739369*(mu + 0.3915)/mu adp_c + 3.28345679012346*(mu + 0.3915)/mu amp_c + 9.38984910836763*(mu + 0.3915)/mu cmp_c + 7.28460905349794*(mu + 0.3915)/mu gmp_c + 1367.0 - 6.13480109739369*(mu + 0.3915)/mu h2o_c + 6.13480109739369*(mu + 0.3915)/mu h_c + 6.13480109739369*(mu + 0.3915)/mu pi_c + protein_MaSp2 + 114.82236754 protein_biomass + 4.58727023319616*(mu + 0.3915)/mu ump_c\n",
      "\n",
      "After adding tRNA subreaction\n",
      "-----------------------------\n",
      "10fthf_c + 2.72438972852433e-7*mu Def_mono_mod_1:fe2 + 1.80324164444648e-7*mu Fmt_mono_mod_mg2_mod_k + 0.00584188034188034*mu FusA_mono + 4.27350427350427e-6*mu InfA_mono + 4.45382843794892e-6*mu InfB_mono + 4.27350427350427e-6*mu InfC_mono + 4.27350427350427e-6*mu PrfC_mono + 0.000498399634202103*mu + 0.000195123456790123 + 0.00598079561042524*(mu + 0.3915)/mu RNA_MaSp2 + 2.55589556001079e-8*mu + 1.00063311174422e-8 RNA_degradosome + 2.62130898398882e-7*mu Rrf_mono + 0.00584188034188034*mu Tsf_mono + 288 ala__L_c + 1366.0 + 6.13480109739369*(mu + 0.3915)/mu atp_c + 0.00583760683760684*mu generic_Tuf + generic_tRNA_ACC_thr__L_c + 20.0 generic_tRNA_AGC_ser__L_c + 16.0 generic_tRNA_AGU_ser__L_c + 104.0 generic_tRNA_CAA_gln__L_c + 88.0 generic_tRNA_CAG_gln__L_c + 72.0 generic_tRNA_CCA_pro__L_c + 28.0 generic_tRNA_CCC_pro__L_c + 56.0 generic_tRNA_CCG_pro__L_c + 80.0 generic_tRNA_CCU_pro__L_c + 156.0 generic_tRNA_GCA_ala__L_c + 48.0 generic_tRNA_GCC_ala__L_c + 40.0 generic_tRNA_GCG_ala__L_c + 44.0 generic_tRNA_GCU_ala__L_c + 121.0 generic_tRNA_GGA_gly_c + 84.0 generic_tRNA_GGC_gly_c + 48.0 generic_tRNA_GGG_gly_c + 252.0 generic_tRNA_GGU_gly_c + generic_tRNA_START_met__L_c + 40.0 generic_tRNA_UAC_tyr__L_c + 28.0 generic_tRNA_UAU_tyr__L_c + 16.0 generic_tRNA_UCA_ser__L_c + 4.0 generic_tRNA_UCC_ser__L_c + 20.0 generic_tRNA_UCU_ser__L_c + 192 gln__L_c + 506 gly_c + 2735.0 gtp_c + 2735.0 + 6.13480109739369*(mu + 0.3915)/mu h2o_c + 7.84095134723271*(mu + 0.3915)/mu mRNA_biomass + met__L_c + 236 pro__L_c + 0.0196124982794219*mu + 0.00767829307639367 ribosome + 76 ser__L_c + thr__L_c + 68 tyr__L_c --> 6.13480109739369*(mu + 0.3915)/mu adp_c + 1366.0 + 3.28345679012346*(mu + 0.3915)/mu amp_c + 9.38984910836763*(mu + 0.3915)/mu cmp_c + for_c + 2735.0 gdp_c + 7.28460905349794*(mu + 0.3915)/mu gmp_c + 4101.0 + 6.13480109739369*(mu + 0.3915)/mu h_c + 2735.0 + 6.13480109739369*(mu + 0.3915)/mu pi_c + 1366.0 ppi_c + protein_MaSp2 + 114.82337548000001 protein_biomass + thf_c + 4.58727023319616*(mu + 0.3915)/mu ump_c\n"
     ]
    }
   ],
   "source": [
    "translation_subreactions = me.process_data.MaSp2.subreactions_from_sequence\n",
    "print(\"Before adding tRNA subreaction\")\n",
    "print(\"------------------------------\")\n",
    "print(me.reactions.translation_MaSp2.reaction)\n",
    "print(\"\")\n",
    "# Link tranlation_data to subreactions and update\n",
    "for subreaction, value in translation_subreactions.items():\n",
    "    me.process_data.MaSp2.subreactions[subreaction] = value\n",
    "me.reactions.translation_MaSp2.update(verbose=False)\n",
    "print(\"After adding tRNA subreaction\")\n",
    "print(\"-----------------------------\")\n",
    "print(me.reactions.translation_MaSp2.reaction)"
   ]
  },
  {
   "cell_type": "markdown",
   "metadata": {},
   "source": [
    "List the reactants associated with the MaSp2 translation reaction. In this list all the subreactions should be listed."
   ]
  },
  {
   "cell_type": "code",
   "execution_count": 18,
   "metadata": {
    "scrolled": true
   },
   "outputs": [
    {
     "data": {
      "text/plain": [
       "[<Metabolite met__L_c at 0x7f2c7eaef978>,\n",
       " <Metabolite h2o_c at 0x7f2c7f7eea58>,\n",
       " <Metabolite thr__L_c at 0x7f2c7eaefdd8>,\n",
       " <Metabolite gly_c at 0x7f2c7eaefcc0>,\n",
       " <Metabolite pro__L_c at 0x7f2c7eafd2b0>,\n",
       " <Metabolite gln__L_c at 0x7f2c7eafd240>,\n",
       " <Metabolite tyr__L_c at 0x7f2c7eafd438>,\n",
       " <Metabolite ser__L_c at 0x7f2c7eaefe80>,\n",
       " <Metabolite ala__L_c at 0x7f2c7eaeff28>,\n",
       " <Ribosome ribosome at 0x7f2c7eafd518>,\n",
       " <TranscribedGene RNA_MaSp2 at 0x7f2c7f919518>,\n",
       " <Metabolite atp_c at 0x7f2c7f7ee9b0>,\n",
       " <Complex RNA_degradosome at 0x7f2c7f8163c8>,\n",
       " <Complex Tsf_mono at 0x7f2c7eb17c18>,\n",
       " <Complex FusA_mono at 0x7f2c7eb17be0>,\n",
       " <Metabolite gtp_c at 0x7f2c7f7eefd0>,\n",
       " <GenericComponent generic_Tuf at 0x7f2c7eafda20>,\n",
       " <GenerictRNA generic_tRNA_ACC_thr__L_c at 0x7f2c7eb0e6a0>,\n",
       " <GenerictRNA generic_tRNA_GGU_gly_c at 0x7f2c7eafdf28>,\n",
       " <GenerictRNA generic_tRNA_CCG_pro__L_c at 0x7f2c7eb0ed30>,\n",
       " <GenerictRNA generic_tRNA_CAG_gln__L_c at 0x7f2c7eb0e5c0>,\n",
       " <GenerictRNA generic_tRNA_UAU_tyr__L_c at 0x7f2c7eb17470>,\n",
       " <GenerictRNA generic_tRNA_CCU_pro__L_c at 0x7f2c7eb174e0>,\n",
       " <GenerictRNA generic_tRNA_GGC_gly_c at 0x7f2c7eafde80>,\n",
       " <GenerictRNA generic_tRNA_GGA_gly_c at 0x7f2c7eb0ecc0>,\n",
       " <GenerictRNA generic_tRNA_AGC_ser__L_c at 0x7f2c7eb0e4e0>,\n",
       " <GenerictRNA generic_tRNA_AGU_ser__L_c at 0x7f2c7eb0ef60>,\n",
       " <GenerictRNA generic_tRNA_GCA_ala__L_c at 0x7f2c7eb0e080>,\n",
       " <GenerictRNA generic_tRNA_GCU_ala__L_c at 0x7f2c7eb0eb00>,\n",
       " <GenerictRNA generic_tRNA_GCC_ala__L_c at 0x7f2c7eb0e390>,\n",
       " <GenerictRNA generic_tRNA_CAA_gln__L_c at 0x7f2c7eb0edd8>,\n",
       " <GenerictRNA generic_tRNA_CCA_pro__L_c at 0x7f2c7eb17550>,\n",
       " <GenerictRNA generic_tRNA_UAC_tyr__L_c at 0x7f2c7eb17240>,\n",
       " <GenerictRNA generic_tRNA_UCA_ser__L_c at 0x7f2c7eafdfd0>,\n",
       " <GenerictRNA generic_tRNA_GCG_ala__L_c at 0x7f2c7eb0ea90>,\n",
       " <GenerictRNA generic_tRNA_CCC_pro__L_c at 0x7f2c7eb0e860>,\n",
       " <GenerictRNA generic_tRNA_GGG_gly_c at 0x7f2c7eb0e630>,\n",
       " <GenerictRNA generic_tRNA_UCU_ser__L_c at 0x7f2c7eb0e7f0>,\n",
       " <GenerictRNA generic_tRNA_UCC_ser__L_c at 0x7f2c7eb172e8>,\n",
       " <Complex InfC_mono at 0x7f2c7eb17b00>,\n",
       " <Complex Rrf_mono at 0x7f2c7eb17cf8>,\n",
       " <Complex InfA_mono at 0x7f2c7eb17a58>,\n",
       " <Complex InfB_mono at 0x7f2c7eb17780>,\n",
       " <Complex Fmt_mono_mod_mg2_mod_k at 0x7f2c7eb17860>,\n",
       " <Metabolite 10fthf_c at 0x7f2c7eb17908>,\n",
       " <GenerictRNA generic_tRNA_START_met__L_c at 0x7f2c7eb17a20>,\n",
       " <Complex Def_mono_mod_1:fe2 at 0x7f2c7eb17d30>,\n",
       " <Complex PrfC_mono at 0x7f2c7eb17f60>,\n",
       " <Constraint mRNA_biomass at 0x7f2c7f90d128>]"
      ]
     },
     "execution_count": 18,
     "metadata": {},
     "output_type": "execute_result"
    }
   ],
   "source": [
    "me.reactions.translation_MaSp2.reactants"
   ]
  },
  {
   "cell_type": "markdown",
   "metadata": {},
   "source": [
    "This completes the creation of the translation reaction"
   ]
  },
  {
   "cell_type": "markdown",
   "metadata": {},
   "source": [
    "## 6. Create Demand Reaction for MaSp2"
   ]
  },
  {
   "cell_type": "code",
   "execution_count": 19,
   "metadata": {},
   "outputs": [],
   "source": [
    "new_reaction = cobrame.MEReaction('DM_protein_MaSp2')\n",
    "me.add_reaction(new_reaction)"
   ]
  },
  {
   "cell_type": "code",
   "execution_count": 20,
   "metadata": {},
   "outputs": [
    {
     "data": {
      "text/plain": [
       "'protein_MaSp2 --> '"
      ]
     },
     "execution_count": 20,
     "metadata": {},
     "output_type": "execute_result"
    }
   ],
   "source": [
    "me.reactions.get_by_id('DM_protein_MaSp2').reaction = 'protein_MaSp2 ->'\n",
    "me.reactions.get_by_id('DM_protein_MaSp2').reaction"
   ]
  },
  {
   "cell_type": "code",
   "execution_count": 21,
   "metadata": {},
   "outputs": [
    {
     "data": {
      "text/html": [
       "<div>\n",
       "<style scoped>\n",
       "    .dataframe tbody tr th:only-of-type {\n",
       "        vertical-align: middle;\n",
       "    }\n",
       "\n",
       "    .dataframe tbody tr th {\n",
       "        vertical-align: top;\n",
       "    }\n",
       "\n",
       "    .dataframe thead th {\n",
       "        text-align: right;\n",
       "    }\n",
       "</style>\n",
       "<table border=\"1\" class=\"dataframe\">\n",
       "  <thead>\n",
       "    <tr style=\"text-align: right;\">\n",
       "      <th></th>\n",
       "      <th>Attribute Values</th>\n",
       "    </tr>\n",
       "  </thead>\n",
       "  <tbody>\n",
       "    <tr>\n",
       "      <th>id</th>\n",
       "      <td>DM_protein_MaSp2</td>\n",
       "    </tr>\n",
       "    <tr>\n",
       "      <th>name</th>\n",
       "      <td></td>\n",
       "    </tr>\n",
       "    <tr>\n",
       "      <th>notes</th>\n",
       "      <td>{}</td>\n",
       "    </tr>\n",
       "    <tr>\n",
       "      <th>annotation</th>\n",
       "      <td>{}</td>\n",
       "    </tr>\n",
       "    <tr>\n",
       "      <th>_gene_reaction_rule</th>\n",
       "      <td></td>\n",
       "    </tr>\n",
       "    <tr>\n",
       "      <th>subsystem</th>\n",
       "      <td></td>\n",
       "    </tr>\n",
       "    <tr>\n",
       "      <th>_genes</th>\n",
       "      <td>set()</td>\n",
       "    </tr>\n",
       "    <tr>\n",
       "      <th>_metabolites</th>\n",
       "      <td>{&lt;TranslatedGene protein_MaSp2 at 0x7f2c7f8e0470&gt;: -1}</td>\n",
       "    </tr>\n",
       "    <tr>\n",
       "      <th>_model</th>\n",
       "      <td>iJL1678b-ME</td>\n",
       "    </tr>\n",
       "    <tr>\n",
       "      <th>_objective_coefficient</th>\n",
       "      <td>0.0</td>\n",
       "    </tr>\n",
       "    <tr>\n",
       "      <th>upper_bound</th>\n",
       "      <td>1000</td>\n",
       "    </tr>\n",
       "    <tr>\n",
       "      <th>lower_bound</th>\n",
       "      <td>0</td>\n",
       "    </tr>\n",
       "    <tr>\n",
       "      <th>variable_kind</th>\n",
       "      <td>continuous</td>\n",
       "    </tr>\n",
       "  </tbody>\n",
       "</table>\n",
       "</div>"
      ],
      "text/plain": [
       "                                                              Attribute Values\n",
       "id                                                            DM_protein_MaSp2\n",
       "name                                                                          \n",
       "notes                                                                       {}\n",
       "annotation                                                                  {}\n",
       "_gene_reaction_rule                                                           \n",
       "subsystem                                                                     \n",
       "_genes                                                                   set()\n",
       "_metabolites            {<TranslatedGene protein_MaSp2 at 0x7f2c7f8e0470>: -1}\n",
       "_model                                                             iJL1678b-ME\n",
       "_objective_coefficient                                                     0.0\n",
       "upper_bound                                                               1000\n",
       "lower_bound                                                                  0\n",
       "variable_kind                                                       continuous"
      ]
     },
     "execution_count": 21,
     "metadata": {},
     "output_type": "execute_result"
    }
   ],
   "source": [
    "rxn = me.reactions.DM_protein_MaSp2\n",
    "data = rxn\n",
    "pd.DataFrame({i: str(v) for i, v in data.__dict__.items()}, index=['Attribute Values']).T"
   ]
  },
  {
   "cell_type": "markdown",
   "metadata": {},
   "source": [
    "### Find the amino acid count"
   ]
  },
  {
   "cell_type": "code",
   "execution_count": 22,
   "metadata": {},
   "outputs": [
    {
     "data": {
      "text/plain": [
       "defaultdict(int,\n",
       "            {'met__L_c': 1,\n",
       "             'thr__L_c': 1,\n",
       "             'gly_c': 506,\n",
       "             'pro__L_c': 236,\n",
       "             'gln__L_c': 192,\n",
       "             'tyr__L_c': 68,\n",
       "             'ser__L_c': 76,\n",
       "             'ala__L_c': 288})"
      ]
     },
     "execution_count": 22,
     "metadata": {},
     "output_type": "execute_result"
    }
   ],
   "source": [
    "me.process_data.MaSp2.amino_acid_count"
   ]
  },
  {
   "cell_type": "code",
   "execution_count": 23,
   "metadata": {},
   "outputs": [],
   "source": [
    "import pickle\n",
    "with open('iJL1678b_pET19K_MaSp2_32.pickle', 'wb') as f:\n",
    "    pickle.dump(me, f)"
   ]
  },
  {
   "cell_type": "code",
   "execution_count": 24,
   "metadata": {},
   "outputs": [],
   "source": [
    "with open('iJL1678b_pET19K_MaSp2_32.pickle', 'rb') as f:\n",
    "    test_me = pickle.load(f)"
   ]
  },
  {
   "cell_type": "code",
   "execution_count": 25,
   "metadata": {},
   "outputs": [
    {
     "data": {
      "text/plain": [
       "<MEModel iJL1678b-ME at 0x7f2c7f0024e0>"
      ]
     },
     "execution_count": 25,
     "metadata": {},
     "output_type": "execute_result"
    }
   ],
   "source": [
    "test_me"
   ]
  },
  {
   "cell_type": "code",
   "execution_count": 26,
   "metadata": {},
   "outputs": [
    {
     "data": {
      "text/plain": [
       "{'kt': 4.5,\n",
       " 'r0': 0.087,\n",
       " 'k_deg': 12.0,\n",
       " 'm_rr': 1453.0,\n",
       " 'm_aa': 0.109,\n",
       " 'f_rRNA': 0.86,\n",
       " 'm_nt': 0.324,\n",
       " 'f_mRNA': 0.02,\n",
       " 'm_tRNA': 25.0,\n",
       " 'f_tRNA': 0.12,\n",
       " 'temperature': 37,\n",
       " 'propensity_scaling': 0.45,\n",
       " 'GC_fraction': 0.507896997096}"
      ]
     },
     "execution_count": 26,
     "metadata": {},
     "output_type": "execute_result"
    }
   ],
   "source": [
    "test_me.global_info"
   ]
  }
 ],
 "metadata": {
  "kernelspec": {
   "display_name": "Python 3",
   "language": "python",
   "name": "python3"
  },
  "language_info": {
   "codemirror_mode": {
    "name": "ipython",
    "version": 3
   },
   "file_extension": ".py",
   "mimetype": "text/x-python",
   "name": "python",
   "nbconvert_exporter": "python",
   "pygments_lexer": "ipython3",
   "version": "3.6.1"
  }
 },
 "nbformat": 4,
 "nbformat_minor": 2
}
